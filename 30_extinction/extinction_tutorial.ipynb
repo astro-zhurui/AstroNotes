{
 "cells": [
  {
   "cell_type": "markdown",
   "metadata": {},
   "source": [
    "**A tutorial for extinction**\n",
    "- @date: 2024-07-01\n",
    "- @follow: https://extinction.readthedocs.io/en/latest/\n",
    "- 消光的一些概念\n",
    "    1. 消光: 某一波段, 实际观测到的星等和没有尘埃时应该观测到的星等之差\n",
    "    2. $A_{X}$: 恒星在某一波段X上的消光\n",
    "    3. $E(X-Y)$: 某一颜色(X-Y)的红化或色余, 即观测到的颜色和本征颜色之差\n",
    "    4. $E(B-V) = (m(B)-m(V)) - (m_{0}(B)-m_{0}(V)) = A(B) - A(V)$\n",
    "    5. $R_V$: 消光因子(extinction factor); $R_V = \\frac{\\rm Av}{E(B-V)}$\n",
    "- extinction包的作用:\n",
    "    通过限定v-band消光Av, 消光因子Rv, 使用不同文献给出的消光模型, 计算出任意波长处的消光, 单位是星等\n",
    "- 然而, 消光Av由另外一个python包给出: [dustmaps](https://dustmaps.readthedocs.io/en/latest/)"
   ]
  },
  {
   "cell_type": "code",
   "execution_count": 1,
   "metadata": {},
   "outputs": [],
   "source": [
    "import numpy as np\n",
    "import extinction"
   ]
  },
  {
   "cell_type": "markdown",
   "metadata": {},
   "source": [
    "# 计算不同波长处的消光值"
   ]
  },
  {
   "cell_type": "code",
   "execution_count": 16,
   "metadata": {},
   "outputs": [
    {
     "name": "stdout",
     "output_type": "stream",
     "text": [
      "CCM89: [2.84252644 1.4645557  0.59748901]\n",
      "OD94: [2.84252644 1.42617802 0.60793495]\n",
      "F99: [2.76225609 1.42325373 0.55333671]\n",
      "C00: [2.55594387 1.47250859 0.52223774]\n"
     ]
    }
   ],
   "source": [
    "wave = np.array([2000., 4000., 8000.]) # Angstrom\n",
    "\n",
    "# Cardelli, Clayton & Mathis (1989)\n",
    "ext = extinction.ccm89(wave, a_v=1, r_v=3.1)  # extinction in magnitudes\n",
    "print(f\"CCM89: {ext}\")\n",
    "\n",
    "# O'Donnell (1994)\n",
    "ext = extinction.odonnell94(wave, a_v=1, r_v=3.1)\n",
    "print(f\"OD94: {ext}\")\n",
    "\n",
    "# Fitzpatrick (1999)\n",
    "ext = extinction.fitzpatrick99(wave, a_v=1, r_v=3.1)\n",
    "print(f\"F99: {ext}\")\n",
    "\n",
    "# Calzetti et al. (2000)\n",
    "ext = extinction.calzetti00(wave, a_v=1, r_v=3.1)\n",
    "print(f\"C00: {ext}\")"
   ]
  },
  {
   "cell_type": "markdown",
   "metadata": {},
   "source": [
    "# 使用dustmaps获得不同位置处的Av"
   ]
  },
  {
   "cell_type": "markdown",
   "metadata": {},
   "source": [
    "## 下载需要的数据文件\n",
    "* https://dustmaps.readthedocs.io/en/latest/installation.html"
   ]
  },
  {
   "cell_type": "code",
   "execution_count": 38,
   "metadata": {},
   "outputs": [
    {
     "name": "stdout",
     "output_type": "stream",
     "text": [
      "数据存储文件夹路径: /Users/rui/miniconda3/envs/astro/lib/python3.12/site-packages/dustmaps/data\n"
     ]
    }
   ],
   "source": [
    "import dustmaps\n",
    "\n",
    "path = dustmaps.std_paths.data_dir()\n",
    "print(f\"数据存储文件夹路径: {path}\")"
   ]
  },
  {
   "cell_type": "markdown",
   "metadata": {},
   "source": [
    "## 输入坐标查询不同dust map的E(B-V)\n",
    "* Planck目前有两个maps: \n",
    "    - Planck Collaboration (2016) GNILC dust map: PlanckGNILCQuery\n",
    "    - Planck Collaboration (2013) dust map: PlanckQuery"
   ]
  },
  {
   "cell_type": "code",
   "execution_count": 37,
   "metadata": {},
   "outputs": [
    {
     "name": "stdout",
     "output_type": "stream",
     "text": [
      "Planck2013: E(B-V) = 0.035 mag\n",
      "Planck2016: E(B-V) = 0.017 mag\n",
      "BH: E(B-V) = 0.016 mag\n",
      "SFD: E(B-V) = 0.030 mag\n",
      "CSFD: E(B-V) = 0.030 mag\n"
     ]
    }
   ],
   "source": [
    "from astropy.coordinates import SkyCoord\n",
    "from dustmaps.planck import PlanckQuery, PlanckGNILCQuery\n",
    "\n",
    "coords = SkyCoord('12h30m25.3s', '15d15m58.1s', frame='icrs')\n",
    "\n",
    "# Planck 2013\n",
    "planck = PlanckQuery()\n",
    "ebv = planck(coords)\n",
    "print('Planck2013: E(B-V) = {:.3f} mag'.format(ebv))\n",
    "\n",
    "# Planck 2016\n",
    "planck = PlanckGNILCQuery()\n",
    "ebv = planck(coords)\n",
    "print('Planck2016: E(B-V) = {:.3f} mag'.format(ebv))\n",
    "\n",
    "# bh Burstein & Heiles 1982\n",
    "from dustmaps.bh import BHQuery\n",
    "bh = BHQuery()\n",
    "ebv = bh(coords)\n",
    "print('BH: E(B-V) = {:.3f} mag'.format(ebv))\n",
    "\n",
    "# Schlegel, Finkbeiner & Davis 1998\n",
    "from dustmaps.sfd import SFDQuery\n",
    "sfd = SFDQuery()\n",
    "ebv = sfd(coords)\n",
    "print('SFD: E(B-V) = {:.3f} mag'.format(ebv))\n",
    "\n",
    "# csdf\n",
    "from dustmaps.csfd import CSFDQuery\n",
    "csfd = CSFDQuery()\n",
    "ebv = csfd(coords)\n",
    "print('CSFD: E(B-V) = {:.3f} mag'.format(ebv))"
   ]
  }
 ],
 "metadata": {
  "kernelspec": {
   "display_name": "astro",
   "language": "python",
   "name": "python3"
  },
  "language_info": {
   "codemirror_mode": {
    "name": "ipython",
    "version": 3
   },
   "file_extension": ".py",
   "mimetype": "text/x-python",
   "name": "python",
   "nbconvert_exporter": "python",
   "pygments_lexer": "ipython3",
   "version": "3.12.3"
  }
 },
 "nbformat": 4,
 "nbformat_minor": 2
}
