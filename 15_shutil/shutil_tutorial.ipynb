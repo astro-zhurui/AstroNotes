{
 "cells": [
  {
   "cell_type": "markdown",
   "metadata": {},
   "source": [
    "**A tutorial for using `shutil` --- 用于文件操作的python标准库**  \n",
    "@Author: Ray  \n",
    "@Build time: 2022.08.13  \n",
    "@Cite:  \n",
    "1. https://blog.csdn.net/weixin_41261833/article/details/108050152"
   ]
  },
  {
   "cell_type": "code",
   "execution_count": 30,
   "metadata": {},
   "outputs": [
    {
     "name": "stdout",
     "output_type": "stream",
     "text": [
      "\u001b[01;34m.\u001b[0m\n",
      "├── \u001b[00mfile.txt\u001b[0m\n",
      "├── \u001b[01;34mfolder\u001b[0m\n",
      "└── \u001b[00mshutil_tutorial.ipynb\u001b[0m\n",
      "\n",
      "1 directory, 2 files\n"
     ]
    }
   ],
   "source": [
    "import shutil\n",
    "from pathlib import Path\n",
    "\n",
    "# ^ 禁用同一单元格内的输出覆盖\n",
    "from IPython.core.interactiveshell import InteractiveShell\n",
    "InteractiveShell.ast_node_interactivity = \"all\"\n",
    "\n",
    "# ^ 创建示例文件和文件夹\n",
    "path_folder = Path.cwd() / 'folder'\n",
    "path_file = Path.cwd() / 'file.txt'\n",
    "\n",
    "path_folder.mkdir(exist_ok=True, parents=True)\n",
    "path_file.touch(exist_ok=True)\n",
    "# f = open(path_file)\n",
    "\n",
    "!tree"
   ]
  },
  {
   "cell_type": "markdown",
   "metadata": {},
   "source": [
    "# 复制  \n"
   ]
  },
  {
   "cell_type": "markdown",
   "metadata": {},
   "source": [
    "复制文件"
   ]
  },
  {
   "cell_type": "code",
   "execution_count": 31,
   "metadata": {},
   "outputs": [
    {
     "name": "stdout",
     "output_type": "stream",
     "text": [
      "当前文件树：\n",
      "\u001b[01;34m.\u001b[0m\n",
      "├── \u001b[00mfile.txt\u001b[0m\n",
      "├── \u001b[01;34mfolder\u001b[0m\n",
      "└── \u001b[00mshutil_tutorial.ipynb\u001b[0m\n",
      "\n",
      "1 directory, 2 files\n"
     ]
    },
    {
     "data": {
      "text/plain": [
       "PosixPath('/Users/rui/Code/1_Astronotes/15_shutil/folder/file.txt')"
      ]
     },
     "execution_count": 31,
     "metadata": {},
     "output_type": "execute_result"
    },
    {
     "data": {
      "text/plain": [
       "PosixPath('/Users/rui/Code/1_Astronotes/15_shutil/folder/file_copy.txt')"
      ]
     },
     "execution_count": 31,
     "metadata": {},
     "output_type": "execute_result"
    },
    {
     "name": "stdout",
     "output_type": "stream",
     "text": [
      "操作后文件树：\n",
      "\u001b[01;34m.\u001b[0m\n",
      "├── \u001b[00mfile.txt\u001b[0m\n",
      "├── \u001b[01;34mfolder\u001b[0m\n",
      "│   ├── \u001b[00mfile.txt\u001b[0m\n",
      "│   └── \u001b[00mfile_copy.txt\u001b[0m\n",
      "└── \u001b[00mshutil_tutorial.ipynb\u001b[0m\n",
      "\n",
      "1 directory, 4 files\n"
     ]
    }
   ],
   "source": [
    "print(\"当前文件树：\")\n",
    "!tree\n",
    "\n",
    "# ^ 将文件file1.txt移动到folder1文件夹里\n",
    "path = path_folder / 'file.txt'  # 目标路径\n",
    "shutil.copy(path_file, path)\n",
    "\n",
    "# ^ 复制后想要重命名，只要在新路径上修改即可\n",
    "path = path_folder / 'file_copy.txt'\n",
    "shutil.copy(path_file, path)\n",
    "\n",
    "print(\"操作后文件树：\")\n",
    "!tree"
   ]
  },
  {
   "cell_type": "markdown",
   "metadata": {},
   "source": [
    "复制文件夹\n",
    "* 不可以复制到有文件的文件夹\n",
    "* 可以复制到空文件夹或者尚未创建的文件夹中"
   ]
  },
  {
   "cell_type": "code",
   "execution_count": 32,
   "metadata": {},
   "outputs": [
    {
     "name": "stdout",
     "output_type": "stream",
     "text": [
      "当前文件树：\n",
      "\u001b[01;34m.\u001b[0m\n",
      "├── \u001b[00mfile.txt\u001b[0m\n",
      "├── \u001b[01;34mfolder\u001b[0m\n",
      "│   ├── \u001b[00mfile.txt\u001b[0m\n",
      "│   └── \u001b[00mfile_copy.txt\u001b[0m\n",
      "└── \u001b[00mshutil_tutorial.ipynb\u001b[0m\n",
      "\n",
      "1 directory, 4 files\n"
     ]
    },
    {
     "data": {
      "text/plain": [
       "PosixPath('/Users/rui/Code/1_Astronotes/15_shutil/folder_copy')"
      ]
     },
     "execution_count": 32,
     "metadata": {},
     "output_type": "execute_result"
    },
    {
     "name": "stdout",
     "output_type": "stream",
     "text": [
      "操作后文件树：\n",
      "\u001b[01;34m.\u001b[0m\n",
      "├── \u001b[00mfile.txt\u001b[0m\n",
      "├── \u001b[01;34mfolder\u001b[0m\n",
      "│   ├── \u001b[00mfile.txt\u001b[0m\n",
      "│   └── \u001b[00mfile_copy.txt\u001b[0m\n",
      "├── \u001b[01;34mfolder_copy\u001b[0m\n",
      "│   ├── \u001b[00mfile.txt\u001b[0m\n",
      "│   └── \u001b[00mfile_copy.txt\u001b[0m\n",
      "└── \u001b[00mshutil_tutorial.ipynb\u001b[0m\n",
      "\n",
      "2 directories, 6 files\n"
     ]
    }
   ],
   "source": [
    "print(\"当前文件树：\")\n",
    "!tree\n",
    "\n",
    "path = Path.cwd() / 'folder_copy'\n",
    "shutil.copytree(path_folder, path)\n",
    "\n",
    "print(\"操作后文件树：\")\n",
    "!tree"
   ]
  },
  {
   "cell_type": "markdown",
   "metadata": {},
   "source": [
    "# 移动"
   ]
  },
  {
   "cell_type": "markdown",
   "metadata": {},
   "source": [
    "移动文件"
   ]
  },
  {
   "cell_type": "code",
   "execution_count": 33,
   "metadata": {},
   "outputs": [
    {
     "name": "stdout",
     "output_type": "stream",
     "text": [
      "当前文件树：\n",
      "\u001b[01;34m.\u001b[0m\n",
      "├── \u001b[00mfile.txt\u001b[0m\n",
      "├── \u001b[01;34mfolder\u001b[0m\n",
      "│   ├── \u001b[00mfile.txt\u001b[0m\n",
      "│   └── \u001b[00mfile_copy.txt\u001b[0m\n",
      "├── \u001b[01;34mfolder_copy\u001b[0m\n",
      "│   ├── \u001b[00mfile.txt\u001b[0m\n",
      "│   └── \u001b[00mfile_copy.txt\u001b[0m\n",
      "└── \u001b[00mshutil_tutorial.ipynb\u001b[0m\n",
      "\n",
      "2 directories, 6 files\n"
     ]
    },
    {
     "data": {
      "text/plain": [
       "PosixPath('/Users/rui/Code/1_Astronotes/15_shutil/file_copy_move.txt')"
      ]
     },
     "execution_count": 33,
     "metadata": {},
     "output_type": "execute_result"
    },
    {
     "name": "stdout",
     "output_type": "stream",
     "text": [
      "操作后文件树：\n",
      "\u001b[01;34m.\u001b[0m\n",
      "├── \u001b[00mfile.txt\u001b[0m\n",
      "├── \u001b[00mfile_copy_move.txt\u001b[0m\n",
      "├── \u001b[01;34mfolder\u001b[0m\n",
      "│   └── \u001b[00mfile.txt\u001b[0m\n",
      "├── \u001b[01;34mfolder_copy\u001b[0m\n",
      "│   ├── \u001b[00mfile.txt\u001b[0m\n",
      "│   └── \u001b[00mfile_copy.txt\u001b[0m\n",
      "└── \u001b[00mshutil_tutorial.ipynb\u001b[0m\n",
      "\n",
      "2 directories, 6 files\n"
     ]
    }
   ],
   "source": [
    "print(\"当前文件树：\")\n",
    "!tree\n",
    "\n",
    "path = Path.cwd() / 'file_copy_move.txt'\n",
    "shutil.move(Path('folder') / 'file_copy.txt', path)\n",
    "\n",
    "print(\"操作后文件树：\")\n",
    "!tree"
   ]
  },
  {
   "cell_type": "markdown",
   "metadata": {},
   "source": [
    "移动文件夹"
   ]
  },
  {
   "cell_type": "code",
   "execution_count": 34,
   "metadata": {},
   "outputs": [
    {
     "name": "stdout",
     "output_type": "stream",
     "text": [
      "当前文件树：\n",
      "\u001b[01;34m.\u001b[0m\n",
      "├── \u001b[00mfile.txt\u001b[0m\n",
      "├── \u001b[00mfile_copy_move.txt\u001b[0m\n",
      "├── \u001b[01;34mfolder\u001b[0m\n",
      "│   └── \u001b[00mfile.txt\u001b[0m\n",
      "├── \u001b[01;34mfolder_copy\u001b[0m\n",
      "│   ├── \u001b[00mfile.txt\u001b[0m\n",
      "│   └── \u001b[00mfile_copy.txt\u001b[0m\n",
      "└── \u001b[00mshutil_tutorial.ipynb\u001b[0m\n",
      "\n",
      "2 directories, 6 files\n"
     ]
    },
    {
     "data": {
      "text/plain": [
       "PosixPath('folder/folder_copy_move')"
      ]
     },
     "execution_count": 34,
     "metadata": {},
     "output_type": "execute_result"
    },
    {
     "name": "stdout",
     "output_type": "stream",
     "text": [
      "操作后文件树：\n",
      "\u001b[01;34m.\u001b[0m\n",
      "├── \u001b[00mfile.txt\u001b[0m\n",
      "├── \u001b[00mfile_copy_move.txt\u001b[0m\n",
      "├── \u001b[01;34mfolder\u001b[0m\n",
      "│   ├── \u001b[00mfile.txt\u001b[0m\n",
      "│   └── \u001b[01;34mfolder_copy_move\u001b[0m\n",
      "│       ├── \u001b[00mfile.txt\u001b[0m\n",
      "│       └── \u001b[00mfile_copy.txt\u001b[0m\n",
      "└── \u001b[00mshutil_tutorial.ipynb\u001b[0m\n",
      "\n",
      "2 directories, 6 files\n"
     ]
    }
   ],
   "source": [
    "print(\"当前文件树：\")\n",
    "!tree\n",
    "\n",
    "shutil.move(Path('folder_copy'), Path('folder')/'folder_copy_move')\n",
    "\n",
    "print(\"操作后文件树：\")\n",
    "!tree"
   ]
  },
  {
   "cell_type": "markdown",
   "metadata": {},
   "source": [
    "# 删除"
   ]
  },
  {
   "cell_type": "markdown",
   "metadata": {},
   "source": [
    "删除文件"
   ]
  },
  {
   "cell_type": "code",
   "execution_count": 35,
   "metadata": {},
   "outputs": [
    {
     "name": "stdout",
     "output_type": "stream",
     "text": [
      "当前文件树：\n",
      "\u001b[01;34m.\u001b[0m\n",
      "├── \u001b[00mfile.txt\u001b[0m\n",
      "├── \u001b[00mfile_copy_move.txt\u001b[0m\n",
      "├── \u001b[01;34mfolder\u001b[0m\n",
      "│   ├── \u001b[00mfile.txt\u001b[0m\n",
      "│   └── \u001b[01;34mfolder_copy_move\u001b[0m\n",
      "│       ├── \u001b[00mfile.txt\u001b[0m\n",
      "│       └── \u001b[00mfile_copy.txt\u001b[0m\n",
      "└── \u001b[00mshutil_tutorial.ipynb\u001b[0m\n",
      "\n",
      "2 directories, 6 files\n",
      "操作后文件树：\n",
      "\u001b[01;34m.\u001b[0m\n",
      "├── \u001b[01;34mfolder\u001b[0m\n",
      "│   ├── \u001b[00mfile.txt\u001b[0m\n",
      "│   └── \u001b[01;34mfolder_copy_move\u001b[0m\n",
      "│       ├── \u001b[00mfile.txt\u001b[0m\n",
      "│       └── \u001b[00mfile_copy.txt\u001b[0m\n",
      "└── \u001b[00mshutil_tutorial.ipynb\u001b[0m\n",
      "\n",
      "2 directories, 4 files\n"
     ]
    }
   ],
   "source": [
    "print(\"当前文件树：\")\n",
    "!tree\n",
    "\n",
    "Path('file_copy_move.txt').unlink()  # !shutil.rmtree不能删除单个文件，推荐使用pathlib.unlink()\n",
    "Path('file.txt').unlink()\n",
    "\n",
    "print(\"操作后文件树：\")\n",
    "!tree"
   ]
  },
  {
   "cell_type": "markdown",
   "metadata": {},
   "source": [
    "删除文件夹  \n",
    "* 对文件夹没有要求，可全部删除\n",
    "* pathlib里的rmdir()函数只能删除空目录"
   ]
  },
  {
   "cell_type": "code",
   "execution_count": 36,
   "metadata": {},
   "outputs": [
    {
     "name": "stdout",
     "output_type": "stream",
     "text": [
      "当前文件树：\n",
      "\u001b[01;34m.\u001b[0m\n",
      "├── \u001b[01;34mfolder\u001b[0m\n",
      "│   ├── \u001b[00mfile.txt\u001b[0m\n",
      "│   └── \u001b[01;34mfolder_copy_move\u001b[0m\n",
      "│       ├── \u001b[00mfile.txt\u001b[0m\n",
      "│       └── \u001b[00mfile_copy.txt\u001b[0m\n",
      "└── \u001b[00mshutil_tutorial.ipynb\u001b[0m\n",
      "\n",
      "2 directories, 4 files\n",
      "操作后文件树：\n",
      "\u001b[01;34m.\u001b[0m\n",
      "└── \u001b[00mshutil_tutorial.ipynb\u001b[0m\n",
      "\n",
      "0 directories, 1 file\n"
     ]
    }
   ],
   "source": [
    "print(\"当前文件树：\")\n",
    "!tree\n",
    "\n",
    "shutil.rmtree(Path(\"folder\"))\n",
    "\n",
    "print(\"操作后文件树：\")\n",
    "!tree"
   ]
  }
 ],
 "metadata": {
  "kernelspec": {
   "display_name": "Python 3.8.9 64-bit",
   "language": "python",
   "name": "python3"
  },
  "language_info": {
   "codemirror_mode": {
    "name": "ipython",
    "version": 3
   },
   "file_extension": ".py",
   "mimetype": "text/x-python",
   "name": "python",
   "nbconvert_exporter": "python",
   "pygments_lexer": "ipython3",
   "version": "3.8.9"
  },
  "orig_nbformat": 4,
  "vscode": {
   "interpreter": {
    "hash": "31f2aee4e71d21fbe5cf8b01ff0e069b9275f58929596ceb00d14d90e3e16cd6"
   }
  }
 },
 "nbformat": 4,
 "nbformat_minor": 2
}
