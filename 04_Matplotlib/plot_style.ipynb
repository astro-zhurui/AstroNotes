{
 "cells": [
  {
   "cell_type": "markdown",
   "metadata": {},
   "source": [
    "# [colormaps样式](https://matplotlib.org/stable/tutorials/colors/colormaps.html)  "
   ]
  },
  {
   "cell_type": "markdown",
   "metadata": {},
   "source": [
    "![1](https://matplotlib.org/stable/_images/sphx_glr_colormaps_001.png)\n",
    "![2](https://matplotlib.org/stable/_images/sphx_glr_colormaps_002.png)\n",
    "![3](https://matplotlib.org/stable/_images/sphx_glr_colormaps_003.png)\n",
    "![4](https://matplotlib.org/stable/_images/sphx_glr_colormaps_004.png)\n",
    "![5](https://matplotlib.org/stable/_images/sphx_glr_colormaps_005.png)\n",
    "![6](https://matplotlib.org/stable/_images/sphx_glr_colormaps_006.png)\n",
    "![7](https://matplotlib.org/stable/_images/sphx_glr_colormaps_007.png)"
   ]
  },
  {
   "cell_type": "markdown",
   "metadata": {},
   "source": []
  }
 ],
 "metadata": {
  "language_info": {
   "name": "python"
  },
  "orig_nbformat": 4
 },
 "nbformat": 4,
 "nbformat_minor": 2
}
