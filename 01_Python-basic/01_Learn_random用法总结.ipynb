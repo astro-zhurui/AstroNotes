{
 "cells": [
  {
   "cell_type": "code",
   "execution_count": 1,
   "metadata": {
    "execution": {
     "iopub.execute_input": "2021-08-03T05:46:11.338541Z",
     "iopub.status.busy": "2021-08-03T05:46:11.337568Z",
     "iopub.status.idle": "2021-08-03T05:46:11.998520Z",
     "shell.execute_reply": "2021-08-03T05:46:11.997211Z",
     "shell.execute_reply.started": "2021-08-03T05:46:11.338402Z"
    }
   },
   "outputs": [],
   "source": [
    "import numpy as np"
   ]
  },
  {
   "cell_type": "markdown",
   "metadata": {},
   "source": [
    "# np.random.rand(d1, d2, ... , dn)\n",
    "- 产生维度为(d1, d2, ... , dn)，值在[0,1）的正态分布"
   ]
  },
  {
   "cell_type": "code",
   "execution_count": 3,
   "metadata": {
    "execution": {
     "iopub.execute_input": "2021-08-03T05:46:12.005318Z",
     "iopub.status.busy": "2021-08-03T05:46:12.003235Z",
     "iopub.status.idle": "2021-08-03T05:46:12.037192Z",
     "shell.execute_reply": "2021-08-03T05:46:12.036120Z",
     "shell.execute_reply.started": "2021-08-03T05:46:12.005251Z"
    }
   },
   "outputs": [
    {
     "name": "stdout",
     "output_type": "stream",
     "text": [
      "x1 = np.random.rand(1)\n",
      " [0.66484886]\n",
      "x2 = np.random.rand(1, 3)\n",
      " [[0.4758461  0.87067598 0.07988648]]\n",
      "x3 = np.random.rand(3, 1)\n",
      " [[0.03060071]\n",
      " [0.15117295]\n",
      " [0.04484138]]\n",
      "x4 = np.random.rand(3, 5)\n",
      " [[0.56189188 0.83843529 0.75176326 0.55068071 0.82107146]\n",
      " [0.18779436 0.96163949 0.3089376  0.6116502  0.82684179]\n",
      " [0.69668349 0.48459271 0.28718529 0.43916051 0.00740456]]\n",
      "x5 = np.random.rand(2, 3, 4)\n",
      " [[[0.12944147 0.45150804 0.99931154 0.85093057]\n",
      "  [0.67987966 0.08924955 0.18876302 0.29043345]\n",
      "  [0.14890718 0.16496268 0.06130311 0.67538181]]\n",
      "\n",
      " [[0.889428   0.1721125  0.86099832 0.52391014]\n",
      "  [0.08021738 0.17460279 0.64394697 0.30319693]\n",
      "  [0.56137484 0.01064233 0.94028623 0.28205924]]]\n"
     ]
    }
   ],
   "source": [
    "print(\"x1 = np.random.rand(1)\\n\", np.random.rand(1))\n",
    "print(\"x2 = np.random.rand(1, 3)\\n\", np.random.rand(1, 3))\n",
    "print(\"x3 = np.random.rand(3, 1)\\n\", np.random.rand(3, 1))\n",
    "print(\"x4 = np.random.rand(3, 5)\\n\", np.random.rand(3, 5))\n",
    "print(\"x5 = np.random.rand(2, 3, 4)\\n\", np.random.rand(2, 3, 4))"
   ]
  },
  {
   "cell_type": "markdown",
   "metadata": {},
   "source": [
    "# np.random.randn(d1, d2, ... , dn)\n",
    "- 生成维度为（d1, d2, ... , dn）的标准正态分布，即（0，1）正太分布，0为均值，1为标准差"
   ]
  },
  {
   "cell_type": "code",
   "execution_count": 4,
   "metadata": {
    "execution": {
     "iopub.execute_input": "2021-08-03T05:46:12.040966Z",
     "iopub.status.busy": "2021-08-03T05:46:12.039327Z",
     "iopub.status.idle": "2021-08-03T05:46:12.058972Z",
     "shell.execute_reply": "2021-08-03T05:46:12.057743Z",
     "shell.execute_reply.started": "2021-08-03T05:46:12.040913Z"
    }
   },
   "outputs": [
    {
     "name": "stdout",
     "output_type": "stream",
     "text": [
      "randn用法 x1 = np.random.randn(3, 5)\n",
      " [[-1.98175067 -1.01850981  1.00577323  2.08569836  0.41075057]\n",
      " [ 1.04202622  0.45748661 -0.1179211  -0.34679644  0.95651891]\n",
      " [ 1.65527381  0.07137903 -1.35222803  2.12413691  1.07551789]]\n",
      "作为对照  x2 = np.random.rand(3, 5)\n",
      " [[0.87545952 0.59980148 0.80050235 0.18334831 0.24830396]\n",
      " [0.3911433  0.53282022 0.65225236 0.51462994 0.04586848]\n",
      " [0.69478056 0.36355203 0.40189252 0.05202698 0.84241243]]\n"
     ]
    }
   ],
   "source": [
    "print(\"randn用法 x1 = np.random.randn(3, 5)\\n\", np.random.randn(3, 5))\n",
    "print(\"作为对照  x2 = np.random.rand(3, 5)\\n\", np.random.rand(3, 5))"
   ]
  },
  {
   "cell_type": "markdown",
   "metadata": {},
   "source": [
    "# np.random.random(size)\n",
    "- size是生成列表的维度，产生[0,1)的均匀分布"
   ]
  },
  {
   "cell_type": "code",
   "execution_count": 5,
   "metadata": {
    "execution": {
     "iopub.execute_input": "2021-08-03T05:46:12.061296Z",
     "iopub.status.busy": "2021-08-03T05:46:12.060891Z",
     "iopub.status.idle": "2021-08-03T05:46:12.075093Z",
     "shell.execute_reply": "2021-08-03T05:46:12.074215Z",
     "shell.execute_reply.started": "2021-08-03T05:46:12.061254Z"
    }
   },
   "outputs": [
    {
     "name": "stdout",
     "output_type": "stream",
     "text": [
      "无参数时：np.random.random()\n",
      " 0.5507979025745755\n",
      "参数为数字：np.random.random(3)\n",
      " [0.70814782 0.29090474 0.51082761]\n",
      "参数为元组：np.random.random((2,3))\n",
      " [[0.89294695 0.89629309 0.12558531]\n",
      " [0.20724288 0.0514672  0.44080984]]\n",
      "参数为元组：np.random.random((2,3))\n",
      " [[0.02987621 0.45683322 0.64914405]\n",
      " [0.27848728 0.6762549  0.59086282]]\n",
      "参数为元组：np.random.random((2,3,4))\n",
      " [[[0.02398188 0.55885409 0.25925245 0.4151012 ]\n",
      "  [0.28352508 0.69313792 0.44045372 0.15686774]\n",
      "  [0.54464902 0.78031476 0.30636353 0.22195788]]\n",
      "\n",
      " [[0.38797126 0.93638365 0.97599542 0.67238368]\n",
      "  [0.90283411 0.84575087 0.37799404 0.09221701]\n",
      "  [0.6534109  0.55784076 0.36156476 0.2250545 ]]]\n",
      "参数为列表：np.random.random([2,3,4])\n",
      " [[[0.40651992 0.46894025 0.26923558 0.29179277]\n",
      "  [0.4576864  0.86053391 0.5862529  0.28348786]\n",
      "  [0.27797751 0.45462208 0.20541034 0.20137871]]\n",
      "\n",
      " [[0.51403506 0.08722937 0.48358553 0.36217621]\n",
      "  [0.70768662 0.74674622 0.69109292 0.68918041]\n",
      "  [0.37360012 0.6681348  0.33984866 0.57279387]]]\n"
     ]
    }
   ],
   "source": [
    "np.random.seed(3)\n",
    "print(\"无参数时：np.random.random()\\n\", np.random.random())\n",
    "print(\"参数为数字：np.random.random(3)\\n\", np.random.random(3))\n",
    "print(\"参数为元组：np.random.random((2,3))\\n\", np.random.random((2,3)))\n",
    "print(\"参数为元组：np.random.random((2,3))\\n\", np.random.random((2,3)))\n",
    "print(\"参数为元组：np.random.random((2,3,4))\\n\", np.random.random((2,3,4)))\n",
    "print(\"参数为列表：np.random.random([2,3,4])\\n\", np.random.random([2,3,4]))"
   ]
  },
  {
   "cell_type": "markdown",
   "metadata": {},
   "source": [
    "# np.random.choice(a, size, replace=True, p=None)\n",
    "- 从数组a(必须是一维的)中选出size个元素，replace为Ture表示可以重复选择，False表示不可以重复选择，p为元素被选中的概率"
   ]
  },
  {
   "cell_type": "code",
   "execution_count": 6,
   "metadata": {
    "execution": {
     "iopub.execute_input": "2021-08-03T05:46:12.076962Z",
     "iopub.status.busy": "2021-08-03T05:46:12.076649Z",
     "iopub.status.idle": "2021-08-03T05:46:12.089310Z",
     "shell.execute_reply": "2021-08-03T05:46:12.087275Z",
     "shell.execute_reply.started": "2021-08-03T05:46:12.076939Z"
    }
   },
   "outputs": [
    {
     "name": "stdout",
     "output_type": "stream",
     "text": [
      "数组a：\n",
      " [0 1 2 3 4 5 6 7 8 9]\n",
      "从数组a中选出2个元素(可重复)，构成n1:\n",
      " [0 0]\n",
      "从数组a中选出3个元素（不可重复），构成n2:\n",
      " [8 6 2]\n",
      "从数组a中选出(2,3)个元素(可重复)，构成n3:\n",
      " [[0 4 3]\n",
      " [0 8 2]]\n",
      "##########   抽签程序   ##########\n",
      "['A', 'B', 'C', 'D', 'E']这几个人中，抽中的人是['A']\n"
     ]
    }
   ],
   "source": [
    "a = np.arange(10)\n",
    "\n",
    "n1 = np.random.choice(a, 2)\n",
    "n2 = np.random.choice(a, 3, replace = False)\n",
    "n3 = np.random.choice(a, (2,3))  # size参数可以是元组，以表示选出的元素的数组结构\n",
    "\n",
    "print(\"数组a：\\n\", a)\n",
    "print(\"从数组a中选出2个元素(可重复)，构成n1:\\n\", n1)\n",
    "print(\"从数组a中选出3个元素（不可重复），构成n2:\\n\", n2)\n",
    "print(\"从数组a中选出(2,3)个元素(可重复)，构成n3:\\n\", n3)\n",
    "\n",
    "print(\"##########   抽签程序   ##########\")\n",
    "names = ['A', 'B', 'C', 'D', 'E']  # 数组a可以是列表\n",
    "luckydog = np.random.choice(names, 1, p=[0.1, 0.6, 0.1, 0.1, 0.1])  # 分别设置了每个人抽中的概率，注意加和必须是1\n",
    "print(\"{}这几个人中，抽中的人是{}\".format(str(names), str(luckydog)))"
   ]
  },
  {
   "cell_type": "markdown",
   "metadata": {},
   "source": [
    "# np.random.randint(low, high=None, size=None, dtype='l')\n",
    "- 在[low,high)随机选出大小为size的整数元素;若不写high，则范围是[0,low)"
   ]
  },
  {
   "cell_type": "code",
   "execution_count": 7,
   "metadata": {
    "execution": {
     "iopub.execute_input": "2021-08-03T05:46:12.091237Z",
     "iopub.status.busy": "2021-08-03T05:46:12.090943Z",
     "iopub.status.idle": "2021-08-03T05:46:12.099919Z",
     "shell.execute_reply": "2021-08-03T05:46:12.097850Z",
     "shell.execute_reply.started": "2021-08-03T05:46:12.091201Z"
    },
    "tags": []
   },
   "outputs": [
    {
     "name": "stdout",
     "output_type": "stream",
     "text": [
      "x1 = np.random.randint(3, 9):\n",
      "在[3,9)之间随机选一个整数\n",
      " 4\n",
      "\n",
      "x2 = np.random.randint(3):\n",
      "在[0,3)之间随机选一个整数\n",
      " 1\n",
      "\n",
      "x3 = np.random.randint(3.234234):\n",
      "在[0,3)之间随机选一个整数,小数部分自动忽略\n",
      " 2\n",
      "\n",
      "x4 = np.random.randint(1, 10, size=(2, 2)):\n",
      "在[1,10)之间选4个元素构成（2，2）的数组\n",
      " [[5 2]\n",
      " [3 3]]\n",
      "\n",
      "x5 = np.random.randint(7.0, dtype='int64'):\n",
      "制定数据类型\n",
      " 3\n"
     ]
    }
   ],
   "source": [
    "print(\"x1 = np.random.randint(3, 9):\\n在[3,9)之间随机选一个整数\\n\", np.random.randint(3, 9))  \n",
    "print(\"\\nx2 = np.random.randint(3):\\n在[0,3)之间随机选一个整数\\n\", np.random.randint(3))\n",
    "print(\"\\nx3 = np.random.randint(3.234234):\\n在[0,3)之间随机选一个整数,小数部分自动忽略\\n\", np.random.randint(3.234234))\n",
    "print(\"\\nx4 = np.random.randint(1, 10, size=(2, 2)):\\n在[1,10)之间选4个元素构成（2，2）的数组\\n\", np.random.randint(1, 10, size=(2, 2)))\n",
    "print(\"\\nx5 = np.random.randint(7.0, dtype='int64'):\\n制定数据类型\\n\", np.random.randint(7.3452345, dtype='int64'))"
   ]
  },
  {
   "cell_type": "markdown",
   "metadata": {},
   "source": [
    "# np.random.RandomState(<int>)\n",
    "* 生成一个特定的随机状态（随机种子）\n",
    "* 括号里一个数字表示一个状态\n",
    "* 括号里不加数字，每次都是不同的随机状态"
   ]
  },
  {
   "cell_type": "code",
   "execution_count": 8,
   "metadata": {},
   "outputs": [
    {
     "data": {
      "text/plain": [
       "array([0.14182045, 0.38572024, 0.12310382])"
      ]
     },
     "execution_count": 8,
     "metadata": {},
     "output_type": "execute_result"
    }
   ],
   "source": [
    "rng = np.random.RandomState()\n",
    "rng.rand(3)"
   ]
  },
  {
   "cell_type": "code",
   "execution_count": 6,
   "metadata": {},
   "outputs": [],
   "source": [
    "for i in range(int(1e8)):\n",
    "    i+=1"
   ]
  },
  {
   "cell_type": "code",
   "execution_count": null,
   "metadata": {},
   "outputs": [],
   "source": []
  }
 ],
 "metadata": {
  "interpreter": {
   "hash": "dca0ade3e726a953b501b15e8e990130d2b7799f14cfd9f4271676035ebe5511"
  },
  "kernelspec": {
   "display_name": "Python 3.8.8 64-bit ('base': conda)",
   "name": "python3"
  },
  "language_info": {
   "codemirror_mode": {
    "name": "ipython",
    "version": 3
   },
   "file_extension": ".py",
   "mimetype": "text/x-python",
   "name": "python",
   "nbconvert_exporter": "python",
   "pygments_lexer": "ipython3",
   "version": "3.8.12"
  },
  "toc": {
   "base_numbering": "1",
   "nav_menu": {},
   "number_sections": true,
   "sideBar": true,
   "skip_h1_title": false,
   "title_cell": "Table of Contents",
   "title_sidebar": "Contents",
   "toc_cell": false,
   "toc_position": {
    "height": "calc(100% - 180px)",
    "left": "10px",
    "top": "150px",
    "width": "232.796875px"
   },
   "toc_section_display": true,
   "toc_window_display": true
  },
  "widgets": {
   "application/vnd.jupyter.widget-state+json": {
    "state": {},
    "version_major": 2,
    "version_minor": 0
   }
  }
 },
 "nbformat": 4,
 "nbformat_minor": 4
}
