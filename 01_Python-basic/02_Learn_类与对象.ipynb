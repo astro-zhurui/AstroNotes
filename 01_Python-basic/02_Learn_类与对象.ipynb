{
 "cells": [
  {
   "cell_type": "markdown",
   "id": "8ecb9896-e2a1-4ff9-b2eb-b610addb8820",
   "metadata": {
    "execution": {
     "iopub.execute_input": "2021-07-31T15:07:02.866740Z",
     "iopub.status.busy": "2021-07-31T15:07:02.864567Z",
     "iopub.status.idle": "2021-07-31T15:07:02.902082Z",
     "shell.execute_reply": "2021-07-31T15:07:02.897096Z",
     "shell.execute_reply.started": "2021-07-31T15:07:02.866619Z"
    },
    "tags": []
   },
   "source": [
    "**参考书：零基础入门学习Python（第2版）小甲鱼 第11章**"
   ]
  },
  {
   "cell_type": "markdown",
   "id": "c93d6530-b590-4692-b05a-02269ad34938",
   "metadata": {},
   "source": [
    "# 基本概念"
   ]
  },
  {
   "cell_type": "markdown",
   "id": "aa725cdb-053e-45e5-b652-d4e9590ae41d",
   "metadata": {},
   "source": [
    "## 封装与对象\n",
    "- 列表：数据层面上的封装\n",
    "- 函数：语句层面上的封装\n",
    "- 对象：数据和代码都封装在一起\n",
    "- 对象的特征称为“属性”， 对象的行为称为“方法”"
   ]
  },
  {
   "cell_type": "markdown",
   "id": "0c487715-3764-479c-9b3a-1c6c94697778",
   "metadata": {},
   "source": [
    "## 类(class)与实例对象(instance objects)\n",
    "- 类：类似盖房子所用的图纸，定义了属性和方法\n",
    "- 实例对象：由图纸（类）创建具体的对象"
   ]
  },
  {
   "cell_type": "code",
   "execution_count": 2,
   "id": "13cb625e-6bc8-4a8f-ad60-a78207ab01b1",
   "metadata": {
    "execution": {
     "iopub.execute_input": "2021-07-31T15:23:34.613602Z",
     "iopub.status.busy": "2021-07-31T15:23:34.613319Z",
     "iopub.status.idle": "2021-07-31T15:23:34.620604Z",
     "shell.execute_reply": "2021-07-31T15:23:34.618327Z",
     "shell.execute_reply.started": "2021-07-31T15:23:34.613573Z"
    },
    "tags": []
   },
   "outputs": [],
   "source": [
    "# 为了创建具体的乌龟的对象，先写出描述乌龟的类\n",
    "class Turtle:\n",
    "    # python中的class名称以大写字母开头，函数用小写\n",
    "    \n",
    "    # 特征的描述称为属性(例如：乌龟的特征)，用变量写\n",
    "    color = 'green'\n",
    "    weight  = 10\n",
    "    legs = 4\n",
    "    shell = True\n",
    "    mouth = '大嘴'\n",
    "    \n",
    "    # 行为的描述称为方法（例如：乌龟的行为），用函数写\n",
    "    def run(self):\n",
    "        print(\"跑\")\n",
    "        \n",
    "    def sleep(self):\n",
    "        print(\"睡觉\")"
   ]
  },
  {
   "cell_type": "code",
   "execution_count": 3,
   "id": "244314a7-057a-4ac3-bdfc-33ec7cec5ea9",
   "metadata": {
    "execution": {
     "iopub.execute_input": "2021-07-31T15:23:35.725506Z",
     "iopub.status.busy": "2021-07-31T15:23:35.724926Z",
     "iopub.status.idle": "2021-07-31T15:23:35.731611Z",
     "shell.execute_reply": "2021-07-31T15:23:35.729605Z",
     "shell.execute_reply.started": "2021-07-31T15:23:35.725437Z"
    },
    "tags": []
   },
   "outputs": [],
   "source": [
    "tt = Turtle() # 根据创建的类，就可以创建出具体的实例对象"
   ]
  },
  {
   "cell_type": "code",
   "execution_count": 4,
   "id": "773f1152-ab9f-4ef5-9510-24eca28f53a3",
   "metadata": {
    "execution": {
     "iopub.execute_input": "2021-07-31T15:23:36.663225Z",
     "iopub.status.busy": "2021-07-31T15:23:36.662925Z",
     "iopub.status.idle": "2021-07-31T15:23:36.685458Z",
     "shell.execute_reply": "2021-07-31T15:23:36.684217Z",
     "shell.execute_reply.started": "2021-07-31T15:23:36.663194Z"
    },
    "tags": []
   },
   "outputs": [
    {
     "data": {
      "text/plain": [
       "4"
      ]
     },
     "execution_count": 4,
     "metadata": {},
     "output_type": "execute_result"
    }
   ],
   "source": [
    "tt.legs"
   ]
  },
  {
   "cell_type": "code",
   "execution_count": 5,
   "id": "cb3ecd20-e96f-44a3-8cd7-692d85e9f48f",
   "metadata": {
    "execution": {
     "iopub.execute_input": "2021-07-31T15:23:37.553385Z",
     "iopub.status.busy": "2021-07-31T15:23:37.553098Z",
     "iopub.status.idle": "2021-07-31T15:23:37.560260Z",
     "shell.execute_reply": "2021-07-31T15:23:37.557778Z",
     "shell.execute_reply.started": "2021-07-31T15:23:37.553356Z"
    },
    "tags": []
   },
   "outputs": [
    {
     "name": "stdout",
     "output_type": "stream",
     "text": [
      "睡觉\n"
     ]
    }
   ],
   "source": [
    "tt.sleep()"
   ]
  },
  {
   "cell_type": "markdown",
   "id": "6b0b5852-dc6e-4f03-b060-a59bc4e43520",
   "metadata": {},
   "source": [
    "## self的含义\n",
    "???"
   ]
  },
  {
   "cell_type": "code",
   "execution_count": 6,
   "id": "3c7e45f0-f970-4cf1-ad0c-5a36497b6723",
   "metadata": {
    "execution": {
     "iopub.execute_input": "2021-07-31T15:23:41.407110Z",
     "iopub.status.busy": "2021-07-31T15:23:41.406813Z",
     "iopub.status.idle": "2021-07-31T15:23:41.417060Z",
     "shell.execute_reply": "2021-07-31T15:23:41.410654Z",
     "shell.execute_reply.started": "2021-07-31T15:23:41.407076Z"
    },
    "tags": []
   },
   "outputs": [],
   "source": [
    "class Ball:\n",
    "    def setName(self, name):\n",
    "        self.name = name\n",
    "    def kick(self):\n",
    "        print(\"我是%s, 别踢我\" % self.name)"
   ]
  },
  {
   "cell_type": "code",
   "execution_count": 8,
   "id": "22b27a41-b3bc-475e-a076-c61021f570b4",
   "metadata": {
    "execution": {
     "iopub.execute_input": "2021-07-31T15:23:43.301488Z",
     "iopub.status.busy": "2021-07-31T15:23:43.301211Z",
     "iopub.status.idle": "2021-07-31T15:23:43.307387Z",
     "shell.execute_reply": "2021-07-31T15:23:43.305105Z",
     "shell.execute_reply.started": "2021-07-31T15:23:43.301461Z"
    },
    "tags": []
   },
   "outputs": [],
   "source": [
    "a = Ball()\n",
    "a.setName('土豆')\n",
    "\n",
    "b = Ball()\n",
    "b.setName('b')"
   ]
  },
  {
   "cell_type": "code",
   "execution_count": 9,
   "id": "1cd55b1a-dd03-4494-9650-d8a5c69b79e2",
   "metadata": {
    "execution": {
     "iopub.execute_input": "2021-07-31T15:23:45.396602Z",
     "iopub.status.busy": "2021-07-31T15:23:45.396313Z",
     "iopub.status.idle": "2021-07-31T15:23:45.413955Z",
     "shell.execute_reply": "2021-07-31T15:23:45.405184Z",
     "shell.execute_reply.started": "2021-07-31T15:23:45.396564Z"
    },
    "tags": []
   },
   "outputs": [
    {
     "name": "stdout",
     "output_type": "stream",
     "text": [
      "我是土豆, 别踢我\n"
     ]
    }
   ],
   "source": [
    "a.kick()"
   ]
  },
  {
   "cell_type": "code",
   "execution_count": 10,
   "id": "9c2694c4-83e6-4fdc-ba0c-fc6db999961f",
   "metadata": {
    "execution": {
     "iopub.execute_input": "2021-07-31T15:23:46.626034Z",
     "iopub.status.busy": "2021-07-31T15:23:46.625762Z",
     "iopub.status.idle": "2021-07-31T15:23:46.634544Z",
     "shell.execute_reply": "2021-07-31T15:23:46.633269Z",
     "shell.execute_reply.started": "2021-07-31T15:23:46.626005Z"
    },
    "tags": []
   },
   "outputs": [
    {
     "name": "stdout",
     "output_type": "stream",
     "text": [
      "我是b, 别踢我\n"
     ]
    }
   ],
   "source": [
    "b.kick()"
   ]
  },
  {
   "cell_type": "markdown",
   "id": "d40c1008-1318-4e21-aa46-b3dbe8460877",
   "metadata": {},
   "source": [
    "## \\_\\_init\\_\\_()构造方法\n",
    "- 此函数（方法）在创建实例对象时自动调用"
   ]
  },
  {
   "cell_type": "code",
   "execution_count": 17,
   "id": "4e4ad035-6d65-49da-be5c-d572ada9837d",
   "metadata": {
    "execution": {
     "iopub.execute_input": "2021-07-31T16:35:24.549507Z",
     "iopub.status.busy": "2021-07-31T16:35:24.548947Z",
     "iopub.status.idle": "2021-07-31T16:35:24.576229Z",
     "shell.execute_reply": "2021-07-31T16:35:24.573104Z",
     "shell.execute_reply.started": "2021-07-31T16:35:24.549464Z"
    },
    "tags": []
   },
   "outputs": [],
   "source": [
    "class Ball:\n",
    "    # name等参数将用于构造实例对象，此函数（方法）在创建实例对象时自动调用\n",
    "    def __init__(self, name): \n",
    "        self.name = name\n",
    "    def kick(self):\n",
    "        print(\"我是%s, 别踢我\" % self.name)"
   ]
  },
  {
   "cell_type": "code",
   "execution_count": 20,
   "id": "954c2293-759d-42a8-b790-123b44d8b0fd",
   "metadata": {
    "execution": {
     "iopub.execute_input": "2021-07-31T16:36:51.262738Z",
     "iopub.status.busy": "2021-07-31T16:36:51.262142Z",
     "iopub.status.idle": "2021-07-31T16:36:51.306849Z",
     "shell.execute_reply": "2021-07-31T16:36:51.302866Z",
     "shell.execute_reply.started": "2021-07-31T16:36:51.262686Z"
    },
    "tags": []
   },
   "outputs": [
    {
     "name": "stdout",
     "output_type": "stream",
     "text": [
      "我是土豆, 别踢我\n"
     ]
    }
   ],
   "source": [
    "p = Ball('土豆')\n",
    "p.kick()"
   ]
  },
  {
   "cell_type": "markdown",
   "id": "94d2876d-e83f-42a8-9fda-1d8faf629a00",
   "metadata": {},
   "source": [
    "## 公有和私有"
   ]
  },
  {
   "cell_type": "markdown",
   "id": "d6acea08-225e-4dfa-9bb7-4761dd9e3447",
   "metadata": {},
   "source": [
    "### 公有变量\n",
    "- 即：对象的属性和方法都是公开的，通过.方法进行调用"
   ]
  },
  {
   "cell_type": "code",
   "execution_count": 1,
   "id": "6fb93ef8-aacb-488a-8116-804e0a8d3be8",
   "metadata": {
    "execution": {
     "iopub.execute_input": "2021-08-04T15:16:43.677176Z",
     "iopub.status.busy": "2021-08-04T15:16:43.676534Z",
     "iopub.status.idle": "2021-08-04T15:16:43.693785Z",
     "shell.execute_reply": "2021-08-04T15:16:43.692612Z",
     "shell.execute_reply.started": "2021-08-04T15:16:43.677057Z"
    }
   },
   "outputs": [],
   "source": [
    "# 公有变量\n",
    "class Person:\n",
    "    name = \"xiaojiayu\""
   ]
  },
  {
   "cell_type": "code",
   "execution_count": 3,
   "id": "69e3c6d3-3169-4422-9294-6ac0cf2908b7",
   "metadata": {
    "execution": {
     "iopub.execute_input": "2021-08-04T15:17:06.765361Z",
     "iopub.status.busy": "2021-08-04T15:17:06.762884Z",
     "iopub.status.idle": "2021-08-04T15:17:06.804583Z",
     "shell.execute_reply": "2021-08-04T15:17:06.803328Z",
     "shell.execute_reply.started": "2021-08-04T15:17:06.765306Z"
    },
    "tags": []
   },
   "outputs": [
    {
     "data": {
      "text/plain": [
       "'xiaojiayu'"
      ]
     },
     "execution_count": 3,
     "metadata": {},
     "output_type": "execute_result"
    }
   ],
   "source": [
    "p = Person()\n",
    "p.name"
   ]
  },
  {
   "cell_type": "markdown",
   "id": "effb3f00-080f-4b7b-8dd4-b5600bf0163f",
   "metadata": {},
   "source": [
    "### 私有变量\n",
    "- 变量名或函数名前面加两个下划线，成为私有\n",
    "- 私有变量的访问：p._类__变量名"
   ]
  },
  {
   "cell_type": "code",
   "execution_count": 4,
   "id": "38f60d84-ff61-47b7-85d6-5a6e6efc3c04",
   "metadata": {
    "execution": {
     "iopub.execute_input": "2021-08-04T15:20:40.721022Z",
     "iopub.status.busy": "2021-08-04T15:20:40.720473Z",
     "iopub.status.idle": "2021-08-04T15:20:40.734451Z",
     "shell.execute_reply": "2021-08-04T15:20:40.732559Z",
     "shell.execute_reply.started": "2021-08-04T15:20:40.720967Z"
    }
   },
   "outputs": [],
   "source": [
    "# 私有变量\n",
    "class Person:\n",
    "    __name = 'xiaojiayu'"
   ]
  },
  {
   "cell_type": "code",
   "execution_count": 7,
   "id": "0b417705-118c-43a1-b987-bae0c2cc8bae",
   "metadata": {
    "execution": {
     "iopub.execute_input": "2021-08-04T15:22:17.966718Z",
     "iopub.status.busy": "2021-08-04T15:22:17.966275Z",
     "iopub.status.idle": "2021-08-04T15:22:18.006609Z",
     "shell.execute_reply": "2021-08-04T15:22:17.992280Z",
     "shell.execute_reply.started": "2021-08-04T15:22:17.966668Z"
    },
    "tags": []
   },
   "outputs": [
    {
     "ename": "AttributeError",
     "evalue": "'Person' object has no attribute '__name'",
     "output_type": "error",
     "traceback": [
      "\u001b[0;31m---------------------------------------------------------------------------\u001b[0m",
      "\u001b[0;31mAttributeError\u001b[0m                            Traceback (most recent call last)",
      "\u001b[0;32m<ipython-input-7-9633be7e307d>\u001b[0m in \u001b[0;36m<module>\u001b[0;34m\u001b[0m\n\u001b[1;32m      1\u001b[0m \u001b[0mp\u001b[0m \u001b[0;34m=\u001b[0m \u001b[0mPerson\u001b[0m\u001b[0;34m(\u001b[0m\u001b[0;34m)\u001b[0m\u001b[0;34m\u001b[0m\u001b[0;34m\u001b[0m\u001b[0m\n\u001b[0;32m----> 2\u001b[0;31m \u001b[0mp\u001b[0m\u001b[0;34m.\u001b[0m\u001b[0m__name\u001b[0m\u001b[0;34m\u001b[0m\u001b[0;34m\u001b[0m\u001b[0m\n\u001b[0m",
      "\u001b[0;31mAttributeError\u001b[0m: 'Person' object has no attribute '__name'"
     ]
    }
   ],
   "source": [
    "p = Person()\n",
    "p.__name # 报错，可见变量被隐藏起来，成为私有变量"
   ]
  },
  {
   "cell_type": "code",
   "execution_count": 9,
   "id": "0c463225-9b4b-4a0a-8314-84997be17bc5",
   "metadata": {
    "execution": {
     "iopub.execute_input": "2021-08-04T15:24:05.037113Z",
     "iopub.status.busy": "2021-08-04T15:24:05.036499Z",
     "iopub.status.idle": "2021-08-04T15:24:05.055595Z",
     "shell.execute_reply": "2021-08-04T15:24:05.053706Z",
     "shell.execute_reply.started": "2021-08-04T15:24:05.037062Z"
    },
    "tags": []
   },
   "outputs": [
    {
     "data": {
      "text/plain": [
       "'xiaojiayu'"
      ]
     },
     "execution_count": 9,
     "metadata": {},
     "output_type": "execute_result"
    }
   ],
   "source": [
    "# 私有变量的访问\n",
    "p._Person__name"
   ]
  },
  {
   "cell_type": "markdown",
   "id": "f9762460-7ca4-4f22-9f2d-80a32341fb77",
   "metadata": {},
   "source": [
    "# 继承\n",
    "- 已有一个类（称为：父类、基类），在此基础上再定义一个类（子类）的过程，称为继承\n",
    "- 类继承的语法：class 子类名（父类名）："
   ]
  },
  {
   "cell_type": "markdown",
   "id": "85557d53-5888-4384-a845-2eee89a312e1",
   "metadata": {},
   "source": [
    "## 初识继承"
   ]
  },
  {
   "cell_type": "code",
   "execution_count": 10,
   "id": "df838f69-6f70-41fc-b9d4-0544b857c62e",
   "metadata": {
    "execution": {
     "iopub.execute_input": "2021-08-04T15:33:46.533800Z",
     "iopub.status.busy": "2021-08-04T15:33:46.533300Z",
     "iopub.status.idle": "2021-08-04T15:33:46.549631Z",
     "shell.execute_reply": "2021-08-04T15:33:46.547558Z",
     "shell.execute_reply.started": "2021-08-04T15:33:46.533754Z"
    }
   },
   "outputs": [],
   "source": [
    "class Parent:\n",
    "    def hello(self):\n",
    "        print(\"这是调用父类的结果\")\n",
    "class Child(Parent):\n",
    "    def hello2(self):\n",
    "        print(\"这是子类中的函数\")"
   ]
  },
  {
   "cell_type": "code",
   "execution_count": 12,
   "id": "f3cb34b3-8a47-4b8a-8c50-e3a184769df1",
   "metadata": {
    "execution": {
     "iopub.execute_input": "2021-08-04T15:34:12.025826Z",
     "iopub.status.busy": "2021-08-04T15:34:12.025308Z",
     "iopub.status.idle": "2021-08-04T15:34:12.043512Z",
     "shell.execute_reply": "2021-08-04T15:34:12.041695Z",
     "shell.execute_reply.started": "2021-08-04T15:34:12.025781Z"
    },
    "tags": []
   },
   "outputs": [
    {
     "name": "stdout",
     "output_type": "stream",
     "text": [
      "这是调用父类的结果\n"
     ]
    }
   ],
   "source": [
    "p = Parent()\n",
    "p.hello()"
   ]
  },
  {
   "cell_type": "code",
   "execution_count": 13,
   "id": "b07c9279-8f3b-46d7-ab11-611387a18404",
   "metadata": {
    "execution": {
     "iopub.execute_input": "2021-08-04T15:34:29.447401Z",
     "iopub.status.busy": "2021-08-04T15:34:29.446682Z",
     "iopub.status.idle": "2021-08-04T15:34:29.456560Z",
     "shell.execute_reply": "2021-08-04T15:34:29.455086Z",
     "shell.execute_reply.started": "2021-08-04T15:34:29.447353Z"
    }
   },
   "outputs": [
    {
     "name": "stdout",
     "output_type": "stream",
     "text": [
      "这是子类中的函数\n"
     ]
    }
   ],
   "source": [
    "c = Child()\n",
    "c.hello2()"
   ]
  },
  {
   "cell_type": "code",
   "execution_count": 14,
   "id": "4c96979d-0873-4645-a05a-5376fcb67ae9",
   "metadata": {
    "execution": {
     "iopub.execute_input": "2021-08-04T15:34:38.605125Z",
     "iopub.status.busy": "2021-08-04T15:34:38.604579Z",
     "iopub.status.idle": "2021-08-04T15:34:38.622900Z",
     "shell.execute_reply": "2021-08-04T15:34:38.621667Z",
     "shell.execute_reply.started": "2021-08-04T15:34:38.605076Z"
    }
   },
   "outputs": [
    {
     "name": "stdout",
     "output_type": "stream",
     "text": [
      "这是调用父类的结果\n"
     ]
    }
   ],
   "source": [
    "c.hello() # 可见子类继承了父类中的属性和方法"
   ]
  },
  {
   "cell_type": "markdown",
   "id": "7d347f0f-67a9-41de-b77d-3ef8d56bb4df",
   "metadata": {},
   "source": [
    "## 同名则覆盖\n",
    "- 如果子类中定义与父类同名的方法或属性，则自动覆盖父类中的方法或属性"
   ]
  },
  {
   "cell_type": "code",
   "execution_count": 15,
   "id": "31f7300d-e007-4e14-92b5-0bf56d5e5db3",
   "metadata": {
    "execution": {
     "iopub.execute_input": "2021-08-04T15:38:07.595886Z",
     "iopub.status.busy": "2021-08-04T15:38:07.595222Z",
     "iopub.status.idle": "2021-08-04T15:38:07.612131Z",
     "shell.execute_reply": "2021-08-04T15:38:07.610589Z",
     "shell.execute_reply.started": "2021-08-04T15:38:07.595833Z"
    }
   },
   "outputs": [],
   "source": [
    "class Parent:\n",
    "    def hello(self):\n",
    "        print(\"这是调用父类的结果\")\n",
    "class Child(Parent):\n",
    "    def hello2(self):\n",
    "        print(\"这是子类中的函数\")\n",
    "    def hello(self):\n",
    "        print(\"覆盖了父类中的hello函数\")"
   ]
  },
  {
   "cell_type": "code",
   "execution_count": 16,
   "id": "7f54c617-96df-46eb-bf4c-123094ffd403",
   "metadata": {
    "execution": {
     "iopub.execute_input": "2021-08-04T15:38:31.752503Z",
     "iopub.status.busy": "2021-08-04T15:38:31.751504Z",
     "iopub.status.idle": "2021-08-04T15:38:31.785901Z",
     "shell.execute_reply": "2021-08-04T15:38:31.775098Z",
     "shell.execute_reply.started": "2021-08-04T15:38:31.752445Z"
    }
   },
   "outputs": [
    {
     "name": "stdout",
     "output_type": "stream",
     "text": [
      "覆盖了父类中的hello函数\n"
     ]
    }
   ],
   "source": [
    "c = Child()\n",
    "c.hello()"
   ]
  },
  {
   "cell_type": "markdown",
   "id": "8880300e-2c8b-42a1-acd9-3c1abf60220b",
   "metadata": {},
   "source": [
    "## super()函数：自动找到所用父类的__init__"
   ]
  },
  {
   "cell_type": "markdown",
   "id": "11be24af-0053-431b-91de-6ae9190f1ff0",
   "metadata": {},
   "source": [
    "### 一个实例\n",
    "- 子类的__init__函数与父类同名，自然会覆盖父类中的__init__函数"
   ]
  },
  {
   "cell_type": "code",
   "execution_count": 1,
   "id": "98d13cb4-c529-47cd-8a9e-4582da1d27b0",
   "metadata": {
    "execution": {
     "iopub.execute_input": "2021-08-05T08:53:42.989880Z",
     "iopub.status.busy": "2021-08-05T08:53:42.988721Z",
     "iopub.status.idle": "2021-08-05T08:53:43.025097Z",
     "shell.execute_reply": "2021-08-05T08:53:43.015999Z",
     "shell.execute_reply.started": "2021-08-05T08:53:42.989502Z"
    }
   },
   "outputs": [],
   "source": [
    "import random as r\n",
    "\n",
    "# 创建广义的 Fish class\n",
    "class Fish:\n",
    "    def __init__(self):\n",
    "        self.x = r.randint(0, 10)\n",
    "        self.y = r.randint(0, 10)\n",
    "    \n",
    "    def move(self):\n",
    "        self.x -= 1\n",
    "        print(\"移动后，当前位置：\", self.x, self.y)\n",
    "        \n",
    "# 基于父类 Fish，创建子类Goldfish(金鱼)，Carp(鲤鱼)，Salmon(三文鱼)，Shark(鲨鱼)\n",
    "class Goldfish(Fish):\n",
    "    pass\n",
    "\n",
    "class Carp(Fish):\n",
    "    pass\n",
    "\n",
    "class Salmon(Fish):\n",
    "    pass\n",
    "\n",
    "class Shark(Fish):\n",
    "    def __init__(self): # 子类中的魔法函数覆盖了父类的，并且没有初始化坐标，一会move会报错\n",
    "        self.hungry = True\n",
    "        \n",
    "    def eat(self):\n",
    "        if self.hungry:\n",
    "            print(\"我很饿，吃！\")\n",
    "            self.hungry = False\n",
    "        else:\n",
    "            print('吃过了，已经吃饱了')"
   ]
  },
  {
   "cell_type": "code",
   "execution_count": 8,
   "id": "7d9a6fa1-2ea6-4a2f-bac2-4673386cc59f",
   "metadata": {
    "execution": {
     "iopub.execute_input": "2021-08-05T08:56:18.185105Z",
     "iopub.status.busy": "2021-08-05T08:56:18.184522Z",
     "iopub.status.idle": "2021-08-05T08:56:18.207179Z",
     "shell.execute_reply": "2021-08-05T08:56:18.204241Z",
     "shell.execute_reply.started": "2021-08-05T08:56:18.185054Z"
    },
    "tags": []
   },
   "outputs": [
    {
     "name": "stdout",
     "output_type": "stream",
     "text": [
      "移动后，当前位置： 4 5\n",
      "移动后，当前位置： 3 5\n",
      "移动后，当前位置： 2 5\n"
     ]
    }
   ],
   "source": [
    "# 实例化class Fish，执行move，发现每次执行后，鱼向西移动\n",
    "fish = Fish()\n",
    "fish.move()\n",
    "fish.move()\n",
    "fish.move()"
   ]
  },
  {
   "cell_type": "code",
   "execution_count": 7,
   "id": "d64ca891-e87e-44a6-b4c5-141b13f31800",
   "metadata": {
    "execution": {
     "iopub.execute_input": "2021-08-05T08:55:36.966221Z",
     "iopub.status.busy": "2021-08-05T08:55:36.965642Z",
     "iopub.status.idle": "2021-08-05T08:55:36.991156Z",
     "shell.execute_reply": "2021-08-05T08:55:36.984112Z",
     "shell.execute_reply.started": "2021-08-05T08:55:36.966173Z"
    },
    "tags": []
   },
   "outputs": [
    {
     "name": "stdout",
     "output_type": "stream",
     "text": [
      "移动后，当前位置： 8 3\n",
      "移动后，当前位置： 7 3\n",
      "移动后，当前位置： 6 3\n"
     ]
    }
   ],
   "source": [
    "# goldfish与fish完全相同\n",
    "goldfish = Goldfish()\n",
    "goldfish.move()\n",
    "goldfish.move()\n",
    "goldfish.move()"
   ]
  },
  {
   "cell_type": "code",
   "execution_count": 9,
   "id": "8655d96a-aaca-4e3d-aa5e-0a6ae5edd3c7",
   "metadata": {
    "execution": {
     "iopub.execute_input": "2021-08-05T08:58:13.193334Z",
     "iopub.status.busy": "2021-08-05T08:58:13.192755Z",
     "iopub.status.idle": "2021-08-05T08:58:13.220641Z",
     "shell.execute_reply": "2021-08-05T08:58:13.212939Z",
     "shell.execute_reply.started": "2021-08-05T08:58:13.193282Z"
    }
   },
   "outputs": [
    {
     "name": "stdout",
     "output_type": "stream",
     "text": [
      "我很饿，吃！\n",
      "吃过了，已经吃饱了\n"
     ]
    }
   ],
   "source": [
    "# shark\n",
    "shark = Shark()\n",
    "shark.eat()\n",
    "shark.eat()"
   ]
  },
  {
   "cell_type": "code",
   "execution_count": 11,
   "id": "f9b1979e-09b4-4abd-9287-fe2289eada3f",
   "metadata": {
    "execution": {
     "iopub.execute_input": "2021-08-05T08:58:31.987080Z",
     "iopub.status.busy": "2021-08-05T08:58:31.986484Z",
     "iopub.status.idle": "2021-08-05T08:58:32.200364Z",
     "shell.execute_reply": "2021-08-05T08:58:32.198835Z",
     "shell.execute_reply.started": "2021-08-05T08:58:31.987028Z"
    },
    "tags": []
   },
   "outputs": [
    {
     "ename": "AttributeError",
     "evalue": "'Shark' object has no attribute 'x'",
     "output_type": "error",
     "traceback": [
      "\u001b[0;31m---------------------------------------------------------------------------\u001b[0m",
      "\u001b[0;31mAttributeError\u001b[0m                            Traceback (most recent call last)",
      "\u001b[0;32m<ipython-input-11-e54bb3f218a2>\u001b[0m in \u001b[0;36m<module>\u001b[0;34m\u001b[0m\n\u001b[0;32m----> 1\u001b[0;31m \u001b[0mshark\u001b[0m\u001b[0;34m.\u001b[0m\u001b[0mmove\u001b[0m\u001b[0;34m(\u001b[0m\u001b[0;34m)\u001b[0m\u001b[0;34m\u001b[0m\u001b[0;34m\u001b[0m\u001b[0m\n\u001b[0m",
      "\u001b[0;32m<ipython-input-1-5ef6d7458690>\u001b[0m in \u001b[0;36mmove\u001b[0;34m(self)\u001b[0m\n\u001b[1;32m      8\u001b[0m \u001b[0;34m\u001b[0m\u001b[0m\n\u001b[1;32m      9\u001b[0m     \u001b[0;32mdef\u001b[0m \u001b[0mmove\u001b[0m\u001b[0;34m(\u001b[0m\u001b[0mself\u001b[0m\u001b[0;34m)\u001b[0m\u001b[0;34m:\u001b[0m\u001b[0;34m\u001b[0m\u001b[0;34m\u001b[0m\u001b[0m\n\u001b[0;32m---> 10\u001b[0;31m         \u001b[0mself\u001b[0m\u001b[0;34m.\u001b[0m\u001b[0mx\u001b[0m \u001b[0;34m-=\u001b[0m \u001b[0;36m1\u001b[0m\u001b[0;34m\u001b[0m\u001b[0;34m\u001b[0m\u001b[0m\n\u001b[0m\u001b[1;32m     11\u001b[0m         \u001b[0mprint\u001b[0m\u001b[0;34m(\u001b[0m\u001b[0;34m\"移动后，当前位置：\"\u001b[0m\u001b[0;34m,\u001b[0m \u001b[0mself\u001b[0m\u001b[0;34m.\u001b[0m\u001b[0mx\u001b[0m\u001b[0;34m,\u001b[0m \u001b[0mself\u001b[0m\u001b[0;34m.\u001b[0m\u001b[0my\u001b[0m\u001b[0;34m)\u001b[0m\u001b[0;34m\u001b[0m\u001b[0;34m\u001b[0m\u001b[0m\n\u001b[1;32m     12\u001b[0m \u001b[0;34m\u001b[0m\u001b[0m\n",
      "\u001b[0;31mAttributeError\u001b[0m: 'Shark' object has no attribute 'x'"
     ]
    }
   ],
   "source": [
    "# shark无法执行Fish类中的move方法\n",
    "shark.move()"
   ]
  },
  {
   "cell_type": "markdown",
   "id": "b536b93a-d746-49a4-893a-2e1faf574de3",
   "metadata": {},
   "source": [
    "### 方案1:调用父类中的__init__"
   ]
  },
  {
   "cell_type": "code",
   "execution_count": 12,
   "id": "d3f57dcd-f380-4bde-bc6d-5ebe24cdc19d",
   "metadata": {
    "execution": {
     "iopub.execute_input": "2021-08-05T09:10:14.634872Z",
     "iopub.status.busy": "2021-08-05T09:10:14.634302Z",
     "iopub.status.idle": "2021-08-05T09:10:14.646112Z",
     "shell.execute_reply": "2021-08-05T09:10:14.644696Z",
     "shell.execute_reply.started": "2021-08-05T09:10:14.634822Z"
    }
   },
   "outputs": [],
   "source": [
    "import random as r\n",
    "\n",
    "class Fish:\n",
    "    def __init__(self):\n",
    "        self.x = r.randint(0, 10)\n",
    "        self.y = r.randint(0, 10)\n",
    "    \n",
    "    def move(self):\n",
    "        self.x -= 1\n",
    "        print(\"移动后，当前位置：\", self.x, self.y)\n",
    "        \n",
    "class Shark(Fish):\n",
    "    def __init__(self):\n",
    "        Fish.__init__(self)\n",
    "        self.hungry = True\n",
    "        \n",
    "    def eat(self):\n",
    "        if self.hungry:\n",
    "            print(\"我很饿，吃！\")\n",
    "            self.hungry = False\n",
    "        else:\n",
    "            print('吃过了，已经吃饱了')"
   ]
  },
  {
   "cell_type": "code",
   "execution_count": 13,
   "id": "3d0ec386-ec61-4492-866e-a7706459979e",
   "metadata": {
    "execution": {
     "iopub.execute_input": "2021-08-05T09:10:34.529941Z",
     "iopub.status.busy": "2021-08-05T09:10:34.529370Z",
     "iopub.status.idle": "2021-08-05T09:10:34.553545Z",
     "shell.execute_reply": "2021-08-05T09:10:34.549754Z",
     "shell.execute_reply.started": "2021-08-05T09:10:34.529891Z"
    }
   },
   "outputs": [
    {
     "name": "stdout",
     "output_type": "stream",
     "text": [
      "移动后，当前位置： 5 3\n",
      "移动后，当前位置： 4 3\n"
     ]
    }
   ],
   "source": [
    "shark = Shark()\n",
    "shark.move()\n",
    "shark.move()"
   ]
  },
  {
   "cell_type": "markdown",
   "id": "7f09d54f-a961-498d-8694-86eaa99b0d0c",
   "metadata": {},
   "source": [
    "### 方案2（推荐）:super函数\n",
    "- 功能：无需指明父类名字，自动找到父类及对应的方法，不用写self\n",
    "- 优势：当改变继承关系时，只需修改class Shark(基类)中的基类即可，不用在大量大量代码中修改被继承的方法"
   ]
  },
  {
   "cell_type": "code",
   "execution_count": 14,
   "id": "3826bfe7-5c4b-4ec2-949a-ffdde120d9d2",
   "metadata": {
    "execution": {
     "iopub.execute_input": "2021-08-05T09:20:56.691568Z",
     "iopub.status.busy": "2021-08-05T09:20:56.689811Z",
     "iopub.status.idle": "2021-08-05T09:20:56.702200Z",
     "shell.execute_reply": "2021-08-05T09:20:56.700524Z",
     "shell.execute_reply.started": "2021-08-05T09:20:56.691524Z"
    }
   },
   "outputs": [],
   "source": [
    "import random as r\n",
    "\n",
    "class Fish:\n",
    "    def __init__(self):\n",
    "        self.x = r.randint(0, 10)\n",
    "        self.y = r.randint(0, 10)\n",
    "    \n",
    "    def move(self):\n",
    "        self.x -= 1\n",
    "        print(\"移动后，当前位置：\", self.x, self.y)\n",
    "        \n",
    "class Shark(Fish):\n",
    "    def __init__(self):\n",
    "        super().__init__() # 不用写self\n",
    "        self.hungry = True\n",
    "        \n",
    "    def eat(self):\n",
    "        if self.hungry:\n",
    "            print(\"我很饿，吃！\")\n",
    "            self.hungry = False\n",
    "        else:\n",
    "            print('吃过了，已经吃饱了')"
   ]
  },
  {
   "cell_type": "code",
   "execution_count": 15,
   "id": "51913342-a052-4de9-bbf9-792753b851d5",
   "metadata": {
    "execution": {
     "iopub.execute_input": "2021-08-05T09:21:16.705421Z",
     "iopub.status.busy": "2021-08-05T09:21:16.704860Z",
     "iopub.status.idle": "2021-08-05T09:21:16.728644Z",
     "shell.execute_reply": "2021-08-05T09:21:16.725824Z",
     "shell.execute_reply.started": "2021-08-05T09:21:16.705372Z"
    }
   },
   "outputs": [
    {
     "name": "stdout",
     "output_type": "stream",
     "text": [
      "移动后，当前位置： 1 0\n",
      "移动后，当前位置： 0 0\n"
     ]
    }
   ],
   "source": [
    "shark = Shark()\n",
    "shark.move()\n",
    "shark.move()"
   ]
  },
  {
   "cell_type": "markdown",
   "id": "d5665156-6415-4e38-9dc5-2ac2e40c9951",
   "metadata": {},
   "source": [
    "## 多重继承\n",
    "- 注意：多重继承容易导致代码混乱，尽量避免使用\n",
    "- 同时继承多个基类的属性和方法\n",
    "- 格式：class 类名（基类1，基类2，···）"
   ]
  },
  {
   "cell_type": "code",
   "execution_count": 16,
   "id": "eba25242-7a8d-4afe-b620-2e790f56f485",
   "metadata": {
    "execution": {
     "iopub.execute_input": "2021-08-05T09:30:29.604752Z",
     "iopub.status.busy": "2021-08-05T09:30:29.604204Z",
     "iopub.status.idle": "2021-08-05T09:30:29.620280Z",
     "shell.execute_reply": "2021-08-05T09:30:29.614069Z",
     "shell.execute_reply.started": "2021-08-05T09:30:29.604707Z"
    }
   },
   "outputs": [],
   "source": [
    "# 创建2个父类\n",
    "class B1:\n",
    "    def foo1(self):\n",
    "        print(\"B1中的foo1函数\")\n",
    "\n",
    "class B2:\n",
    "    def foo2(self):\n",
    "        print(\"B2中的foo2函数\")\n",
    "\n",
    "# 创建子类\n",
    "class C(B1, B2):\n",
    "    pass"
   ]
  },
  {
   "cell_type": "code",
   "execution_count": 18,
   "id": "55be17f0-e540-4628-88dc-c8c4e7c65f21",
   "metadata": {
    "execution": {
     "iopub.execute_input": "2021-08-05T09:30:49.708084Z",
     "iopub.status.busy": "2021-08-05T09:30:49.707489Z",
     "iopub.status.idle": "2021-08-05T09:30:49.737225Z",
     "shell.execute_reply": "2021-08-05T09:30:49.728956Z",
     "shell.execute_reply.started": "2021-08-05T09:30:49.708031Z"
    },
    "tags": []
   },
   "outputs": [
    {
     "name": "stdout",
     "output_type": "stream",
     "text": [
      "B1中的foo1函数\n",
      "B2中的foo2函数\n"
     ]
    }
   ],
   "source": [
    "c = C()\n",
    "c.foo1()\n",
    "c.foo2()"
   ]
  },
  {
   "cell_type": "markdown",
   "id": "830578a6-caf2-4141-a0f7-5d3ceff8acae",
   "metadata": {
    "execution": {
     "iopub.execute_input": "2021-08-05T09:34:08.195320Z",
     "iopub.status.busy": "2021-08-05T09:34:08.194783Z",
     "iopub.status.idle": "2021-08-05T09:34:08.220024Z",
     "shell.execute_reply": "2021-08-05T09:34:08.218543Z",
     "shell.execute_reply.started": "2021-08-05T09:34:08.195278Z"
    }
   },
   "source": [
    "## 组合（多重继承的替代方案）\n",
    "- 问题描述：\n",
    "\n",
    "我们有了乌龟class，鱼class，想要创建一个水池class。如果用多重继承就会造成歧义：水池和乌龟、鱼是不同种类的事物。那么如果将乌龟class，鱼class，组合称为一个水池class？"
   ]
  },
  {
   "cell_type": "code",
   "execution_count": 35,
   "id": "68c02219-6889-4717-9d9b-91fd476789fc",
   "metadata": {
    "execution": {
     "iopub.execute_input": "2021-08-05T09:44:49.868042Z",
     "iopub.status.busy": "2021-08-05T09:44:49.867453Z",
     "iopub.status.idle": "2021-08-05T09:44:49.912123Z",
     "shell.execute_reply": "2021-08-05T09:44:49.910798Z",
     "shell.execute_reply.started": "2021-08-05T09:44:49.867988Z"
    },
    "tags": []
   },
   "outputs": [
    {
     "name": "stdout",
     "output_type": "stream",
     "text": [
      "pool中有乌龟3只，小鱼5条\n"
     ]
    }
   ],
   "source": [
    "class Turtle:\n",
    "    def __init__(self, x):\n",
    "        self.num = x  # 乌龟数量\n",
    "\n",
    "class Fish:\n",
    "    def __init__(self, x):\n",
    "        self.num = x  # 鱼数量\n",
    "        \n",
    "class Pool:\n",
    "    def __init__(self, x, y):\n",
    "        self.turtle = Turtle(x)\n",
    "        self.fish = Fish(y)\n",
    "    \n",
    "    def sum_num(self):\n",
    "        print(\"pool中有乌龟%d只，小鱼%d条\" % (self.turtle.num, self.fish.num))\n",
    "    \n",
    "pool = Pool(3, 5)\n",
    "pool.sum_num()"
   ]
  },
  {
   "cell_type": "code",
   "execution_count": 31,
   "id": "1d285952-446f-423d-a906-8c25f11ef8b1",
   "metadata": {
    "execution": {
     "iopub.execute_input": "2021-08-05T09:44:09.398407Z",
     "iopub.status.busy": "2021-08-05T09:44:09.397839Z",
     "iopub.status.idle": "2021-08-05T09:44:09.425046Z",
     "shell.execute_reply": "2021-08-05T09:44:09.423537Z",
     "shell.execute_reply.started": "2021-08-05T09:44:09.398357Z"
    },
    "tags": []
   },
   "outputs": [
    {
     "data": {
      "text/plain": [
       "5"
      ]
     },
     "execution_count": 31,
     "metadata": {},
     "output_type": "execute_result"
    }
   ],
   "source": [
    "pool.turtle.num"
   ]
  },
  {
   "cell_type": "code",
   "execution_count": null,
   "id": "2b3fe660-a1e9-43ba-81a1-2c3b629e1f81",
   "metadata": {},
   "outputs": [],
   "source": [
    "pool.fish.num"
   ]
  }
 ],
 "metadata": {
  "kernelspec": {
   "display_name": "Python 3",
   "language": "python",
   "name": "python3"
  },
  "language_info": {
   "codemirror_mode": {
    "name": "ipython",
    "version": 3
   },
   "file_extension": ".py",
   "mimetype": "text/x-python",
   "name": "python",
   "nbconvert_exporter": "python",
   "pygments_lexer": "ipython3",
   "version": "3.8.12"
  },
  "toc-autonumbering": true,
  "toc-showtags": false,
  "widgets": {
   "application/vnd.jupyter.widget-state+json": {
    "state": {},
    "version_major": 2,
    "version_minor": 0
   }
  }
 },
 "nbformat": 4,
 "nbformat_minor": 5
}
