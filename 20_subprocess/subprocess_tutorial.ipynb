{
 "cells": [
  {
   "cell_type": "markdown",
   "metadata": {},
   "source": [
    "# subproces学习笔记  \n",
    "@author: Rui Zhu  \n",
    "@create time: 2022-11-20  \n",
    "@cite: \n",
    "* https://docs.python.org/zh-cn/3/library/subprocess.html\n",
    "* https://www.runoob.com/w3cnote/python3-subprocess.html\n",
    "* [python中的系统交互](https://www.cnblogs.com/yyds/p/7288916.html#:~:text=1.%20subprocess模块中的常用函数%201%20在Python%203.5之后的版本中，官方文档中提倡通过subprocess.run%20%28%29函数替代其他函数来使用subproccess模块的功能；%202%20在Python,%28%29等上面列出的其他函数来使用subprocess模块的功能；%203%20subprocess.run%20%28%29、subprocess.call%20%28%29、subprocess.check_call%20%28%29和subprocess.check_output%20%28%29都是通过对subprocess.Popen的封装来实现的高级函数，因此如果我们需要更复杂功能时，可以通过subprocess.Popen来完成%E3%80%82%20更多项目)"
   ]
  },
  {
   "cell_type": "markdown",
   "metadata": {},
   "source": [
    "## subprocess简介  \n",
    "* subprocess库用于创建子进程, 执行系统命令\n",
    "* subprocess的设计是为了取代os.system()模块\n",
    "* 执行命令行, 我们关注一下3点\n",
    "    1. 命令的动作: 除输出结果外的其他动作, 比如文件读写操作\n",
    "    2. 命令的输出结果\n",
    "    3. 命令的状态码: 0表示执行成功;1表示失败"
   ]
  },
  {
   "cell_type": "markdown",
   "metadata": {},
   "source": [
    "### os模块的实现(旧方法, 不推荐使用)"
   ]
  },
  {
   "cell_type": "code",
   "execution_count": 1,
   "metadata": {},
   "outputs": [
    {
     "name": "stdout",
     "output_type": "stream",
     "text": [
      ".\n",
      "├── subprocess_tutorial.ipynb\n",
      "└── test_for_subprocess\n",
      "\n",
      "1 directory, 1 file\n",
      "==> os.system()函数, 输出结果, 返回命令的状态码: 0\n"
     ]
    }
   ],
   "source": [
    "import os\n",
    "# 方法1\n",
    "res = os.system('tree -L 1')\n",
    "print(f\"==> os.system()函数, 输出结果, 返回命令的状态码: {res}\")"
   ]
  },
  {
   "cell_type": "code",
   "execution_count": 2,
   "metadata": {},
   "outputs": [
    {
     "data": {
      "text/plain": [
       "os._wrap_close"
      ]
     },
     "execution_count": 2,
     "metadata": {},
     "output_type": "execute_result"
    }
   ],
   "source": [
    "# 方法2\n",
    "res = os.popen('tree -L 1')\n",
    "type(res)  # 该方法不输出状态码, 也不直接输出结果, 而是将输出结果存进os._wrap_close中|"
   ]
  },
  {
   "cell_type": "code",
   "execution_count": 3,
   "metadata": {},
   "outputs": [
    {
     "name": "stdout",
     "output_type": "stream",
     "text": [
      ".\n",
      "├── subprocess_tutorial.ipynb\n",
      "└── test_for_subprocess\n",
      "\n",
      "1 directory, 1 file\n",
      "\n"
     ]
    }
   ],
   "source": [
    "# 可以使用read()或write()方法获取输出结果\n",
    "print(res.read())"
   ]
  },
  {
   "cell_type": "markdown",
   "metadata": {},
   "source": [
    "## subprocess实现系统命令的调用"
   ]
  },
  {
   "cell_type": "code",
   "execution_count": 4,
   "metadata": {},
   "outputs": [],
   "source": [
    "import subprocess"
   ]
  },
  {
   "cell_type": "markdown",
   "metadata": {},
   "source": [
    "### 函数1: run()\n",
    "* return包含命令结果的CompletedProcess类\n",
    "* 返回的类中默认只有命令和returncode, 如果需要其他信息, 需要添加参数设置"
   ]
  },
  {
   "cell_type": "markdown",
   "metadata": {},
   "source": [
    "args: 要执行的shell命令\n",
    "* 如果参数shell=True, 则可以使用完整的字符串命令, 不然只能是列表的形式"
   ]
  },
  {
   "cell_type": "code",
   "execution_count": 5,
   "metadata": {},
   "outputs": [
    {
     "name": "stdout",
     "output_type": "stream",
     "text": [
      ".\n",
      "├── subprocess_tutorial.ipynb\n",
      "└── test_for_subprocess\n",
      "\n",
      "1 directory, 1 file\n"
     ]
    },
    {
     "data": {
      "text/plain": [
       "CompletedProcess(args=['tree', '-L', '1'], returncode=0)"
      ]
     },
     "execution_count": 5,
     "metadata": {},
     "output_type": "execute_result"
    }
   ],
   "source": [
    "subprocess.run(args=['tree', '-L', '1'])"
   ]
  },
  {
   "cell_type": "markdown",
   "metadata": {},
   "source": [
    "shell: 将命令通过shell执行"
   ]
  },
  {
   "cell_type": "code",
   "execution_count": 6,
   "metadata": {},
   "outputs": [
    {
     "name": "stdout",
     "output_type": "stream",
     "text": [
      ".\n",
      "├── subprocess_tutorial.ipynb\n",
      "└── test_for_subprocess\n",
      "\n",
      "1 directory, 1 file\n"
     ]
    },
    {
     "data": {
      "text/plain": [
       "CompletedProcess(args='tree -L 1', returncode=0)"
      ]
     },
     "execution_count": 6,
     "metadata": {},
     "output_type": "execute_result"
    }
   ],
   "source": [
    "subprocess.run(args='tree -L 1', shell=True)"
   ]
  },
  {
   "cell_type": "markdown",
   "metadata": {},
   "source": [
    "cwd: 指定子进程所在的目录"
   ]
  },
  {
   "cell_type": "code",
   "execution_count": 7,
   "metadata": {},
   "outputs": [
    {
     "name": "stdout",
     "output_type": "stream",
     "text": [
      ".\n",
      "├── UDS-22130_f160w_sci.fits\n",
      "├── feedme_galfit_UDS-22130_f160w.txt\n",
      "├── mask_UDS-22130_f160w.fits\n",
      "└── psf_3dhst_UDS-22130_f160w.fits\n",
      "\n",
      "0 directories, 4 files\n"
     ]
    },
    {
     "data": {
      "text/plain": [
       "CompletedProcess(args='tree -L 1', returncode=0)"
      ]
     },
     "execution_count": 7,
     "metadata": {},
     "output_type": "execute_result"
    }
   ],
   "source": [
    "subprocess.run(args='tree -L 1', shell=True, cwd='./test_for_subprocess/')"
   ]
  },
  {
   "cell_type": "markdown",
   "metadata": {},
   "source": [
    "check: 检查状态码是否为0\n",
    "* 当check=True, returncode=0, 程序正常执行\n",
    "* 当check=True, returncode!=0, 抛出CalledProcessError异常"
   ]
  },
  {
   "cell_type": "code",
   "execution_count": 8,
   "metadata": {},
   "outputs": [
    {
     "name": "stdout",
     "output_type": "stream",
     "text": [
      ".\n",
      "├── subprocess_tutorial.ipynb\n",
      "└── test_for_subprocess\n",
      "\n",
      "1 directory, 1 file\n"
     ]
    },
    {
     "data": {
      "text/plain": [
       "CompletedProcess(args='tree -L 1', returncode=0)"
      ]
     },
     "execution_count": 8,
     "metadata": {},
     "output_type": "execute_result"
    }
   ],
   "source": [
    "subprocess.run(args='tree -L 1', shell=True, check=True)\n",
    "# * 试试下面这句\n",
    "# subprocess.run(args='treed -L 1', shell=True, check=True)"
   ]
  },
  {
   "cell_type": "markdown",
   "metadata": {},
   "source": [
    "stdout, stderr, universal_newlines: 这3个参数最好同时设置, 用于收集命令的结果或异常\n",
    "* universal_newlines=True: 使输出结果以字符串的格式保存在类中"
   ]
  },
  {
   "cell_type": "code",
   "execution_count": 9,
   "metadata": {},
   "outputs": [
    {
     "data": {
      "text/plain": [
       "CompletedProcess(args='tree -L 1', returncode=0, stdout='.\\n├── subprocess_tutorial.ipynb\\n└── test_for_subprocess\\n\\n1 directory, 1 file\\n', stderr='')"
      ]
     },
     "execution_count": 9,
     "metadata": {},
     "output_type": "execute_result"
    }
   ],
   "source": [
    "res = subprocess.run(\n",
    "    args='tree -L 1', shell=True, \n",
    "    stdout=subprocess.PIPE, stderr=subprocess.PIPE, universal_newlines=True\n",
    "    )\n",
    "res  # stdout=subprocess.PIPE时, 将命令结果存到类中"
   ]
  },
  {
   "cell_type": "code",
   "execution_count": 10,
   "metadata": {},
   "outputs": [
    {
     "name": "stdout",
     "output_type": "stream",
     "text": [
      ".\n",
      "├── subprocess_tutorial.ipynb\n",
      "└── test_for_subprocess\n",
      "\n",
      "1 directory, 1 file\n"
     ]
    },
    {
     "data": {
      "text/plain": [
       "CompletedProcess(args='tree -L 1', returncode=0, stderr='')"
      ]
     },
     "execution_count": 10,
     "metadata": {},
     "output_type": "execute_result"
    }
   ],
   "source": [
    "res = subprocess.run(\n",
    "    args='tree -L 1', shell=True, \n",
    "    stdout=True, stderr=subprocess.PIPE, universal_newlines=True\n",
    "    )\n",
    "res  # stdout=True时, 输出命令结果"
   ]
  },
  {
   "cell_type": "markdown",
   "metadata": {},
   "source": [
    "timeout: 设置超时时间"
   ]
  },
  {
   "cell_type": "code",
   "execution_count": 11,
   "metadata": {},
   "outputs": [
    {
     "name": "stdout",
     "output_type": "stream",
     "text": [
      ".\n",
      "├── subprocess_tutorial.ipynb\n",
      "└── test_for_subprocess\n",
      "\n",
      "1 directory, 1 file\n"
     ]
    },
    {
     "data": {
      "text/plain": [
       "CompletedProcess(args='tree -L 1', returncode=0)"
      ]
     },
     "execution_count": 11,
     "metadata": {},
     "output_type": "execute_result"
    }
   ],
   "source": [
    "subprocess.run(args='tree -L 1', shell=True, timeout=0.01)"
   ]
  },
  {
   "cell_type": "markdown",
   "metadata": {},
   "source": [
    "### 函数2: Popen()\n",
    "* Popen()函数时run()函数的底层实现, 因此具有run()的全部功能, 和扩展的功能"
   ]
  },
  {
   "cell_type": "code",
   "execution_count": 12,
   "metadata": {},
   "outputs": [
    {
     "data": {
      "text/plain": [
       "subprocess.Popen"
      ]
     },
     "execution_count": 12,
     "metadata": {},
     "output_type": "execute_result"
    }
   ],
   "source": [
    "popen = subprocess.Popen(\n",
    "    args='tree -L 1', # 执行的命令\n",
    "    shell=True, # 在终端中执行\n",
    "    stdout=subprocess.PIPE, # 执行结果存进类中\n",
    "    universal_newlines=True  #输出格式为字符串\n",
    "    )\n",
    "type(popen)  # 打印命令结果, 返回Popen类\n"
   ]
  },
  {
   "cell_type": "code",
   "execution_count": 13,
   "metadata": {},
   "outputs": [
    {
     "name": "stdout",
     "output_type": "stream",
     "text": [
      ".\n",
      "├── subprocess_tutorial.ipynb\n",
      "└── test_for_subprocess\n",
      "\n",
      "1 directory, 1 file\n",
      "\n"
     ]
    }
   ],
   "source": [
    "print(popen.stdout.read())"
   ]
  },
  {
   "cell_type": "markdown",
   "metadata": {},
   "source": [
    "## 实战\n",
    "* 在`test_for_subprocess`中run galfit"
   ]
  },
  {
   "cell_type": "code",
   "execution_count": 14,
   "metadata": {},
   "outputs": [
    {
     "name": "stdout",
     "output_type": "stream",
     "text": [
      "[PosixPath('test_for_subprocess/.DS_Store'), PosixPath('test_for_subprocess/UDS-22130_f160w_sci.fits'), PosixPath('test_for_subprocess/psf_3dhst_UDS-22130_f160w.fits'), PosixPath('test_for_subprocess/feedme_galfit_UDS-22130_f160w.txt'), PosixPath('test_for_subprocess/mask_UDS-22130_f160w.fits')]\n"
     ]
    }
   ],
   "source": [
    "# 本实例的演示文件\n",
    "from pathlib import Path\n",
    "path = Path(\"./test_for_subprocess/\")\n",
    "origin_files = list(path.iterdir())\n",
    "print(origin_files)"
   ]
  },
  {
   "cell_type": "code",
   "execution_count": 15,
   "metadata": {},
   "outputs": [],
   "source": [
    "path_feedme = Path(\"/Users/rui/Code/1_Astronote/20_subprocess/test_for_subprocess/feedme_galfit_UDS-22130_f160w.txt\")\n",
    "cmd = f\"galfit {path_feedme}\"\n",
    "\n",
    "res = subprocess.run(\n",
    "    args=cmd, # cmd为待执行命令\n",
    "    shell=True, # 在shell中执行\n",
    "    cwd=path_feedme.parent, # 执行命令的路径\n",
    "    stdout=subprocess.PIPE, # 以字符串的形式回传结果进类\n",
    "    stderr=subprocess.PIPE, \n",
    "    universal_newlines=True\n",
    "    )\n",
    "\n",
    "# 实例结束, 清除生成的文件\n",
    "for file in list(path.iterdir()):\n",
    "    if file not in origin_files:\n",
    "        file.unlink()\n",
    "    else:\n",
    "        pass"
   ]
  },
  {
   "cell_type": "code",
   "execution_count": 16,
   "metadata": {},
   "outputs": [
    {
     "name": "stdout",
     "output_type": "stream",
     "text": [
      "输入的命令: galfit /Users/rui/Code/1_Astronote/20_subprocess/test_for_subprocess/feedme_galfit_UDS-22130_f160w.txt\n",
      "命令的returncode: 0\n"
     ]
    }
   ],
   "source": [
    "print(f\"输入的命令: {res.args}\")\n",
    "print(f\"命令的returncode: {res.returncode}\")"
   ]
  },
  {
   "cell_type": "code",
   "execution_count": 17,
   "metadata": {},
   "outputs": [
    {
     "name": "stdout",
     "output_type": "stream",
     "text": [
      "命令的打印结果: \n",
      "GALFIT Version 3.0.5 -- Apr. 23, 2013\n",
      "\n",
      "\n",
      "\n",
      "\n",
      "#  Input menu file: /Users/rui/Code/1_Astronote/20_subprocess/test_for_subprocess/feedme_galfit_UDS-22130_f160w.txt\n",
      "\n",
      "\n",
      "================================================================================\n",
      "# IMAGE and GALFIT CONTROL PARAMETERS\n",
      "A) UDS-22130_f160w_sci.fits      # Input data image (FITS file)\n",
      "B) galfit_result_UDS-22130_f160w.fits      # Output data image block\n",
      "C) none                # Sigma image name (made from data if blank or \"none\") \n",
      "D) psf_3dhst_UDS-22130_f160w.fits #        # Input PSF image and (optional) diffusion kernel\n",
      "E) 1                   # PSF fine sampling factor relative to data \n",
      "F) mask_UDS-22130_f160w.fits      # Bad pixel mask (FITS image or ASCII coord list)\n",
      "G) none                # File with parameter constraints (ASCII file) \n",
      "H) 1    99   1    99   # Image region to fit (xmin xmax ymin ymax)\n",
      "I) 100    100          # Size of the convolution box (x y)\n",
      "J) 26.946              # Magnitude photometric zeropoint \n",
      "K) 0.060  0.060        # Plate scale (dx dy)   [arcsec per pixel]\n",
      "O) regular             # Display type (regular, curses, both)\n",
      "P) 0                   # Choose: 0=optimize, 1=model, 2=imgblock, 3=subcomps\n",
      "\n",
      "# INITIAL FITTING PARAMETERS\n",
      "#\n",
      "#   For component type, the allowed functions are: \n",
      "#       sersic, expdisk, edgedisk, devauc, king, nuker, psf, \n",
      "#       gaussian, moffat, ferrer, and sky. \n",
      "#  \n",
      "#   Hidden parameters will only appear when they're specified:\n",
      "#       Bn (n=integer, Bending Modes).\n",
      "#       C0 (diskyness/boxyness), \n",
      "#       Fn (n=integer, Azimuthal Fourier Modes).\n",
      "#       R0-R10 (coordinate rotation, for creating spiral structures).\n",
      "#       To, Ti, T0-T10 (truncation function).\n",
      "# \n",
      "# ------------------------------------------------------------------------------\n",
      "#   par)    par value(s)    fit toggle(s)    # parameter description \n",
      "# ------------------------------------------------------------------------------\n",
      "\n",
      "# Component number: 1\n",
      " 0) psf                    #  Component type\n",
      " 1) 49.1100  49.3300  1 1  #  Position x, y \n",
      " 3) 24.5100     1          #  Integrated magnitude \n",
      " 4) 0.0000      0          #     ----- \n",
      " 5) 0.0000      0          #     ----- \n",
      " 6) 0.0000      0          #     ----- \n",
      " 7) 0.0000      0          #     ----- \n",
      " 8) 0.0000      0          #     ----- \n",
      " 9) 1.0000      0          #  Axis ratio (b/a)  \n",
      "10) 0.0000      0          #  Position angle (PA) [deg: Up=0, Left=90]\n",
      " Z) 0                      #  Skip this model in output image?  (yes=1, no=0)\n",
      "\n",
      "# Component number: 2\n",
      " 0) sersic                 #  Component type\n",
      " 1) 49.1100  49.3300  1 1  #  Position x, y\n",
      " 3) 24.5100     1          #  Integrated magnitude \n",
      " 4) 5.3300      1          #  R_e (effective radius)   [pix]\n",
      " 5) 1.2800      1          #  Sersic index n (de Vaucouleurs n=4) \n",
      " 6) 0.0000      0          #     ----- \n",
      " 7) 0.0000      0          #     ----- \n",
      " 8) 0.0000      0          #     ----- \n",
      " 9) 0.9800      1          #  Axis ratio (b/a)  \n",
      "10) 85.5600     1          #  Position angle (PA) [deg: Up=0, Left=90]\n",
      " Z) 0                      #  Skip this model in output image?  (yes=1, no=0)\n",
      "\n",
      "================================================================================\n",
      "\n",
      "\n",
      "\n",
      "-- No constraint file found.\n",
      "-- No CCD charge diffusion kernel found or applied.\n",
      "-- No sigma image.  Creating one using: GAIN=2.50, NCOMBINE=208.0.\n",
      "\n",
      "-- Estimating the sky mean and RMS to generate an internal sigma image.  This\n",
      "   estimate won't work right if the product ADUxGAIN has a unit other than \n",
      "   [electrons] (e.g. MJy/sr or e-/sec). To turn off this feature, start by:   \n",
      "                 galfit -noskyest <filename>  \n",
      "   For other options, do:  \n",
      "                 galfit -help  \n",
      "\n",
      "   Est'd sky mean = 83.11, RMS = 829.65 ADUs.  (Are these fairly reasonable?)\n",
      "\n",
      "================================================================================\n",
      "Initial parameters:\n",
      " psf       : (   49.11,    49.33)   24.51     ---     ---     ---     ---\n",
      " sersic    : (   49.11,    49.33)   24.51      5.33    1.28    0.98    85.56\n",
      "================================================================================\n",
      "\n",
      "Iteration : 1     Chi2nu: 1.696e+00     dChi2/Chi2: -6.02e+22   alamda: 1e-03     \n",
      " psf       : (   49.14,    49.31)   25.51     ---     ---     ---     ---\n",
      " sersic    : (   51.55,    50.71)   24.17      4.59    0.70    0.94   -82.82\n",
      "COUNTDOWN = 99 \n",
      "\n",
      "Iteration : 2     Chi2nu: 1.219e+00     dChi2/Chi2: -3.91e-01   alamda: 1e-04     \n",
      " psf       : (   49.23,    49.27)   26.43     ---     ---     ---     ---\n",
      " sersic    : (   50.50,    50.26)   24.18      4.47    1.23    0.96   -37.70\n",
      "COUNTDOWN = 98 \n",
      "\n",
      "Iteration : 3     Chi2nu: 1.157e+00     dChi2/Chi2: -5.39e-02   alamda: 1e-05     \n",
      " psf       : (   49.24,    49.02)   27.58     ---     ---     ---     ---\n",
      " sersic    : (   50.48,    50.14)   24.07      4.46    1.73    0.90   -41.42\n",
      "COUNTDOWN = 97 \n",
      "\n",
      "Iteration : 4     Chi2nu: 1.130e+00     dChi2/Chi2: -2.35e-02   alamda: 1e-06     \n",
      " psf       : (   49.13,    48.37)   28.78     ---     ---     ---     ---\n",
      " sersic    : (   50.51,    50.15)   24.07      4.51    1.82    0.90   -40.20\n",
      "COUNTDOWN = 96 \n",
      "\n",
      "Iteration : 5     Chi2nu: 1.126e+00     dChi2/Chi2: -3.76e-03   alamda: 1e-07     \n",
      " psf       : (   48.50,    47.02)   29.33     ---     ---     ---     ---\n",
      " sersic    : (   50.57,    50.16)   24.08      4.53    1.79    0.90   -38.73\n",
      "COUNTDOWN = 95 \n",
      "\n",
      "Iteration : 6     Chi2nu: 1.126e+00     dChi2/Chi2: -2.92e-08   alamda: 1e-06     \n",
      " psf       : (   48.50,    47.02)   29.33     ---     ---     ---     ---\n",
      " sersic    : (   50.57,    50.16)   24.08      4.53    1.79    0.90   -38.73\n",
      "COUNTDOWN = 10 \n",
      "\n",
      "Iteration : 7     Chi2nu: 1.126e+00     dChi2/Chi2: -2.92e-08   alamda: 1e-05     \n",
      " psf       : (   48.50,    47.02)   29.33     ---     ---     ---     ---\n",
      " sersic    : (   50.57,    50.16)   24.08      4.53    1.79    0.90   -38.73\n",
      "COUNTDOWN = 9 \n",
      "\n",
      "Iteration : 8     Chi2nu: 1.126e+00     dChi2/Chi2: -2.92e-08   alamda: 1e-04     \n",
      " psf       : (   48.50,    47.02)   29.33     ---     ---     ---     ---\n",
      " sersic    : (   50.57,    50.16)   24.08      4.53    1.79    0.90   -38.73\n",
      "COUNTDOWN = 8 \n",
      "\n",
      "Iteration : 9     Chi2nu: 1.126e+00     dChi2/Chi2: -2.92e-08   alamda: 1e-03     \n",
      " psf       : (   48.50,    47.02)   29.33     ---     ---     ---     ---\n",
      " sersic    : (   50.57,    50.16)   24.08      4.53    1.79    0.90   -38.73\n",
      "COUNTDOWN = 7 \n",
      "\n",
      "Iteration : 10    Chi2nu: 1.126e+00     dChi2/Chi2: -2.92e-08   alamda: 1e-02     \n",
      " psf       : (   48.50,    47.02)   29.33     ---     ---     ---     ---\n",
      " sersic    : (   50.57,    50.16)   24.08      4.53    1.79    0.90   -38.73\n",
      "COUNTDOWN = 6 \n",
      "\n",
      "Iteration : 11    Chi2nu: 1.126e+00     dChi2/Chi2: -2.92e-08   alamda: 1e-01     \n",
      " psf       : (   48.50,    47.02)   29.33     ---     ---     ---     ---\n",
      " sersic    : (   50.57,    50.16)   24.08      4.53    1.79    0.90   -38.73\n",
      "COUNTDOWN = 5 \n",
      "\n",
      "Iteration : 12    Chi2nu: 1.125e+00     dChi2/Chi2: -3.21e-04   alamda: 1e-02     \n",
      " psf       : (   47.86,    45.96)   28.32     ---     ---     ---     ---\n",
      " sersic    : (   50.59,    50.19)   24.09      4.53    1.81    0.92   -39.56\n",
      "COUNTDOWN = 88 \n",
      "\n",
      "Iteration : 13    Chi2nu: 1.125e+00     dChi2/Chi2: -5.68e-04   alamda: 1e-03     \n",
      " psf       : (   48.53,    46.40)   28.45     ---     ---     ---     ---\n",
      " sersic    : (   50.60,    50.21)   24.10      4.51    1.84    0.93   -43.64\n",
      "COUNTDOWN = 87 \n",
      "\n",
      "Iteration : 14    Chi2nu: 1.125e+00     dChi2/Chi2: -1.06e-04   alamda: 1e-04     \n",
      " psf       : (   48.65,    45.94)   28.32     ---     ---     ---     ---\n",
      " sersic    : (   50.60,    50.22)   24.10      4.50    1.84    0.92   -48.06\n",
      "COUNTDOWN = 86 \n",
      "\n",
      "Iteration : 15    Chi2nu: 1.125e+00     dChi2/Chi2: -1.59e-08   alamda: 1e-03     \n",
      " psf       : (   48.65,    45.94)   28.32     ---     ---     ---     ---\n",
      " sersic    : (   50.60,    50.22)   24.10      4.50    1.84    0.92   -48.06\n",
      "COUNTDOWN = 10 \n",
      "\n",
      "Iteration : 16    Chi2nu: 1.125e+00     dChi2/Chi2: -1.59e-08   alamda: 1e-02     \n",
      " psf       : (   48.65,    45.94)   28.32     ---     ---     ---     ---\n",
      " sersic    : (   50.60,    50.22)   24.10      4.50    1.84    0.92   -48.06\n",
      "COUNTDOWN = 9 \n",
      "\n",
      "Iteration : 17    Chi2nu: 1.125e+00     dChi2/Chi2: -1.59e-08   alamda: 1e-01     \n",
      " psf       : (   48.65,    45.94)   28.32     ---     ---     ---     ---\n",
      " sersic    : (   50.60,    50.22)   24.10      4.50    1.84    0.92   -48.06\n",
      "COUNTDOWN = 8 \n",
      "\n",
      "Iteration : 18    Chi2nu: 1.125e+00     dChi2/Chi2: -1.59e-08   alamda: 1e+00     \n",
      " psf       : (   48.65,    45.94)   28.32     ---     ---     ---     ---\n",
      " sersic    : (   50.60,    50.22)   24.10      4.50    1.84    0.92   -48.06\n",
      "COUNTDOWN = 7 \n",
      "\n",
      "Iteration : 19    Chi2nu: 1.125e+00     dChi2/Chi2: -1.59e-08   alamda: 1e+01     \n",
      " psf       : (   48.65,    45.94)   28.32     ---     ---     ---     ---\n",
      " sersic    : (   50.60,    50.22)   24.10      4.50    1.84    0.92   -48.06\n",
      "COUNTDOWN = 6 \n",
      "\n",
      "Iteration : 20    Chi2nu: 1.125e+00     dChi2/Chi2: -1.27e-07   alamda: 1e+00     \n",
      " psf       : (   48.65,    45.92)   28.32     ---     ---     ---     ---\n",
      " sersic    : (   50.59,    50.22)   24.10      4.50    1.84    0.92   -48.09\n",
      "COUNTDOWN = 5 \n",
      "\n",
      "Iteration : 21    Chi2nu: 1.125e+00     dChi2/Chi2: -3.85e-08   alamda: 1e+01     \n",
      " psf       : (   48.65,    45.92)   28.32     ---     ---     ---     ---\n",
      " sersic    : (   50.59,    50.22)   24.10      4.50    1.84    0.92   -48.09\n",
      "COUNTDOWN = 4 \n",
      "\n",
      "Iteration : 22    Chi2nu: 1.125e+00     dChi2/Chi2: -3.85e-08   alamda: 1e+02     \n",
      " psf       : (   48.65,    45.92)   28.32     ---     ---     ---     ---\n",
      " sersic    : (   50.59,    50.22)   24.10      4.50    1.84    0.92   -48.09\n",
      "COUNTDOWN = 3 \n",
      "\n",
      "Iteration : 23    Chi2nu: 1.125e+00     dChi2/Chi2: -3.85e-08   alamda: 1e+03     \n",
      " psf       : (   48.65,    45.92)   28.32     ---     ---     ---     ---\n",
      " sersic    : (   50.59,    50.22)   24.10      4.50    1.84    0.92   -48.09\n",
      "COUNTDOWN = 2 \n",
      "\n",
      "Iteration : 24    Chi2nu: 1.125e+00     dChi2/Chi2: -3.85e-08   alamda: 1e+04     \n",
      " psf       : (   48.65,    45.92)   28.32     ---     ---     ---     ---\n",
      " sersic    : (   50.59,    50.22)   24.10      4.50    1.84    0.92   -48.09\n",
      "COUNTDOWN = 1 \n",
      "\n",
      "Iteration : 25    Chi2nu: 1.125e+00     dChi2/Chi2: -3.85e-08   alamda: 1e+05     \n",
      " psf       : (   48.65,    45.92)   28.32     ---     ---     ---     ---\n",
      " sersic    : (   50.59,    50.22)   24.10      4.50    1.84    0.92   -48.09\n",
      "COUNTDOWN = 0 \n",
      "\n",
      "\n",
      "Fit summary is now being saved into `fit.log'.\n",
      "\n",
      "\u0007\n"
     ]
    }
   ],
   "source": [
    "print(f\"命令的打印结果: {res.stdout}\")"
   ]
  },
  {
   "cell_type": "code",
   "execution_count": 18,
   "metadata": {},
   "outputs": [],
   "source": [
    "# 将执行的结果输出到txt文件\n",
    "dir_download = Path(\"/Users/rui/Downloads\")\n",
    "with open(dir_download / 'log.txt', 'w') as f:\n",
    "    f.write(res.stdout)\n",
    "    f.close()"
   ]
  }
 ],
 "metadata": {
  "kernelspec": {
   "display_name": "Python 3.9.6 64-bit",
   "language": "python",
   "name": "python3"
  },
  "language_info": {
   "codemirror_mode": {
    "name": "ipython",
    "version": 3
   },
   "file_extension": ".py",
   "mimetype": "text/x-python",
   "name": "python",
   "nbconvert_exporter": "python",
   "pygments_lexer": "ipython3",
   "version": "3.9.6"
  },
  "orig_nbformat": 4,
  "vscode": {
   "interpreter": {
    "hash": "31f2aee4e71d21fbe5cf8b01ff0e069b9275f58929596ceb00d14d90e3e16cd6"
   }
  }
 },
 "nbformat": 4,
 "nbformat_minor": 2
}
