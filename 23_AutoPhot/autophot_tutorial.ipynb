{
 "cells": [
  {
   "cell_type": "code",
   "execution_count": 9,
   "metadata": {},
   "outputs": [
    {
     "name": "stdout",
     "output_type": "stream",
     "text": [
      "\u001b[1;36m/Users/rui/miniconda3/envs/astro/lib/python3.11/site-packages/autophot\u001b[0m\n",
      "├── AP_config.py\n",
      "├── __init__.py\n",
      "├── __main__.py\n",
      "├── \u001b[1;36m__pycache__\u001b[0m\n",
      "├── \u001b[1;36mfit\u001b[0m\n",
      "├── \u001b[1;36mimage\u001b[0m\n",
      "├── \u001b[1;36mmodels\u001b[0m\n",
      "├── \u001b[1;36mparse_config\u001b[0m\n",
      "├── \u001b[1;36mplots\u001b[0m\n",
      "└── \u001b[1;36mutils\u001b[0m\n",
      "\n",
      "8 directories, 3 files\n"
     ]
    }
   ],
   "source": [
    "# 源代码位置\n",
    "!tree -L 1 /Users/rui/miniconda3/envs/astro/lib/python3.11/site-packages/autophot"
   ]
  },
  {
   "cell_type": "code",
   "execution_count": null,
   "metadata": {},
   "outputs": [],
   "source": []
  }
 ],
 "metadata": {
  "kernelspec": {
   "display_name": "astro",
   "language": "python",
   "name": "python3"
  },
  "language_info": {
   "codemirror_mode": {
    "name": "ipython",
    "version": 3
   },
   "file_extension": ".py",
   "mimetype": "text/x-python",
   "name": "python",
   "nbconvert_exporter": "python",
   "pygments_lexer": "ipython3",
   "version": "3.11.4"
  },
  "orig_nbformat": 4
 },
 "nbformat": 4,
 "nbformat_minor": 2
}
