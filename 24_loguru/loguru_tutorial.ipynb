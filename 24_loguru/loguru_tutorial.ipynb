{
 "cells": [
  {
   "cell_type": "markdown",
   "metadata": {},
   "source": [
    "**loguru日志记录器**  \n",
    "@Author: Rui Zhu  \n",
    "@Time: 2023-09-05  \n",
    "@Follow: \n",
    "1. https://loguru.readthedocs.io/en/stable/#\n",
    "2. https://cloud.tencent.com/developer/article/1849382"
   ]
  },
  {
   "cell_type": "code",
   "execution_count": 16,
   "metadata": {},
   "outputs": [],
   "source": [
    "import sys\n",
    "from loguru import logger\n",
    "\n",
    "# 配置日志记录器的输出格式\n",
    "logger.remove()  # 移除默认的输出处理器\n",
    "handler_id = logger.add(\n",
    "    sink=sys.stdout,  level=\"INFO\", \n",
    "    format=\"<fg #4169E1>[astrokit]</> <fg #87CEEB>{time:YYYY-MM-DD HH:mm:ss}</> | <level>{message}</level>\"\n",
    "    )"
   ]
  },
  {
   "cell_type": "markdown",
   "metadata": {},
   "source": [
    "## 基本使用"
   ]
  },
  {
   "cell_type": "code",
   "execution_count": 17,
   "metadata": {},
   "outputs": [],
   "source": [
    "logger.trace(\"This message will not show up, as the default level is INFO\")"
   ]
  },
  {
   "cell_type": "code",
   "execution_count": 18,
   "metadata": {},
   "outputs": [],
   "source": [
    "logger.debug(\"This message will not show up, as the default level is INFO\")"
   ]
  },
  {
   "cell_type": "code",
   "execution_count": 20,
   "metadata": {},
   "outputs": [
    {
     "name": "stdout",
     "output_type": "stream",
     "text": [
      "\u001b[38;2;65;105;225m[astrokit]\u001b[0m \u001b[38;2;135;206;235m2023-09-05 11:25:17\u001b[0m | \u001b[1mThe default level is INFO, so this will show up\u001b[0m\n",
      "\u001b[38;2;65;105;225m[astrokit]\u001b[0m \u001b[38;2;135;206;235m2023-09-05 11:25:17\u001b[0m | \u001b[32m\u001b[1mThis is a success message\u001b[0m\n",
      "\u001b[38;2;65;105;225m[astrokit]\u001b[0m \u001b[38;2;135;206;235m2023-09-05 11:25:17\u001b[0m | \u001b[33m\u001b[1mThis is a warning message\u001b[0m\n",
      "\u001b[38;2;65;105;225m[astrokit]\u001b[0m \u001b[38;2;135;206;235m2023-09-05 11:25:17\u001b[0m | \u001b[31m\u001b[1mThis is an error message\u001b[0m\n",
      "\u001b[38;2;65;105;225m[astrokit]\u001b[0m \u001b[38;2;135;206;235m2023-09-05 11:25:17\u001b[0m | \u001b[41m\u001b[1mThis is a critical message\u001b[0m\n"
     ]
    }
   ],
   "source": [
    "logger.info(\"The default level is INFO, so this will show up\")\n",
    "logger.success(\"This is a success message\")\n",
    "logger.warning(\"This is a warning message\")\n",
    "logger.error(\"This is an error message\")\n",
    "logger.critical(\"This is a critical message\")"
   ]
  },
  {
   "cell_type": "code",
   "execution_count": null,
   "metadata": {},
   "outputs": [],
   "source": []
  }
 ],
 "metadata": {
  "kernelspec": {
   "display_name": "astro",
   "language": "python",
   "name": "python3"
  },
  "language_info": {
   "codemirror_mode": {
    "name": "ipython",
    "version": 3
   },
   "file_extension": ".py",
   "mimetype": "text/x-python",
   "name": "python",
   "nbconvert_exporter": "python",
   "pygments_lexer": "ipython3",
   "version": "3.11.4"
  },
  "orig_nbformat": 4
 },
 "nbformat": 4,
 "nbformat_minor": 2
}
