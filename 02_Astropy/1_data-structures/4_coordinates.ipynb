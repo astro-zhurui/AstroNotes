{
 "cells": [
  {
   "cell_type": "code",
   "execution_count": 38,
   "metadata": {},
   "outputs": [],
   "source": [
    "from astropy.io import fits\n",
    "from astropy.wcs import WCS\n",
    "from astropy.utils.data import get_pkg_data_filename\n",
    "import matplotlib.pyplot as plt\n",
    "import numpy as np\n",
    "\n",
    "# ^ 禁用同一单元格内的输出覆盖\n",
    "from IPython.core.interactiveshell import InteractiveShell\n",
    "InteractiveShell.ast_node_interactivity = \"all\""
   ]
  },
  {
   "cell_type": "code",
   "execution_count": 39,
   "metadata": {},
   "outputs": [
    {
     "name": "stdout",
     "output_type": "stream",
     "text": [
      "Filename: /Users/rui/miniforge3/lib/python3.10/site-packages/astropy/wcs/tests/data/j94f05bgq_flt.fits\n",
      "No.    Name      Ver    Type      Cards   Dimensions   Format\n",
      "  0  PRIMARY       1 PrimaryHDU     251   ()      \n",
      "  1  SCI           1 ImageHDU       184   (1, 1)   float32   \n",
      "  2  ERR           1 ImageHDU        69   ()      \n",
      "  3  DQ            1 ImageHDU        69   ()      \n",
      "  4  SCI           2 ImageHDU       184   (1, 1)   float32   \n",
      "  5  ERR           2 ImageHDU        69   ()      \n",
      "  6  DQ            2 ImageHDU        69   ()      \n"
     ]
    }
   ],
   "source": [
    "# 加载测试数据\n",
    "PATH_fn = get_pkg_data_filename('data/j94f05bgq_flt.fits', package='astropy.wcs.tests')\n",
    "hdul = fits.open(PATH_fn)\n",
    "hdul.info() # ! 只有1个pixel"
   ]
  },
  {
   "cell_type": "markdown",
   "metadata": {},
   "source": [
    "# pixel的x,y转成ra,dec"
   ]
  },
  {
   "cell_type": "code",
   "execution_count": 42,
   "metadata": {},
   "outputs": [
    {
     "data": {
      "text/plain": [
       "<SkyCoord (ICRS): (ra, dec) in deg\n",
       "    (5.52844243, -72.05207809)>"
      ]
     },
     "execution_count": 42,
     "metadata": {},
     "output_type": "execute_result"
    },
    {
     "data": {
      "text/plain": [
       "5.528442425094046"
      ]
     },
     "execution_count": 42,
     "metadata": {},
     "output_type": "execute_result"
    },
    {
     "data": {
      "text/latex": [
       "$-72^\\circ03{}^\\prime07.4811228{}^{\\prime\\prime}$"
      ],
      "text/plain": [
       "<Latitude -72.05207809 deg>"
      ]
     },
     "execution_count": 42,
     "metadata": {},
     "output_type": "execute_result"
    }
   ],
   "source": [
    "w = WCS(hdul[1].header) # 给定任意一个image的header\n",
    "sky = w.pixel_to_world(30, 40)\n",
    "sky\n",
    "sky.ra.value\n",
    "sky.dec"
   ]
  },
  {
   "cell_type": "markdown",
   "metadata": {},
   "source": [
    "# ra,dec转换成image上的x,y"
   ]
  },
  {
   "cell_type": "code",
   "execution_count": 45,
   "metadata": {},
   "outputs": [
    {
     "name": "stdout",
     "output_type": "stream",
     "text": [
      "30.00000214674978 39.999999958214815\n"
     ]
    }
   ],
   "source": [
    "w = WCS(hdul[1].header) # 给定任意一个image的header\n",
    "x, y = w.world_to_pixel(sky)\n",
    "print(x, y)"
   ]
  },
  {
   "cell_type": "code",
   "execution_count": null,
   "metadata": {},
   "outputs": [],
   "source": []
  }
 ],
 "metadata": {
  "interpreter": {
   "hash": "5eea53247e810f78670b3efb49d4ee0c411bcdc860cd9ca10a92989621294fb6"
  },
  "kernelspec": {
   "display_name": "Python 3.10.2 ('base')",
   "language": "python",
   "name": "python3"
  },
  "language_info": {
   "codemirror_mode": {
    "name": "ipython",
    "version": 3
   },
   "file_extension": ".py",
   "mimetype": "text/x-python",
   "name": "python",
   "nbconvert_exporter": "python",
   "pygments_lexer": "ipython3",
   "version": "3.10.5"
  },
  "orig_nbformat": 4
 },
 "nbformat": 4,
 "nbformat_minor": 2
}
