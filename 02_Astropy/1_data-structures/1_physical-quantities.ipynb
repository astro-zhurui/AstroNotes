{
 "cells": [
  {
   "cell_type": "code",
   "execution_count": 1,
   "metadata": {},
   "outputs": [],
   "source": [
    "import numpy as np"
   ]
  },
  {
   "cell_type": "markdown",
   "metadata": {},
   "source": [
    "******\n",
    "# 一、Constants 常数库"
   ]
  },
  {
   "cell_type": "code",
   "execution_count": 2,
   "metadata": {},
   "outputs": [],
   "source": [
    "from astropy import constants as const  # 从astropy中导入constants库，并将其重命名为const\n",
    "from astropy.constants import G  # 从astropy.constants库中引力引力常数G（这样每次使用G的时候就不用写const.G，而直接写G）"
   ]
  },
  {
   "cell_type": "code",
   "execution_count": 3,
   "metadata": {},
   "outputs": [
    {
     "name": "stdout",
     "output_type": "stream",
     "text": [
      "Help on package astropy.constants in astropy:\n",
      "\n",
      "NAME\n",
      "    astropy.constants\n",
      "\n",
      "DESCRIPTION\n",
      "    Contains astronomical and physical constants for use in Astropy or other\n",
      "    places.\n",
      "    \n",
      "    A typical use case might be::\n",
      "    \n",
      "        >>> from astropy.constants import c, m_e\n",
      "        >>> # ... define the mass of something you want the rest energy of as m ...\n",
      "        >>> m = m_e\n",
      "        >>> E = m * c**2\n",
      "        >>> E.to('MeV')  # doctest: +FLOAT_CMP\n",
      "        <Quantity 0.510998927603161 MeV>\n",
      "    \n",
      "    The following constants are available:\n",
      "    \n",
      "    ========== ============== ================ =========================\n",
      "       Name        Value            Unit       Description\n",
      "    ========== ============== ================ =========================\n",
      "        G        6.6743e-11     m3 / (kg s2)   Gravitational constant\n",
      "       N_A     6.02214076e+23    1 / (mol)     Avogadro's number\n",
      "        R        8.31446262     J / (K mol)    Gas constant\n",
      "       Ryd       10973731.6       1 / (m)      Rydberg constant\n",
      "        a0     5.29177211e-11        m         Bohr radius\n",
      "      alpha    0.00729735257                   Fine-structure constant\n",
      "       atm         101325            Pa        Standard atmosphere\n",
      "      b_wien   0.00289777196        m K        Wien wavelength displacement law constant\n",
      "        c        299792458        m / (s)      Speed of light in vacuum\n",
      "        e      1.60217663e-19        C         Electron charge\n",
      "       eps0    8.85418781e-12       F/m        Vacuum electric permittivity\n",
      "        g0        9.80665          m / s2      Standard acceleration of gravity\n",
      "        h      6.62607015e-34       J s        Planck constant\n",
      "       hbar    1.05457182e-34       J s        Reduced Planck constant\n",
      "       k_B      1.380649e-23      J / (K)      Boltzmann constant\n",
      "       m_e     9.1093837e-31         kg        Electron mass\n",
      "       m_n     1.6749275e-27         kg        Neutron mass\n",
      "       m_p     1.67262192e-27        kg        Proton mass\n",
      "       mu0     1.25663706e-06       N/A2       Vacuum magnetic permeability\n",
      "       muB     9.27401008e-24       J/T        Bohr magneton\n",
      "     sigma_T   6.65245873e-29        m2        Thomson scattering cross-section\n",
      "     sigma_sb  5.67037442e-08   W / (K4 m2)    Stefan-Boltzmann constant\n",
      "        u      1.66053907e-27        kg        Atomic mass\n",
      "     GM_earth   3.986004e+14     m3 / (s2)     Nominal Earth mass parameter\n",
      "      GM_jup   1.2668653e+17     m3 / (s2)     Nominal Jupiter mass parameter\n",
      "      GM_sun   1.3271244e+20     m3 / (s2)     Nominal solar mass parameter\n",
      "      L_bol0     3.0128e+28          W         Luminosity for absolute bolometric magnitude 0\n",
      "      L_sun      3.828e+26           W         Nominal solar luminosity\n",
      "     M_earth   5.97216787e+24        kg        Earth mass\n",
      "      M_jup    1.8981246e+27         kg        Jupiter mass\n",
      "      M_sun    1.98840987e+30        kg        Solar mass\n",
      "     R_earth      6378100            m         Nominal Earth equatorial radius\n",
      "      R_jup       71492000           m         Nominal Jupiter equatorial radius\n",
      "      R_sun      695700000           m         Nominal solar radius\n",
      "        au     1.49597871e+11        m         Astronomical Unit\n",
      "       kpc     3.08567758e+19        m         Kiloparsec\n",
      "        pc     3.08567758e+16        m         Parsec\n",
      "    ========== ============== ================ =========================\n",
      "\n",
      "PACKAGE CONTENTS\n",
      "    astropyconst13\n",
      "    astropyconst20\n",
      "    astropyconst40\n",
      "    cgs\n",
      "    codata2010\n",
      "    codata2014\n",
      "    codata2018\n",
      "    config\n",
      "    constant\n",
      "    iau2012\n",
      "    iau2015\n",
      "    si\n",
      "    tests (package)\n",
      "    utils\n",
      "\n",
      "SUBMODULES\n",
      "    codata\n",
      "    iaudata\n",
      "\n",
      "FUNCTIONS\n",
      "    set_enabled_constants(modname)\n",
      "        .. deprecated:: 4.0\n",
      "            The set_enabled_constants function is deprecated and may be removed in a future version.\n",
      "                Use Use 'astropy.physical_constants' and 'astropy.astronomical_constants' instead.\n",
      "        \n",
      "        Context manager to temporarily set values in the ``constants``\n",
      "        namespace to an older version.\n",
      "        See :ref:`astropy-constants-prior` for usage.\n",
      "        \n",
      "        Parameters\n",
      "        ----------\n",
      "        modname : {'astropyconst13', 'astropyconst20'}\n",
      "            Name of the module containing an older version.\n",
      "\n",
      "DATA\n",
      "    G = <<class 'astropy.constants.codata2018.CODATA2018...e-15 unit='m3 /...\n",
      "    GM_earth = <<class 'astropy.constants.iau2015.IAU2015'> nam...it='m3 /...\n",
      "    GM_jup = <<class 'astropy.constants.iau2015.IAU2015'> nam...it='m3 / s...\n",
      "    GM_sun = <<class 'astropy.constants.iau2015.IAU2015'> nam...it='m3 / s...\n",
      "    L_bol0 = <<class 'astropy.constants.iau2015.IAU2015'> nam...0.0 unit='...\n",
      "    L_sun = <<class 'astropy.constants.iau2015.IAU2015'> nam...0.0 unit='W...\n",
      "    M_earth = <<class 'astropy.constants.iau2015.IAU2015'> nam...eference=...\n",
      "    M_jup = <<class 'astropy.constants.iau2015.IAU2015'> nam...eference='I...\n",
      "    M_sun = <<class 'astropy.constants.iau2015.IAU2015'> nam...eference='I...\n",
      "    N_A = <<class 'astropy.constants.codata2018.CODATA2018...ainty=0.0 uni...\n",
      "    R = <<class 'astropy.constants.codata2018.CODATA2018...y=0.0 unit='J /...\n",
      "    R_earth = <<class 'astropy.constants.iau2015.IAU2015'> nam...0.0 unit=...\n",
      "    R_jup = <<class 'astropy.constants.iau2015.IAU2015'> nam...0.0 unit='m...\n",
      "    R_sun = <<class 'astropy.constants.iau2015.IAU2015'> nam...0.0 unit='m...\n",
      "    Ryd = <<class 'astropy.constants.codata2018.CODATA2018...nty=2.1e-05 u...\n",
      "    a0 = <<class 'astropy.constants.codata2018.CODATA2018...certainty=8e-2...\n",
      "    alpha = <<class 'astropy.constants.codata2018.CODATA2018...ertainty=1....\n",
      "    atm = <<class 'astropy.constants.codata2018.CODATA2018...ncertainty=0....\n",
      "    au = <<class 'astropy.constants.iau2015.IAU2015'> nam...=0.0 unit='m' ...\n",
      "    b_wien = <<class 'astropy.constants.codata2018.CODATA2018...certainty=...\n",
      "    c = <<class 'astropy.constants.codata2018.CODATA2018...rtainty=0.0 uni...\n",
      "    e = <<class 'astropy.constants.codata2018.EMCODATA20...uncertainty=0.0...\n",
      "    eps0 = <<class 'astropy.constants.codata2018.EMCODATA20...nty=1.3e-21 ...\n",
      "    g0 = <<class 'astropy.constants.codata2018.CODATA2018...tainty=0.0 uni...\n",
      "    h = <<class 'astropy.constants.codata2018.CODATA2018...certainty=0.0 u...\n",
      "    hbar = <<class 'astropy.constants.codata2018.CODATA2018...certainty=0....\n",
      "    k_B = <<class 'astropy.constants.codata2018.CODATA2018...rtainty=0.0 u...\n",
      "    kpc = <<class 'astropy.constants.iau2015.IAU2015'> nam...rtainty=0.0 u...\n",
      "    m_e = <<class 'astropy.constants.codata2018.CODATA2018...tainty=2.8e-4...\n",
      "    m_n = <<class 'astropy.constants.codata2018.CODATA2018...tainty=9.5e-3...\n",
      "    m_p = <<class 'astropy.constants.codata2018.CODATA2018...tainty=5.1e-3...\n",
      "    mu0 = <<class 'astropy.constants.codata2018.CODATA2018...ty=1.9e-16 un...\n",
      "    muB = <<class 'astropy.constants.codata2018.CODATA2018...nty=2.8e-33 u...\n",
      "    pc = <<class 'astropy.constants.iau2015.IAU2015'> nam...rtainty=0.0 un...\n",
      "    sigma_T = <<class 'astropy.constants.codata2018.CODATA2018...ertainty=...\n",
      "    sigma_sb = <<class 'astropy.constants.codata2018.CODATA2018...y=0.0 un...\n",
      "    u = <<class 'astropy.constants.codata2018.CODATA2018...ertainty=5e-37 ...\n",
      "\n",
      "FILE\n",
      "    /opt/anaconda3/lib/python3.8/site-packages/astropy/constants/__init__.py\n",
      "\n",
      "\n"
     ]
    }
   ],
   "source": [
    "help(const)  # 查看constants库中的帮助，显示其包含的全部物理量信息"
   ]
  },
  {
   "cell_type": "code",
   "execution_count": 4,
   "metadata": {},
   "outputs": [
    {
     "name": "stdout",
     "output_type": "stream",
     "text": [
      "  Name   = Speed of light in vacuum\n",
      "  Value  = 299792458.0\n",
      "  Uncertainty  = 0.0\n",
      "  Unit  = m / s\n",
      "  Reference = CODATA 2018\n"
     ]
    }
   ],
   "source": [
    "print(const.c)  # 输出光速"
   ]
  },
  {
   "cell_type": "code",
   "execution_count": 5,
   "metadata": {},
   "outputs": [
    {
     "name": "stdout",
     "output_type": "stream",
     "text": [
      "29979245800.0 cm / s\n"
     ]
    }
   ],
   "source": [
    "print(const.c.to('cm/s'))  # 单位转换"
   ]
  },
  {
   "cell_type": "markdown",
   "metadata": {},
   "source": [
    "******\n",
    "# 二、Units"
   ]
  },
  {
   "cell_type": "code",
   "execution_count": 6,
   "metadata": {},
   "outputs": [],
   "source": [
    "from astropy import units as u"
   ]
  },
  {
   "cell_type": "markdown",
   "metadata": {},
   "source": [
    "## 2.1 给数据加单位，使之成为一个物理量"
   ]
  },
  {
   "cell_type": "code",
   "execution_count": 7,
   "metadata": {},
   "outputs": [
    {
     "name": "stdout",
     "output_type": "stream",
     "text": [
      "42.0 m ，l的数据类型： <class 'astropy.units.quantity.Quantity'>\n",
      "2.0 s ，ls中的每一个元素的数据类型： <class 'astropy.units.quantity.Quantity'>\n",
      "2.0 Hz\n",
      "42.0 | <class 'numpy.float64'>\n",
      "m | <class 'astropy.units.core.IrreducibleUnit'>\n"
     ]
    }
   ],
   "source": [
    "l = 42.0 * u.meter  # 给浮点数42.0加上单位：m\n",
    "print(l, \"，l的数据类型：\", type(l))\n",
    "\n",
    "ls = [1., 2., 3.] * u.s  # 给列表中的每一个元素都加上单位\n",
    "print(ls[1], \"，ls中的每一个元素的数据类型：\", type(ls[1]))\n",
    "\n",
    "nls = np.array([1, 2, 3]) * u.Hertz  # numpy数组同样适用\n",
    "print(nls[1])\n",
    "\n",
    "print(l.value, '|', type(l.value)) # 分离物理量的数值部分\n",
    "print(l.unit, '|', type(l.unit))  # 分离物理量的单位部分"
   ]
  },
  {
   "cell_type": "markdown",
   "metadata": {},
   "source": [
    "## 2.2 带单位的数据之间的运算，与decompose()方法"
   ]
  },
  {
   "cell_type": "code",
   "execution_count": 8,
   "metadata": {},
   "outputs": [
    {
     "name": "stdout",
     "output_type": "stream",
     "text": [
      "a1: 0.471875 m / s\n",
      "a2: 0.022986744310780783 km s / m\n",
      "a3: 22.986744310780782 s\n",
      "[Unit(\"Bq\"), Unit(\"Hz\"), Unit(\"2.7027e-11 Ci\")]\n",
      "Bq <class 'astropy.units.core.Unit'>\n"
     ]
    }
   ],
   "source": [
    "a1 = 15.1 * u.meter / (32.0 * u.second)\n",
    "print('a1:', a1)\n",
    "\n",
    "a2 = 3.0 * u.kilometer / (130.51 * u.meter / u.second) # 可见直接运算没有处理单位\n",
    "print('a2:',a2)\n",
    "\n",
    "a3 = a2.decompose()  # decompose方法可以化简单位\n",
    "print('a3:', a3)\n",
    "\n",
    "ps = (u.s ** -1).compose()  # decompose()方法化简单位后会与已知的单位进行匹配，找到量纲相同的单位，返回其列表\n",
    "print(ps)\n",
    "print(ps[0], type(ps[0]))"
   ]
  },
  {
   "cell_type": "markdown",
   "metadata": {},
   "source": [
    "## 2.3 to()方法：单位转换 （单位制的转换见2.6）"
   ]
  },
  {
   "cell_type": "code",
   "execution_count": 9,
   "metadata": {},
   "outputs": [
    {
     "name": "stdout",
     "output_type": "stream",
     "text": [
      "1.0 pc | 30856775814671.914 km\n",
      "\n",
      "某一光子的波长为： 1000.0 um\n",
      "\n",
      "对应的频率为： 299792458000.0 Hz\n"
     ]
    }
   ],
   "source": [
    "x = 1.0 * u.parsec  # 创建x=1pc\n",
    "x1 = x.to(u.km)  # 将x的单位转换成km\n",
    "print(x, '|', x1)\n",
    "\n",
    "# to()方法还可以进行“等价的单位转换”，例如波长和频率之间的转换\n",
    "wavelength = 1000 * u.um\n",
    "print('\\n某一光子的波长为：', wavelength)\n",
    "wavefrequency = wavelength.to(u.Hz, equivalencies=u.spectral())\n",
    "print('\\n对应的频率为：', wavefrequency)"
   ]
  },
  {
   "cell_type": "markdown",
   "metadata": {},
   "source": [
    "## 2.4 创建新的单位"
   ]
  },
  {
   "cell_type": "code",
   "execution_count": 10,
   "metadata": {},
   "outputs": [
    {
     "name": "stdout",
     "output_type": "stream",
     "text": [
      "cm / s <class 'astropy.units.core.CompositeUnit'>\n",
      "mi / h <class 'astropy.units.core.CompositeUnit'>\n",
      "42.0 cm / s <class 'astropy.units.quantity.Quantity'>\n",
      "0.939513242662849 mi / h <class 'astropy.units.quantity.Quantity'>\n"
     ]
    }
   ],
   "source": [
    "from astropy.units import imperial  #  imperial的意思是：英制的，即从astropy.units中导入英制单位imperial库，以便使用英制单位\n",
    "\n",
    "cms = u.cm / u.s  # 创建导出单位cm/s\n",
    "print(cms, type(cms))\n",
    "\n",
    "mph = imperial.mile / u.hour  # 使用英制单位英里，创建导出单位\n",
    "print(mph, type(mph))\n",
    "\n",
    "# 使用新创建的导出单位\n",
    "q = 42.0 * cms\n",
    "q1 = q.to(mph)  \n",
    "print(q, type(q))\n",
    "print(q1, type(q1))"
   ]
  },
  {
   "cell_type": "markdown",
   "metadata": {},
   "source": [
    "## 2.5 无量纲量"
   ]
  },
  {
   "cell_type": "code",
   "execution_count": 11,
   "metadata": {},
   "outputs": [
    {
     "name": "stdout",
     "output_type": "stream",
     "text": [
      "1.0 \n",
      "q的数值是： 1.0 \n",
      "q的单位是： \n",
      "<class 'astropy.units.core.CompositeUnit'>\n"
     ]
    },
    {
     "data": {
      "text/plain": [
       "True"
      ]
     },
     "execution_count": 11,
     "metadata": {},
     "output_type": "execute_result"
    }
   ],
   "source": [
    "q = 1.0 * u.dimensionless_unscaled  #数据的单位是unscaled dimensionless unit\n",
    "print(q, \"\\nq的数值是：\", q.value, \"\\nq的单位是：\", q.unit)\n",
    "print(type(q.unit))\n",
    "q.unit == u.meter / u.meter"
   ]
  },
  {
   "cell_type": "markdown",
   "metadata": {},
   "source": [
    "## 2.6 SI单位制与CGS单位制的转换"
   ]
  },
  {
   "cell_type": "code",
   "execution_count": 12,
   "metadata": {},
   "outputs": [
    {
     "name": "stdout",
     "output_type": "stream",
     "text": [
      "5.965229612094153e+30 kg\n",
      "5.965229612094153e+33 g\n",
      "5.965229612094153e+30 kg\n"
     ]
    }
   ],
   "source": [
    "Mass_star = 3 * const.M_sun\n",
    "print(Mass_star)\n",
    "\n",
    "Mass_star_cgs = Mass_star.cgs  # 将物理量转换成cgs单位制\n",
    "print(Mass_star_cgs)\n",
    "\n",
    "Mass_star_si = Mass_star_cgs.si  # 将物理量转换成si单位制\n",
    "print(Mass_star_si)"
   ]
  },
  {
   "cell_type": "markdown",
   "metadata": {},
   "source": [
    "## 2.7 对数单位（例如：mag, dex, dB）"
   ]
  },
  {
   "cell_type": "code",
   "execution_count": 13,
   "metadata": {},
   "outputs": [
    {
     "name": "stdout",
     "output_type": "stream",
     "text": [
      "-2.5 mag(ct / s) \n",
      "q1的数值是： -2.5 \n",
      "q1的单位是： mag(ct / s)\n",
      "\n",
      "\n",
      "-0.5 mag \n",
      "q2的数值是： -0.5 \n",
      "q2的单位是： mag\n",
      "\n",
      "\n",
      "27420.011165737313 cm / s2 \n",
      "q3的数值是： 27420.011165737313 \n",
      "q3的单位是： cm / s2\n",
      "\n",
      "\n",
      "4.438067627303133 dex(cm / s2) \n",
      "q4的数值是： 4.438067627303133 \n",
      "q4的单位是： dex(cm / s2)\n",
      "\n",
      "\n",
      "检验q3与q4的关系： 27420.011165737305\n"
     ]
    }
   ],
   "source": [
    "q1 = -2.5 * u.mag(u.ct / u.s)\n",
    "print(q1, \"\\nq1的数值是：\", q1.value, \"\\nq1的单位是：\", q1.unit)\n",
    "print('\\n')\n",
    "\n",
    "q2 = -.5 * u.mag\n",
    "print(q2, \"\\nq2的数值是：\", q2.value, \"\\nq2的单位是：\", q2.unit)\n",
    "print('\\n')\n",
    "\n",
    "q3 = (const.G * u.M_sun / u.R_sun**2).cgs\n",
    "print(q3, \"\\nq3的数值是：\", q3.value, \"\\nq3的单位是：\", q3.unit)\n",
    "print('\\n')\n",
    "\n",
    "q4 = u.Dex((const.G * u.M_sun / u.R_sun**2).cgs)  #dex是decimal exponent的缩写，q4=lg(q3)\n",
    "print(q4, \"\\nq4的数值是：\", q4.value, \"\\nq4的单位是：\", q4.unit)\n",
    "print('\\n')\n",
    "\n",
    "q5 = 10 ** q4.value\n",
    "print('检验q3与q4的关系：', q5)"
   ]
  },
  {
   "cell_type": "markdown",
   "metadata": {},
   "source": [
    "## 2.8 数据的格式化输出"
   ]
  },
  {
   "cell_type": "code",
   "execution_count": 14,
   "metadata": {
    "tags": []
   },
   "outputs": [
    {
     "name": "stdout",
     "output_type": "stream",
     "text": [
      "0.472 m / s \n",
      " 0.472 m s-1\n"
     ]
    }
   ],
   "source": [
    "q = 15.1 * u.meter / (32.0 * u.second)\n",
    "str1 = f\"{q:0.03f}\"  # 将q保留3位小数输出成为字符串\n",
    "str2 = f\"{q.value:0.03f} {q.unit:FITS}\"  # 分别对数值和单位进行规范\n",
    "print(str1, \"\\n\", str2)"
   ]
  },
  {
   "cell_type": "code",
   "execution_count": null,
   "metadata": {},
   "outputs": [],
   "source": []
  }
 ],
 "metadata": {
  "kernelspec": {
   "display_name": "Python 3",
   "language": "python",
   "name": "python3"
  },
  "language_info": {
   "codemirror_mode": {
    "name": "ipython",
    "version": 3
   },
   "file_extension": ".py",
   "mimetype": "text/x-python",
   "name": "python",
   "nbconvert_exporter": "python",
   "pygments_lexer": "ipython3",
   "version": "3.8.8"
  },
  "toc": {
   "base_numbering": 1,
   "nav_menu": {},
   "number_sections": true,
   "sideBar": true,
   "skip_h1_title": false,
   "title_cell": "Table of Contents",
   "title_sidebar": "Contents",
   "toc_cell": false,
   "toc_position": {},
   "toc_section_display": true,
   "toc_window_display": true
  }
 },
 "nbformat": 4,
 "nbformat_minor": 2
}
