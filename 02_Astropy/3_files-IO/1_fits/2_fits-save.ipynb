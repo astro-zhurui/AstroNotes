{
 "cells": [
  {
   "cell_type": "markdown",
   "metadata": {},
   "source": [
    "**FITS文件的保存与创建**  \n",
    "@Author: Ray  \n",
    "@Time: 2022.09.17  \n",
    "@Cite: https://docs.astropy.org/en/stable/io/fits/index.html#save-file-changes"
   ]
  },
  {
   "cell_type": "code",
   "execution_count": 1,
   "metadata": {},
   "outputs": [
    {
     "name": "stdout",
     "output_type": "stream",
     "text": [
      "示例文件存放在 => /Users/rui/Code/1_Astronote/02_Astropy/example-data/3_1_2_fits-save\n"
     ]
    }
   ],
   "source": [
    "import numpy as np\n",
    "from pathlib import Path\n",
    "\n",
    "from astropy.io import fits\n",
    "\n",
    "# ^ 示例的输出文件所在路径\n",
    "PATH_example = Path(\"/Users/rui/Code/1_Astronote/02_Astropy/example-data\") / '3_1_2_fits-save'\n",
    "PATH_example.mkdir(parents=True, exist_ok=True)\n",
    "print(f\"示例文件存放在 => {PATH_example}\")"
   ]
  },
  {
   "cell_type": "markdown",
   "metadata": {},
   "source": [
    "> FITS文件的数据结构\n",
    "\n",
    "FITS文件支持多层扩展，成为FITS Cube\n",
    "\n",
    "* [PrimeryHDU](https://docs.astropy.org/en/stable/io/fits/api/hdus.html?highlight=PrimaryHDU#astropy.io.fits.PrimaryHDU)\n",
    "    1. 每个FITS文件有且只有一个PrimaryHDU, 第0个扩展必须是PrimaryHDU\n",
    "    2. PrimaryHDU可以存储image，但不可以存table（因为image数据只是简单的数组，而table有更复杂的数据结构）\n",
    "* [ImageHDU](https://docs.astropy.org/en/stable/io/fits/api/images.html#astropy.io.fits.ImageHDU)\n",
    "    1. 图像数据专用的FITS扩展\n",
    "* [BinTableHDU](https://docs.astropy.org/en/stable/io/fits/api/tables.html#astropy.io.fits.BinTableHDU)\n",
    "    1. 二进制表格专用的HDU\n",
    "* [TableHDU](https://docs.astropy.org/en/stable/io/fits/api/tables.html#astropy.io.fits.TableHDU)\n",
    "    1. ASCII表专用的HDU，比存成二进制更大，一般不用\n",
    "\n",
    "\n",
    "｜ [BinTableHDU和TableHDU的区别](https://docs.astropy.org/en/stable/io/fits/usage/unfamiliar.html?highlight=TableHDU#creating-an-ascii-table)：\n",
    "  * FITS标准存储表格时支持2种格式: binary（二进制表格）和ASCII表\n",
    "  * ASCII表中，由于数据存成人们可读的形式，因此花费更多空间和额外的处理过程，早期的fits会存这个格式\n",
    "  * 现在推荐使用二进制表格"
   ]
  },
  {
   "cell_type": "markdown",
   "metadata": {},
   "source": [
    "---\n",
    "## 创建空的HDU"
   ]
  },
  {
   "cell_type": "code",
   "execution_count": 2,
   "metadata": {},
   "outputs": [
    {
     "name": "stdout",
     "output_type": "stream",
     "text": [
      "None\n",
      "None\n"
     ]
    }
   ],
   "source": [
    "hdu_primary = fits.PrimaryHDU()\n",
    "hdu_image = fits.ImageHDU()\n",
    "print(hdu_primary.data)\n",
    "print(hdu_image.data)"
   ]
  },
  {
   "cell_type": "code",
   "execution_count": 3,
   "metadata": {},
   "outputs": [
    {
     "data": {
      "text/plain": [
       "SIMPLE  =                    T / conforms to FITS standard                      \n",
       "BITPIX  =                    8 / array data type                                \n",
       "NAXIS   =                    0 / number of array dimensions                     \n",
       "EXTEND  =                    T                                                  "
      ]
     },
     "execution_count": 3,
     "metadata": {},
     "output_type": "execute_result"
    }
   ],
   "source": [
    "hdu_primary.header  # 默认PrimryHDU的header"
   ]
  },
  {
   "cell_type": "code",
   "execution_count": 4,
   "metadata": {},
   "outputs": [
    {
     "data": {
      "text/plain": [
       "XTENSION= 'IMAGE   '           / Image extension                                \n",
       "BITPIX  =                    8 / array data type                                \n",
       "NAXIS   =                    0 / number of array dimensions                     \n",
       "PCOUNT  =                    0 / number of parameters                           \n",
       "GCOUNT  =                    1 / number of groups                               "
      ]
     },
     "execution_count": 4,
     "metadata": {},
     "output_type": "execute_result"
    }
   ],
   "source": [
    "hdu_image.header  # 默认ImageHDU的header"
   ]
  },
  {
   "cell_type": "markdown",
   "metadata": {},
   "source": [
    "---\n",
    "## 创建FITS for Image"
   ]
  },
  {
   "cell_type": "code",
   "execution_count": 5,
   "metadata": {},
   "outputs": [
    {
     "data": {
      "text/plain": [
       "array([[ 0.,  1.,  2.,  3.,  4.,  5.,  6.,  7.,  8.,  9.],\n",
       "       [10., 11., 12., 13., 14., 15., 16., 17., 18., 19.],\n",
       "       [20., 21., 22., 23., 24., 25., 26., 27., 28., 29.],\n",
       "       [30., 31., 32., 33., 34., 35., 36., 37., 38., 39.],\n",
       "       [40., 41., 42., 43., 44., 45., 46., 47., 48., 49.],\n",
       "       [50., 51., 52., 53., 54., 55., 56., 57., 58., 59.],\n",
       "       [60., 61., 62., 63., 64., 65., 66., 67., 68., 69.],\n",
       "       [70., 71., 72., 73., 74., 75., 76., 77., 78., 79.],\n",
       "       [80., 81., 82., 83., 84., 85., 86., 87., 88., 89.],\n",
       "       [90., 91., 92., 93., 94., 95., 96., 97., 98., 99.]])"
      ]
     },
     "execution_count": 5,
     "metadata": {},
     "output_type": "execute_result"
    }
   ],
   "source": [
    "# 生成实验用的图像数组\n",
    "data = np.arange(100.).reshape(10, 10)\n",
    "data"
   ]
  },
  {
   "cell_type": "markdown",
   "metadata": {},
   "source": [
    "### 将图像保存在PrimaryHDU"
   ]
  },
  {
   "cell_type": "code",
   "execution_count": 6,
   "metadata": {},
   "outputs": [],
   "source": [
    "hdu = fits.PrimaryHDU(data=data)  # 将数据存进HDU\n",
    "hdul = fits.HDUList([hdu])  # 将此HDU添加到FITS文件的HDUList中\n",
    "hdul.writeto(PATH_example / 'new1.fits', overwrite=True)  # 将HDUList写入FITS文件"
   ]
  },
  {
   "cell_type": "code",
   "execution_count": 7,
   "metadata": {},
   "outputs": [
    {
     "name": "stdout",
     "output_type": "stream",
     "text": [
      "Filename: /Users/rui/Code/1_Astronote/02_Astropy/example-data/3_1_2_fits-save/new1.fits\n",
      "No.    Name      Ver    Type      Cards   Dimensions   Format\n",
      "  0  PRIMARY       1 PrimaryHDU       6   (10, 10)   float64   \n"
     ]
    }
   ],
   "source": [
    "# 检查一下刚刚创建的FITS\n",
    "hdul_check = fits.open(PATH_example / 'new1.fits')\n",
    "hdul_check.info()"
   ]
  },
  {
   "cell_type": "markdown",
   "metadata": {},
   "source": [
    "### 将图像保存在ImageHDU"
   ]
  },
  {
   "cell_type": "code",
   "execution_count": 8,
   "metadata": {},
   "outputs": [
    {
     "name": "stdout",
     "output_type": "stream",
     "text": [
      "Filename: (No file associated with this HDUList)\n",
      "No.    Name      Ver    Type      Cards   Dimensions   Format\n",
      "  0  PRIMARY       1 PrimaryHDU       4   ()      \n",
      "  1  TEST_IMAGE    1 ImageHDU         8   (10, 10)   float64   \n"
     ]
    }
   ],
   "source": [
    "hdu_primary = fits.PrimaryHDU()  # FITS文件的第0个扩展必须是PrimaryHDU, 不然存进文件的时候会报错\n",
    "hdu_image = fits.ImageHDU(data=data, name='test_image')\n",
    "hdul = fits.HDUList([hdu_primary, hdu_image])\n",
    "hdul.info()"
   ]
  },
  {
   "cell_type": "markdown",
   "metadata": {},
   "source": [
    "---\n",
    "## 创建FITS for Table  \n",
    "* Table不能存进PrimaryHDU, 因为其结构的复杂"
   ]
  },
  {
   "cell_type": "markdown",
   "metadata": {},
   "source": [
    "### 直接将Table存进FITS（快速方法）\n",
    "* Table的`write()`函数会自动将astropy的Table存进FITS的第1个扩展"
   ]
  },
  {
   "cell_type": "code",
   "execution_count": 9,
   "metadata": {},
   "outputs": [
    {
     "data": {
      "text/html": [
       "<div><i>Table length=2</i>\n",
       "<table id=\"table4572661984\" class=\"table-striped table-bordered table-condensed\">\n",
       "<thead><tr><th>a</th><th>b</th><th>c</th></tr></thead>\n",
       "<thead><tr><th>int64</th><th>int64</th><th>int64</th></tr></thead>\n",
       "<tr><td>1</td><td>4</td><td>7</td></tr>\n",
       "<tr><td>2</td><td>5</td><td>8</td></tr>\n",
       "</table></div>"
      ],
      "text/plain": [
       "<Table length=2>\n",
       "  a     b     c  \n",
       "int64 int64 int64\n",
       "----- ----- -----\n",
       "    1     4     7\n",
       "    2     5     8"
      ]
     },
     "execution_count": 9,
     "metadata": {},
     "output_type": "execute_result"
    }
   ],
   "source": [
    "from astropy.table import Table\n",
    "tbl = Table([[1, 2], [4, 5], [7, 8]], names=('a', 'b', 'c'))\n",
    "tbl"
   ]
  },
  {
   "cell_type": "code",
   "execution_count": 10,
   "metadata": {},
   "outputs": [],
   "source": [
    "tbl.write(PATH_example / 'new3.fits', overwrite=True)"
   ]
  },
  {
   "cell_type": "code",
   "execution_count": 11,
   "metadata": {},
   "outputs": [
    {
     "name": "stdout",
     "output_type": "stream",
     "text": [
      "Filename: /Users/rui/Code/1_Astronote/02_Astropy/example-data/3_1_2_fits-save/new3.fits\n",
      "No.    Name      Ver    Type      Cards   Dimensions   Format\n",
      "  0  PRIMARY       1 PrimaryHDU       4   ()      \n",
      "  1                1 BinTableHDU     14   2R x 3C   [K, K, K]   \n"
     ]
    }
   ],
   "source": [
    "# 检查一下刚刚创建的FITS\n",
    "hdul_check = fits.open(PATH_example / 'new3.fits', overwrite=True)\n",
    "hdul_check.info()"
   ]
  },
  {
   "cell_type": "markdown",
   "metadata": {},
   "source": [
    "### 将一列一列的数据存进FITS（需要知道的方法）"
   ]
  },
  {
   "cell_type": "code",
   "execution_count": 12,
   "metadata": {},
   "outputs": [
    {
     "data": {
      "text/plain": [
       "name = 'a'; format = 'K'"
      ]
     },
     "execution_count": 12,
     "metadata": {},
     "output_type": "execute_result"
    }
   ],
   "source": [
    "# 将数组存进fits列\n",
    "c1 = fits.Column(name='a', array=np.array([1, 2]), format='K')\n",
    "c2 = fits.Column(name='b', array=np.array([4, 5]), format='K')\n",
    "c3 = fits.Column(name='c', array=np.array([7, 8]), format='K')\n",
    "c1"
   ]
  },
  {
   "cell_type": "code",
   "execution_count": 13,
   "metadata": {},
   "outputs": [
    {
     "data": {
      "text/plain": [
       "FITS_rec([(1, 4, 7), (2, 5, 8)],\n",
       "         dtype=(numpy.record, [('a', '<i8'), ('b', '<i8'), ('c', '<i8')]))"
      ]
     },
     "execution_count": 13,
     "metadata": {},
     "output_type": "execute_result"
    }
   ],
   "source": [
    "# 将这些列存进一个hdu\n",
    "hdu = fits.BinTableHDU.from_columns([c1, c2, c3])\n",
    "hdu.data"
   ]
  },
  {
   "cell_type": "code",
   "execution_count": 14,
   "metadata": {},
   "outputs": [],
   "source": [
    "# 快捷方法，自动将hdu(Table)写入FITS\n",
    "hdu.writeto(PATH_example / 'new4.fits', overwrite=True)"
   ]
  },
  {
   "cell_type": "code",
   "execution_count": 15,
   "metadata": {},
   "outputs": [
    {
     "name": "stdout",
     "output_type": "stream",
     "text": [
      "Filename: /Users/rui/Code/1_Astronote/02_Astropy/example-data/3_1_2_fits-save/new4.fits\n",
      "No.    Name      Ver    Type      Cards   Dimensions   Format\n",
      "  0  PRIMARY       1 PrimaryHDU       4   ()      \n",
      "  1                1 BinTableHDU     14   2R x 3C   [K, K, K]   \n"
     ]
    }
   ],
   "source": [
    "# 检查一下刚刚创建的FITS\n",
    "hdul_check = fits.open(PATH_example / 'new4.fits', overwrite=True)\n",
    "hdul_check.info()"
   ]
  },
  {
   "cell_type": "markdown",
   "metadata": {},
   "source": [
    "### 写入Table的扩展（标准方法）"
   ]
  },
  {
   "cell_type": "code",
   "execution_count": 16,
   "metadata": {},
   "outputs": [
    {
     "data": {
      "text/html": [
       "<div><i>Table length=2</i>\n",
       "<table id=\"table5407547712\" class=\"table-striped table-bordered table-condensed\">\n",
       "<thead><tr><th>a</th><th>b</th><th>c</th></tr></thead>\n",
       "<thead><tr><th>int64</th><th>int64</th><th>int64</th></tr></thead>\n",
       "<tr><td>1</td><td>4</td><td>7</td></tr>\n",
       "<tr><td>2</td><td>5</td><td>8</td></tr>\n",
       "</table></div>"
      ],
      "text/plain": [
       "<Table length=2>\n",
       "  a     b     c  \n",
       "int64 int64 int64\n",
       "----- ----- -----\n",
       "    1     4     7\n",
       "    2     5     8"
      ]
     },
     "execution_count": 16,
     "metadata": {},
     "output_type": "execute_result"
    }
   ],
   "source": [
    "# 创建一个Table\n",
    "tbl = Table([[1, 2], [4, 5], [7, 8]], names=('a', 'b', 'c'))\n",
    "tbl"
   ]
  },
  {
   "cell_type": "code",
   "execution_count": 17,
   "metadata": {},
   "outputs": [
    {
     "data": {
      "text/plain": [
       "AUTHOR  = 'Ray     '                                                            "
      ]
     },
     "execution_count": 17,
     "metadata": {},
     "output_type": "execute_result"
    }
   ],
   "source": [
    "# 创建header\n",
    "header = fits.Header()  # 创建一个空header\n",
    "header['Author'] = 'Ray'\n",
    "header"
   ]
  },
  {
   "cell_type": "markdown",
   "metadata": {},
   "source": [
    "使用`fits.TableHDU`\n",
    "* data不能是Table数据类型，只能是数组"
   ]
  },
  {
   "cell_type": "code",
   "execution_count": 18,
   "metadata": {},
   "outputs": [
    {
     "name": "stdout",
     "output_type": "stream",
     "text": [
      "XTENSION= 'TABLE   '           / ASCII table extension                          \n",
      "BITPIX  =                    8 / array data type                                \n",
      "NAXIS   =                    2 / number of array dimensions                     \n",
      "NAXIS1  =                   63 / length of dimension 1                          \n",
      "NAXIS2  =                    2 / length of dimension 2                          \n",
      "PCOUNT  =                    0 / number of group parameters                     \n",
      "GCOUNT  =                    1 / number of groups                               \n",
      "TFIELDS =                    3 / number of table fields                         \n",
      "AUTHOR  = 'Ray     '                                                            \n",
      "EXTNAME = 'TABLE1  '           / extension name                                 \n",
      "TTYPE1  = 'a       '                                                            \n",
      "TFORM1  = 'I21     '                                                            \n",
      "TBCOL1  =                    1                                                  \n",
      "TTYPE2  = 'b       '                                                            \n",
      "TFORM2  = 'I21     '                                                            \n",
      "TBCOL2  =                   22                                                  \n",
      "TTYPE3  = 'c       '                                                            \n",
      "TFORM3  = 'I21     '                                                            \n",
      "TBCOL3  =                   43                                                  \n"
     ]
    },
    {
     "data": {
      "text/plain": [
       "FITS_rec([(1, 4, 7), (2, 5, 8)],\n",
       "         dtype=(numpy.record, [('a', 'S21'), ('b', 'S21'), ('c', 'S21')]))"
      ]
     },
     "execution_count": 18,
     "metadata": {},
     "output_type": "execute_result"
    }
   ],
   "source": [
    "hdu_table = fits.TableHDU(data=tbl.as_array(), header=header, name='table1')\n",
    "print(repr(hdu_table.header))  # 注意参数xtension\n",
    "hdu_table.data"
   ]
  },
  {
   "cell_type": "markdown",
   "metadata": {},
   "source": [
    "使用`fits.BinTableHDU`\n",
    "* data可以直接是Table"
   ]
  },
  {
   "cell_type": "code",
   "execution_count": 19,
   "metadata": {},
   "outputs": [
    {
     "name": "stdout",
     "output_type": "stream",
     "text": [
      "XTENSION= 'BINTABLE'           / binary table extension                         \n",
      "BITPIX  =                    8 / array data type                                \n",
      "NAXIS   =                    2 / number of array dimensions                     \n",
      "NAXIS1  =                   24 / length of dimension 1                          \n",
      "NAXIS2  =                    2 / length of dimension 2                          \n",
      "PCOUNT  =                    0 / number of group parameters                     \n",
      "GCOUNT  =                    1 / number of groups                               \n",
      "TFIELDS =                    3 / number of table fields                         \n",
      "AUTHOR  = 'Ray     '                                                            \n",
      "EXTNAME = 'TABLE2  '           / extension name                                 \n",
      "TTYPE1  = 'a       '                                                            \n",
      "TFORM1  = 'K       '                                                            \n",
      "TTYPE2  = 'b       '                                                            \n",
      "TFORM2  = 'K       '                                                            \n",
      "TTYPE3  = 'c       '                                                            \n",
      "TFORM3  = 'K       '                                                            \n"
     ]
    },
    {
     "data": {
      "text/plain": [
       "FITS_rec([(1, 4, 7), (2, 5, 8)],\n",
       "         dtype=(numpy.record, [('a', '<i8'), ('b', '<i8'), ('c', '<i8')]))"
      ]
     },
     "execution_count": 19,
     "metadata": {},
     "output_type": "execute_result"
    }
   ],
   "source": [
    "hdu_bintable = fits.BinTableHDU(data=tbl, header=header, name='table2')\n",
    "print(repr(hdu_bintable.header))  # 注意参数xtension\n",
    "hdu_bintable.data\n"
   ]
  },
  {
   "cell_type": "code",
   "execution_count": 20,
   "metadata": {},
   "outputs": [],
   "source": [
    "hdu_primary = fits.PrimaryHDU()  # 创建一个空的PrimaryHDU\n",
    "hdul = fits.HDUList([hdu_primary, hdu_table, hdu_bintable])  # 将hdu放进hdulist\n",
    "hdul.writeto(PATH_example / 'new5.fits', overwrite=True)  # 将HDUList存进fits文件中"
   ]
  },
  {
   "cell_type": "code",
   "execution_count": 21,
   "metadata": {},
   "outputs": [
    {
     "name": "stdout",
     "output_type": "stream",
     "text": [
      "Filename: /Users/rui/Code/1_Astronote/02_Astropy/example-data/3_1_2_fits-save/new5.fits\n",
      "No.    Name      Ver    Type      Cards   Dimensions   Format\n",
      "  0  PRIMARY       1 PrimaryHDU       4   ()      \n",
      "  1  TABLE1        1 TableHDU        19   2R x 3C   [I21, I21, I21]   \n",
      "  2  TABLE2        1 BinTableHDU     16   2R x 3C   [K, K, K]   \n"
     ]
    }
   ],
   "source": [
    "# 检查一下刚刚创建的FITS\n",
    "hdul_check = fits.open(PATH_example / 'new5.fits', overwrite=True)\n",
    "hdul_check.info()"
   ]
  },
  {
   "cell_type": "markdown",
   "metadata": {},
   "source": [
    "## 创建HDUList并写入FITS"
   ]
  },
  {
   "cell_type": "code",
   "execution_count": 22,
   "metadata": {},
   "outputs": [],
   "source": [
    "# 产生收集的数据\n",
    "image_data = np.arange(100.).reshape(10, 10)\n",
    "table_data = Table([[1, 2], [4, 5], [7, 8]], names=('a', 'b', 'c'))"
   ]
  },
  {
   "cell_type": "code",
   "execution_count": 23,
   "metadata": {},
   "outputs": [],
   "source": [
    "header = fits.Header()  # 创建一个空Header\n",
    "hdu_primary = fits.PrimaryHDU()  # 创建一个主HDU\n",
    "hdu_image = fits.ImageHDU(data=image_data, header=header, name=\"my_image\")  # 创建图像hdu\n",
    "hdu_table = fits.BinTableHDU(data=table_data, header=header, name=\"my_table\")  # 创建tableHDU\n",
    "\n",
    "hdul = fits.HDUList([hdu_primary, hdu_image, hdu_table])  # 创建hdul list\n",
    "\n",
    "hdul.writeto(PATH_example / 'new6.fits', overwrite=True)  # 将hdul写入fits文件"
   ]
  },
  {
   "cell_type": "code",
   "execution_count": 24,
   "metadata": {},
   "outputs": [
    {
     "name": "stdout",
     "output_type": "stream",
     "text": [
      "Filename: /Users/rui/Code/1_Astronote/02_Astropy/example-data/3_1_2_fits-save/new6.fits\n",
      "No.    Name      Ver    Type      Cards   Dimensions   Format\n",
      "  0  PRIMARY       1 PrimaryHDU       4   ()      \n",
      "  1  MY_IMAGE      1 ImageHDU         8   (10, 10)   float64   \n",
      "  2  MY_TABLE      1 BinTableHDU     15   2R x 3C   [K, K, K]   \n"
     ]
    }
   ],
   "source": [
    "# 检查一下刚刚创建的FITS\n",
    "hdul_check = fits.open(PATH_example / 'new6.fits', overwrite=True)\n",
    "hdul_check.info()"
   ]
  }
 ],
 "metadata": {
  "kernelspec": {
   "display_name": "Python 3.10.6 ('astro')",
   "language": "python",
   "name": "python3"
  },
  "language_info": {
   "codemirror_mode": {
    "name": "ipython",
    "version": 3
   },
   "file_extension": ".py",
   "mimetype": "text/x-python",
   "name": "python",
   "nbconvert_exporter": "python",
   "pygments_lexer": "ipython3",
   "version": "3.10.6"
  },
  "orig_nbformat": 4,
  "vscode": {
   "interpreter": {
    "hash": "8894f366d6de9d393653cbb016f1795f39a856928ab40a2f97a943c59af84e17"
   }
  }
 },
 "nbformat": 4,
 "nbformat_minor": 2
}
