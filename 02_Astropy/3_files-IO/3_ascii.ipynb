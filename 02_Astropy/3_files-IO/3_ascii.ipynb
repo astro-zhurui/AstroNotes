{
 "cells": [
  {
   "cell_type": "markdown",
   "metadata": {},
   "source": [
    "**ASCII文件处理**\n",
    "\n",
    "@Author: Ray  \n",
    "@Time: 2023-09-04  \n",
    "@Cite: https://docs.astropy.org/en/stable/io/ascii/index.html"
   ]
  },
  {
   "cell_type": "code",
   "execution_count": 8,
   "metadata": {},
   "outputs": [],
   "source": [
    "from pathlib import Path\n",
    "import time\n",
    "\n",
    "path_test = Path(\"/Users/rui/Code/1_Astronote/02_Astropy/example/3_3_ascii\")"
   ]
  },
  {
   "cell_type": "markdown",
   "metadata": {},
   "source": [
    "---\n",
    "## 读取表格\n",
    "* [ascii.read()](https://docs.astropy.org/en/stable/api/astropy.io.ascii.read.html#astropy.io.ascii.read)\n",
    "* 全部功能可由更高阶的封装[Table()](https://docs.astropy.org/en/stable/table/index.html#astropy-table)实现"
   ]
  },
  {
   "cell_type": "code",
   "execution_count": 9,
   "metadata": {},
   "outputs": [
    {
     "name": "stdout",
     "output_type": "stream",
     "text": [
      "<class 'astropy.table.table.Table'>\n"
     ]
    },
    {
     "data": {
      "text/html": [
       "<div><i>Table length=2</i>\n",
       "<table id=\"table4726880848\" class=\"table-striped table-bordered table-condensed\">\n",
       "<thead><tr><th>obsid</th><th>redshift</th><th>X</th><th>Y</th><th>object</th></tr></thead>\n",
       "<thead><tr><th>int64</th><th>float64</th><th>int64</th><th>int64</th><th>str11</th></tr></thead>\n",
       "<tr><td>3102</td><td>0.32</td><td>4167</td><td>4085</td><td>Q1250+568-A</td></tr>\n",
       "<tr><td>877</td><td>0.22</td><td>4378</td><td>3892</td><td>Source 82</td></tr>\n",
       "</table></div>"
      ],
      "text/plain": [
       "<Table length=2>\n",
       "obsid redshift   X     Y      object  \n",
       "int64 float64  int64 int64    str11   \n",
       "----- -------- ----- ----- -----------\n",
       " 3102     0.32  4167  4085 Q1250+568-A\n",
       "  877     0.22  4378  3892   Source 82"
      ]
     },
     "execution_count": 9,
     "metadata": {},
     "output_type": "execute_result"
    }
   ],
   "source": [
    "from astropy.io import ascii\n",
    "data = ascii.read(path_test / \"sources.dat\")\n",
    "print(type(data))\n",
    "data"
   ]
  },
  {
   "cell_type": "code",
   "execution_count": 10,
   "metadata": {},
   "outputs": [
    {
     "data": {
      "text/html": [
       "<div><i>Table length=2</i>\n",
       "<table id=\"table4780308432\" class=\"table-striped table-bordered table-condensed\">\n",
       "<thead><tr><th>obsid</th><th>redshift</th><th>X</th><th>Y</th><th>object</th></tr></thead>\n",
       "<thead><tr><th>int64</th><th>float64</th><th>int64</th><th>str4</th><th>str11</th></tr></thead>\n",
       "<tr><td>3102</td><td>0.32</td><td>4167</td><td>4085</td><td>Q1250+568-A</td></tr>\n",
       "<tr><td>877</td><td>0.22</td><td>4378</td><td>3892</td><td>Source 82</td></tr>\n",
       "</table></div>"
      ],
      "text/plain": [
       "<Table length=2>\n",
       "obsid redshift   X    Y      object  \n",
       "int64 float64  int64 str4    str11   \n",
       "----- -------- ----- ---- -----------\n",
       " 3102     0.32  4167 4085 Q1250+568-A\n",
       "  877     0.22  4378 3892   Source 82"
      ]
     },
     "execution_count": 10,
     "metadata": {},
     "output_type": "execute_result"
    }
   ],
   "source": [
    "# 使用converters参数，将数据转换为合适的类型\n",
    "ascii.read(path_test / \"sources.dat\", converters={\"Y\": str})"
   ]
  },
  {
   "cell_type": "markdown",
   "metadata": {},
   "source": [
    "### 读取SExtractor产生的数据表"
   ]
  },
  {
   "cell_type": "code",
   "execution_count": 11,
   "metadata": {},
   "outputs": [
    {
     "name": "stdout",
     "output_type": "stream",
     "text": [
      "3.7927610874176025\n",
      "3.8666610717773438\n"
     ]
    }
   ],
   "source": [
    "path = path_test / \"sextractor.cat\"\n",
    "\n",
    "# 方法1\n",
    "t = time.time()\n",
    "from astropy.table import Table\n",
    "tbl1 = Table.read(path, format=\"ascii.sextractor\")\n",
    "print(time.time() - t)\n",
    "\n",
    "# 方法2\n",
    "t = time.time()\n",
    "from astropy.io import ascii\n",
    "tbl2 = ascii.read(path, format=\"sextractor\")\n",
    "print(time.time() - t)"
   ]
  },
  {
   "cell_type": "markdown",
   "metadata": {},
   "source": [
    "---\n",
    "## 写入表格\n",
    "* [ascii.write()](https://docs.astropy.org/en/stable/api/astropy.io.ascii.write.html#astropy.io.ascii.write)\n",
    "* 全部功能可由更高阶的封装[Table()](https://docs.astropy.org/en/stable/table/index.html#astropy-table)实现\n",
    "* 表格数据推荐使用[ECSV格式](https://docs.astropy.org/en/stable/io/ascii/ecsv.html#ecsv-format)，这种格式相比于传统csv，可以存储更多的元数据"
   ]
  },
  {
   "cell_type": "code",
   "execution_count": 12,
   "metadata": {},
   "outputs": [
    {
     "data": {
      "text/html": [
       "<div><i>Table length=3</i>\n",
       "<table id=\"table4726245328\" class=\"table-striped table-bordered table-condensed\">\n",
       "<thead><tr><th>x</th><th>y</th></tr></thead>\n",
       "<thead><tr><th>int32</th><th>int32</th></tr></thead>\n",
       "<tr><td>1</td><td>1</td></tr>\n",
       "<tr><td>2</td><td>4</td></tr>\n",
       "<tr><td>3</td><td>9</td></tr>\n",
       "</table></div>"
      ],
      "text/plain": [
       "<Table length=3>\n",
       "  x     y  \n",
       "int32 int32\n",
       "----- -----\n",
       "    1     1\n",
       "    2     4\n",
       "    3     9"
      ]
     },
     "execution_count": 12,
     "metadata": {},
     "output_type": "execute_result"
    }
   ],
   "source": [
    "import numpy as np\n",
    "from astropy.table import Table\n",
    "\n",
    "# 生成数据\n",
    "data = Table()\n",
    "data['x'] = np.array([1, 2, 3,], dtype=np.int32)\n",
    "data['y'] = data['x'] ** 2\n",
    "data"
   ]
  },
  {
   "cell_type": "code",
   "execution_count": 13,
   "metadata": {},
   "outputs": [],
   "source": [
    "# 使用ascii.write()函数将数据写入文件\n",
    "ascii.write(data, path_test / \"write_func_test.dat\", overwrite=True)\n",
    "\n",
    "# 使用ECSV格式存储表格\n",
    "data.write(path_test / \"write_func_test.ecsv\", overwrite=True)"
   ]
  },
  {
   "cell_type": "markdown",
   "metadata": {},
   "source": [
    "### 机器可读表（MRT）\n",
    "* Machine-Readable Table (MRT)"
   ]
  },
  {
   "cell_type": "code",
   "execution_count": 14,
   "metadata": {},
   "outputs": [
    {
     "data": {
      "text/html": [
       "<div><i>Table length=2</i>\n",
       "<table id=\"table12840809104\" class=\"table-striped table-bordered table-condensed\">\n",
       "<thead><tr><th>Name</th><th>Temperature</th><th>nH</th><th>Flux</th><th>magnitude</th><th>Obs</th><th>Cadence</th><th>coord</th></tr></thead>\n",
       "<thead><tr><th></th><th>keV</th><th>1e+22</th><th>1e+12 Jy</th><th></th><th></th><th>s</th><th>deg,deg,None</th></tr></thead>\n",
       "<thead><tr><th>str11</th><th>float64</th><th>float64</th><th>float64</th><th>float64</th><th>float64</th><th>int64</th><th>SkyCoord</th></tr></thead>\n",
       "<tr><td>ASASSN-15lh</td><td>2.87819E-09</td><td>0.025</td><td>--</td><td>1e-10</td><td>2019.0</td><td>100</td><td>306.2242089804817,-45.621592997378514,0.9999999999999999</td></tr>\n",
       "<tr><td>ASASSN-14li</td><td>2.55935E-08</td><td>0.0188</td><td>2.044</td><td>3981.0717055349733</td><td>2019.0</td><td>100</td><td>183.75498618886257,21.051406891826403,1.0</td></tr>\n",
       "</table></div>"
      ],
      "text/plain": [
       "<Table length=2>\n",
       "    Name    ...                          coord                          \n",
       "            ...                       deg,deg,None                      \n",
       "   str11    ...                         SkyCoord                        \n",
       "----------- ... --------------------------------------------------------\n",
       "ASASSN-15lh ... 306.2242089804817,-45.621592997378514,0.9999999999999999\n",
       "ASASSN-14li ...                183.75498618886257,21.051406891826403,1.0"
      ]
     },
     "execution_count": 14,
     "metadata": {},
     "output_type": "execute_result"
    }
   ],
   "source": [
    "from astropy.io import ascii\n",
    "from astropy.table import Table, Column, MaskedColumn\n",
    "from astropy import units as u\n",
    "\n",
    "table = Table()\n",
    "table['Name'] = ['ASASSN-15lh', 'ASASSN-14li']\n",
    "\n",
    "# MRT Standard requires all quantities in SI units.\n",
    "temperature = [0.0334, 0.297] * u.K\n",
    "table['Temperature'] = temperature.to(u.keV, equivalencies=u.temperature_energy())\n",
    "table['nH'] = Column([0.025, 0.0188], unit=u.Unit(10**22))\n",
    "table['Flux'] = ([2.044 * 10**-11] * u.erg * u.cm**-2).to(u.Jy * u.Unit(10**12))\n",
    "table['Flux'] = MaskedColumn(table['Flux'], mask=[True, False])\n",
    "table['magnitude'] = [u.Magnitude(25), u.Magnitude(-9)]\n",
    "\n",
    "from astropy.time import Time, TimeDelta\n",
    "from astropy.timeseries import TimeSeries\n",
    "ts = TimeSeries(time_start=Time('2019-01-01'), time_delta=2*u.day, n_samples=1)\n",
    "table['Obs'] = Column(ts.time.decimalyear, description='Time of Observation')\n",
    "table['Cadence'] = Column(TimeDelta(100.0, format='sec').datetime.seconds, unit=u.s)\n",
    "\n",
    "from astropy.coordinates import SkyCoord\n",
    "table['coord'] = [SkyCoord.from_name('ASASSN-15lh'),\n",
    "                  SkyCoord.from_name('ASASSN-14li')]  \n",
    "table.write(path_test / 'coord_cols.dat', format='ascii.mrt', overwrite=True) \n",
    "    \n",
    "table['coord'] = table['coord'].geocentrictrueecliptic  \n",
    "table['Temperature'].format = '.5E' # Set default column format.\n",
    "table.write(path_test / 'ecliptic_cols.dat', format='ascii.mrt', overwrite=True)  \n",
    "\n",
    "table"
   ]
  },
  {
   "cell_type": "markdown",
   "metadata": {},
   "source": [
    "## 固定宽度的表格\n",
    "* [Fixed-Width Gallery](https://docs.astropy.org/en/stable/io/ascii/fixed_width_gallery.html#fixed-width-gallery)\n",
    "* 可用于程序中花哨的输出显示"
   ]
  },
  {
   "cell_type": "code",
   "execution_count": 15,
   "metadata": {},
   "outputs": [
    {
     "data": {
      "text/html": [
       "<div><i>Table length=3</i>\n",
       "<table id=\"table12840107408\" class=\"table-striped table-bordered table-condensed\">\n",
       "<thead><tr><th>x</th><th>y</th></tr></thead>\n",
       "<thead><tr><th>int32</th><th>int32</th></tr></thead>\n",
       "<tr><td>1</td><td>1</td></tr>\n",
       "<tr><td>2</td><td>0</td></tr>\n",
       "<tr><td>3</td><td>-1426542431</td></tr>\n",
       "</table></div>"
      ],
      "text/plain": [
       "<Table length=3>\n",
       "  x        y     \n",
       "int32    int32   \n",
       "----- -----------\n",
       "    1           1\n",
       "    2           0\n",
       "    3 -1426542431"
      ]
     },
     "execution_count": 15,
     "metadata": {},
     "output_type": "execute_result"
    }
   ],
   "source": [
    "# 生成数据\n",
    "data = Table()\n",
    "data['x'] = np.array([1, 2, 3,], dtype=np.int32)\n",
    "data['y'] = data['x'] ** 200\n",
    "data"
   ]
  },
  {
   "cell_type": "code",
   "execution_count": 16,
   "metadata": {},
   "outputs": [
    {
     "name": "stdout",
     "output_type": "stream",
     "text": [
      "x           y\n",
      "- -----------\n",
      "1           1\n",
      "2           0\n",
      "3 -1426542431\n"
     ]
    }
   ],
   "source": [
    "ascii.write(data, format='fixed_width_two_line')"
   ]
  },
  {
   "cell_type": "code",
   "execution_count": 17,
   "metadata": {},
   "outputs": [
    {
     "name": "stdout",
     "output_type": "stream",
     "text": [
      "|x|          y|\n",
      "|-|-----------|\n",
      "|1|          1|\n",
      "|2|          0|\n",
      "|3|-1426542431|\n"
     ]
    }
   ],
   "source": [
    "ascii.write(data, format='fixed_width_two_line', bookend=True, delimiter='|')"
   ]
  },
  {
   "cell_type": "code",
   "execution_count": 18,
   "metadata": {},
   "outputs": [
    {
     "name": "stdout",
     "output_type": "stream",
     "text": [
      "x             y\n",
      "=   ===========\n",
      "1             1\n",
      "2             0\n",
      "3   -1426542431\n"
     ]
    }
   ],
   "source": [
    "ascii.write(data, format='fixed_width_two_line',\n",
    "                 delimiter_pad=' ', position_char='=')"
   ]
  },
  {
   "cell_type": "markdown",
   "metadata": {},
   "source": [
    "## 将表格输出为LaTeX格式\n",
    "* https://docs.astropy.org/en/stable/api/astropy.io.ascii.Latex.html#latex"
   ]
  },
  {
   "cell_type": "code",
   "execution_count": 19,
   "metadata": {},
   "outputs": [
    {
     "name": "stdout",
     "output_type": "stream",
     "text": [
      "\\begin{table}\n",
      "\\begin{tabular}{ccc}\n",
      "name & mass & speed \\\\\n",
      " & kg & km/h \\\\\n",
      "bike & 75 & 10 \\\\\n",
      "car & 1200 & 130 \\\\\n",
      "\\end{tabular}\n",
      "\\end{table}\n"
     ]
    }
   ],
   "source": [
    "from astropy.io import ascii\n",
    "data = {'name': ['bike', 'car'], 'mass': [75,1200], 'speed': [10, 130]}\n",
    "ascii.write(data, Writer=ascii.Latex,\n",
    "                 latexdict = {'units': {'mass': 'kg', 'speed': 'km/h'}})"
   ]
  }
 ],
 "metadata": {
  "kernelspec": {
   "display_name": "astro",
   "language": "python",
   "name": "python3"
  },
  "language_info": {
   "codemirror_mode": {
    "name": "ipython",
    "version": 3
   },
   "file_extension": ".py",
   "mimetype": "text/x-python",
   "name": "python",
   "nbconvert_exporter": "python",
   "pygments_lexer": "ipython3",
   "version": "3.11.4"
  },
  "orig_nbformat": 4
 },
 "nbformat": 4,
 "nbformat_minor": 2
}
