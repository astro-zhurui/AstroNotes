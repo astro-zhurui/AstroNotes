{
 "cells": [
  {
   "cell_type": "markdown",
   "metadata": {},
   "source": [
    "# Python基础知识\n",
    "@author: Rui Zhu  \n",
    "@follow:《Python编程: 从入门到实践》(第2版)"
   ]
  },
  {
   "cell_type": "markdown",
   "metadata": {},
   "source": [
    "# 第1章 起步"
   ]
  },
  {
   "cell_type": "markdown",
   "metadata": {},
   "source": [
    "笔记\n",
    "* [Python社区官网](https://www.python.org)\n",
    "* 书中推荐使用的编辑器: [Sublime Text](http://www.sublimetext.com)\n",
    "* Sublime Text使用快捷键`Command + B`来执行程序\n",
    "* 在命令行中, 使用`python <xxx.py>` 来执行程序"
   ]
  },
  {
   "cell_type": "code",
   "execution_count": 2,
   "metadata": {},
   "outputs": [
    {
     "name": "stdout",
     "output_type": "stream",
     "text": [
      "The Zen of Python, by Tim Peters\n",
      "\n",
      "Beautiful is better than ugly.\n",
      "Explicit is better than implicit.\n",
      "Simple is better than complex.\n",
      "Complex is better than complicated.\n",
      "Flat is better than nested.\n",
      "Sparse is better than dense.\n",
      "Readability counts.\n",
      "Special cases aren't special enough to break the rules.\n",
      "Although practicality beats purity.\n",
      "Errors should never pass silently.\n",
      "Unless explicitly silenced.\n",
      "In the face of ambiguity, refuse the temptation to guess.\n",
      "There should be one-- and preferably only one --obvious way to do it.\n",
      "Although that way may not be obvious at first unless you're Dutch.\n",
      "Now is better than never.\n",
      "Although never is often better than *right* now.\n",
      "If the implementation is hard to explain, it's a bad idea.\n",
      "If the implementation is easy to explain, it may be a good idea.\n",
      "Namespaces are one honking great idea -- let's do more of those!\n"
     ]
    }
   ],
   "source": [
    "import this"
   ]
  },
  {
   "cell_type": "markdown",
   "metadata": {},
   "source": [
    "# 第2章 变量和简单数据类型"
   ]
  },
  {
   "cell_type": "markdown",
   "metadata": {},
   "source": [
    "## 2.1 变量"
   ]
  },
  {
   "cell_type": "markdown",
   "metadata": {},
   "source": [
    "变量的命名规范  \n",
    "1. 变量名只能包含字母、数字、下划线, 但不能以数字打头\n",
    "2. 变量名不能包含空格\n",
    "3. 不要将python关键字和函数名作为变量名\n",
    "4. 变量名应简短且具有描述性\n",
    "5. 谨慎使用字母l和o\n",
    "6. 最好使用小写的变量名\n",
    "7. 常量最好用全大写表示"
   ]
  },
  {
   "cell_type": "markdown",
   "metadata": {},
   "source": [
    "变量是标签\n",
    "\n",
    "* 变量应理解为赋给值的标签, 也可以理解为变量指向特定的值"
   ]
  },
  {
   "cell_type": "markdown",
   "metadata": {},
   "source": [
    "py文件命名规范\n",
    "* 约定使用小写字母和下划线命名: simple_messages.py"
   ]
  },
  {
   "cell_type": "code",
   "execution_count": 3,
   "metadata": {},
   "outputs": [
    {
     "name": "stdout",
     "output_type": "stream",
     "text": [
      "0 1 2\n"
     ]
    }
   ],
   "source": [
    "# 多个变量赋值\n",
    "x, y, z = 0, 1, 2\n",
    "print(x, y, z)"
   ]
  },
  {
   "cell_type": "code",
   "execution_count": 4,
   "metadata": {},
   "outputs": [],
   "source": [
    "# 常量最好用全大写表示\n",
    "MAX_CONNECTIONS = 5000"
   ]
  },
  {
   "cell_type": "markdown",
   "metadata": {},
   "source": [
    "## 2.2 字符串  \n",
    "* 在Python中，用引号括起来的都是字符串"
   ]
  },
  {
   "attachments": {},
   "cell_type": "markdown",
   "metadata": {},
   "source": [
    "### 修改字符串的大小写\n",
    "* 修改大小写的方法不改变原变量"
   ]
  },
  {
   "cell_type": "code",
   "execution_count": 5,
   "metadata": {},
   "outputs": [
    {
     "name": "stdout",
     "output_type": "stream",
     "text": [
      "title()方法, 使每个单词的首字母都大写: Ada Lovelace\n",
      "upper()方法, 使每个单词的字母都大写: ADA LOVELACE\n",
      "lower()方法, 使每个单词的字母都小写: ada lovelace\n"
     ]
    }
   ],
   "source": [
    "name = \"ada lovelace\"\n",
    "print(f\"title()方法, 使每个单词的首字母都大写: {name.title()}\")\n",
    "print(f\"upper()方法, 使每个单词的字母都大写: {name.upper()}\")\n",
    "print(f\"lower()方法, 使每个单词的字母都小写: {name.lower()}\")"
   ]
  },
  {
   "cell_type": "markdown",
   "metadata": {},
   "source": [
    "### 格式化字符串\n",
    "* f字符串: python3.6之后可用, 可以替代之前的format()方法"
   ]
  },
  {
   "cell_type": "code",
   "execution_count": 6,
   "metadata": {},
   "outputs": [
    {
     "name": "stdout",
     "output_type": "stream",
     "text": [
      "hello, I'm Rui Zhu.\n",
      "Today is 2022-12-2.\n"
     ]
    }
   ],
   "source": [
    "first_name = 'Rui'\n",
    "last_name = 'Zhu'\n",
    "message = f\"hello, I'm {first_name} {last_name}.\"\n",
    "print(message)\n",
    "message = \"Today is {}-{}-{}.\".format(2022, 12, 2)\n",
    "print(message)"
   ]
  },
  {
   "cell_type": "markdown",
   "metadata": {},
   "source": [
    "### 制表符与换行符"
   ]
  },
  {
   "cell_type": "code",
   "execution_count": 7,
   "metadata": {},
   "outputs": [
    {
     "name": "stdout",
     "output_type": "stream",
     "text": [
      "test1\ttest2\n",
      "test1  \ttest2\n",
      "----------\n",
      "test1\n",
      "test2\n",
      "----------\n",
      "\n",
      "test1\n",
      "\n",
      "test2\n"
     ]
    }
   ],
   "source": [
    "print(\"test1\\ttest2\")\n",
    "print(\"test1  \\ttest2\")\n",
    "print(\"-\"*10)\n",
    "print(\"test1\\ntest2\")\n",
    "print(\"-\"*10)\n",
    "print(\"\\ntest1\\n\")\n",
    "print(\"test2\")"
   ]
  },
  {
   "cell_type": "markdown",
   "metadata": {},
   "source": [
    "### 删除字符串中的空白"
   ]
  },
  {
   "cell_type": "code",
   "execution_count": 8,
   "metadata": {},
   "outputs": [
    {
     "name": "stdout",
     "output_type": "stream",
     "text": [
      "原始字符串:  py thon  \n",
      "rstrip()方法, 删掉末尾的字符串:  py thon\n",
      "lstrip()方法, 删掉开头的字符串:py thon  \n",
      "strip()方法, 删掉两头的字符串:py thon\n"
     ]
    }
   ],
   "source": [
    "string = '  py thon  '\n",
    "print(f\"原始字符串:{string}\")\n",
    "print(f\"rstrip()方法, 删掉末尾的字符串:{string.rstrip()}\")\n",
    "print(f\"lstrip()方法, 删掉开头的字符串:{string.lstrip()}\")\n",
    "print(f\"strip()方法, 删掉两头的字符串:{string.strip()}\")"
   ]
  },
  {
   "cell_type": "markdown",
   "metadata": {},
   "source": [
    "## 2.3 数值"
   ]
  },
  {
   "cell_type": "code",
   "execution_count": 9,
   "metadata": {},
   "outputs": [
    {
     "name": "stdout",
     "output_type": "stream",
     "text": [
      "8 1\n"
     ]
    }
   ],
   "source": [
    "# 整数\n",
    "x1 = 2 ** 3\n",
    "x2 = 2^3  # 只有**才是乘方\n",
    "print(x1, x2)"
   ]
  },
  {
   "cell_type": "code",
   "execution_count": 10,
   "metadata": {},
   "outputs": [
    {
     "name": "stdout",
     "output_type": "stream",
     "text": [
      "0.30000000000000004\n",
      "0.30000000000000004\n"
     ]
    }
   ],
   "source": [
    "# 浮点数\n",
    "print(0.2 + 0.1)\n",
    "print(3 * 0.1)"
   ]
  },
  {
   "cell_type": "code",
   "execution_count": 11,
   "metadata": {},
   "outputs": [
    {
     "name": "stdout",
     "output_type": "stream",
     "text": [
      "14000000000\n"
     ]
    }
   ],
   "source": [
    "# 大数的表示\n",
    "age = 14_000_000_000\n",
    "print(age)"
   ]
  },
  {
   "cell_type": "markdown",
   "metadata": {},
   "source": [
    "# 第3章 列表\n",
    "* 列表由一系列按特定顺序排列的元素组成"
   ]
  },
  {
   "cell_type": "markdown",
   "metadata": {},
   "source": [
    "## 3.1 访问列表元素\n",
    "* 列表是有序集合, 使用0起始的数字索引\n",
    "* 特殊地, 列表的索引可以倒着数(-1, -2, ...)"
   ]
  },
  {
   "cell_type": "markdown",
   "metadata": {},
   "source": [
    "## 3.2 列表元素的增删改"
   ]
  },
  {
   "cell_type": "markdown",
   "metadata": {},
   "source": [
    "### 修改\n",
    "* 通过赋值修改列表元素"
   ]
  },
  {
   "cell_type": "code",
   "execution_count": 12,
   "metadata": {},
   "outputs": [
    {
     "name": "stdout",
     "output_type": "stream",
     "text": [
      "['nonda', 'yamaha', 'suzuki']\n",
      "['ducato', 'yamaha', 'suzuki']\n"
     ]
    }
   ],
   "source": [
    "motorcycles = ['nonda', 'yamaha', 'suzuki']\n",
    "print(motorcycles)\n",
    "motorcycles[0] = 'ducato'\n",
    "print(motorcycles)"
   ]
  },
  {
   "cell_type": "markdown",
   "metadata": {},
   "source": [
    "### 增添\n",
    "* 方法1: append()将元素添加到列表末尾\n",
    "* 方法2: insert()指定位置添加新元素"
   ]
  },
  {
   "cell_type": "code",
   "execution_count": 13,
   "metadata": {},
   "outputs": [
    {
     "name": "stdout",
     "output_type": "stream",
     "text": [
      "['honda']\n",
      "['honda', 'yamaha']\n",
      "['honda', 'suzuki', 'yamaha']\n"
     ]
    }
   ],
   "source": [
    "motorcycles = []\n",
    "\n",
    "motorcycles.append(\"honda\")\n",
    "print(motorcycles)\n",
    "motorcycles.append(\"yamaha\")\n",
    "print(motorcycles)\n",
    "\n",
    "motorcycles.insert(1, 'suzuki')\n",
    "print(motorcycles)"
   ]
  },
  {
   "cell_type": "markdown",
   "metadata": {},
   "source": [
    "### 删除\n",
    "* 方法1: del语句, 删除指定位置的元素\n",
    "* 方法2: pop()方法, 弹出列表末尾的元素, 赋值给新的变量\n",
    "* 方法3: remove()方法, 移除指定元素(若多个相同元素, 只删除第一个)"
   ]
  },
  {
   "cell_type": "code",
   "execution_count": 14,
   "metadata": {},
   "outputs": [
    {
     "name": "stdout",
     "output_type": "stream",
     "text": [
      "test1: ['nonda', 'yamaha']\n",
      "test2: ['nonda', 'yamaha', 'suzuki', 'yamaha']\n",
      "test3.1: ['nonda', 'yamaha', 'suzuki']\n",
      "test3.2: yamaha\n",
      "test4: ['nonda', 'yamaha', 'suzuki', 'nonda', 'yamaha', 'suzuki']\n",
      "test4.1: ['yamaha', 'suzuki', 'nonda', 'yamaha', 'suzuki']\n",
      "test4.2: nonda\n",
      "test5: ['suzuki', 'nonda', 'yamaha', 'suzuki']\n"
     ]
    }
   ],
   "source": [
    "motorcycles = ['nonda', 'yamaha', 'suzuki']\n",
    "\n",
    "# del语句\n",
    "del motorcycles[2]\n",
    "print(f\"test1: {motorcycles}\")\n",
    "\n",
    "motorcycles.append(\"suzuki\")\n",
    "motorcycles.append(\"yamaha\")\n",
    "print(f\"test2: {motorcycles}\")\n",
    "\n",
    "# pop()方法\n",
    "popped_name = motorcycles.pop()\n",
    "print(f\"test3.1: {motorcycles}\")\n",
    "print(f\"test3.2: {popped_name}\")\n",
    "\n",
    "motorcycles = motorcycles*2\n",
    "print(f\"test4: {motorcycles}\")\n",
    "popped_name = motorcycles.pop(0)  # pop方法可以指定索引弹出元素\n",
    "print(f\"test4.1: {motorcycles}\")\n",
    "print(f\"test4.2: {popped_name}\")\n",
    "\n",
    "# remove()方法\n",
    "motorcycles.remove(\"yamaha\")  # remove()方法一次只能除掉一个元素\n",
    "print(f\"test5: {motorcycles}\")"
   ]
  },
  {
   "cell_type": "markdown",
   "metadata": {},
   "source": [
    "## 3.3 列表排序\n",
    "* 方法1: sort()方法永久性修改元素的排序\n",
    "* 方法2: sorted()函数暂时修改元素的排序, 不影响列表本身"
   ]
  },
  {
   "cell_type": "code",
   "execution_count": 15,
   "metadata": {},
   "outputs": [
    {
     "name": "stdout",
     "output_type": "stream",
     "text": [
      "[1, 3, 6, 6, 13, 14, 15]\n",
      "[15, 14, 13, 6, 6, 3, 1]\n"
     ]
    }
   ],
   "source": [
    "list_num = [6, 1, 3, 6, 14, 15, 13]\n",
    "\n",
    "test = list_num.copy()\n",
    "test.sort()\n",
    "print(test)\n",
    "\n",
    "test = list_num.copy()\n",
    "test.sort(reverse=True)\n",
    "print(test)"
   ]
  },
  {
   "cell_type": "code",
   "execution_count": 16,
   "metadata": {},
   "outputs": [
    {
     "name": "stdout",
     "output_type": "stream",
     "text": [
      "[6, 1, 3, 6, 14, 15, 13]\n",
      "[15, 14, 13, 6, 6, 3, 1]\n"
     ]
    }
   ],
   "source": [
    "list_num = [6, 1, 3, 6, 14, 15, 13]\n",
    "\n",
    "test = list_num.copy()\n",
    "test_new = sorted(test, reverse=True)\n",
    "print(test)\n",
    "print(test_new)"
   ]
  },
  {
   "attachments": {},
   "cell_type": "markdown",
   "metadata": {},
   "source": [
    "# 第4章 操作列表"
   ]
  },
  {
   "attachments": {},
   "cell_type": "markdown",
   "metadata": {},
   "source": [
    "## 4.1 for循环\n",
    "略\n",
    "\n",
    "## 4.2 注意缩进\n",
    "略"
   ]
  },
  {
   "attachments": {},
   "cell_type": "markdown",
   "metadata": {},
   "source": [
    "## 4.3 创建数值列表"
   ]
  },
  {
   "attachments": {},
   "cell_type": "markdown",
   "metadata": {},
   "source": [
    "### range()函数创建列表\n",
    "* 语法: range(<起始值>, <终止值(不包含)>, <步长>)"
   ]
  },
  {
   "cell_type": "code",
   "execution_count": 17,
   "metadata": {},
   "outputs": [
    {
     "name": "stdout",
     "output_type": "stream",
     "text": [
      "1 <class 'int'>\n",
      "2 <class 'int'>\n",
      "3 <class 'int'>\n",
      "4 <class 'int'>\n",
      "5 <class 'int'>\n"
     ]
    },
    {
     "data": {
      "text/plain": [
       "range"
      ]
     },
     "execution_count": 17,
     "metadata": {},
     "output_type": "execute_result"
    }
   ],
   "source": [
    "for value in range(1, 6):\n",
    "    print(value, type(value))  # 遍历range的值的数据类型是整数\n",
    "type(range(1, 6))  # range()函数返回的不是列表"
   ]
  },
  {
   "cell_type": "code",
   "execution_count": 18,
   "metadata": {},
   "outputs": [
    {
     "data": {
      "text/plain": [
       "[1, 3, 5]"
      ]
     },
     "execution_count": 18,
     "metadata": {},
     "output_type": "execute_result"
    }
   ],
   "source": [
    "list(range(1, 6, 2))"
   ]
  },
  {
   "attachments": {},
   "cell_type": "markdown",
   "metadata": {},
   "source": [
    "### 列表解析\n",
    "* 一种简化生成列表的语法"
   ]
  },
  {
   "cell_type": "code",
   "execution_count": 19,
   "metadata": {},
   "outputs": [
    {
     "name": "stdout",
     "output_type": "stream",
     "text": [
      "[0.1, 0.2, 0.30000000000000004, 0.4, 0.5]\n"
     ]
    }
   ],
   "source": [
    "# 实例1: 创建0.1-0.5的列表\n",
    "ls = []\n",
    "for value in range(1, 6):\n",
    "    ls.append(0.1*value)\n",
    "print(ls)"
   ]
  },
  {
   "cell_type": "code",
   "execution_count": 20,
   "metadata": {},
   "outputs": [
    {
     "data": {
      "text/plain": [
       "[0.1, 0.2, 0.30000000000000004, 0.4, 0.5]"
      ]
     },
     "execution_count": 20,
     "metadata": {},
     "output_type": "execute_result"
    }
   ],
   "source": [
    "# 实例2: 列表解析的方法\n",
    "ls_new = [0.1*value for value in range(1, 6)]  # ! 注意没有冒号\n",
    "ls_new"
   ]
  },
  {
   "attachments": {},
   "cell_type": "markdown",
   "metadata": {},
   "source": [
    "## 4.4 列表的切片"
   ]
  },
  {
   "cell_type": "markdown",
   "metadata": {},
   "source": [
    "* 切片的语法: ls[<开始索引>:<终止索引>:<间隔值>]"
   ]
  },
  {
   "cell_type": "code",
   "execution_count": 21,
   "metadata": {},
   "outputs": [
    {
     "name": "stdout",
     "output_type": "stream",
     "text": [
      "['0', '1', '2', '3', '4', '5', '6', '7', '8', '9']\n",
      "['0', '1', '2', '3', '4', '5']\n",
      "['0', '2', '4', '6', '8']\n"
     ]
    }
   ],
   "source": [
    "ls = [str(value) for value in range(0, 10)]\n",
    "print(ls)\n",
    "print(ls[:6])\n",
    "print(ls[::2])"
   ]
  },
  {
   "attachments": {},
   "cell_type": "markdown",
   "metadata": {},
   "source": [
    "* 切片不关联, 等价于复制"
   ]
  },
  {
   "cell_type": "code",
   "execution_count": 22,
   "metadata": {},
   "outputs": [
    {
     "name": "stdout",
     "output_type": "stream",
     "text": [
      "['a', 'b', 'c']\n",
      "['a', 'b', 'c', 'e']\n"
     ]
    }
   ],
   "source": [
    "ls_words = ['a', 'b', 'c']\n",
    "ls_words_new = ls_words[:]  # 相当于复制\n",
    "ls_words_new.append('e')\n",
    "print(ls_words)\n",
    "print(ls_words_new)"
   ]
  },
  {
   "cell_type": "code",
   "execution_count": 23,
   "metadata": {},
   "outputs": [
    {
     "name": "stdout",
     "output_type": "stream",
     "text": [
      "['a', 'b', 'c', 'e']\n",
      "['a', 'b', 'c', 'e']\n"
     ]
    }
   ],
   "source": [
    "# 如果不切片, 则关联\n",
    "ls_words = ['a', 'b', 'c']\n",
    "ls_words_new = ls_words  # 相同指向, 相互关联\n",
    "ls_words_new.append('e')\n",
    "print(ls_words)\n",
    "print(ls_words_new)"
   ]
  },
  {
   "attachments": {},
   "cell_type": "markdown",
   "metadata": {},
   "source": [
    "## 4.5 元组(不可变的列表)\n",
    "* 元组的索引方式和列表相同\n",
    "* 定义只有一个元素的元组, 需要加逗号\n",
    "* 虽然不能修改元组的元素, 但可以通过重新赋值变量的方式修改"
   ]
  },
  {
   "cell_type": "code",
   "execution_count": 24,
   "metadata": {},
   "outputs": [
    {
     "name": "stdout",
     "output_type": "stream",
     "text": [
      "(3,)\n"
     ]
    }
   ],
   "source": [
    "# 定义一个只有一个元素的元组\n",
    "dimensions = (3,)\n",
    "print(dimensions)"
   ]
  },
  {
   "attachments": {},
   "cell_type": "markdown",
   "metadata": {},
   "source": [
    "## 4.6 PEP 8 代码格式规范\n",
    "* https://pep8.org\n",
    "* 建议缩进使用4个空格\n",
    "* 建议行长不超过80个字符\n",
    "* 谨慎使用空行"
   ]
  },
  {
   "attachments": {},
   "cell_type": "markdown",
   "metadata": {},
   "source": [
    "# 第5章 if语句"
   ]
  },
  {
   "attachments": {},
   "cell_type": "markdown",
   "metadata": {},
   "source": [
    "## 5.1 条件测试\n",
    "* if语句的核心是值为True/False的表达式, 称为条件测试, 也称布尔表达式\n",
    "* 使用and/or连接两个条件时, 可将两个条件放进圆括号里, 改善可读性"
   ]
  },
  {
   "attachments": {},
   "cell_type": "markdown",
   "metadata": {},
   "source": [
    "## 5.2 if语句的种类"
   ]
  },
  {
   "attachments": {},
   "cell_type": "markdown",
   "metadata": {},
   "source": [
    "情况1: 单if语句\n",
    "* 满足条件则执行"
   ]
  },
  {
   "cell_type": "code",
   "execution_count": 25,
   "metadata": {},
   "outputs": [
    {
     "name": "stdout",
     "output_type": "stream",
     "text": [
      "You are old enough to vote!\n"
     ]
    }
   ],
   "source": [
    "age = 19\n",
    "if age >= 18:\n",
    "    print(\"You are old enough to vote!\")"
   ]
  },
  {
   "attachments": {},
   "cell_type": "markdown",
   "metadata": {},
   "source": [
    "情况2: if-else语句\n",
    "* 只有一个条件测试"
   ]
  },
  {
   "cell_type": "code",
   "execution_count": 26,
   "metadata": {},
   "outputs": [
    {
     "name": "stdout",
     "output_type": "stream",
     "text": [
      "Sorry, you are too young to vote.\n"
     ]
    }
   ],
   "source": [
    "age = 17\n",
    "if age >= 18:\n",
    "    print(\"You are ole enough to vote!\")\n",
    "else:\n",
    "    print(\"Sorry, you are too young to vote.\")"
   ]
  },
  {
   "attachments": {},
   "cell_type": "markdown",
   "metadata": {},
   "source": [
    "情况3: if-elif-else语句\n",
    "* 2个测试条件"
   ]
  },
  {
   "cell_type": "code",
   "execution_count": 27,
   "metadata": {},
   "outputs": [
    {
     "name": "stdout",
     "output_type": "stream",
     "text": [
      "The number is bigger than 10 but less than 20\n"
     ]
    }
   ],
   "source": [
    "num = 15\n",
    "if num <= 10:\n",
    "    print(\"The number is less than 10\")\n",
    "elif num < 20:\n",
    "    print(\"The number is bigger than 10 but less than 20\")\n",
    "else:\n",
    "    print(\"Too big\")"
   ]
  },
  {
   "attachments": {},
   "cell_type": "markdown",
   "metadata": {},
   "source": [
    "情况4: if-elif-elif-...-else语句\n",
    "* 大于等于3个条件测试"
   ]
  },
  {
   "attachments": {},
   "cell_type": "markdown",
   "metadata": {},
   "source": [
    "情况5: 无else的多测试条件结构"
   ]
  },
  {
   "cell_type": "code",
   "execution_count": 28,
   "metadata": {},
   "outputs": [
    {
     "name": "stdout",
     "output_type": "stream",
     "text": [
      "Your admission cost is 25.\n"
     ]
    }
   ],
   "source": [
    "age = 12\n",
    "\n",
    "if  age < 4:\n",
    "    price = 0\n",
    "elif age < 18:\n",
    "    price = 25\n",
    "elif age < 65:\n",
    "    price = 40\n",
    "elif age >=65:\n",
    "    price = 20\n",
    "\n",
    "print(f\"Your admission cost is {price}.\")"
   ]
  },
  {
   "attachments": {},
   "cell_type": "markdown",
   "metadata": {},
   "source": [
    "情况6: 多个if语句完成多次条件判断的同时, 避免跳过其他判断"
   ]
  },
  {
   "attachments": {},
   "cell_type": "markdown",
   "metadata": {},
   "source": [
    "# 第6章 字典"
   ]
  },
  {
   "attachments": {},
   "cell_type": "markdown",
   "metadata": {},
   "source": [
    "## 6.1 字典的基本操作"
   ]
  },
  {
   "cell_type": "code",
   "execution_count": 29,
   "metadata": {},
   "outputs": [
    {
     "name": "stdout",
     "output_type": "stream",
     "text": [
      "{'color': 'green', 'point': 5}\n"
     ]
    }
   ],
   "source": [
    "alien = {}  # 创建空字典\n",
    "\n",
    "alien['color'] = 'green'  # 向字典中添加元素\n",
    "alien['point'] = 5\n",
    "\n",
    "print(alien)"
   ]
  },
  {
   "cell_type": "code",
   "execution_count": 30,
   "metadata": {},
   "outputs": [
    {
     "name": "stdout",
     "output_type": "stream",
     "text": [
      "{'color': 'red', 'point': 5, 'x': 10}\n"
     ]
    }
   ],
   "source": [
    "alien['x'] = 10  # 添加新的键值对（添加新的key会放到后面）\n",
    "alien['color'] = 'red'  # 修改字典中的值\n",
    "print(alien)"
   ]
  },
  {
   "cell_type": "code",
   "execution_count": 31,
   "metadata": {},
   "outputs": [
    {
     "name": "stdout",
     "output_type": "stream",
     "text": [
      "{'color': 'red', 'point': 5}\n"
     ]
    }
   ],
   "source": [
    "del alien['x']  # 删除键值对\n",
    "print(alien)"
   ]
  },
  {
   "cell_type": "code",
   "execution_count": 32,
   "metadata": {},
   "outputs": [],
   "source": [
    "favorite_languages = {\n",
    "    'jen': 'python',\n",
    "    'sarch': 'C', \n",
    "    'phil': 'python',  # * 建议保留逗号，为追加做准备\n",
    "}"
   ]
  },
  {
   "attachments": {},
   "cell_type": "markdown",
   "metadata": {},
   "source": [
    "## 6.2 字典的get()方法\n",
    "获取指定key对应的value, 如果key不存在，返回指定值(默认None)"
   ]
  },
  {
   "cell_type": "code",
   "execution_count": 34,
   "metadata": {},
   "outputs": [
    {
     "name": "stdout",
     "output_type": "stream",
     "text": [
      "{'jen': 'python', 'sarch': 'C', 'phil': 'python'}\n"
     ]
    }
   ],
   "source": [
    "print(favorite_languages)"
   ]
  },
  {
   "cell_type": "code",
   "execution_count": 37,
   "metadata": {},
   "outputs": [
    {
     "data": {
      "text/plain": [
       "'No this key.'"
      ]
     },
     "execution_count": 37,
     "metadata": {},
     "output_type": "execute_result"
    }
   ],
   "source": [
    "favorite_languages.get('jenn', \"No this key.\")"
   ]
  },
  {
   "attachments": {},
   "cell_type": "markdown",
   "metadata": {},
   "source": [
    "## 6.3 遍历字典"
   ]
  },
  {
   "cell_type": "code",
   "execution_count": 43,
   "metadata": {},
   "outputs": [
    {
     "data": {
      "text/plain": [
       "{'jen': 'python', 'sarch': 'C', 'phil': 'python'}"
      ]
     },
     "execution_count": 43,
     "metadata": {},
     "output_type": "execute_result"
    }
   ],
   "source": [
    "favorite_languages"
   ]
  },
  {
   "attachments": {},
   "cell_type": "markdown",
   "metadata": {},
   "source": [
    "遍历键值"
   ]
  },
  {
   "cell_type": "code",
   "execution_count": 42,
   "metadata": {},
   "outputs": [
    {
     "name": "stdout",
     "output_type": "stream",
     "text": [
      "\n",
      "key: jen\n",
      "value: python\n",
      "\n",
      "key: sarch\n",
      "value: C\n",
      "\n",
      "key: phil\n",
      "value: python\n"
     ]
    }
   ],
   "source": [
    "for key, value in favorite_languages.items():\n",
    "    print(f\"\\nkey: {key}\")\n",
    "    print(f\"value: {value}\")"
   ]
  },
  {
   "attachments": {},
   "cell_type": "markdown",
   "metadata": {},
   "source": [
    "遍历keys"
   ]
  },
  {
   "cell_type": "code",
   "execution_count": 44,
   "metadata": {},
   "outputs": [
    {
     "name": "stdout",
     "output_type": "stream",
     "text": [
      "jen\n",
      "sarch\n",
      "phil\n"
     ]
    }
   ],
   "source": [
    "for key in favorite_languages.keys():\n",
    "    print(key)"
   ]
  },
  {
   "attachments": {},
   "cell_type": "markdown",
   "metadata": {},
   "source": [
    "遍历values"
   ]
  },
  {
   "cell_type": "code",
   "execution_count": 45,
   "metadata": {},
   "outputs": [
    {
     "name": "stdout",
     "output_type": "stream",
     "text": [
      "python\n",
      "C\n",
      "python\n"
     ]
    }
   ],
   "source": [
    "for value in favorite_languages.values():\n",
    "    print(value)"
   ]
  },
  {
   "attachments": {},
   "cell_type": "markdown",
   "metadata": {},
   "source": [
    "# 第7章 用户输入和while循环"
   ]
  },
  {
   "cell_type": "code",
   "execution_count": null,
   "metadata": {},
   "outputs": [],
   "source": []
  }
 ],
 "metadata": {
  "kernelspec": {
   "display_name": "Python 3.10.6 ('astro')",
   "language": "python",
   "name": "python3"
  },
  "language_info": {
   "codemirror_mode": {
    "name": "ipython",
    "version": 3
   },
   "file_extension": ".py",
   "mimetype": "text/x-python",
   "name": "python",
   "nbconvert_exporter": "python",
   "pygments_lexer": "ipython3",
   "version": "3.10.6"
  },
  "orig_nbformat": 4,
  "vscode": {
   "interpreter": {
    "hash": "8894f366d6de9d393653cbb016f1795f39a856928ab40a2f97a943c59af84e17"
   }
  }
 },
 "nbformat": 4,
 "nbformat_minor": 2
}
