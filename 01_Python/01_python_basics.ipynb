{
 "cells": [
  {
   "cell_type": "markdown",
   "metadata": {},
   "source": [
    "# Python基础知识\n",
    "@author: Rui Zhu  \n",
    "@follow:《Python编程: 从入门到实践》(第2版)"
   ]
  },
  {
   "cell_type": "markdown",
   "metadata": {},
   "source": [
    "# 第1章 起步"
   ]
  },
  {
   "cell_type": "markdown",
   "metadata": {},
   "source": [
    "笔记\n",
    "* [Python社区官网](https://www.python.org)\n",
    "* 书中推荐使用的编辑器: [Sublime Text](http://www.sublimetext.com)\n",
    "* Sublime Text使用快捷键`Command + B`来执行程序\n",
    "* 在命令行中, 使用`python <xxx.py>` 来执行程序"
   ]
  },
  {
   "cell_type": "code",
   "execution_count": null,
   "metadata": {},
   "outputs": [],
   "source": [
    "import this"
   ]
  },
  {
   "cell_type": "markdown",
   "metadata": {},
   "source": [
    "# 第2章 变量和简单数据类型"
   ]
  },
  {
   "cell_type": "markdown",
   "metadata": {},
   "source": [
    "## 2.1 变量"
   ]
  },
  {
   "cell_type": "markdown",
   "metadata": {},
   "source": [
    "变量的命名规范  \n",
    "1. 变量名只能包含字母、数字、下划线, 但不能以数字打头\n",
    "2. 变量名不能包含空格\n",
    "3. 不要将python关键字和函数名作为变量名\n",
    "4. 变量名应简短且具有描述性\n",
    "5. 谨慎使用字母l和o\n",
    "6. 最好使用小写的变量名\n",
    "7. 常量最好用全大写表示"
   ]
  },
  {
   "cell_type": "markdown",
   "metadata": {},
   "source": [
    "变量是标签\n",
    "\n",
    "* 变量应理解为赋给值的标签, 也可以理解为变量指向特定的值"
   ]
  },
  {
   "cell_type": "markdown",
   "metadata": {},
   "source": [
    "py文件命名规范\n",
    "* 约定使用小写字母和下划线命名: simple_messages.py"
   ]
  },
  {
   "cell_type": "code",
   "execution_count": null,
   "metadata": {},
   "outputs": [],
   "source": [
    "# 多个变量赋值\n",
    "x, y, z = 0, 1, 2\n",
    "print(x, y, z)"
   ]
  },
  {
   "cell_type": "code",
   "execution_count": null,
   "metadata": {},
   "outputs": [],
   "source": [
    "# 常量最好用全大写表示\n",
    "MAX_CONNECTIONS = 5000"
   ]
  },
  {
   "cell_type": "markdown",
   "metadata": {},
   "source": [
    "## 2.2 字符串  \n",
    "* 在Python中，用引号括起来的都是字符串"
   ]
  },
  {
   "attachments": {},
   "cell_type": "markdown",
   "metadata": {},
   "source": [
    "### 修改字符串的大小写\n",
    "* 修改大小写的方法不改变原变量"
   ]
  },
  {
   "cell_type": "code",
   "execution_count": null,
   "metadata": {},
   "outputs": [],
   "source": [
    "name = \"ada lovelace\"\n",
    "print(f\"title()方法, 使每个单词的首字母都大写: {name.title()}\")\n",
    "print(f\"upper()方法, 使每个单词的字母都大写: {name.upper()}\")\n",
    "print(f\"lower()方法, 使每个单词的字母都小写: {name.lower()}\")"
   ]
  },
  {
   "cell_type": "markdown",
   "metadata": {},
   "source": [
    "### 格式化字符串\n",
    "* f字符串: python3.6之后可用, 可以替代之前的format()方法"
   ]
  },
  {
   "cell_type": "code",
   "execution_count": null,
   "metadata": {},
   "outputs": [],
   "source": [
    "first_name = 'Rui'\n",
    "last_name = 'Zhu'\n",
    "message = f\"hello, I'm {first_name} {last_name}.\"\n",
    "print(message)\n",
    "message = \"Today is {}-{}-{}.\".format(2022, 12, 2)\n",
    "print(message)"
   ]
  },
  {
   "cell_type": "markdown",
   "metadata": {},
   "source": [
    "### 制表符与换行符"
   ]
  },
  {
   "cell_type": "code",
   "execution_count": null,
   "metadata": {},
   "outputs": [],
   "source": [
    "print(\"test1\\ttest2\")\n",
    "print(\"test1  \\ttest2\")\n",
    "print(\"-\"*10)\n",
    "print(\"test1\\ntest2\")\n",
    "print(\"-\"*10)\n",
    "print(\"\\ntest1\\n\")\n",
    "print(\"test2\")"
   ]
  },
  {
   "cell_type": "markdown",
   "metadata": {},
   "source": [
    "### 删除字符串中的空白"
   ]
  },
  {
   "cell_type": "code",
   "execution_count": null,
   "metadata": {},
   "outputs": [],
   "source": [
    "string = '  py thon  '\n",
    "print(f\"原始字符串:{string}\")\n",
    "print(f\"rstrip()方法, 删掉末尾的字符串:{string.rstrip()}\")\n",
    "print(f\"lstrip()方法, 删掉开头的字符串:{string.lstrip()}\")\n",
    "print(f\"strip()方法, 删掉两头的字符串:{string.strip()}\")"
   ]
  },
  {
   "attachments": {},
   "cell_type": "markdown",
   "metadata": {},
   "source": [
    "### 多行字符串"
   ]
  },
  {
   "cell_type": "code",
   "execution_count": null,
   "metadata": {},
   "outputs": [],
   "source": [
    "prompt = \"If you tell us who you are, we can personalize the message you see.\"\n",
    "prompt += \"\\nWhat is your first name?\"\n",
    "print(prompt)"
   ]
  },
  {
   "cell_type": "markdown",
   "metadata": {},
   "source": [
    "## 2.3 数值"
   ]
  },
  {
   "cell_type": "code",
   "execution_count": null,
   "metadata": {},
   "outputs": [],
   "source": [
    "# 整数\n",
    "x1 = 2 ** 3\n",
    "x2 = 2^3  # 只有**才是乘方\n",
    "print(x1, x2)"
   ]
  },
  {
   "cell_type": "code",
   "execution_count": null,
   "metadata": {},
   "outputs": [],
   "source": [
    "# 浮点数\n",
    "print(0.2 + 0.1)\n",
    "print(3 * 0.1)"
   ]
  },
  {
   "cell_type": "code",
   "execution_count": null,
   "metadata": {},
   "outputs": [],
   "source": [
    "# 大数的表示\n",
    "age = 14_000_000_000\n",
    "print(age)"
   ]
  },
  {
   "cell_type": "markdown",
   "metadata": {},
   "source": [
    "# 第3章 列表\n",
    "* 列表由一系列按特定顺序排列的元素组成"
   ]
  },
  {
   "cell_type": "markdown",
   "metadata": {},
   "source": [
    "## 3.1 访问列表元素\n",
    "* 列表是有序集合, 使用0起始的数字索引\n",
    "* 特殊地, 列表的索引可以倒着数(-1, -2, ...)"
   ]
  },
  {
   "cell_type": "markdown",
   "metadata": {},
   "source": [
    "## 3.2 列表元素的增删改"
   ]
  },
  {
   "cell_type": "markdown",
   "metadata": {},
   "source": [
    "### 修改\n",
    "* 通过赋值修改列表元素"
   ]
  },
  {
   "cell_type": "code",
   "execution_count": null,
   "metadata": {},
   "outputs": [],
   "source": [
    "motorcycles = ['nonda', 'yamaha', 'suzuki']\n",
    "print(motorcycles)\n",
    "motorcycles[0] = 'ducato'\n",
    "print(motorcycles)"
   ]
  },
  {
   "cell_type": "markdown",
   "metadata": {},
   "source": [
    "### 增添\n",
    "* 方法1: append()将元素添加到列表末尾\n",
    "* 方法2: insert()指定位置添加新元素"
   ]
  },
  {
   "cell_type": "code",
   "execution_count": null,
   "metadata": {},
   "outputs": [],
   "source": [
    "motorcycles = []\n",
    "\n",
    "motorcycles.append(\"honda\")\n",
    "print(motorcycles)\n",
    "motorcycles.append(\"yamaha\")\n",
    "print(motorcycles)\n",
    "\n",
    "motorcycles.insert(1, 'suzuki')\n",
    "print(motorcycles)"
   ]
  },
  {
   "cell_type": "markdown",
   "metadata": {},
   "source": [
    "### 删除\n",
    "* 方法1: del语句, 删除指定位置的元素\n",
    "* 方法2: pop()方法, 弹出列表末尾的元素, 赋值给新的变量\n",
    "* 方法3: remove()方法, 移除指定元素(若多个相同元素, 只删除第一个)"
   ]
  },
  {
   "cell_type": "code",
   "execution_count": null,
   "metadata": {},
   "outputs": [],
   "source": [
    "motorcycles = ['nonda', 'yamaha', 'suzuki']\n",
    "\n",
    "# del语句\n",
    "del motorcycles[2]\n",
    "print(f\"test1: {motorcycles}\")\n",
    "\n",
    "motorcycles.append(\"suzuki\")\n",
    "motorcycles.append(\"yamaha\")\n",
    "print(f\"test2: {motorcycles}\")\n",
    "\n",
    "# pop()方法\n",
    "popped_name = motorcycles.pop()\n",
    "print(f\"test3.1: {motorcycles}\")\n",
    "print(f\"test3.2: {popped_name}\")\n",
    "\n",
    "motorcycles = motorcycles*2\n",
    "print(f\"test4: {motorcycles}\")\n",
    "popped_name = motorcycles.pop(0)  # pop方法可以指定索引弹出元素\n",
    "print(f\"test4.1: {motorcycles}\")\n",
    "print(f\"test4.2: {popped_name}\")\n",
    "\n",
    "# remove()方法\n",
    "motorcycles.remove(\"yamaha\")  # remove()方法一次只能除掉一个元素\n",
    "print(f\"test5: {motorcycles}\")"
   ]
  },
  {
   "cell_type": "markdown",
   "metadata": {},
   "source": [
    "## 3.3 列表排序\n",
    "* 方法1: sort()方法永久性修改元素的排序\n",
    "* 方法2: sorted()函数暂时修改元素的排序, 不影响列表本身"
   ]
  },
  {
   "cell_type": "code",
   "execution_count": null,
   "metadata": {},
   "outputs": [],
   "source": [
    "list_num = [6, 1, 3, 6, 14, 15, 13]\n",
    "\n",
    "test = list_num.copy()\n",
    "test.sort()\n",
    "print(test)\n",
    "\n",
    "test = list_num.copy()\n",
    "test.sort(reverse=True)\n",
    "print(test)"
   ]
  },
  {
   "cell_type": "code",
   "execution_count": null,
   "metadata": {},
   "outputs": [],
   "source": [
    "list_num = [6, 1, 3, 6, 14, 15, 13]\n",
    "\n",
    "test = list_num.copy()\n",
    "test_new = sorted(test, reverse=True)\n",
    "print(test)\n",
    "print(test_new)"
   ]
  },
  {
   "attachments": {},
   "cell_type": "markdown",
   "metadata": {},
   "source": [
    "# 第4章 操作列表"
   ]
  },
  {
   "attachments": {},
   "cell_type": "markdown",
   "metadata": {},
   "source": [
    "## 4.1 for循环\n",
    "略\n",
    "\n",
    "## 4.2 注意缩进\n",
    "略"
   ]
  },
  {
   "attachments": {},
   "cell_type": "markdown",
   "metadata": {},
   "source": [
    "## 4.3 创建数值列表"
   ]
  },
  {
   "attachments": {},
   "cell_type": "markdown",
   "metadata": {},
   "source": [
    "### range()函数创建列表\n",
    "* 语法: range(<起始值>, <终止值(不包含)>, <步长>)"
   ]
  },
  {
   "cell_type": "code",
   "execution_count": null,
   "metadata": {},
   "outputs": [],
   "source": [
    "for value in range(1, 6):\n",
    "    print(value, type(value))  # 遍历range的值的数据类型是整数\n",
    "type(range(1, 6))  # range()函数返回的不是列表"
   ]
  },
  {
   "cell_type": "code",
   "execution_count": null,
   "metadata": {},
   "outputs": [],
   "source": [
    "list(range(1, 6, 2))"
   ]
  },
  {
   "attachments": {},
   "cell_type": "markdown",
   "metadata": {},
   "source": [
    "### 列表解析\n",
    "* 一种简化生成列表的语法"
   ]
  },
  {
   "cell_type": "code",
   "execution_count": null,
   "metadata": {},
   "outputs": [],
   "source": [
    "# 实例1: 创建0.1-0.5的列表\n",
    "ls = []\n",
    "for value in range(1, 6):\n",
    "    ls.append(0.1*value)\n",
    "print(ls)"
   ]
  },
  {
   "cell_type": "code",
   "execution_count": null,
   "metadata": {},
   "outputs": [],
   "source": [
    "# 实例2: 列表解析的方法\n",
    "ls_new = [0.1*value for value in range(1, 6)]  # ! 注意没有冒号\n",
    "ls_new"
   ]
  },
  {
   "attachments": {},
   "cell_type": "markdown",
   "metadata": {},
   "source": [
    "## 4.4 列表的切片"
   ]
  },
  {
   "cell_type": "markdown",
   "metadata": {},
   "source": [
    "* 切片的语法: ls[<开始索引>:<终止索引>:<间隔值>]"
   ]
  },
  {
   "cell_type": "code",
   "execution_count": null,
   "metadata": {},
   "outputs": [],
   "source": [
    "ls = [str(value) for value in range(0, 10)]\n",
    "print(ls)\n",
    "print(ls[:6])\n",
    "print(ls[::2])"
   ]
  },
  {
   "attachments": {},
   "cell_type": "markdown",
   "metadata": {},
   "source": [
    "* 切片不关联, 等价于复制"
   ]
  },
  {
   "cell_type": "code",
   "execution_count": null,
   "metadata": {},
   "outputs": [],
   "source": [
    "ls_words = ['a', 'b', 'c']\n",
    "ls_words_new = ls_words[:]  # 相当于复制\n",
    "ls_words_new.append('e')\n",
    "print(ls_words)\n",
    "print(ls_words_new)"
   ]
  },
  {
   "cell_type": "code",
   "execution_count": null,
   "metadata": {},
   "outputs": [],
   "source": [
    "# 如果不切片, 则关联\n",
    "ls_words = ['a', 'b', 'c']\n",
    "ls_words_new = ls_words  # 相同指向, 相互关联\n",
    "ls_words_new.append('e')\n",
    "print(ls_words)\n",
    "print(ls_words_new)"
   ]
  },
  {
   "attachments": {},
   "cell_type": "markdown",
   "metadata": {},
   "source": [
    "## 4.5 元组(不可变的列表)\n",
    "* 元组的索引方式和列表相同\n",
    "* 定义只有一个元素的元组, 需要加逗号\n",
    "* 虽然不能修改元组的元素, 但可以通过重新赋值变量的方式修改"
   ]
  },
  {
   "cell_type": "code",
   "execution_count": null,
   "metadata": {},
   "outputs": [],
   "source": [
    "# 定义一个只有一个元素的元组\n",
    "dimensions = (3,)\n",
    "print(dimensions)"
   ]
  },
  {
   "attachments": {},
   "cell_type": "markdown",
   "metadata": {},
   "source": [
    "## 4.6 PEP 8 代码格式规范\n",
    "* https://pep8.org\n",
    "* 建议缩进使用4个空格\n",
    "* 建议行长不超过80个字符\n",
    "* 谨慎使用空行"
   ]
  },
  {
   "attachments": {},
   "cell_type": "markdown",
   "metadata": {},
   "source": [
    "# 第5章 if语句"
   ]
  },
  {
   "attachments": {},
   "cell_type": "markdown",
   "metadata": {},
   "source": [
    "## 5.1 条件测试\n",
    "* if语句的核心是值为True/False的表达式, 称为条件测试, 也称布尔表达式\n",
    "* 使用and/or连接两个条件时, 可将两个条件放进圆括号里, 改善可读性"
   ]
  },
  {
   "attachments": {},
   "cell_type": "markdown",
   "metadata": {},
   "source": [
    "## 5.2 if语句的种类"
   ]
  },
  {
   "attachments": {},
   "cell_type": "markdown",
   "metadata": {},
   "source": [
    "情况1: 单if语句\n",
    "* 满足条件则执行"
   ]
  },
  {
   "cell_type": "code",
   "execution_count": null,
   "metadata": {},
   "outputs": [],
   "source": [
    "age = 19\n",
    "if age >= 18:\n",
    "    print(\"You are old enough to vote!\")"
   ]
  },
  {
   "attachments": {},
   "cell_type": "markdown",
   "metadata": {},
   "source": [
    "情况2: if-else语句\n",
    "* 只有一个条件测试"
   ]
  },
  {
   "cell_type": "code",
   "execution_count": null,
   "metadata": {},
   "outputs": [],
   "source": [
    "age = 17\n",
    "if age >= 18:\n",
    "    print(\"You are ole enough to vote!\")\n",
    "else:\n",
    "    print(\"Sorry, you are too young to vote.\")"
   ]
  },
  {
   "attachments": {},
   "cell_type": "markdown",
   "metadata": {},
   "source": [
    "情况3: if-elif-else语句\n",
    "* 2个测试条件"
   ]
  },
  {
   "cell_type": "code",
   "execution_count": null,
   "metadata": {},
   "outputs": [],
   "source": [
    "num = 15\n",
    "if num <= 10:\n",
    "    print(\"The number is less than 10\")\n",
    "elif num < 20:\n",
    "    print(\"The number is bigger than 10 but less than 20\")\n",
    "else:\n",
    "    print(\"Too big\")"
   ]
  },
  {
   "attachments": {},
   "cell_type": "markdown",
   "metadata": {},
   "source": [
    "情况4: if-elif-elif-...-else语句\n",
    "* 大于等于3个条件测试"
   ]
  },
  {
   "attachments": {},
   "cell_type": "markdown",
   "metadata": {},
   "source": [
    "情况5: 无else的多测试条件结构"
   ]
  },
  {
   "cell_type": "code",
   "execution_count": null,
   "metadata": {},
   "outputs": [],
   "source": [
    "age = 12\n",
    "\n",
    "if  age < 4:\n",
    "    price = 0\n",
    "elif age < 18:\n",
    "    price = 25\n",
    "elif age < 65:\n",
    "    price = 40\n",
    "elif age >=65:\n",
    "    price = 20\n",
    "\n",
    "print(f\"Your admission cost is {price}.\")"
   ]
  },
  {
   "attachments": {},
   "cell_type": "markdown",
   "metadata": {},
   "source": [
    "情况6: 多个if语句完成多次条件判断的同时, 避免跳过其他判断"
   ]
  },
  {
   "attachments": {},
   "cell_type": "markdown",
   "metadata": {},
   "source": [
    "# 第6章 字典"
   ]
  },
  {
   "attachments": {},
   "cell_type": "markdown",
   "metadata": {},
   "source": [
    "## 6.1 字典的基本操作"
   ]
  },
  {
   "cell_type": "code",
   "execution_count": null,
   "metadata": {},
   "outputs": [],
   "source": [
    "alien = {}  # 创建空字典\n",
    "\n",
    "alien['color'] = 'green'  # 向字典中添加元素\n",
    "alien['point'] = 5\n",
    "\n",
    "print(alien)"
   ]
  },
  {
   "cell_type": "code",
   "execution_count": null,
   "metadata": {},
   "outputs": [],
   "source": [
    "alien['x'] = 10  # 添加新的键值对（添加新的key会放到后面）\n",
    "alien['color'] = 'red'  # 修改字典中的值\n",
    "print(alien)"
   ]
  },
  {
   "cell_type": "code",
   "execution_count": null,
   "metadata": {},
   "outputs": [],
   "source": [
    "del alien['x']  # 删除键值对\n",
    "print(alien)"
   ]
  },
  {
   "cell_type": "code",
   "execution_count": null,
   "metadata": {},
   "outputs": [],
   "source": [
    "favorite_languages = {\n",
    "    'jen': 'python',\n",
    "    'sarch': 'C', \n",
    "    'phil': 'python',  # * 建议保留逗号，为追加做准备\n",
    "}"
   ]
  },
  {
   "attachments": {},
   "cell_type": "markdown",
   "metadata": {},
   "source": [
    "## 6.2 字典的get()方法\n",
    "获取指定key对应的value, 如果key不存在，返回指定值(默认None)"
   ]
  },
  {
   "cell_type": "code",
   "execution_count": null,
   "metadata": {},
   "outputs": [],
   "source": [
    "print(favorite_languages)"
   ]
  },
  {
   "cell_type": "code",
   "execution_count": null,
   "metadata": {},
   "outputs": [],
   "source": [
    "favorite_languages.get('jenn', \"No this key.\")"
   ]
  },
  {
   "attachments": {},
   "cell_type": "markdown",
   "metadata": {},
   "source": [
    "## 6.3 遍历字典"
   ]
  },
  {
   "cell_type": "code",
   "execution_count": null,
   "metadata": {},
   "outputs": [],
   "source": [
    "favorite_languages"
   ]
  },
  {
   "attachments": {},
   "cell_type": "markdown",
   "metadata": {},
   "source": [
    "遍历键值"
   ]
  },
  {
   "cell_type": "code",
   "execution_count": null,
   "metadata": {},
   "outputs": [],
   "source": [
    "for key, value in favorite_languages.items():\n",
    "    print(f\"\\nkey: {key}\")\n",
    "    print(f\"value: {value}\")"
   ]
  },
  {
   "attachments": {},
   "cell_type": "markdown",
   "metadata": {},
   "source": [
    "遍历keys"
   ]
  },
  {
   "cell_type": "code",
   "execution_count": null,
   "metadata": {},
   "outputs": [],
   "source": [
    "for key in favorite_languages.keys():\n",
    "    print(key)"
   ]
  },
  {
   "attachments": {},
   "cell_type": "markdown",
   "metadata": {},
   "source": [
    "遍历values"
   ]
  },
  {
   "cell_type": "code",
   "execution_count": null,
   "metadata": {},
   "outputs": [],
   "source": [
    "for value in favorite_languages.values():\n",
    "    print(value)"
   ]
  },
  {
   "attachments": {},
   "cell_type": "markdown",
   "metadata": {},
   "source": [
    "# 第7章 用户输入和while循环"
   ]
  },
  {
   "attachments": {},
   "cell_type": "markdown",
   "metadata": {},
   "source": [
    "## 7.1 获取用户输入"
   ]
  },
  {
   "cell_type": "code",
   "execution_count": null,
   "metadata": {},
   "outputs": [],
   "source": [
    "name = input(\"Please enter your name:\")\n",
    "print(f\"Hello, {name}!\")"
   ]
  },
  {
   "attachments": {},
   "cell_type": "markdown",
   "metadata": {},
   "source": [
    "## 7.2 while循环\n",
    "* while 条件满足，执行语句；条件不满足，退出循环\n",
    "* 如果有多个检查条件，while的条件可以是bool变量\n",
    "* python中的任何循环都可以使用break关键字跳出循环"
   ]
  },
  {
   "cell_type": "code",
   "execution_count": null,
   "metadata": {},
   "outputs": [],
   "source": [
    "x = 0\n",
    "while x < 5:\n",
    "    print(x)\n",
    "    x += 1"
   ]
  },
  {
   "attachments": {},
   "cell_type": "markdown",
   "metadata": {},
   "source": [
    "### break关键字跳出循环"
   ]
  },
  {
   "cell_type": "code",
   "execution_count": null,
   "metadata": {},
   "outputs": [],
   "source": [
    "x = 0\n",
    "while x < 5:\n",
    "    print(x)\n",
    "    if x == 2:\n",
    "        break\n",
    "    x += 1"
   ]
  },
  {
   "attachments": {},
   "cell_type": "markdown",
   "metadata": {},
   "source": [
    "### continue关键字忽略下面代码"
   ]
  },
  {
   "cell_type": "code",
   "execution_count": 11,
   "metadata": {},
   "outputs": [
    {
     "name": "stdout",
     "output_type": "stream",
     "text": [
      "1\n",
      "3\n",
      "4\n",
      "5\n"
     ]
    }
   ],
   "source": [
    "x = 0\n",
    "while x < 5:\n",
    "    x += 1\n",
    "    if x == 2:\n",
    "        continue\n",
    "    print(x)  # x=2时, 执行continue, 忽略print, 然后继续循环"
   ]
  },
  {
   "attachments": {},
   "cell_type": "markdown",
   "metadata": {},
   "source": [
    "## 7.3 使用while循环处理列表和字典"
   ]
  },
  {
   "attachments": {},
   "cell_type": "markdown",
   "metadata": {},
   "source": [
    "### 循环列表\n",
    "* 列表非空则循环, 列表空了则终止"
   ]
  },
  {
   "cell_type": "code",
   "execution_count": 3,
   "metadata": {},
   "outputs": [
    {
     "name": "stdout",
     "output_type": "stream",
     "text": [
      "Verifying user: Candace\n",
      "Verifying user: Brian\n",
      "Verifying user: Alice\n",
      "\n",
      "The Following users have been confirmed:\n",
      "Candace\n",
      "Brian\n",
      "Alice\n"
     ]
    }
   ],
   "source": [
    "# 示例: 逐个验证未在网站上验证的用户\n",
    "unconfirmed_users = ['alice', 'brian', 'candace']\n",
    "confirmed_users = []\n",
    "while unconfirmed_users:\n",
    "    current_user = unconfirmed_users.pop()\n",
    "    print(f\"Verifying user: {current_user.title()}\")\n",
    "    confirmed_users.append(current_user)\n",
    "\n",
    "print(\"\\nThe Following users have been confirmed:\")\n",
    "for name in confirmed_users:\n",
    "    print(name.title())"
   ]
  },
  {
   "attachments": {},
   "cell_type": "markdown",
   "metadata": {},
   "source": [
    "### 删除列表中的多个重复元素"
   ]
  },
  {
   "cell_type": "code",
   "execution_count": 5,
   "metadata": {},
   "outputs": [
    {
     "name": "stdout",
     "output_type": "stream",
     "text": [
      "['a', 'b', 'a', 'c', 'a', 'd', 'e']\n",
      "['b', 'a', 'c', 'a', 'd', 'e']\n",
      "['b', 'c', 'a', 'd', 'e']\n",
      "['b', 'c', 'd', 'e']\n",
      "['b', 'c', 'd', 'e']\n"
     ]
    }
   ],
   "source": [
    "ls = ['a', 'b', 'a', 'c', 'a', 'd', 'e']\n",
    "print(ls)\n",
    "while 'a' in ls:\n",
    "    ls.remove('a')  # remove方法每次只删除最前面的\n",
    "    print(ls)\n",
    "print(ls)"
   ]
  },
  {
   "attachments": {},
   "cell_type": "markdown",
   "metadata": {},
   "source": [
    "# 第8章 函数"
   ]
  },
  {
   "cell_type": "code",
   "execution_count": null,
   "metadata": {},
   "outputs": [],
   "source": []
  }
 ],
 "metadata": {
  "kernelspec": {
   "display_name": "Python 3.10.6 ('astro')",
   "language": "python",
   "name": "python3"
  },
  "language_info": {
   "codemirror_mode": {
    "name": "ipython",
    "version": 3
   },
   "file_extension": ".py",
   "mimetype": "text/x-python",
   "name": "python",
   "nbconvert_exporter": "python",
   "pygments_lexer": "ipython3",
   "version": "3.10.6"
  },
  "orig_nbformat": 4,
  "vscode": {
   "interpreter": {
    "hash": "8894f366d6de9d393653cbb016f1795f39a856928ab40a2f97a943c59af84e17"
   }
  }
 },
 "nbformat": 4,
 "nbformat_minor": 2
}
