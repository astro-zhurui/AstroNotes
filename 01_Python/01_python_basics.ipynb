{
 "cells": [
  {
   "cell_type": "markdown",
   "metadata": {},
   "source": [
    "# Python基础知识\n",
    "@author: Rui Zhu  \n",
    "@follow:《Python编程: 从入门到实践》(第2版)"
   ]
  },
  {
   "cell_type": "markdown",
   "metadata": {},
   "source": [
    "# 第1章 起步"
   ]
  },
  {
   "cell_type": "markdown",
   "metadata": {},
   "source": [
    "笔记\n",
    "* [Python社区官网](https://www.python.org)\n",
    "* 书中推荐使用的编辑器: [Sublime Text](http://www.sublimetext.com)\n",
    "* Sublime Text使用快捷键`Command + B`来执行程序\n",
    "* 在命令行中, 使用`python <xxx.py>` 来执行程序"
   ]
  },
  {
   "cell_type": "code",
   "execution_count": 35,
   "metadata": {},
   "outputs": [],
   "source": [
    "import this"
   ]
  },
  {
   "cell_type": "markdown",
   "metadata": {},
   "source": [
    "# 第2章 变量和简单数据类型"
   ]
  },
  {
   "cell_type": "markdown",
   "metadata": {},
   "source": [
    "## 2.1 变量"
   ]
  },
  {
   "cell_type": "markdown",
   "metadata": {},
   "source": [
    "变量的命名规范  \n",
    "1. 变量名只能包含字母、数字、下划线, 但不能以数字打头\n",
    "2. 变量名不能包含空格\n",
    "3. 不要将python关键字和函数名作为变量名\n",
    "4. 变量名应简短且具有描述性\n",
    "5. 谨慎使用字母l和o\n",
    "6. 最好使用小写的变量名\n",
    "7. 常量最好用全大写表示"
   ]
  },
  {
   "cell_type": "markdown",
   "metadata": {},
   "source": [
    "变量是标签\n",
    "\n",
    "* 变量应理解为赋给值的标签, 也可以理解为变量指向特定的值"
   ]
  },
  {
   "cell_type": "markdown",
   "metadata": {},
   "source": [
    "py文件命名规范\n",
    "* 约定使用小写字母和下划线命名: simple_messages.py"
   ]
  },
  {
   "cell_type": "code",
   "execution_count": 32,
   "metadata": {},
   "outputs": [
    {
     "name": "stdout",
     "output_type": "stream",
     "text": [
      "0 1 2\n"
     ]
    }
   ],
   "source": [
    "# 多个变量赋值\n",
    "x, y, z = 0, 1, 2\n",
    "print(x, y, z)"
   ]
  },
  {
   "cell_type": "code",
   "execution_count": 33,
   "metadata": {},
   "outputs": [],
   "source": [
    "# 常量最好用全大写表示\n",
    "MAX_CONNECTIONS = 5000"
   ]
  },
  {
   "cell_type": "markdown",
   "metadata": {},
   "source": [
    "## 2.2 字符串  \n",
    "* 在Python中，用引号括起来的都是字符串"
   ]
  },
  {
   "cell_type": "markdown",
   "metadata": {},
   "source": [
    "### 修改字符串的大小写"
   ]
  },
  {
   "cell_type": "code",
   "execution_count": 3,
   "metadata": {},
   "outputs": [
    {
     "name": "stdout",
     "output_type": "stream",
     "text": [
      "title()方法, 使每个单词的首字母都大写: Ada Lovelace\n",
      "upper()方法, 使每个单词的字母都大写: ADA LOVELACE\n",
      "lower()方法, 使每个单词的字母都小写: ada lovelace\n"
     ]
    }
   ],
   "source": [
    "name = \"ada lovelace\"\n",
    "print(f\"title()方法, 使每个单词的首字母都大写: {name.title()}\")\n",
    "print(f\"upper()方法, 使每个单词的字母都大写: {name.upper()}\")\n",
    "print(f\"lower()方法, 使每个单词的字母都小写: {name.lower()}\")"
   ]
  },
  {
   "cell_type": "markdown",
   "metadata": {},
   "source": [
    "### 格式化字符串\n",
    "* f字符串: python3.6之后可用, 可以替代之前的format()方法"
   ]
  },
  {
   "cell_type": "code",
   "execution_count": 8,
   "metadata": {},
   "outputs": [
    {
     "name": "stdout",
     "output_type": "stream",
     "text": [
      "hello, I'm Rui Zhu.\n",
      "Today is 2022-12-2.\n"
     ]
    }
   ],
   "source": [
    "first_name = 'Rui'\n",
    "last_name = 'Zhu'\n",
    "message = f\"hello, I'm {first_name} {last_name}.\"\n",
    "print(message)\n",
    "message = \"Today is {}-{}-{}.\".format(2022, 12, 2)\n",
    "print(message)"
   ]
  },
  {
   "cell_type": "markdown",
   "metadata": {},
   "source": [
    "### 制表符与换行符"
   ]
  },
  {
   "cell_type": "code",
   "execution_count": 16,
   "metadata": {},
   "outputs": [
    {
     "name": "stdout",
     "output_type": "stream",
     "text": [
      "test1\ttest2\n",
      "test1  \ttest2\n",
      "----------\n",
      "test1\n",
      "test2\n",
      "----------\n",
      "\n",
      "test1\n",
      "\n",
      "test2\n"
     ]
    }
   ],
   "source": [
    "print(\"test1\\ttest2\")\n",
    "print(\"test1  \\ttest2\")\n",
    "print(\"-\"*10)\n",
    "print(\"test1\\ntest2\")\n",
    "print(\"-\"*10)\n",
    "print(\"\\ntest1\\n\")\n",
    "print(\"test2\")"
   ]
  },
  {
   "cell_type": "markdown",
   "metadata": {},
   "source": [
    "### 删除字符串中的空白"
   ]
  },
  {
   "cell_type": "code",
   "execution_count": 22,
   "metadata": {},
   "outputs": [
    {
     "name": "stdout",
     "output_type": "stream",
     "text": [
      "原始字符串:  py thon  \n",
      "rstrip()方法, 删掉末尾的字符串:  py thon\n",
      "lstrip()方法, 删掉开头的字符串:py thon  \n",
      "strip()方法, 删掉两头的字符串:py thon\n"
     ]
    }
   ],
   "source": [
    "string = '  py thon  '\n",
    "print(f\"原始字符串:{string}\")\n",
    "print(f\"rstrip()方法, 删掉末尾的字符串:{string.rstrip()}\")\n",
    "print(f\"lstrip()方法, 删掉开头的字符串:{string.lstrip()}\")\n",
    "print(f\"strip()方法, 删掉两头的字符串:{string.strip()}\")"
   ]
  },
  {
   "cell_type": "markdown",
   "metadata": {},
   "source": [
    "## 2.3 数值"
   ]
  },
  {
   "cell_type": "code",
   "execution_count": 26,
   "metadata": {},
   "outputs": [
    {
     "name": "stdout",
     "output_type": "stream",
     "text": [
      "8 1\n"
     ]
    }
   ],
   "source": [
    "# 整数\n",
    "x1 = 2 ** 3\n",
    "x2 = 2^3  # 只有**才是乘方\n",
    "print(x1, x2)"
   ]
  },
  {
   "cell_type": "code",
   "execution_count": 28,
   "metadata": {},
   "outputs": [
    {
     "name": "stdout",
     "output_type": "stream",
     "text": [
      "0.30000000000000004\n",
      "0.30000000000000004\n"
     ]
    }
   ],
   "source": [
    "# 浮点数\n",
    "print(0.2 + 0.1)\n",
    "print(3 * 0.1)"
   ]
  },
  {
   "cell_type": "code",
   "execution_count": 31,
   "metadata": {},
   "outputs": [
    {
     "name": "stdout",
     "output_type": "stream",
     "text": [
      "14000000000\n"
     ]
    }
   ],
   "source": [
    "# 大数的表示\n",
    "age = 14_000_000_000\n",
    "print(age)"
   ]
  },
  {
   "cell_type": "markdown",
   "metadata": {},
   "source": [
    "# 第3章 列表\n",
    "* 列表由一系列按特定顺序排列的元素组成"
   ]
  },
  {
   "cell_type": "markdown",
   "metadata": {},
   "source": [
    "## 3.1 访问列表元素\n",
    "* 列表是有序集合, 使用0起始的数字索引\n",
    "* 特殊地, 列表的索引可以倒着数(-1, -2, ...)"
   ]
  },
  {
   "cell_type": "markdown",
   "metadata": {},
   "source": [
    "## 3.2 列表元素的增删改"
   ]
  },
  {
   "cell_type": "markdown",
   "metadata": {},
   "source": [
    "### 修改\n",
    "* 通过赋值修改列表元素"
   ]
  },
  {
   "cell_type": "code",
   "execution_count": 1,
   "metadata": {},
   "outputs": [
    {
     "name": "stdout",
     "output_type": "stream",
     "text": [
      "['nonda', 'yamaha', 'suzuki']\n",
      "['ducato', 'yamaha', 'suzuki']\n"
     ]
    }
   ],
   "source": [
    "motorcycles = ['nonda', 'yamaha', 'suzuki']\n",
    "print(motorcycles)\n",
    "motorcycles[0] = 'ducato'\n",
    "print(motorcycles)"
   ]
  },
  {
   "cell_type": "markdown",
   "metadata": {},
   "source": [
    "### 增添\n",
    "* 方法1: append()将元素添加到列表末尾\n",
    "* 方法2: insert()指定位置添加新元素"
   ]
  },
  {
   "cell_type": "code",
   "execution_count": 7,
   "metadata": {},
   "outputs": [
    {
     "name": "stdout",
     "output_type": "stream",
     "text": [
      "['honda']\n",
      "['honda', 'yamaha']\n",
      "['honda', 'suzuki', 'yamaha']\n"
     ]
    }
   ],
   "source": [
    "motorcycles = []\n",
    "\n",
    "motorcycles.append(\"honda\")\n",
    "print(motorcycles)\n",
    "motorcycles.append(\"yamaha\")\n",
    "print(motorcycles)\n",
    "\n",
    "motorcycles.insert(1, 'suzuki')\n",
    "print(motorcycles)"
   ]
  },
  {
   "cell_type": "markdown",
   "metadata": {},
   "source": [
    "### 删除\n",
    "* 方法1: del语句, 删除指定位置的元素\n",
    "* 方法2: pop()方法, 弹出列表末尾的元素, 赋值给新的变量\n",
    "* 方法3: remove()方法, 移除指定元素(若多个相同元素, 只删除第一个)"
   ]
  },
  {
   "cell_type": "code",
   "execution_count": 17,
   "metadata": {},
   "outputs": [
    {
     "name": "stdout",
     "output_type": "stream",
     "text": [
      "test1: ['nonda', 'yamaha']\n",
      "test2: ['nonda', 'yamaha', 'suzuki', 'yamaha']\n",
      "test3.1: ['nonda', 'yamaha', 'suzuki']\n",
      "test3.2: yamaha\n",
      "test4: ['nonda', 'yamaha', 'suzuki', 'nonda', 'yamaha', 'suzuki']\n",
      "test4.1: ['yamaha', 'suzuki', 'nonda', 'yamaha', 'suzuki']\n",
      "test4.2: nonda\n",
      "test5: ['suzuki', 'nonda', 'yamaha', 'suzuki']\n"
     ]
    }
   ],
   "source": [
    "motorcycles = ['nonda', 'yamaha', 'suzuki']\n",
    "\n",
    "# del语句\n",
    "del motorcycles[2]\n",
    "print(f\"test1: {motorcycles}\")\n",
    "\n",
    "motorcycles.append(\"suzuki\")\n",
    "motorcycles.append(\"yamaha\")\n",
    "print(f\"test2: {motorcycles}\")\n",
    "\n",
    "# pop()方法\n",
    "popped_name = motorcycles.pop()\n",
    "print(f\"test3.1: {motorcycles}\")\n",
    "print(f\"test3.2: {popped_name}\")\n",
    "\n",
    "motorcycles = motorcycles*2\n",
    "print(f\"test4: {motorcycles}\")\n",
    "popped_name = motorcycles.pop(0)  # pop方法可以指定索引弹出元素\n",
    "print(f\"test4.1: {motorcycles}\")\n",
    "print(f\"test4.2: {popped_name}\")\n",
    "\n",
    "# remove()方法\n",
    "motorcycles.remove(\"yamaha\")  # remove()方法一次只能除掉一个元素\n",
    "print(f\"test5: {motorcycles}\")"
   ]
  },
  {
   "cell_type": "markdown",
   "metadata": {},
   "source": [
    "## 3.3 列表排序\n",
    "* 方法1: sort()方法永久性修改元素的排序\n",
    "* 方法2: sorted()函数暂时修改元素的排序, 不影响列表本身"
   ]
  },
  {
   "cell_type": "code",
   "execution_count": 21,
   "metadata": {},
   "outputs": [
    {
     "name": "stdout",
     "output_type": "stream",
     "text": [
      "[1, 3, 6, 6, 13, 14, 15]\n",
      "[15, 14, 13, 6, 6, 3, 1]\n"
     ]
    }
   ],
   "source": [
    "list_num = [6, 1, 3, 6, 14, 15, 13]\n",
    "\n",
    "test = list_num.copy()\n",
    "test.sort()\n",
    "print(test)\n",
    "\n",
    "test = list_num.copy()\n",
    "test.sort(reverse=True)\n",
    "print(test)"
   ]
  },
  {
   "cell_type": "code",
   "execution_count": 25,
   "metadata": {},
   "outputs": [
    {
     "name": "stdout",
     "output_type": "stream",
     "text": [
      "[6, 1, 3, 6, 14, 15, 13]\n",
      "[15, 14, 13, 6, 6, 3, 1]\n"
     ]
    }
   ],
   "source": [
    "list_num = [6, 1, 3, 6, 14, 15, 13]\n",
    "\n",
    "test = list_num.copy()\n",
    "test_new = sorted(test, reverse=True)\n",
    "print(test)\n",
    "print(test_new)"
   ]
  }
 ],
 "metadata": {
  "kernelspec": {
   "display_name": "Python 3.10.6 ('astro')",
   "language": "python",
   "name": "python3"
  },
  "language_info": {
   "codemirror_mode": {
    "name": "ipython",
    "version": 3
   },
   "file_extension": ".py",
   "mimetype": "text/x-python",
   "name": "python",
   "nbconvert_exporter": "python",
   "pygments_lexer": "ipython3",
   "version": "3.10.6"
  },
  "orig_nbformat": 4,
  "vscode": {
   "interpreter": {
    "hash": "8894f366d6de9d393653cbb016f1795f39a856928ab40a2f97a943c59af84e17"
   }
  }
 },
 "nbformat": 4,
 "nbformat_minor": 2
}
