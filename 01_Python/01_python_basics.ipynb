{
 "cells": [
  {
   "cell_type": "markdown",
   "metadata": {},
   "source": [
    "# Python基础知识\n",
    "@author: Rui Zhu  \n",
    "@follow:《Python编程: 从入门到实践》(第2版)"
   ]
  },
  {
   "cell_type": "markdown",
   "metadata": {},
   "source": [
    "# 第1章 起步"
   ]
  },
  {
   "cell_type": "markdown",
   "metadata": {},
   "source": [
    "笔记\n",
    "* [Python社区官网](https://www.python.org)\n",
    "* 书中推荐使用的编辑器: [Sublime Text](http://www.sublimetext.com)\n",
    "* Sublime Text使用快捷键`Command + B`来执行程序\n",
    "* 在命令行中, 使用`python <xxx.py>` 来执行程序"
   ]
  },
  {
   "cell_type": "markdown",
   "metadata": {},
   "source": [
    "# 第2章 变量和简单数据类型"
   ]
  },
  {
   "cell_type": "markdown",
   "metadata": {},
   "source": [
    "## 2.1 变量"
   ]
  },
  {
   "cell_type": "markdown",
   "metadata": {},
   "source": [
    "变量的命名规范  \n",
    "1. 变量名只能包含字母、数字、下划线, 但不能以数字打头\n",
    "2. 变量名不能包含空格\n",
    "3. 不要将python关键字和函数名作为变量名\n",
    "4. 变量名应简短且具有描述性\n",
    "5. 谨慎使用字母l和o\n",
    "6. 最好使用小写的变量名"
   ]
  },
  {
   "cell_type": "markdown",
   "metadata": {},
   "source": [
    "变量是标签\n",
    "\n",
    "* 变量应理解为赋给值的标签, 也可以理解为变量指向特定的值"
   ]
  },
  {
   "cell_type": "markdown",
   "metadata": {},
   "source": [
    "py文件命名规范\n",
    "* 约定使用小写字母和下划线命名: simple_messages.py"
   ]
  },
  {
   "cell_type": "markdown",
   "metadata": {},
   "source": [
    "## 2.2 字符串"
   ]
  },
  {
   "cell_type": "code",
   "execution_count": null,
   "metadata": {},
   "outputs": [],
   "source": []
  }
 ],
 "metadata": {
  "kernelspec": {
   "display_name": "Python 3.10.6 ('astro')",
   "language": "python",
   "name": "python3"
  },
  "language_info": {
   "name": "python",
   "version": "3.10.6"
  },
  "orig_nbformat": 4,
  "vscode": {
   "interpreter": {
    "hash": "8894f366d6de9d393653cbb016f1795f39a856928ab40a2f97a943c59af84e17"
   }
  }
 },
 "nbformat": 4,
 "nbformat_minor": 2
}
