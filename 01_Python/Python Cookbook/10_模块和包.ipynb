{
 "cells": [
  {
   "cell_type": "markdown",
   "metadata": {},
   "source": [
    "---\n",
    "## 10.1 把模块按层次结构组织成包\n",
    "\n",
    "@2023-09-04\n",
    "\n",
    "### 问题\n",
    "将代码按照一定层次结构组织成包\n",
    "\n",
    "### 工具\n",
    "定义`__init__.py`文件\n",
    "\n",
    "### 笔记\n",
    "* `__init__.py`的目的：将所在目录变成一个包，使其可以import；并且其中可以自选填写一些初始化代码\n",
    "* 大部分情况`__init__.py`文件可以留空\n",
    "* 可以使用`__init__.py`文件自动加载子模块，实现把多个文件中的定义统一到一个单独的逻辑命名空间中"
   ]
  },
  {
   "cell_type": "markdown",
   "metadata": {},
   "source": [
    "---\n",
    "## 10.2 精确控制导入内容\n",
    "\n",
    "@2023-09-04\n",
    "\n",
    "### 问题\n",
    "当使用`from <module> import *`语句时，实现导入的类或函数实现精准控制\n",
    "\n",
    "### 工具\n",
    "变量`__all__`\n",
    "\n",
    "### 笔记\n",
    "* 实例：`__all__ = ['<class>', '<func1>']`\n",
    "* 只有显式列出的符号才会被导入\n",
    "* 如果为空列表，任何符号都不会被导入\n",
    "* 如果有没定义的名称，会抛出`AttrobuteError`异常"
   ]
  },
  {
   "cell_type": "markdown",
   "metadata": {},
   "source": [
    "---\n",
    "## 10.3 使用相对名称导入包中的子模块\n",
    "\n",
    "@2023-09-04\n",
    "\n",
    "### 问题\n",
    "在同一个包中，实现在一个子模块中引用另一个子模块，又不希望在import语句中硬编码包的名称\n",
    "\n",
    "### 笔记\n",
    "* 相对名称：在子包A中的一个模块spam.py中引用与子包A同目录的子包B中的模块bar.py, 使用`from ..B import bar`\n",
    "* 当然也可以使用绝对名称，即最顶层开始引用\n",
    "* 使用相对引用需要注意：\n",
    "    1. 位于顶层目录中的模块不能使用相对引用\n",
    "    2. 如果包中某个模块要以脚本的形式执行，也不能使用相对导入，而是使用命令`python3 -m mypackage.A.spam`"
   ]
  },
  {
   "cell_type": "markdown",
   "metadata": {},
   "source": [
    "---\n",
    "## 10.4 将模块分解成多个文件\n",
    "\n",
    "@2023-09-04\n",
    "### 问题\n",
    "希望将一个模块分解成多个文件方便管理，但是又不想改变已经使用这个模块的代码\n",
    "\n",
    "### 笔记\n",
    "* 将这个模块变成文件夹，代码块升级成单独的模块文件，然后在`__init__.py`文件中添加代码`from .a import A` & `from .b import B`\n",
    "* 使用相对引用的目的是使移动变得容易\n",
    "* 惰性加载(仅在需要时加载，而不是全部加载，可使用以下代码)：\n",
    "```\n",
    "# __init__.py\n",
    "\n",
    "def A():\n",
    "    from .a import A\n",
    "    return A()\n",
    "\n",
    "def B():\n",
    "    from .b import B\n",
    "    return B()\n",
    "```\n",
    "* 一般情况惰性加载不会有问题，但是其会破坏继承和类型检查机制（见书P413）"
   ]
  },
  {
   "cell_type": "markdown",
   "metadata": {},
   "source": [
    "---\n",
    "## 10.5 不同目录下的代码在统一的命名空间下导入\n",
    "\n",
    "@2023-09-04\n",
    "\n",
    "### 问题\n",
    "有两个人，同时为一个子包开发不同功能的模块，如何将其联合起来，使用统一的前缀命名\n",
    "例如:\n",
    "```\n",
    "foo-package/\n",
    "    spam/\n",
    "        blah.py\n",
    "\n",
    "bar-package/\n",
    "    spam/\n",
    "        grok.py\n",
    "```\n",
    "\n",
    "### 笔记\n",
    "* 做法：\n",
    "    1. 确保两个模块所在的目录没有__init__.py文件\n",
    "    2. 将`foo-package`&`bar-package`添加到模块的查询路径中  \n",
    "        ```import sys```  \n",
    "        ```sys.path.extend(['foo-package', 'bar-package'])```  \n",
    "        ```import spam.blah```  \n",
    "        ```import spam.grok```"
   ]
  },
  {
   "cell_type": "markdown",
   "metadata": {},
   "source": [
    "---\n",
    "## 10.6 重新加载模块\n",
    "\n",
    "@2023-09-04\n",
    "\n",
    "### 问题\n",
    "在交互模式中对正在开发的模块进行测试，希望重新加载已经加载过的模块\n",
    "\n",
    "### 工具\n",
    "importlib库\n",
    "\n",
    "### 笔记\n",
    "* 方法\n",
    "```\n",
    "import astrokit\n",
    "\n",
    "import importlib\n",
    "importlib.reload(astrokit)\n",
    "```\n",
    "* 注意：对于`from <module> import <name>`这样的定义，reload()不会去更新"
   ]
  },
  {
   "cell_type": "markdown",
   "metadata": {},
   "source": [
    "---\n",
    "## 10.7 让目录或zip文件成为可运行的脚本\n",
    "\n",
    "@2023-09-07\n",
    "\n",
    "### 问题\n",
    "直接在命令行中运行python包\n",
    "\n",
    "### 工具\n",
    "`__main__.py`文件\n",
    "\n",
    "### 笔记\n",
    "只要在顶层目录下放一个`__main__.py`文件，就可以实现在命令行中运行这个包.(目前不知道使用场景...)"
   ]
  },
  {
   "cell_type": "markdown",
   "metadata": {},
   "source": [
    "---\n",
    "## 10.8 读取包中的数据文件\n",
    "\n",
    "@2023-09-07\n",
    "\n",
    "### 问题\n",
    "包通常安装为.zip文件，这个普通目录存放的文件方式不同，因此不能使用传统的open()等方式加载数据。\n",
    "\n",
    "### 工具\n",
    "pkgutil包\n",
    "\n",
    "### 笔记\n",
    "```\n",
    "import pkgutil\n",
    "data = pkgutil.get_data(__package__, 'somedata.dat')\n",
    "```"
   ]
  },
  {
   "cell_type": "markdown",
   "metadata": {},
   "source": [
    "---\n",
    "## 10.9 添加目录到sys.path中\n",
    "\n",
    "@2023-09-07\n",
    "\n",
    "### 问题\n",
    "将自制的python包添加到python的sys.path目录中，使其能够被其他程序导入\n",
    "\n",
    "### 工具\n",
    "1. 环境变量PYTHONPATH\n",
    "2. .pth文件\n",
    "3. sys.path.insert()函数\n",
    "\n",
    "### 笔记\n",
    "* 方法1: 将目录添加到系统全局变量`PYTHONPATH`中\n",
    "* 方法2: 编辑`.pth`文件到python解释器中的`site-packages`目录中\n",
    "* 方法3: 手动调整sys.path的值\n",
    "```\n",
    "        import sys\n",
    "        sys.path.insert(0, '<dir>')\n",
    "```"
   ]
  },
  {
   "cell_type": "code",
   "execution_count": 1,
   "metadata": {},
   "outputs": [
    {
     "data": {
      "text/plain": [
       "['/Users/rui/Code/1_Astronote/01_Python/Python Cookbook',\n",
       " '/Users/rui/Packages/morph3dhst',\n",
       " '/Users/rui/Packages/astrokit',\n",
       " '/Users/rui/miniconda3/envs/astro/lib/python311.zip',\n",
       " '/Users/rui/miniconda3/envs/astro/lib/python3.11',\n",
       " '/Users/rui/miniconda3/envs/astro/lib/python3.11/lib-dynload',\n",
       " '',\n",
       " '/Users/rui/miniconda3/envs/astro/lib/python3.11/site-packages']"
      ]
     },
     "execution_count": 1,
     "metadata": {},
     "output_type": "execute_result"
    }
   ],
   "source": [
    "import sys\n",
    "sys.path"
   ]
  },
  {
   "cell_type": "markdown",
   "metadata": {},
   "source": [
    "---\n",
    "## 10.10 使用名称字符串来导入模块\n",
    "\n",
    "@2023-09-09\n",
    "\n",
    "### 问题\n",
    "已有一个包的名称字符串, 想使用这个字符串来导入这个包\n",
    "\n",
    "### 工具\n",
    "`importlib.import_module()函数`\n",
    "\n",
    "### 笔记\n",
    "可以使用相对导入, 但是必须添加一个参数`__package__`  \n",
    "`b = importlib.import_module('.b', __package__)`等价于`from . import b`"
   ]
  },
  {
   "cell_type": "code",
   "execution_count": 4,
   "metadata": {},
   "outputs": [
    {
     "data": {
      "text/plain": [
       "0.9092974268256817"
      ]
     },
     "execution_count": 4,
     "metadata": {},
     "output_type": "execute_result"
    }
   ],
   "source": [
    "import importlib\n",
    "math = importlib.import_module('math')\n",
    "math.sin(2)"
   ]
  },
  {
   "cell_type": "markdown",
   "metadata": {},
   "source": [
    "---\n",
    "## 10.11 利用import钩子从远端机器上加载模块\n",
    "\n",
    "@2023-09-09\n",
    "\n",
    "x"
   ]
  },
  {
   "cell_type": "markdown",
   "metadata": {},
   "source": [
    "---\n",
    "## 10.12 在模块加载时为其打补丁\n",
    "\n",
    "@2023-09-09\n",
    "\n",
    "x"
   ]
  },
  {
   "cell_type": "markdown",
   "metadata": {},
   "source": [
    "---\n",
    "## 10.13 安装只为自己使用的包\n",
    "\n",
    "@2023-09-09\n",
    "\n",
    "### 问题\n",
    "在多用户使用的计算机中, 只为自己的用户下安装python包\n",
    "\n",
    "### 笔记\n",
    "* 方法1: 使用安装命令`python3 setup.py install -user`\n",
    "* 方法2: 使用pip `pip install --user <package name>`"
   ]
  },
  {
   "cell_type": "markdown",
   "metadata": {},
   "source": [
    "---\n",
    "## 10.14 创建新的Python环境\n",
    "\n",
    "@2023-09-09\n",
    "\n",
    "书中介绍使用`pyvenv`命令创建虚拟环境, 还是使用conda吧~"
   ]
  },
  {
   "cell_type": "markdown",
   "metadata": {},
   "source": [
    "---\n",
    "## 10.15 发布自定义的包\n",
    "\n",
    "@2023-09-09\n",
    "\n",
    "不用书中的方法, 见notion笔记上传到pypi"
   ]
  }
 ],
 "metadata": {
  "kernelspec": {
   "display_name": "astro",
   "language": "python",
   "name": "python3"
  },
  "language_info": {
   "codemirror_mode": {
    "name": "ipython",
    "version": 3
   },
   "file_extension": ".py",
   "mimetype": "text/x-python",
   "name": "python",
   "nbconvert_exporter": "python",
   "pygments_lexer": "ipython3",
   "version": "3.12.0"
  },
  "orig_nbformat": 4
 },
 "nbformat": 4,
 "nbformat_minor": 2
}
