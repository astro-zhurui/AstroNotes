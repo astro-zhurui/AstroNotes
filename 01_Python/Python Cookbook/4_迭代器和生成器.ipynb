{
 "cells": [
  {
   "cell_type": "markdown",
   "metadata": {},
   "source": [
    "---\n",
    "## 4.1 手动访问迭代器中的元素 (next函数)\n",
    "@2023.09.01\n",
    "\n",
    "### 问题\n",
    "正常来说, 一般使用for循环来遍历迭代器.\n",
    "但是有时候不能也不像使用for循环, 这时可以使用next()函数, 手动取出迭代器里的元素\n",
    "\n",
    "### 工具\n",
    "next()函数"
   ]
  },
  {
   "cell_type": "code",
   "execution_count": 8,
   "metadata": {},
   "outputs": [
    {
     "name": "stdout",
     "output_type": "stream",
     "text": [
      "the first line\n",
      "the second line\n",
      "the third line\n",
      "...\n",
      "the end"
     ]
    }
   ],
   "source": [
    "with open('../example/cookbook_1.passwd') as f:  # 打开文件, f为一个迭代器\n",
    "    try:\n",
    "        while True:\n",
    "            line = next(f) # 从头将迭代器中的元素按顺序取出\n",
    "            print(line, end='')\n",
    "    except StopIteration:  # next()函数默认取尽后返回StopIteration异常\n",
    "        pass"
   ]
  },
  {
   "cell_type": "code",
   "execution_count": 14,
   "metadata": {},
   "outputs": [
    {
     "name": "stdout",
     "output_type": "stream",
     "text": [
      "the first line\n",
      "the second line\n",
      "the third line\n",
      "...\n",
      "the end"
     ]
    }
   ],
   "source": [
    "with open('../example/cookbook_1.passwd') as f:\n",
    "    while True:\n",
    "        line = next(f, None)  # 可以指定迭代结束时的返回值为None\n",
    "        if line is None:\n",
    "            break\n",
    "        print(line, end='')"
   ]
  },
  {
   "cell_type": "code",
   "execution_count": 20,
   "metadata": {},
   "outputs": [
    {
     "name": "stdout",
     "output_type": "stream",
     "text": [
      "1\n",
      "2\n",
      "3\n"
     ]
    },
    {
     "ename": "StopIteration",
     "evalue": "",
     "output_type": "error",
     "traceback": [
      "\u001b[0;31m---------------------------------------------------------------------------\u001b[0m",
      "\u001b[0;31mStopIteration\u001b[0m                             Traceback (most recent call last)",
      "Cell \u001b[0;32mIn[20], line 7\u001b[0m\n\u001b[1;32m      5\u001b[0m \u001b[39mprint\u001b[39m(\u001b[39mnext\u001b[39m(it))\n\u001b[1;32m      6\u001b[0m \u001b[39mprint\u001b[39m(\u001b[39mnext\u001b[39m(it))\n\u001b[0;32m----> 7\u001b[0m \u001b[39mprint\u001b[39m(\u001b[39mnext\u001b[39m(it))\n",
      "\u001b[0;31mStopIteration\u001b[0m: "
     ]
    }
   ],
   "source": [
    "# 揭示next()的迭代机制\n",
    "items = [1, 2, 3]\n",
    "it = iter(items)\n",
    "print(next(it))\n",
    "print(next(it))\n",
    "print(next(it))\n",
    "print(next(it))  # 迭代结束, 默认产生StopIteration异常"
   ]
  },
  {
   "cell_type": "markdown",
   "metadata": {},
   "source": [
    "---\n",
    "# "
   ]
  }
 ],
 "metadata": {
  "kernelspec": {
   "display_name": "astro",
   "language": "python",
   "name": "python3"
  },
  "language_info": {
   "codemirror_mode": {
    "name": "ipython",
    "version": 3
   },
   "file_extension": ".py",
   "mimetype": "text/x-python",
   "name": "python",
   "nbconvert_exporter": "python",
   "pygments_lexer": "ipython3",
   "version": "3.11.4"
  },
  "orig_nbformat": 4
 },
 "nbformat": 4,
 "nbformat_minor": 2
}
