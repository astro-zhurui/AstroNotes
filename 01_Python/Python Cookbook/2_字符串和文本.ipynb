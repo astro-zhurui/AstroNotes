{
 "cells": [
  {
   "cell_type": "markdown",
   "metadata": {},
   "source": [
    "---\n",
    "## 2.1 针对任意多的分隔符拆分字符串\n",
    "@2023-08-28\n",
    "\n",
    "### 问题\n",
    "字符串的split()方法可以进行简单的分隔, 但是如果遇到字符串中的分隔符不一样的情况, split()方法就不好处理了.\n",
    "因此, 本节介绍re.split()函数, 处理不同分隔符分隔字符串的方法\n",
    "\n",
    "### 工具\n",
    "1. [正则表达式](https://www.runoob.com/regexp/regexp-syntax.html)\n",
    "2. [re.split()函数](https://docs.python.org/3/library/re.html?highlight=re%20split#re.split)"
   ]
  },
  {
   "cell_type": "code",
   "execution_count": 6,
   "metadata": {},
   "outputs": [
    {
     "data": {
      "text/plain": [
       "['asdf', 'fjdk', 'afed', 'fasdf', 'asdf', 'f-p']"
      ]
     },
     "execution_count": 6,
     "metadata": {},
     "output_type": "execute_result"
    }
   ],
   "source": [
    "line = 'asdf fjdk; afed, fasdf,asdf,     f-p'\n",
    "\n",
    "import re\n",
    "# re.split(r'')\n",
    "# 说明\n",
    "# r表示使后面的字符串成为非转义字符串, 例如\\n不再表示换行\n",
    "regex = '[;,\\s]+'  # 使用正则表达式可以匹配的字符串作为分隔符\n",
    "re.split(pattern=regex, string=line)"
   ]
  },
  {
   "cell_type": "markdown",
   "metadata": {},
   "source": [
    "---\n",
    "## 2.2 在字符串开头或结尾处做文本匹配\n",
    "@2023-08-30\n",
    "\n",
    "### 问题\n",
    "对一个字符串的开头或结尾做模式检查\n",
    "\n",
    "### 工具\n",
    "str.startswith()  \n",
    "str.endswith()"
   ]
  },
  {
   "cell_type": "code",
   "execution_count": 6,
   "metadata": {},
   "outputs": [
    {
     "data": {
      "text/plain": [
       "True"
      ]
     },
     "execution_count": 6,
     "metadata": {},
     "output_type": "execute_result"
    }
   ],
   "source": [
    "# 用作文件类型检查\n",
    "filename = 'text.txt'\n",
    "filename.endswith('.txt')"
   ]
  },
  {
   "cell_type": "code",
   "execution_count": 8,
   "metadata": {},
   "outputs": [
    {
     "data": {
      "text/plain": [
       "True"
      ]
     },
     "execution_count": 8,
     "metadata": {},
     "output_type": "execute_result"
    }
   ],
   "source": [
    "# 用作网站协议检查\n",
    "url = 'http://www.python.org'\n",
    "url.startswith('http:')"
   ]
  },
  {
   "cell_type": "code",
   "execution_count": 10,
   "metadata": {},
   "outputs": [
    {
     "data": {
      "text/plain": [
       "['foo.c', 'bar.py', 'spam.c']"
      ]
     },
     "execution_count": 10,
     "metadata": {},
     "output_type": "execute_result"
    }
   ],
   "source": [
    "# 针对多个选项做检查\n",
    "filenames = ['Makefile', 'foo.c', 'bar.py', 'spam.c', 'spam.h']\n",
    "[name for name in filenames if name.endswith(('.c', '.py'))]  # 使用元组收集多个可能性"
   ]
  },
  {
   "cell_type": "code",
   "execution_count": 18,
   "metadata": {},
   "outputs": [
    {
     "name": "stdout",
     "output_type": "stream",
     "text": [
      "['1_数据结构和算法.ipynb', '2_字符串和文本.ipynb']\n"
     ]
    },
    {
     "data": {
      "text/plain": [
       "True"
      ]
     },
     "execution_count": 18,
     "metadata": {},
     "output_type": "execute_result"
    }
   ],
   "source": [
    "# 应用: 检查目录中有无特定文件\n",
    "import os\n",
    "print(os.listdir(\".\"))\n",
    "\n",
    "any([name.endswith(\".ipynb\") for name in os.listdir()])  # any()函数有True则True; all()函数全True才True"
   ]
  }
 ],
 "metadata": {
  "kernelspec": {
   "display_name": "astro",
   "language": "python",
   "name": "python3"
  },
  "language_info": {
   "codemirror_mode": {
    "name": "ipython",
    "version": 3
   },
   "file_extension": ".py",
   "mimetype": "text/x-python",
   "name": "python",
   "nbconvert_exporter": "python",
   "pygments_lexer": "ipython3",
   "version": "3.11.4"
  },
  "orig_nbformat": 4
 },
 "nbformat": 4,
 "nbformat_minor": 2
}
