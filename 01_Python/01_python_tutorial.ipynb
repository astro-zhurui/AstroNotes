{
 "cells": [
  {
   "attachments": {},
   "cell_type": "markdown",
   "metadata": {},
   "source": [
    "# Python基础知识\n",
    "@author: Rui Zhu  \n",
    "@follow:《Python编程: 从入门到实践》(第2版)  \n",
    "@代码网址: https://www.ituring.com.cn/book/2784 (material)"
   ]
  },
  {
   "cell_type": "markdown",
   "metadata": {},
   "source": [
    "# 第1章 起步"
   ]
  },
  {
   "cell_type": "markdown",
   "metadata": {},
   "source": [
    "笔记\n",
    "* [Python社区官网](https://www.python.org)\n",
    "* 书中推荐使用的编辑器: [Sublime Text](http://www.sublimetext.com)\n",
    "* Sublime Text使用快捷键`Command + B`来执行程序\n",
    "* 在命令行中, 使用`python <xxx.py>` 来执行程序"
   ]
  },
  {
   "cell_type": "code",
   "execution_count": 65,
   "metadata": {},
   "outputs": [],
   "source": [
    "import this"
   ]
  },
  {
   "cell_type": "markdown",
   "metadata": {},
   "source": [
    "# 第2章 变量和简单数据类型"
   ]
  },
  {
   "cell_type": "markdown",
   "metadata": {},
   "source": [
    "## 2.1 变量"
   ]
  },
  {
   "cell_type": "markdown",
   "metadata": {},
   "source": [
    "变量的命名规范  \n",
    "1. 变量名只能包含字母、数字、下划线, 但不能以数字打头\n",
    "2. 变量名不能包含空格\n",
    "3. 不要将python关键字和函数名作为变量名\n",
    "4. 变量名应简短且具有描述性\n",
    "5. 谨慎使用字母l和o\n",
    "6. 最好使用小写的变量名\n",
    "7. 常量最好用全大写表示"
   ]
  },
  {
   "cell_type": "markdown",
   "metadata": {},
   "source": [
    "变量是标签\n",
    "\n",
    "* 变量应理解为赋给值的标签, 也可以理解为变量指向特定的值"
   ]
  },
  {
   "cell_type": "markdown",
   "metadata": {},
   "source": [
    "py文件命名规范\n",
    "* 约定使用小写字母和下划线命名: simple_messages.py"
   ]
  },
  {
   "cell_type": "code",
   "execution_count": 66,
   "metadata": {},
   "outputs": [
    {
     "name": "stdout",
     "output_type": "stream",
     "text": [
      "0 1 2\n"
     ]
    }
   ],
   "source": [
    "# 多个变量赋值\n",
    "x, y, z = 0, 1, 2\n",
    "print(x, y, z)"
   ]
  },
  {
   "cell_type": "code",
   "execution_count": 67,
   "metadata": {},
   "outputs": [],
   "source": [
    "# 常量最好用全大写表示\n",
    "MAX_CONNECTIONS = 5000"
   ]
  },
  {
   "cell_type": "markdown",
   "metadata": {},
   "source": [
    "## 2.2 字符串  \n",
    "* 在Python中，用引号括起来的都是字符串"
   ]
  },
  {
   "attachments": {},
   "cell_type": "markdown",
   "metadata": {},
   "source": [
    "### 修改字符串的大小写\n",
    "* 修改大小写的方法不改变原变量"
   ]
  },
  {
   "cell_type": "code",
   "execution_count": 68,
   "metadata": {},
   "outputs": [
    {
     "name": "stdout",
     "output_type": "stream",
     "text": [
      "title()方法, 使每个单词的首字母都大写: Ada Lovelace\n",
      "upper()方法, 使每个单词的字母都大写: ADA LOVELACE\n",
      "lower()方法, 使每个单词的字母都小写: ada lovelace\n"
     ]
    }
   ],
   "source": [
    "name = \"ada lovelace\"\n",
    "print(f\"title()方法, 使每个单词的首字母都大写: {name.title()}\")\n",
    "print(f\"upper()方法, 使每个单词的字母都大写: {name.upper()}\")\n",
    "print(f\"lower()方法, 使每个单词的字母都小写: {name.lower()}\")"
   ]
  },
  {
   "cell_type": "markdown",
   "metadata": {},
   "source": [
    "### 格式化字符串\n",
    "* f字符串: python3.6之后可用, 可以替代之前的format()方法"
   ]
  },
  {
   "cell_type": "code",
   "execution_count": 69,
   "metadata": {},
   "outputs": [
    {
     "name": "stdout",
     "output_type": "stream",
     "text": [
      "hello, I'm Rui Zhu.\n",
      "Today is 2022-12-2.\n"
     ]
    }
   ],
   "source": [
    "first_name = 'Rui'\n",
    "last_name = 'Zhu'\n",
    "message = f\"hello, I'm {first_name} {last_name}.\"\n",
    "print(message)\n",
    "message = \"Today is {}-{}-{}.\".format(2022, 12, 2)\n",
    "print(message)"
   ]
  },
  {
   "cell_type": "markdown",
   "metadata": {},
   "source": [
    "### 制表符与换行符"
   ]
  },
  {
   "cell_type": "code",
   "execution_count": 70,
   "metadata": {},
   "outputs": [
    {
     "name": "stdout",
     "output_type": "stream",
     "text": [
      "test1\ttest2\n",
      "test1  \ttest2\n",
      "----------\n",
      "test1\n",
      "test2\n",
      "----------\n",
      "\n",
      "test1\n",
      "\n",
      "test2\n"
     ]
    }
   ],
   "source": [
    "print(\"test1\\ttest2\")\n",
    "print(\"test1  \\ttest2\")\n",
    "print(\"-\"*10)\n",
    "print(\"test1\\ntest2\")\n",
    "print(\"-\"*10)\n",
    "print(\"\\ntest1\\n\")\n",
    "print(\"test2\")"
   ]
  },
  {
   "cell_type": "markdown",
   "metadata": {},
   "source": [
    "### 删除字符串中的空白"
   ]
  },
  {
   "cell_type": "code",
   "execution_count": 71,
   "metadata": {},
   "outputs": [
    {
     "name": "stdout",
     "output_type": "stream",
     "text": [
      "原始字符串:  py thon  \n",
      "rstrip()方法, 删掉末尾的字符串:  py thon\n",
      "lstrip()方法, 删掉开头的字符串:py thon  \n",
      "strip()方法, 删掉两头的字符串:py thon\n"
     ]
    }
   ],
   "source": [
    "string = '  py thon  '\n",
    "print(f\"原始字符串:{string}\")\n",
    "print(f\"rstrip()方法, 删掉末尾的字符串:{string.rstrip()}\")\n",
    "print(f\"lstrip()方法, 删掉开头的字符串:{string.lstrip()}\")\n",
    "print(f\"strip()方法, 删掉两头的字符串:{string.strip()}\")"
   ]
  },
  {
   "attachments": {},
   "cell_type": "markdown",
   "metadata": {},
   "source": [
    "### 多行字符串"
   ]
  },
  {
   "cell_type": "code",
   "execution_count": 72,
   "metadata": {},
   "outputs": [
    {
     "name": "stdout",
     "output_type": "stream",
     "text": [
      "If you tell us who you are, we can personalize the message you see.\n",
      "What is your first name?\n"
     ]
    }
   ],
   "source": [
    "prompt = \"If you tell us who you are, we can personalize the message you see.\"\n",
    "prompt += \"\\nWhat is your first name?\"\n",
    "print(prompt)"
   ]
  },
  {
   "cell_type": "markdown",
   "metadata": {},
   "source": [
    "## 2.3 数值"
   ]
  },
  {
   "cell_type": "code",
   "execution_count": 73,
   "metadata": {},
   "outputs": [
    {
     "name": "stdout",
     "output_type": "stream",
     "text": [
      "8 1\n"
     ]
    }
   ],
   "source": [
    "# 整数\n",
    "x1 = 2 ** 3\n",
    "x2 = 2^3  # 只有**才是乘方\n",
    "print(x1, x2)"
   ]
  },
  {
   "cell_type": "code",
   "execution_count": 74,
   "metadata": {},
   "outputs": [
    {
     "name": "stdout",
     "output_type": "stream",
     "text": [
      "0.30000000000000004\n",
      "0.30000000000000004\n"
     ]
    }
   ],
   "source": [
    "# 浮点数\n",
    "print(0.2 + 0.1)\n",
    "print(3 * 0.1)"
   ]
  },
  {
   "cell_type": "code",
   "execution_count": 75,
   "metadata": {},
   "outputs": [
    {
     "name": "stdout",
     "output_type": "stream",
     "text": [
      "14000000000\n"
     ]
    }
   ],
   "source": [
    "# 大数的表示\n",
    "age = 14_000_000_000\n",
    "print(age)"
   ]
  },
  {
   "cell_type": "markdown",
   "metadata": {},
   "source": [
    "# 第3章 列表\n",
    "* 列表由一系列按特定顺序排列的元素组成"
   ]
  },
  {
   "cell_type": "markdown",
   "metadata": {},
   "source": [
    "## 3.1 访问列表元素\n",
    "* 列表是有序集合, 使用0起始的数字索引\n",
    "* 特殊地, 列表的索引可以倒着数(-1, -2, ...)"
   ]
  },
  {
   "cell_type": "markdown",
   "metadata": {},
   "source": [
    "## 3.2 列表元素的增删改"
   ]
  },
  {
   "cell_type": "markdown",
   "metadata": {},
   "source": [
    "### 修改\n",
    "* 通过赋值修改列表元素"
   ]
  },
  {
   "cell_type": "code",
   "execution_count": 76,
   "metadata": {},
   "outputs": [
    {
     "name": "stdout",
     "output_type": "stream",
     "text": [
      "['nonda', 'yamaha', 'suzuki']\n",
      "['ducato', 'yamaha', 'suzuki']\n"
     ]
    }
   ],
   "source": [
    "motorcycles = ['nonda', 'yamaha', 'suzuki']\n",
    "print(motorcycles)\n",
    "motorcycles[0] = 'ducato'\n",
    "print(motorcycles)"
   ]
  },
  {
   "cell_type": "markdown",
   "metadata": {},
   "source": [
    "### 增添\n",
    "* 方法1: append()将元素添加到列表末尾\n",
    "* 方法2: insert()指定位置添加新元素"
   ]
  },
  {
   "cell_type": "code",
   "execution_count": 77,
   "metadata": {},
   "outputs": [
    {
     "name": "stdout",
     "output_type": "stream",
     "text": [
      "['honda']\n",
      "['honda', 'yamaha']\n",
      "['honda', 'suzuki', 'yamaha']\n"
     ]
    }
   ],
   "source": [
    "motorcycles = []\n",
    "\n",
    "motorcycles.append(\"honda\")\n",
    "print(motorcycles)\n",
    "motorcycles.append(\"yamaha\")\n",
    "print(motorcycles)\n",
    "\n",
    "motorcycles.insert(1, 'suzuki')\n",
    "print(motorcycles)"
   ]
  },
  {
   "cell_type": "markdown",
   "metadata": {},
   "source": [
    "### 删除\n",
    "* 方法1: del语句, 删除指定位置的元素\n",
    "* 方法2: pop()方法, 弹出列表末尾的元素, 赋值给新的变量\n",
    "* 方法3: remove()方法, 移除指定元素(若多个相同元素, 只删除第一个)"
   ]
  },
  {
   "cell_type": "code",
   "execution_count": 78,
   "metadata": {},
   "outputs": [
    {
     "name": "stdout",
     "output_type": "stream",
     "text": [
      "test1: ['nonda', 'yamaha']\n",
      "test2: ['nonda', 'yamaha', 'suzuki', 'yamaha']\n",
      "test3.1: ['nonda', 'yamaha', 'suzuki']\n",
      "test3.2: yamaha\n",
      "test4: ['nonda', 'yamaha', 'suzuki', 'nonda', 'yamaha', 'suzuki']\n",
      "test4.1: ['yamaha', 'suzuki', 'nonda', 'yamaha', 'suzuki']\n",
      "test4.2: nonda\n",
      "test5: ['suzuki', 'nonda', 'yamaha', 'suzuki']\n"
     ]
    }
   ],
   "source": [
    "motorcycles = ['nonda', 'yamaha', 'suzuki']\n",
    "\n",
    "# del语句\n",
    "del motorcycles[2]\n",
    "print(f\"test1: {motorcycles}\")\n",
    "\n",
    "motorcycles.append(\"suzuki\")\n",
    "motorcycles.append(\"yamaha\")\n",
    "print(f\"test2: {motorcycles}\")\n",
    "\n",
    "# pop()方法\n",
    "popped_name = motorcycles.pop()\n",
    "print(f\"test3.1: {motorcycles}\")\n",
    "print(f\"test3.2: {popped_name}\")\n",
    "\n",
    "motorcycles = motorcycles*2\n",
    "print(f\"test4: {motorcycles}\")\n",
    "popped_name = motorcycles.pop(0)  # pop方法可以指定索引弹出元素\n",
    "print(f\"test4.1: {motorcycles}\")\n",
    "print(f\"test4.2: {popped_name}\")\n",
    "\n",
    "# remove()方法\n",
    "motorcycles.remove(\"yamaha\")  # remove()方法一次只能除掉一个元素\n",
    "print(f\"test5: {motorcycles}\")"
   ]
  },
  {
   "cell_type": "markdown",
   "metadata": {},
   "source": [
    "## 3.3 列表排序\n",
    "* 方法1: sort()方法永久性修改元素的排序\n",
    "* 方法2: sorted()函数暂时修改元素的排序, 不影响列表本身"
   ]
  },
  {
   "cell_type": "code",
   "execution_count": 79,
   "metadata": {},
   "outputs": [
    {
     "name": "stdout",
     "output_type": "stream",
     "text": [
      "[1, 3, 6, 6, 13, 14, 15]\n",
      "[15, 14, 13, 6, 6, 3, 1]\n"
     ]
    }
   ],
   "source": [
    "list_num = [6, 1, 3, 6, 14, 15, 13]\n",
    "\n",
    "test = list_num.copy()\n",
    "test.sort()\n",
    "print(test)\n",
    "\n",
    "test = list_num.copy()\n",
    "test.sort(reverse=True)\n",
    "print(test)"
   ]
  },
  {
   "cell_type": "code",
   "execution_count": 80,
   "metadata": {},
   "outputs": [
    {
     "name": "stdout",
     "output_type": "stream",
     "text": [
      "[6, 1, 3, 6, 14, 15, 13]\n",
      "[15, 14, 13, 6, 6, 3, 1]\n"
     ]
    }
   ],
   "source": [
    "list_num = [6, 1, 3, 6, 14, 15, 13]\n",
    "\n",
    "test = list_num.copy()\n",
    "test_new = sorted(test, reverse=True)\n",
    "print(test)\n",
    "print(test_new)"
   ]
  },
  {
   "attachments": {},
   "cell_type": "markdown",
   "metadata": {},
   "source": [
    "# 第4章 操作列表"
   ]
  },
  {
   "attachments": {},
   "cell_type": "markdown",
   "metadata": {},
   "source": [
    "## 4.1 for循环\n",
    "略\n",
    "\n",
    "## 4.2 注意缩进\n",
    "略"
   ]
  },
  {
   "attachments": {},
   "cell_type": "markdown",
   "metadata": {},
   "source": [
    "## 4.3 创建数值列表"
   ]
  },
  {
   "attachments": {},
   "cell_type": "markdown",
   "metadata": {},
   "source": [
    "### range()函数创建列表\n",
    "* 语法: range(<起始值>, <终止值(不包含)>, <步长>)"
   ]
  },
  {
   "cell_type": "code",
   "execution_count": 81,
   "metadata": {},
   "outputs": [
    {
     "name": "stdout",
     "output_type": "stream",
     "text": [
      "1 <class 'int'>\n",
      "2 <class 'int'>\n",
      "3 <class 'int'>\n",
      "4 <class 'int'>\n",
      "5 <class 'int'>\n"
     ]
    },
    {
     "data": {
      "text/plain": [
       "range"
      ]
     },
     "execution_count": 81,
     "metadata": {},
     "output_type": "execute_result"
    }
   ],
   "source": [
    "for value in range(1, 6):\n",
    "    print(value, type(value))  # 遍历range的值的数据类型是整数\n",
    "type(range(1, 6))  # range()函数返回的不是列表"
   ]
  },
  {
   "cell_type": "code",
   "execution_count": 82,
   "metadata": {},
   "outputs": [
    {
     "data": {
      "text/plain": [
       "[1, 3, 5]"
      ]
     },
     "execution_count": 82,
     "metadata": {},
     "output_type": "execute_result"
    }
   ],
   "source": [
    "list(range(1, 6, 2))"
   ]
  },
  {
   "attachments": {},
   "cell_type": "markdown",
   "metadata": {},
   "source": [
    "### 列表解析\n",
    "* 一种简化生成列表的语法"
   ]
  },
  {
   "cell_type": "code",
   "execution_count": 83,
   "metadata": {},
   "outputs": [
    {
     "name": "stdout",
     "output_type": "stream",
     "text": [
      "[0.1, 0.2, 0.30000000000000004, 0.4, 0.5]\n"
     ]
    }
   ],
   "source": [
    "# 实例1: 创建0.1-0.5的列表\n",
    "ls = []\n",
    "for value in range(1, 6):\n",
    "    ls.append(0.1*value)\n",
    "print(ls)"
   ]
  },
  {
   "cell_type": "code",
   "execution_count": 84,
   "metadata": {},
   "outputs": [
    {
     "data": {
      "text/plain": [
       "[0.1, 0.2, 0.30000000000000004, 0.4, 0.5]"
      ]
     },
     "execution_count": 84,
     "metadata": {},
     "output_type": "execute_result"
    }
   ],
   "source": [
    "# 实例2: 列表解析的方法\n",
    "ls_new = [0.1*value for value in range(1, 6)]  # ! 注意没有冒号\n",
    "ls_new"
   ]
  },
  {
   "attachments": {},
   "cell_type": "markdown",
   "metadata": {},
   "source": [
    "## 4.4 列表的切片"
   ]
  },
  {
   "cell_type": "markdown",
   "metadata": {},
   "source": [
    "* 切片的语法: ls[<开始索引>:<终止索引>:<间隔值>]"
   ]
  },
  {
   "cell_type": "code",
   "execution_count": 85,
   "metadata": {},
   "outputs": [
    {
     "name": "stdout",
     "output_type": "stream",
     "text": [
      "['0', '1', '2', '3', '4', '5', '6', '7', '8', '9']\n",
      "['0', '1', '2', '3', '4', '5']\n",
      "['0', '2', '4', '6', '8']\n"
     ]
    }
   ],
   "source": [
    "ls = [str(value) for value in range(0, 10)]\n",
    "print(ls)\n",
    "print(ls[:6])\n",
    "print(ls[::2])"
   ]
  },
  {
   "attachments": {},
   "cell_type": "markdown",
   "metadata": {},
   "source": [
    "* 切片不关联, 等价于复制"
   ]
  },
  {
   "cell_type": "code",
   "execution_count": 86,
   "metadata": {},
   "outputs": [
    {
     "name": "stdout",
     "output_type": "stream",
     "text": [
      "['a', 'b', 'c']\n",
      "['a', 'b', 'c', 'e']\n"
     ]
    }
   ],
   "source": [
    "ls_words = ['a', 'b', 'c']\n",
    "ls_words_new = ls_words[:]  # 相当于复制\n",
    "ls_words_new.append('e')\n",
    "print(ls_words)\n",
    "print(ls_words_new)"
   ]
  },
  {
   "cell_type": "code",
   "execution_count": 87,
   "metadata": {},
   "outputs": [
    {
     "name": "stdout",
     "output_type": "stream",
     "text": [
      "['a', 'b', 'c', 'e']\n",
      "['a', 'b', 'c', 'e']\n"
     ]
    }
   ],
   "source": [
    "# 如果不切片, 则关联\n",
    "ls_words = ['a', 'b', 'c']\n",
    "ls_words_new = ls_words  # 相同指向, 相互关联\n",
    "ls_words_new.append('e')\n",
    "print(ls_words)\n",
    "print(ls_words_new)"
   ]
  },
  {
   "attachments": {},
   "cell_type": "markdown",
   "metadata": {},
   "source": [
    "## 4.5 元组(不可变的列表)\n",
    "* 元组的索引方式和列表相同\n",
    "* 定义只有一个元素的元组, 需要加逗号\n",
    "* 虽然不能修改元组的元素, 但可以通过重新赋值变量的方式修改"
   ]
  },
  {
   "cell_type": "code",
   "execution_count": 88,
   "metadata": {},
   "outputs": [
    {
     "name": "stdout",
     "output_type": "stream",
     "text": [
      "(3,)\n"
     ]
    }
   ],
   "source": [
    "# 定义一个只有一个元素的元组\n",
    "dimensions = (3,)\n",
    "print(dimensions)"
   ]
  },
  {
   "attachments": {},
   "cell_type": "markdown",
   "metadata": {},
   "source": [
    "## 4.6 PEP 8 代码格式规范\n",
    "* https://pep8.org\n",
    "* 建议缩进使用4个空格\n",
    "* 建议行长不超过80个字符\n",
    "* 谨慎使用空行"
   ]
  },
  {
   "attachments": {},
   "cell_type": "markdown",
   "metadata": {},
   "source": [
    "# 第5章 if语句"
   ]
  },
  {
   "attachments": {},
   "cell_type": "markdown",
   "metadata": {},
   "source": [
    "## 5.1 条件测试\n",
    "* if语句的核心是值为True/False的表达式, 称为条件测试, 也称布尔表达式\n",
    "* 使用and/or连接两个条件时, 可将两个条件放进圆括号里, 改善可读性"
   ]
  },
  {
   "attachments": {},
   "cell_type": "markdown",
   "metadata": {},
   "source": [
    "## 5.2 if语句的种类"
   ]
  },
  {
   "attachments": {},
   "cell_type": "markdown",
   "metadata": {},
   "source": [
    "情况1: 单if语句\n",
    "* 满足条件则执行"
   ]
  },
  {
   "cell_type": "code",
   "execution_count": 89,
   "metadata": {},
   "outputs": [
    {
     "name": "stdout",
     "output_type": "stream",
     "text": [
      "You are old enough to vote!\n"
     ]
    }
   ],
   "source": [
    "age = 19\n",
    "if age >= 18:\n",
    "    print(\"You are old enough to vote!\")"
   ]
  },
  {
   "attachments": {},
   "cell_type": "markdown",
   "metadata": {},
   "source": [
    "情况2: if-else语句\n",
    "* 只有一个条件测试"
   ]
  },
  {
   "cell_type": "code",
   "execution_count": 90,
   "metadata": {},
   "outputs": [
    {
     "name": "stdout",
     "output_type": "stream",
     "text": [
      "Sorry, you are too young to vote.\n"
     ]
    }
   ],
   "source": [
    "age = 17\n",
    "if age >= 18:\n",
    "    print(\"You are ole enough to vote!\")\n",
    "else:\n",
    "    print(\"Sorry, you are too young to vote.\")"
   ]
  },
  {
   "attachments": {},
   "cell_type": "markdown",
   "metadata": {},
   "source": [
    "情况3: if-elif-else语句\n",
    "* 2个测试条件"
   ]
  },
  {
   "cell_type": "code",
   "execution_count": 91,
   "metadata": {},
   "outputs": [
    {
     "name": "stdout",
     "output_type": "stream",
     "text": [
      "The number is bigger than 10 but less than 20\n"
     ]
    }
   ],
   "source": [
    "num = 15\n",
    "if num <= 10:\n",
    "    print(\"The number is less than 10\")\n",
    "elif num < 20:\n",
    "    print(\"The number is bigger than 10 but less than 20\")\n",
    "else:\n",
    "    print(\"Too big\")"
   ]
  },
  {
   "attachments": {},
   "cell_type": "markdown",
   "metadata": {},
   "source": [
    "情况4: if-elif-elif-...-else语句\n",
    "* 大于等于3个条件测试"
   ]
  },
  {
   "attachments": {},
   "cell_type": "markdown",
   "metadata": {},
   "source": [
    "情况5: 无else的多测试条件结构"
   ]
  },
  {
   "cell_type": "code",
   "execution_count": 92,
   "metadata": {},
   "outputs": [
    {
     "name": "stdout",
     "output_type": "stream",
     "text": [
      "Your admission cost is 25.\n"
     ]
    }
   ],
   "source": [
    "age = 12\n",
    "\n",
    "if  age < 4:\n",
    "    price = 0\n",
    "elif age < 18:\n",
    "    price = 25\n",
    "elif age < 65:\n",
    "    price = 40\n",
    "elif age >=65:\n",
    "    price = 20\n",
    "\n",
    "print(f\"Your admission cost is {price}.\")"
   ]
  },
  {
   "attachments": {},
   "cell_type": "markdown",
   "metadata": {},
   "source": [
    "情况6: 多个if语句完成多次条件判断的同时, 避免跳过其他判断"
   ]
  },
  {
   "attachments": {},
   "cell_type": "markdown",
   "metadata": {},
   "source": [
    "## 5.3 if-else语句的简洁写法"
   ]
  },
  {
   "cell_type": "code",
   "execution_count": 1,
   "metadata": {},
   "outputs": [
    {
     "name": "stdout",
     "output_type": "stream",
     "text": [
      "25\n"
     ]
    }
   ],
   "source": [
    "# 原始写法\n",
    "age = 12\n",
    "if age < 18:\n",
    "    price = 25\n",
    "else:\n",
    "    price = 40\n",
    "print(price)"
   ]
  },
  {
   "cell_type": "code",
   "execution_count": 2,
   "metadata": {},
   "outputs": [
    {
     "name": "stdout",
     "output_type": "stream",
     "text": [
      "25\n"
     ]
    }
   ],
   "source": [
    "# 等价写法\n",
    "price = 25 if age < 18 else 40\n",
    "print(price)"
   ]
  },
  {
   "attachments": {},
   "cell_type": "markdown",
   "metadata": {},
   "source": [
    "# 第6章 字典"
   ]
  },
  {
   "attachments": {},
   "cell_type": "markdown",
   "metadata": {},
   "source": [
    "## 6.1 字典的基本操作"
   ]
  },
  {
   "cell_type": "code",
   "execution_count": 93,
   "metadata": {},
   "outputs": [
    {
     "name": "stdout",
     "output_type": "stream",
     "text": [
      "{'color': 'green', 'point': 5}\n"
     ]
    }
   ],
   "source": [
    "alien = {}  # 创建空字典\n",
    "\n",
    "alien['color'] = 'green'  # 向字典中添加元素\n",
    "alien['point'] = 5\n",
    "\n",
    "print(alien)"
   ]
  },
  {
   "cell_type": "code",
   "execution_count": 94,
   "metadata": {},
   "outputs": [
    {
     "name": "stdout",
     "output_type": "stream",
     "text": [
      "{'color': 'red', 'point': 5, 'x': 10}\n"
     ]
    }
   ],
   "source": [
    "alien['x'] = 10  # 添加新的键值对（添加新的key会放到后面）\n",
    "alien['color'] = 'red'  # 修改字典中的值\n",
    "print(alien)"
   ]
  },
  {
   "cell_type": "code",
   "execution_count": 95,
   "metadata": {},
   "outputs": [
    {
     "name": "stdout",
     "output_type": "stream",
     "text": [
      "{'color': 'red', 'point': 5}\n"
     ]
    }
   ],
   "source": [
    "del alien['x']  # 删除键值对\n",
    "print(alien)"
   ]
  },
  {
   "cell_type": "code",
   "execution_count": 96,
   "metadata": {},
   "outputs": [],
   "source": [
    "favorite_languages = {\n",
    "    'jen': 'python',\n",
    "    'sarch': 'C', \n",
    "    'phil': 'python',  # * 建议保留逗号，为追加做准备\n",
    "}"
   ]
  },
  {
   "attachments": {},
   "cell_type": "markdown",
   "metadata": {},
   "source": [
    "## 6.2 字典的get()方法\n",
    "获取指定key对应的value, 如果key不存在，返回指定值(默认None)"
   ]
  },
  {
   "cell_type": "code",
   "execution_count": 97,
   "metadata": {},
   "outputs": [
    {
     "name": "stdout",
     "output_type": "stream",
     "text": [
      "{'jen': 'python', 'sarch': 'C', 'phil': 'python'}\n"
     ]
    }
   ],
   "source": [
    "print(favorite_languages)"
   ]
  },
  {
   "cell_type": "code",
   "execution_count": 98,
   "metadata": {},
   "outputs": [
    {
     "data": {
      "text/plain": [
       "'No this key.'"
      ]
     },
     "execution_count": 98,
     "metadata": {},
     "output_type": "execute_result"
    }
   ],
   "source": [
    "favorite_languages.get('jenn', \"No this key.\")"
   ]
  },
  {
   "attachments": {},
   "cell_type": "markdown",
   "metadata": {},
   "source": [
    "## 6.3 遍历字典"
   ]
  },
  {
   "cell_type": "code",
   "execution_count": 99,
   "metadata": {},
   "outputs": [
    {
     "data": {
      "text/plain": [
       "{'jen': 'python', 'sarch': 'C', 'phil': 'python'}"
      ]
     },
     "execution_count": 99,
     "metadata": {},
     "output_type": "execute_result"
    }
   ],
   "source": [
    "favorite_languages"
   ]
  },
  {
   "attachments": {},
   "cell_type": "markdown",
   "metadata": {},
   "source": [
    "遍历键值"
   ]
  },
  {
   "cell_type": "code",
   "execution_count": 100,
   "metadata": {},
   "outputs": [
    {
     "name": "stdout",
     "output_type": "stream",
     "text": [
      "\n",
      "key: jen\n",
      "value: python\n",
      "\n",
      "key: sarch\n",
      "value: C\n",
      "\n",
      "key: phil\n",
      "value: python\n"
     ]
    }
   ],
   "source": [
    "for key, value in favorite_languages.items():\n",
    "    print(f\"\\nkey: {key}\")\n",
    "    print(f\"value: {value}\")"
   ]
  },
  {
   "attachments": {},
   "cell_type": "markdown",
   "metadata": {},
   "source": [
    "遍历keys"
   ]
  },
  {
   "cell_type": "code",
   "execution_count": 101,
   "metadata": {},
   "outputs": [
    {
     "name": "stdout",
     "output_type": "stream",
     "text": [
      "jen\n",
      "sarch\n",
      "phil\n"
     ]
    }
   ],
   "source": [
    "for key in favorite_languages.keys():\n",
    "    print(key)"
   ]
  },
  {
   "attachments": {},
   "cell_type": "markdown",
   "metadata": {},
   "source": [
    "遍历values"
   ]
  },
  {
   "cell_type": "code",
   "execution_count": 102,
   "metadata": {},
   "outputs": [
    {
     "name": "stdout",
     "output_type": "stream",
     "text": [
      "python\n",
      "C\n",
      "python\n"
     ]
    }
   ],
   "source": [
    "for value in favorite_languages.values():\n",
    "    print(value)"
   ]
  },
  {
   "attachments": {},
   "cell_type": "markdown",
   "metadata": {},
   "source": [
    "# 第7章 用户输入和while循环"
   ]
  },
  {
   "attachments": {},
   "cell_type": "markdown",
   "metadata": {},
   "source": [
    "## 7.1 获取用户输入"
   ]
  },
  {
   "cell_type": "code",
   "execution_count": 103,
   "metadata": {},
   "outputs": [
    {
     "name": "stdout",
     "output_type": "stream",
     "text": [
      "Hello, zhurui!\n"
     ]
    }
   ],
   "source": [
    "name = input(\"Please enter your name:\")\n",
    "print(f\"Hello, {name}!\")"
   ]
  },
  {
   "attachments": {},
   "cell_type": "markdown",
   "metadata": {},
   "source": [
    "## 7.2 while循环\n",
    "* while 条件满足，执行语句；条件不满足，退出循环\n",
    "* 如果有多个检查条件，while的条件可以是bool变量\n",
    "* python中的任何循环都可以使用break关键字跳出循环"
   ]
  },
  {
   "cell_type": "code",
   "execution_count": 104,
   "metadata": {},
   "outputs": [
    {
     "name": "stdout",
     "output_type": "stream",
     "text": [
      "0\n",
      "1\n",
      "2\n",
      "3\n",
      "4\n"
     ]
    }
   ],
   "source": [
    "x = 0\n",
    "while x < 5:\n",
    "    print(x)\n",
    "    x += 1"
   ]
  },
  {
   "attachments": {},
   "cell_type": "markdown",
   "metadata": {},
   "source": [
    "### break关键字跳出循环"
   ]
  },
  {
   "cell_type": "code",
   "execution_count": 105,
   "metadata": {},
   "outputs": [
    {
     "name": "stdout",
     "output_type": "stream",
     "text": [
      "0\n",
      "1\n",
      "2\n"
     ]
    }
   ],
   "source": [
    "x = 0\n",
    "while x < 5:\n",
    "    print(x)\n",
    "    if x == 2:\n",
    "        break\n",
    "    x += 1"
   ]
  },
  {
   "attachments": {},
   "cell_type": "markdown",
   "metadata": {},
   "source": [
    "### continue关键字忽略下面代码"
   ]
  },
  {
   "cell_type": "code",
   "execution_count": 106,
   "metadata": {},
   "outputs": [
    {
     "name": "stdout",
     "output_type": "stream",
     "text": [
      "1\n",
      "3\n",
      "4\n",
      "5\n"
     ]
    }
   ],
   "source": [
    "x = 0\n",
    "while x < 5:\n",
    "    x += 1\n",
    "    if x == 2:\n",
    "        continue\n",
    "    print(x)  # x=2时, 执行continue, 忽略print, 然后继续循环"
   ]
  },
  {
   "attachments": {},
   "cell_type": "markdown",
   "metadata": {},
   "source": [
    "## 7.3 使用while循环处理列表和字典"
   ]
  },
  {
   "attachments": {},
   "cell_type": "markdown",
   "metadata": {},
   "source": [
    "### 循环列表\n",
    "* 列表非空则循环, 列表空了则终止"
   ]
  },
  {
   "cell_type": "code",
   "execution_count": 107,
   "metadata": {},
   "outputs": [
    {
     "name": "stdout",
     "output_type": "stream",
     "text": [
      "Verifying user: Candace\n",
      "Verifying user: Brian\n",
      "Verifying user: Alice\n",
      "\n",
      "The Following users have been confirmed:\n",
      "Candace\n",
      "Brian\n",
      "Alice\n"
     ]
    }
   ],
   "source": [
    "# 示例: 逐个验证未在网站上验证的用户\n",
    "unconfirmed_users = ['alice', 'brian', 'candace']\n",
    "confirmed_users = []\n",
    "while unconfirmed_users:\n",
    "    current_user = unconfirmed_users.pop()\n",
    "    print(f\"Verifying user: {current_user.title()}\")\n",
    "    confirmed_users.append(current_user)\n",
    "\n",
    "print(\"\\nThe Following users have been confirmed:\")\n",
    "for name in confirmed_users:\n",
    "    print(name.title())"
   ]
  },
  {
   "attachments": {},
   "cell_type": "markdown",
   "metadata": {},
   "source": [
    "### 删除列表中的多个重复元素"
   ]
  },
  {
   "cell_type": "code",
   "execution_count": 108,
   "metadata": {},
   "outputs": [
    {
     "name": "stdout",
     "output_type": "stream",
     "text": [
      "['a', 'b', 'a', 'c', 'a', 'd', 'e']\n",
      "['b', 'a', 'c', 'a', 'd', 'e']\n",
      "['b', 'c', 'a', 'd', 'e']\n",
      "['b', 'c', 'd', 'e']\n",
      "['b', 'c', 'd', 'e']\n"
     ]
    }
   ],
   "source": [
    "ls = ['a', 'b', 'a', 'c', 'a', 'd', 'e']\n",
    "print(ls)\n",
    "while 'a' in ls:\n",
    "    ls.remove('a')  # remove方法每次只删除最前面的\n",
    "    print(ls)\n",
    "print(ls)"
   ]
  },
  {
   "attachments": {},
   "cell_type": "markdown",
   "metadata": {},
   "source": [
    "# 第8章 函数"
   ]
  },
  {
   "attachments": {},
   "cell_type": "markdown",
   "metadata": {},
   "source": [
    "## 8.1 函数的输入参数\n",
    "1. 输入参数可分成2类: 实参和形参\n",
    "    * 实参(argument): 调用函数时, 需要传进来的变量或值\n",
    "    * 形参(parameter): 函数完成工作需要的信息, 只存在函数体内\n",
    "2. 调用函数就是在()内将实参传递给函数的形参, 有3种语法\n",
    "    * 位置实参: 实参位置与函数定义的形参位置对应\n",
    "    * 关键字实参: 实参=形参; 无顺序\n",
    "    * 默认值: 定义了默认值的形参必须放在无默认值的形参后"
   ]
  },
  {
   "attachments": {},
   "cell_type": "markdown",
   "metadata": {},
   "source": [
    "### *args: 任意数量的位置实参\n",
    "* 通用形参名`*args`, 收集任意数量的位置实参, 保存在一个名为args的元组里\n",
    "* args是arguments的缩写"
   ]
  },
  {
   "cell_type": "code",
   "execution_count": 109,
   "metadata": {},
   "outputs": [
    {
     "name": "stdout",
     "output_type": "stream",
     "text": [
      "topping变量的数据类型是: <class 'tuple'>\n",
      "('1', 1, 'a')\n"
     ]
    }
   ],
   "source": [
    "def show_abc(*topping):  # ! 一个*的作用是, 创建一个名为topping的空元组, 用于接收任意数量的位置实参\n",
    "    \"\"\"接收任意数量的实参, 然后打印出来\"\"\"\n",
    "    print(f\"topping变量的数据类型是: {type(topping)}\")\n",
    "    print(topping)\n",
    "\n",
    "show_abc('1', 1, 'a')"
   ]
  },
  {
   "attachments": {},
   "cell_type": "markdown",
   "metadata": {},
   "source": [
    "### **kwargs: 任意数量的关键字实参\n",
    "* 通用形参名**kwargs, 收集任意数量的关键字实参, 保存在名为kwargs的字典里\n",
    "* kwargs是keyword arguments的缩写"
   ]
  },
  {
   "cell_type": "code",
   "execution_count": 110,
   "metadata": {},
   "outputs": [
    {
     "name": "stdout",
     "output_type": "stream",
     "text": [
      "{'location': 'princeton', 'field': 'physics', 'first_name': 'albert', 'last_name': 'einstein'}\n"
     ]
    }
   ],
   "source": [
    "def collect_info(first_name, last_name, **user_info):\n",
    "    \"\"\"必要信息first_name和last_name, 其他信息, 添加到user_info字典里\"\"\"\n",
    "    user_info['first_name'] = first_name\n",
    "    user_info['last_name'] = last_name\n",
    "    return user_info\n",
    "\n",
    "user_profile = collect_info('albert', 'einstein', location='princeton', field='physics')\n",
    "print(user_profile)"
   ]
  },
  {
   "attachments": {},
   "cell_type": "markdown",
   "metadata": {},
   "source": [
    "## 8.2 将函数储存在模块中\n",
    "* 模块(module): 扩展名为.py的文件\n",
    "* 注意: 这里只测试最简单的情况, 模块和主程序文件在同一个目录下\n",
    "* 导入模块的方法:\n",
    "    1. `import <module>` 导入整个模块: 用这一行代表了module里全部代码的副本; 调用时需要句点表示法(`<module>.<函数名>`)\n",
    "    2. `from module_name import function_name` 导入模块中的特定函数\n",
    "    3. `as` 给函数或模块起别名"
   ]
  },
  {
   "attachments": {},
   "cell_type": "markdown",
   "metadata": {},
   "source": [
    "## 8.3 规范\n",
    "* 函数或模块命名规范: 描述性名称、只用小写字母和下划线\n",
    "* 如果函数定义时, 形参很多: 定义是输入左括号后回车, TAB缩进2层(使形参与缩进1层的函数体区分开)\n",
    "* 模块中的多个函数之间空21行\n",
    "* import放在文件开头"
   ]
  },
  {
   "attachments": {},
   "cell_type": "markdown",
   "metadata": {},
   "source": [
    "# 第9章 类"
   ]
  },
  {
   "attachments": {},
   "cell_type": "markdown",
   "metadata": {},
   "source": [
    "## 9.1 创建和使用类\n",
    "* 实例化: 根据类来创建对象\n",
    "* 约定类的名字首字母要大写, 单词之间不用加_, 例如: class ElectricCar\n",
    "* 类中的函数称为方法; 类中的变量成为属性"
   ]
  },
  {
   "attachments": {},
   "cell_type": "markdown",
   "metadata": {},
   "source": [
    "## 9.2 继承\n",
    "* 使用继承的场景: 如果要编写的类是已有类的一个特殊版本, 可使用继承\n",
    "* 已有类成为父类, 新类称为子类\n",
    "* 子类继承了父类的所有属性和方法, 子类可以定义自己的属性和方法"
   ]
  },
  {
   "cell_type": "code",
   "execution_count": 111,
   "metadata": {},
   "outputs": [
    {
     "name": "stdout",
     "output_type": "stream",
     "text": [
      "2019 Tesla Model S\n",
      "This car has a 75-kWh battery\n"
     ]
    }
   ],
   "source": [
    "\"\"\"书中的实例\"\"\"\n",
    "\n",
    "# 定义父类Car\n",
    "class Car:\n",
    "    \"\"\"一次模拟汽车的简单尝试\"\"\"\n",
    "\n",
    "    def __init__(self, make, model, year):\n",
    "        \"\"\"初始化: 品牌、型号、年份\"\"\"\n",
    "        self.make = make\n",
    "        self.model = model\n",
    "        self.year = year\n",
    "        self.odometer_reading = 0  # 里程表读数\n",
    "    \n",
    "    def get_descriptive_name(self):\n",
    "        \"\"\"得到描述名\"\"\"\n",
    "        long_name = f\"{self.year} {self.make} {self.model}\"\n",
    "        return long_name.title()\n",
    "\n",
    "# 定义子类ElectricCar\n",
    "class ElectricCar(Car):\n",
    "    \"\"\"在Car类下通过继承, 创建电动车class\"\"\"\n",
    "\n",
    "    def __init__(self, make, model, year):\n",
    "        \"\"\"在子类中初始化父类\"\"\"\n",
    "        super().__init__(make, model, year)  # 调用父类的初始化函数, 使子类包含父类的全部属性\n",
    "        self.battery_size = 75  # 添加子类独有的属性\n",
    "    \n",
    "    def describe_battery(self):\n",
    "        \"\"\"打印电动车剩余电量, 为子类独有\"\"\"\n",
    "        print(f\"This car has a {self.battery_size}-kWh battery\")\n",
    "\n",
    "'''\n",
    "注释: \n",
    "1. 父类也称superclass, super()是一个特殊函数, 使子类能调用父类的方法\n",
    "2. 在子类中重写父类中同名的方法可以覆盖父类中的对应方法\n",
    "'''\n",
    "\n",
    "# 子类的实例化与调用\n",
    "my_tesla = ElectricCar('tesla', 'model s', 2019)\n",
    "print(my_tesla.get_descriptive_name())\n",
    "my_tesla.describe_battery()"
   ]
  },
  {
   "attachments": {},
   "cell_type": "markdown",
   "metadata": {},
   "source": [
    "## 9.3 组合: 将实例用作属性\n",
    "* 使用组合的场景: 大类中有部分属性和方法可以抽象成单独的一类"
   ]
  },
  {
   "cell_type": "code",
   "execution_count": 112,
   "metadata": {},
   "outputs": [
    {
     "name": "stdout",
     "output_type": "stream",
     "text": [
      "This car has a 75-kWh battery\n"
     ]
    }
   ],
   "source": [
    "\"\"\"书中的实例\"\"\"\n",
    "\n",
    "# 定义父类Car\n",
    "class Car:\n",
    "    \"\"\"一次模拟汽车的简单尝试\"\"\"\n",
    "\n",
    "    def __init__(self, make, model, year):\n",
    "        \"\"\"初始化: 品牌、型号、年份\"\"\"\n",
    "        self.make = make\n",
    "        self.model = model\n",
    "        self.year = year\n",
    "        self.odometer_reading = 0  # 里程表读数\n",
    "    \n",
    "    def get_descriptive_name(self):\n",
    "        \"\"\"得到描述名\"\"\"\n",
    "        long_name = f\"{self.year} {self.make} {self.model}\"\n",
    "        return long_name.title()\n",
    "\n",
    "\n",
    "class Battery:\n",
    "    \"\"\"电动车的电瓶模块(单独的一个class, 用于电动车class的组合)\"\"\"\n",
    "\n",
    "    def __init__(self, battery_size=75):\n",
    "        \"\"\"初始化电瓶的属性\"\"\"\n",
    "        self.battery_size = battery_size\n",
    "    \n",
    "    def describe_battery(self):\n",
    "        \"\"\"打印一条描述电瓶容量的信息\"\"\"\n",
    "        print(f\"This car has a {self.battery_size}-kWh battery\")\n",
    "\n",
    "\n",
    "class ElectricCar(Car):\n",
    "    \"\"\"在Car类下通过继承, 创建电动车class\"\"\"\n",
    "\n",
    "    def __init__(self, make, model, year):\n",
    "        \"\"\"在子类中初始化父类\"\"\"\n",
    "        super().__init__(make, model, year)  # 调用父类的初始化函数, 使子类包含父类的全部属性\n",
    "        self.battery = Battery()  # 因为有默认值, 所以可以不加任何参数\n",
    "\n",
    "# 演示调用\n",
    "my_tesla = ElectricCar('telsa', 'model s', 2019)\n",
    "my_tesla.battery.describe_battery()"
   ]
  },
  {
   "attachments": {},
   "cell_type": "markdown",
   "metadata": {},
   "source": [
    "## 9.4 将类储存在模块中\n",
    "* 和函数一样, 类也可以存储在模块中方便调用\n",
    "* 调用的语法:\n",
    "    1. `from <module> import <class_name>`\n",
    "    2. `from <module> import <class_name_1>, <class_name_2>`\n",
    "    3. `import <module>`  # 导出模块中的全部代码, 使用句点表示法进行引用\n",
    "    4. `from electric_car import ElectricCar as EC`  # 使用别名"
   ]
  },
  {
   "attachments": {},
   "cell_type": "markdown",
   "metadata": {},
   "source": [
    "## 9.5 规范\n",
    "* 类名命名使用**驼峰命名法**: \n",
    "    1. 类名中的每个单词首字母大写\n",
    "    2. 不使用下划线\n",
    "* 模块命名:\n",
    "    1. 全部小写\n",
    "    2. 单词之间使用下划线\n",
    "* 模块中类之间2个空行; 类中的方法之间1个空行\n",
    "* import时先导入标准库, 然后空行, 再导入自己编写的模块"
   ]
  },
  {
   "attachments": {},
   "cell_type": "markdown",
   "metadata": {},
   "source": [
    "# 第10章 文件和异常"
   ]
  },
  {
   "attachments": {},
   "cell_type": "markdown",
   "metadata": {},
   "source": [
    "## 10.1 读取文件"
   ]
  },
  {
   "attachments": {},
   "cell_type": "markdown",
   "metadata": {},
   "source": [
    "### 打开文件\n",
    "* 推荐使用with关键字打开文件, 防止意外导致文件未关闭的错误"
   ]
  },
  {
   "cell_type": "code",
   "execution_count": 5,
   "metadata": {},
   "outputs": [
    {
     "name": "stdout",
     "output_type": "stream",
     "text": [
      "3.1415926535 \n",
      "  8979323846 \n",
      "  2643383279\n",
      "\n"
     ]
    }
   ],
   "source": [
    "path_pi_digits = \"material/code_from_textbook/chapter_10/pi_digits.txt\"  # 相对路径\n",
    "\n",
    "with open(path_pi_digits) as file_object:\n",
    "    contents = file_object.read()\n",
    "    \n",
    "print(contents)"
   ]
  },
  {
   "cell_type": "code",
   "execution_count": 6,
   "metadata": {},
   "outputs": [
    {
     "data": {
      "text/plain": [
       "'3.1415926535 \\n  8979323846 \\n  2643383279\\n'"
      ]
     },
     "execution_count": 6,
     "metadata": {},
     "output_type": "execute_result"
    }
   ],
   "source": [
    "contents"
   ]
  },
  {
   "attachments": {},
   "cell_type": "markdown",
   "metadata": {},
   "source": [
    "### 将文件内容放进列表"
   ]
  },
  {
   "cell_type": "code",
   "execution_count": 8,
   "metadata": {},
   "outputs": [
    {
     "data": {
      "text/plain": [
       "['3.1415926535 \\n', '  8979323846 \\n', '  2643383279\\n']"
      ]
     },
     "execution_count": 8,
     "metadata": {},
     "output_type": "execute_result"
    }
   ],
   "source": [
    "path_pi_digits = \"material/code_from_textbook/chapter_10/pi_digits.txt\"  # 相对路径\n",
    "\n",
    "with open(path_pi_digits) as file_object:\n",
    "    contents = file_object.readlines()\n",
    "    \n",
    "contents  # 每一行是一个字符串"
   ]
  },
  {
   "attachments": {},
   "cell_type": "markdown",
   "metadata": {},
   "source": [
    "## 10.2 写入文件\n",
    "* open函数有4种模式实参: 只读('r'), 写入('w'), 追加('a'), 读写('r+')\n",
    "* 如果要写入的文件不存在, open函数会自动创建"
   ]
  },
  {
   "attachments": {},
   "cell_type": "markdown",
   "metadata": {},
   "source": [
    "### 新建写或覆盖写\n",
    "* 写入模式('w')下, 写入会自动清空该文件的内容"
   ]
  },
  {
   "cell_type": "code",
   "execution_count": 11,
   "metadata": {},
   "outputs": [],
   "source": [
    "file_path = 'material/output/test_1.txt'\n",
    "with open(file_path, 'w') as f:\n",
    "    f.write(\"I love programming.\")"
   ]
  },
  {
   "attachments": {},
   "cell_type": "markdown",
   "metadata": {},
   "source": [
    "### 追加写"
   ]
  },
  {
   "cell_type": "code",
   "execution_count": 10,
   "metadata": {},
   "outputs": [],
   "source": [
    "file_path = 'material/output/test_1.txt'\n",
    "with open(file_path, 'a') as f:\n",
    "    f.write(\"I love creating new games.\")"
   ]
  },
  {
   "attachments": {},
   "cell_type": "markdown",
   "metadata": {},
   "source": [
    "## 10.3 异常\n",
    "* 程序出错会创建一个异常对象\n",
    "* 异常处理后, 程序可继续运行\n",
    "* 异常未处理, 程序停止, 显示traceback"
   ]
  },
  {
   "attachments": {},
   "cell_type": "markdown",
   "metadata": {},
   "source": [
    "### 使用``try-except``处理异常"
   ]
  },
  {
   "cell_type": "code",
   "execution_count": 1,
   "metadata": {},
   "outputs": [
    {
     "name": "stdout",
     "output_type": "stream",
     "text": [
      "You can't divide by zero!\n"
     ]
    }
   ],
   "source": [
    "try:\n",
    "    print(5/0)\n",
    "except ZeroDivisionError:\n",
    "    print(\"You can't divide by zero!\")"
   ]
  },
  {
   "attachments": {},
   "cell_type": "markdown",
   "metadata": {},
   "source": [
    "### 使用``try-except-else``处理异常"
   ]
  },
  {
   "cell_type": "code",
   "execution_count": 3,
   "metadata": {},
   "outputs": [
    {
     "name": "stdout",
     "output_type": "stream",
     "text": [
      "You can't divide by zero!\n"
     ]
    }
   ],
   "source": [
    "\"\"\"\n",
    "输入两个数, 计算这两个数相除. 如果除0, 弹出提醒.\n",
    "\"\"\"\n",
    "x = 10\n",
    "y = 0\n",
    "\n",
    "try:\n",
    "    answer = x / y\n",
    "except ZeroDivisionError:\n",
    "    print(\"You can't divide by zero!\")\n",
    "else:\n",
    "    print(answer)"
   ]
  },
  {
   "attachments": {},
   "cell_type": "markdown",
   "metadata": {},
   "source": [
    "## 10.4 使用json格式存储文件"
   ]
  },
  {
   "attachments": {},
   "cell_type": "markdown",
   "metadata": {},
   "source": [
    "### 写入json文件"
   ]
  },
  {
   "cell_type": "code",
   "execution_count": 5,
   "metadata": {},
   "outputs": [],
   "source": [
    "import json\n",
    "\n",
    "numbers = [2, 3, 'a', 7, 11, 'abc', 3.20]\n",
    "content = {\n",
    "    'a': 1, \n",
    "    'b': 2, \n",
    "    'c': 2.01,\n",
    "}\n",
    "\n",
    "path = './output/test_2.json'\n",
    "with open(path, 'w') as f:\n",
    "    json.dump(numbers, f)\n",
    "\n",
    "path = './output/test_3.json'\n",
    "with open(path, 'w') as f:\n",
    "    json.dump(content, f)"
   ]
  },
  {
   "attachments": {},
   "cell_type": "markdown",
   "metadata": {},
   "source": [
    "### 读取json文件"
   ]
  },
  {
   "cell_type": "code",
   "execution_count": 12,
   "metadata": {},
   "outputs": [
    {
     "name": "stdout",
     "output_type": "stream",
     "text": [
      "[2, 3, 'a', 7, 11, 'abc', 3.2]\n",
      "{'a': 1, 'b': 2, 'c': 2.01}\n"
     ]
    }
   ],
   "source": [
    "path = './output/test_2.json'\n",
    "with open(path) as f:\n",
    "    numbers = json.load(f)\n",
    "\n",
    "path = './output/test_3.json'\n",
    "with open(path) as f:\n",
    "    content = json.load(f)\n",
    "    \n",
    "print(numbers)\n",
    "print(content)"
   ]
  },
  {
   "attachments": {},
   "cell_type": "markdown",
   "metadata": {},
   "source": [
    "# 第11章 测试代码"
   ]
  },
  {
   "cell_type": "markdown",
   "metadata": {},
   "source": []
  }
 ],
 "metadata": {
  "kernelspec": {
   "display_name": "Python 3.10.6 ('astro')",
   "language": "python",
   "name": "python3"
  },
  "language_info": {
   "codemirror_mode": {
    "name": "ipython",
    "version": 3
   },
   "file_extension": ".py",
   "mimetype": "text/x-python",
   "name": "python",
   "nbconvert_exporter": "python",
   "pygments_lexer": "ipython3",
   "version": "3.10.6"
  },
  "orig_nbformat": 4,
  "vscode": {
   "interpreter": {
    "hash": "8894f366d6de9d393653cbb016f1795f39a856928ab40a2f97a943c59af84e17"
   }
  }
 },
 "nbformat": 4,
 "nbformat_minor": 2
}
