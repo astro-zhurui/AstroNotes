{
 "cells": [
  {
   "cell_type": "markdown",
   "metadata": {},
   "source": [
    "**装饰器学习笔记**  \n",
    "@author: Rui Zhu  \n",
    "@created: 2024-05-10  \n",
    "@cite:  \n",
    "1. 《流畅的Python》"
   ]
  },
  {
   "cell_type": "markdown",
   "metadata": {},
   "source": [
    "---\n",
    "# 装饰器的简单实例\n",
    "* 装饰器的定义：装饰器是一种可调用对象，其参数是另一个函数（被装饰函数）\n",
    "* 装饰器的行为：装饰器可能对被装饰函数做些处理，然后返回新函数或可调用对象\n",
    "* 装饰器的3个基本性质:\n",
    "    1. 装饰器是一个函数或其他可调用对象\n",
    "    2. 装饰器可以把被装饰函数替换成别的函数\n",
    "    3. 装饰器在加载模块时立即执行"
   ]
  },
  {
   "cell_type": "code",
   "execution_count": 8,
   "metadata": {},
   "outputs": [
    {
     "name": "stdout",
     "output_type": "stream",
     "text": [
      "装饰器会立即执行\n"
     ]
    }
   ],
   "source": [
    "def deco(func):\n",
    "    \"\"\"\n",
    "    定义一个装饰器deco, 功能是输入任意函数, 返回新函数inner\n",
    "    \"\"\"\n",
    "    print(\"装饰器会立即执行\")\n",
    "    def inner():\n",
    "        print('running inner()')\n",
    "    return inner\n",
    "\n",
    "@deco  # 使用deco装饰器修饰target函数\n",
    "def target():\n",
    "    print('running target()')"
   ]
  },
  {
   "cell_type": "code",
   "execution_count": 10,
   "metadata": {},
   "outputs": [
    {
     "name": "stdout",
     "output_type": "stream",
     "text": [
      "running inner()\n"
     ]
    }
   ],
   "source": [
    "target()  # 调用target函数, 实际上调用的是inner函数"
   ]
  },
  {
   "cell_type": "markdown",
   "metadata": {},
   "source": [
    "---\n",
    "# 装饰器的重要性质: 装饰器会在被装饰函数定义后立即执行\n",
    "* 即, 使用@调用装饰器相当于调用一次装饰器函数"
   ]
  },
  {
   "cell_type": "code",
   "execution_count": 13,
   "metadata": {},
   "outputs": [
    {
     "name": "stdout",
     "output_type": "stream",
     "text": [
      "running register(<function f1 at 0x107a99440>)\n",
      "running register(<function f2 at 0x107a980e0>)\n"
     ]
    }
   ],
   "source": [
    "registry = []  # 定义一个列表, 用于存储被装饰的函数\n",
    "def register(func):\n",
    "    print('running register(%s)' % func)\n",
    "    registry.append(func)\n",
    "    return func\n",
    "\n",
    "@register  # 使用register装饰器修饰f1函数\n",
    "def f1():\n",
    "    print('running f1()')\n",
    "\n",
    "@register  # 使用register装饰器修饰f2函数\n",
    "def f2():\n",
    "    print('running f2()')\n",
    "\n",
    "def f3():\n",
    "    print('running f3()')\n",
    "\n",
    "def main():\n",
    "    print('running main()')\n",
    "    print('registry ->', registry)\n",
    "    f1()\n",
    "    f2()\n",
    "    f3()"
   ]
  },
  {
   "cell_type": "markdown",
   "metadata": {},
   "source": [
    "---\n",
    "# Python中的变量作用域\n",
    "* 因为装饰器涉及到嵌套函数, 所以需要弄清楚各种变量的作用范围"
   ]
  },
  {
   "cell_type": "markdown",
   "metadata": {},
   "source": [
    "## 全局变量与局部变量"
   ]
  },
  {
   "cell_type": "code",
   "execution_count": 20,
   "metadata": {},
   "outputs": [
    {
     "name": "stdout",
     "output_type": "stream",
     "text": [
      "3\n",
      "6\n"
     ]
    }
   ],
   "source": [
    "b = 6  # 全局变量b\n",
    "def f1(a):\n",
    "    print(a) # 局部变量a\n",
    "    print(b)\n",
    "\n",
    "f1(3)"
   ]
  },
  {
   "cell_type": "code",
   "execution_count": 86,
   "metadata": {},
   "outputs": [
    {
     "name": "stdout",
     "output_type": "stream",
     "text": [
      "3\n",
      "cannot access local variable 'b' where it is not associated with a value\n"
     ]
    }
   ],
   "source": [
    "b = 6  # 全局变量b\n",
    "def f1(a):\n",
    "    print(a) # 局部变量a\n",
    "    print(b)\n",
    "    b = 9\n",
    "\n",
    "try:\n",
    "    f1(3)  # 报错的原因是: python会假设函数主体中赋值的变量是局部变量\n",
    "except Exception as e:\n",
    "    print(e)"
   ]
  },
  {
   "cell_type": "code",
   "execution_count": 44,
   "metadata": {},
   "outputs": [
    {
     "name": "stdout",
     "output_type": "stream",
     "text": [
      "3\n",
      "6\n"
     ]
    }
   ],
   "source": [
    "b = 6  # 全局变量b\n",
    "def f1(a):\n",
    "    global b  # 手动生命b是全局变量\n",
    "    print(a) # 局部变量a\n",
    "    print(b)\n",
    "    b = 9\n",
    "\n",
    "f1(3)"
   ]
  },
  {
   "cell_type": "markdown",
   "metadata": {},
   "source": [
    "## 闭包\n",
    "* 见实例2, 闭包是一个函数, 包含原始函数和该函数定义时使用的自由变量的绑定\n",
    "* 自由变量时外层函数的局域变量, 也是内层函数的绑定\n",
    "* 调用闭包函数时, 即使局域作用域失效了, 也可以使用这些绑定"
   ]
  },
  {
   "cell_type": "code",
   "execution_count": 54,
   "metadata": {},
   "outputs": [
    {
     "name": "stdout",
     "output_type": "stream",
     "text": [
      "10.0\n",
      "10.5\n"
     ]
    },
    {
     "data": {
      "text/plain": [
       "[10, 11]"
      ]
     },
     "execution_count": 54,
     "metadata": {},
     "output_type": "execute_result"
    }
   ],
   "source": [
    "\"\"\"\n",
    "实例1: 计算累计平均值的类实现\n",
    "\"\"\"\n",
    "class Averager:\n",
    "    def __init__(self):\n",
    "        self.series = []\n",
    "\n",
    "    def __call__(self, new_value):\n",
    "        self.series.append(new_value)\n",
    "        total = sum(self.series)\n",
    "        return total / len(self.series)\n",
    "\n",
    "avg = Averager()\n",
    "print(avg(10))\n",
    "print(avg(11))\n",
    "avg.series"
   ]
  },
  {
   "cell_type": "code",
   "execution_count": 73,
   "metadata": {},
   "outputs": [
    {
     "name": "stdout",
     "output_type": "stream",
     "text": [
      "10.0\n",
      "10.5\n"
     ]
    },
    {
     "data": {
      "text/plain": [
       "[10, 11]"
      ]
     },
     "execution_count": 73,
     "metadata": {},
     "output_type": "execute_result"
    }
   ],
   "source": [
    "\"\"\"\n",
    "实例2: 计算累计平均值的高阶函数实现\n",
    "\"\"\"\n",
    "def make_averager():\n",
    "\n",
    "    # 闭包\n",
    "    series = []  # make_averager函数的局部变量, 也是averager函数的自由变量\n",
    "    def averager(new_value):\n",
    "        series.append(new_value)\n",
    "        total = sum(series)\n",
    "        return total / len(series)\n",
    "    \n",
    "    return averager\n",
    "\n",
    "avg = make_averager()\n",
    "print(avg(10))\n",
    "print(avg(11))\n",
    "\n",
    "avg.__closure__[0].cell_contents  # 查看自由变量series的值"
   ]
  },
  {
   "cell_type": "markdown",
   "metadata": {},
   "source": [
    "## nonlocal关键字声明自由变量"
   ]
  },
  {
   "cell_type": "code",
   "execution_count": 84,
   "metadata": {},
   "outputs": [
    {
     "name": "stdout",
     "output_type": "stream",
     "text": [
      "cannot access local variable 'count' where it is not associated with a value\n"
     ]
    }
   ],
   "source": [
    "\"\"\"\n",
    "实例2: 计算累计平均值的高阶函数实现, 不重复求和计算, 速度会更快\n",
    "\"\"\"\n",
    "def make_averager():\n",
    "    count = 0\n",
    "    total = 0\n",
    "\n",
    "    def averager(new_value):\n",
    "        count += 1  # count是数字或任何不可变类型, python会认为count是局部变量\n",
    "        total += new_value\n",
    "        return total / count\n",
    "\n",
    "    return averager \n",
    "\n",
    "avg = make_averager()\n",
    "\n",
    "try:\n",
    "    avg(10)  # 报错的原因是: python会假设函数主体中赋值的变量是局部变量\n",
    "except Exception as e:\n",
    "    print(e)"
   ]
  },
  {
   "cell_type": "code",
   "execution_count": 82,
   "metadata": {},
   "outputs": [
    {
     "data": {
      "text/plain": [
       "10.5"
      ]
     },
     "execution_count": 82,
     "metadata": {},
     "output_type": "execute_result"
    }
   ],
   "source": [
    "def make_averager():\n",
    "    count = 0\n",
    "    total = 0\n",
    "\n",
    "    def averager(new_value):\n",
    "        nonlocal count, total  # 声明count和total是自由变量可解决这个问题\n",
    "        count += 1  \n",
    "        total += new_value\n",
    "        return total / count\n",
    "\n",
    "    return averager \n",
    "\n",
    "avg = make_averager()\n",
    "avg(10)\n",
    "avg(11)"
   ]
  },
  {
   "cell_type": "markdown",
   "metadata": {},
   "source": [
    "---\n",
    "# 实现简单的装饰器"
   ]
  },
  {
   "cell_type": "code",
   "execution_count": null,
   "metadata": {},
   "outputs": [],
   "source": []
  }
 ],
 "metadata": {
  "kernelspec": {
   "display_name": "astro",
   "language": "python",
   "name": "python3"
  },
  "language_info": {
   "codemirror_mode": {
    "name": "ipython",
    "version": 3
   },
   "file_extension": ".py",
   "mimetype": "text/x-python",
   "name": "python",
   "nbconvert_exporter": "python",
   "pygments_lexer": "ipython3",
   "version": "3.12.1"
  }
 },
 "nbformat": 4,
 "nbformat_minor": 2
}
