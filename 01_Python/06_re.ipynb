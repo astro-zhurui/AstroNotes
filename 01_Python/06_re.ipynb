{
 "cells": [
  {
   "cell_type": "markdown",
   "metadata": {},
   "source": [
    "**python中处理regular expression的标准库**\n",
    "\n",
    "@creation time: 2023-08-29  \n",
    "@follow: \n",
    "1. [re-python docs](https://docs.python.org/zh-cn/3/library/re.html)\n",
    "2. [r2coding](https://r2coding.com/#/README?id=正则表达式)\n",
    "3. [regex101.com-正则表达式练习网站](https://regex101.com)\n",
    "4. https://www.cnblogs.com/CYHISTW/p/11363209.html"
   ]
  },
  {
   "cell_type": "code",
   "execution_count": 6,
   "metadata": {},
   "outputs": [],
   "source": [
    "import re"
   ]
  },
  {
   "cell_type": "markdown",
   "metadata": {},
   "source": [
    "## 引言\n",
    "\n",
    "* 正则表达式是表达字符串的模式，常用于文本中的查找匹配"
   ]
  },
  {
   "cell_type": "markdown",
   "metadata": {},
   "source": [
    "---\n",
    "## 转义字符"
   ]
  },
  {
   "cell_type": "code",
   "execution_count": 5,
   "metadata": {},
   "outputs": [
    {
     "name": "stdout",
     "output_type": "stream",
     "text": [
      "ABC\\-001\n",
      "ABC\\-001\n",
      "ABC\\\\-001\n",
      "ABC\\-001\n"
     ]
    }
   ],
   "source": [
    "# python中使用字符\\进行转义\n",
    "print(\"ABC\\\\-001\")\n",
    "print(\"ABC\\-001\")\n",
    "\n",
    "# 而正则表达式中也使用\\转义、\n",
    "# 推荐写正则表达式时一直加上r, 即取消python默认的转义\n",
    "print(r\"ABC\\\\-001\")\n",
    "print(r\"ABC\\-001\")"
   ]
  },
  {
   "cell_type": "markdown",
   "metadata": {},
   "source": [
    "---\n",
    "# 搜索匹配"
   ]
  },
  {
   "cell_type": "markdown",
   "metadata": {},
   "source": [
    "## re.match()\n",
    "从字符串的起始位置匹配一个模式, 没有匹配或不是起始位置, 返回none"
   ]
  },
  {
   "cell_type": "code",
   "execution_count": 22,
   "metadata": {},
   "outputs": [
    {
     "name": "stdout",
     "output_type": "stream",
     "text": [
      "<re.Match object; span=(0, 3), match='www'>\n"
     ]
    }
   ],
   "source": [
    "string = \"www.python.org\"\n",
    "regex = r\"www\"\n",
    "\n",
    "print(re.match(pattern=regex, string=string))"
   ]
  },
  {
   "cell_type": "markdown",
   "metadata": {},
   "source": [
    "## re.search()\n",
    "扫描整个字符串, 返回第一个匹配成功的字符串"
   ]
  },
  {
   "cell_type": "code",
   "execution_count": 35,
   "metadata": {},
   "outputs": [
    {
     "data": {
      "text/plain": [
       "'o'"
      ]
     },
     "execution_count": 35,
     "metadata": {},
     "output_type": "execute_result"
    }
   ],
   "source": [
    "string = \"www.python.org\"\n",
    "regex = r\"o\"\n",
    "\n",
    "searchObj = re.search(pattern=regex, string=string)\n",
    "searchObj.group()"
   ]
  },
  {
   "cell_type": "markdown",
   "metadata": {},
   "source": [
    "## re.findall()\n",
    "* 找到正则表达式匹配的全部子串, 返回列表\n",
    "* 有多个匹配模式, 返回元组列表\n",
    "* 无匹配,返回空字符串"
   ]
  },
  {
   "cell_type": "code",
   "execution_count": 59,
   "metadata": {},
   "outputs": [
    {
     "data": {
      "text/plain": [
       "['python', 'org']"
      ]
     },
     "execution_count": 59,
     "metadata": {},
     "output_type": "execute_result"
    }
   ],
   "source": [
    "string = \"www.python.org\"\n",
    "regex = r\"(python|org)\"\n",
    "\n",
    "re.findall(pattern=regex, string=string)"
   ]
  },
  {
   "cell_type": "markdown",
   "metadata": {},
   "source": [
    "## re.finditer()\n",
    "跟findall()差不多, 只不过返回的是迭代器"
   ]
  },
  {
   "cell_type": "code",
   "execution_count": 62,
   "metadata": {},
   "outputs": [
    {
     "name": "stdout",
     "output_type": "stream",
     "text": [
      "python\n",
      "org\n"
     ]
    }
   ],
   "source": [
    "string = \"www.python.org\"\n",
    "regex = r\"(python|org)\"\n",
    "\n",
    "for item in re.finditer(pattern=regex, string=string):\n",
    "    print(item.group())"
   ]
  },
  {
   "cell_type": "markdown",
   "metadata": {},
   "source": [
    "## re.complile()\n",
    "编译相同的正则表达式, 产生的pattern对象有re的全部功能"
   ]
  },
  {
   "cell_type": "code",
   "execution_count": 53,
   "metadata": {},
   "outputs": [],
   "source": [
    "string = \"one12twothree34four\"\n",
    "pattern = re.compile(r'\\d+')  # 编译正则表达式, 生成re.Pattern对象"
   ]
  },
  {
   "cell_type": "code",
   "execution_count": 56,
   "metadata": {},
   "outputs": [
    {
     "name": "stdout",
     "output_type": "stream",
     "text": [
      "None\n",
      "None\n",
      "<re.Match object; span=(4, 5), match='2'>\n"
     ]
    }
   ],
   "source": [
    "# match()函数依旧是从头匹配, 但是这个函数提供位置参数pos\n",
    "print(pattern.match(string))\n",
    "print(pattern.match(string, pos=1))\n",
    "print(pattern.match(string, pos=4))"
   ]
  },
  {
   "cell_type": "markdown",
   "metadata": {},
   "source": [
    "## re.split()\n",
    "以匹配字符为分隔, 分隔字符串, 然后返回列表"
   ]
  },
  {
   "cell_type": "code",
   "execution_count": 65,
   "metadata": {},
   "outputs": [
    {
     "data": {
      "text/plain": [
       "['www', 'ython', 'rg']"
      ]
     },
     "execution_count": 65,
     "metadata": {},
     "output_type": "execute_result"
    }
   ],
   "source": [
    "string = \"www.python.org\"\n",
    "regex = r\"\\.p|\\.o\"\n",
    "\n",
    "re.split(pattern=regex, string=string)"
   ]
  },
  {
   "cell_type": "code",
   "execution_count": 66,
   "metadata": {},
   "outputs": [
    {
     "data": {
      "text/plain": [
       "['www', '.p', 'ython', '.o', 'rg']"
      ]
     },
     "execution_count": 66,
     "metadata": {},
     "output_type": "execute_result"
    }
   ],
   "source": [
    "string = \"www.python.org\"\n",
    "regex = r\"(\\.p|\\.o)\"  # 如果使用捕获组, 则保留对应的分隔字符串\n",
    "\n",
    "re.split(pattern=regex, string=string)"
   ]
  },
  {
   "cell_type": "markdown",
   "metadata": {},
   "source": [
    "---\n",
    "# 替换"
   ]
  },
  {
   "cell_type": "markdown",
   "metadata": {},
   "source": [
    "## re.sub()\n",
    "re.sub(pattern=\"正则表达式\", repl=<替换的字符串或函数>, string=\"被替换的字符串\", count=<模式替换次数, 0表示全部替换>)"
   ]
  },
  {
   "cell_type": "code",
   "execution_count": 32,
   "metadata": {},
   "outputs": [
    {
     "data": {
      "text/plain": [
       "'2004-959-559'"
      ]
     },
     "execution_count": 32,
     "metadata": {},
     "output_type": "execute_result"
    }
   ],
   "source": [
    "phone = \"2004-959-559 # 这是一个国外电话号码\"\n",
    "\n",
    "# 删除字符串中的python注释\n",
    "regex = r\"\\s#.*$\"\n",
    "re.sub(pattern=regex, repl=\"\", string=phone)  #  这个例子中替换字符串是空字符串"
   ]
  },
  {
   "cell_type": "code",
   "execution_count": 40,
   "metadata": {},
   "outputs": [
    {
     "data": {
      "text/plain": [
       "'A246B468'"
      ]
     },
     "execution_count": 40,
     "metadata": {},
     "output_type": "execute_result"
    }
   ],
   "source": [
    "# repl参数传入一个函数, 可实现对匹配到的内容进行操作\n",
    "def func(matched):\n",
    "    value = int(matched.group(\"value\"))\n",
    "    return str(value * 2)\n",
    "\n",
    "string = \"A123B234\"\n",
    "re.sub(pattern=r\"(?P<value>\\d+)\", repl=func, string=string)"
   ]
  }
 ],
 "metadata": {
  "kernelspec": {
   "display_name": "astro",
   "language": "python",
   "name": "python3"
  },
  "language_info": {
   "codemirror_mode": {
    "name": "ipython",
    "version": 3
   },
   "file_extension": ".py",
   "mimetype": "text/x-python",
   "name": "python",
   "nbconvert_exporter": "python",
   "pygments_lexer": "ipython3",
   "version": "3.11.4"
  },
  "orig_nbformat": 4
 },
 "nbformat": 4,
 "nbformat_minor": 2
}
