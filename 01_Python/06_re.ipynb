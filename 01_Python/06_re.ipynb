{
 "cells": [
  {
   "cell_type": "markdown",
   "metadata": {},
   "source": [
    "**python中处理regular expression的标准库**\n",
    "\n",
    "@creation time: 2023-08-29  \n",
    "@follow: \n",
    "1. [re-python docs](https://docs.python.org/zh-cn/3/library/re.html)\n",
    "2. [r2coding](https://r2coding.com/#/README?id=正则表达式)\n",
    "3. [regex101.com-正则表达式练习网站](https://regex101.com)"
   ]
  },
  {
   "cell_type": "code",
   "execution_count": null,
   "metadata": {},
   "outputs": [],
   "source": []
  }
 ],
 "metadata": {
  "language_info": {
   "name": "python"
  },
  "orig_nbformat": 4
 },
 "nbformat": 4,
 "nbformat_minor": 2
}
