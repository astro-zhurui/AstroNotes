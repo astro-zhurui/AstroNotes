{
 "cells": [
  {
   "cell_type": "markdown",
   "metadata": {},
   "source": [
    "**python中处理regular expression的标准库**\n",
    "\n",
    "@creation time: 2023-08-29  \n",
    "@follow: \n",
    "1. [re-python docs](https://docs.python.org/zh-cn/3/library/re.html)\n",
    "2. [r2coding](https://r2coding.com/#/README?id=正则表达式)\n",
    "3. [regex101.com-正则表达式练习网站](https://regex101.com)\n",
    "4. https://www.cnblogs.com/CYHISTW/p/11363209.html"
   ]
  },
  {
   "cell_type": "code",
   "execution_count": 1,
   "metadata": {},
   "outputs": [],
   "source": [
    "import re"
   ]
  },
  {
   "cell_type": "markdown",
   "metadata": {},
   "source": [
    "## 引言\n",
    "\n",
    "* 正则表达式是表达字符串的模式，常用于文本中的查找匹配"
   ]
  },
  {
   "cell_type": "markdown",
   "metadata": {},
   "source": [
    "---\n",
    "## 转义字符"
   ]
  },
  {
   "cell_type": "code",
   "execution_count": 2,
   "metadata": {},
   "outputs": [
    {
     "name": "stdout",
     "output_type": "stream",
     "text": [
      "ABC\\-001\n",
      "ABC\\-001\n",
      "ABC\\\\-001\n",
      "ABC\\-001\n"
     ]
    },
    {
     "name": "stderr",
     "output_type": "stream",
     "text": [
      "<>:3: SyntaxWarning: invalid escape sequence '\\-'\n",
      "<>:3: SyntaxWarning: invalid escape sequence '\\-'\n",
      "/var/folders/fz/b935cghx795_zycx9njnpf3m0000gn/T/ipykernel_73838/2449781909.py:3: SyntaxWarning: invalid escape sequence '\\-'\n",
      "  print(\"ABC\\-001\")\n"
     ]
    }
   ],
   "source": [
    "# python中使用字符\\进行转义\n",
    "print(\"ABC\\\\-001\")\n",
    "print(\"ABC\\-001\")\n",
    "\n",
    "# 而正则表达式中也使用\\转义、\n",
    "# 推荐写正则表达式时一直加上r, 即取消python默认的转义\n",
    "print(r\"ABC\\\\-001\")\n",
    "print(r\"ABC\\-001\")"
   ]
  },
  {
   "cell_type": "markdown",
   "metadata": {},
   "source": [
    "---\n",
    "# 搜索匹配"
   ]
  },
  {
   "cell_type": "markdown",
   "metadata": {},
   "source": [
    "## re.match()\n",
    "从字符串的起始位置匹配一个模式, 没有匹配或不是起始位置, 返回none"
   ]
  },
  {
   "cell_type": "code",
   "execution_count": 3,
   "metadata": {},
   "outputs": [
    {
     "name": "stdout",
     "output_type": "stream",
     "text": [
      "<re.Match object; span=(0, 3), match='www'>\n"
     ]
    }
   ],
   "source": [
    "string = \"www.python.org\"\n",
    "regex = r\"www\"\n",
    "\n",
    "print(re.match(pattern=regex, string=string))"
   ]
  },
  {
   "cell_type": "markdown",
   "metadata": {},
   "source": [
    "## re.search()\n",
    "扫描整个字符串, 返回第一个匹配成功的字符串"
   ]
  },
  {
   "cell_type": "code",
   "execution_count": 4,
   "metadata": {},
   "outputs": [
    {
     "data": {
      "text/plain": [
       "'o'"
      ]
     },
     "execution_count": 4,
     "metadata": {},
     "output_type": "execute_result"
    }
   ],
   "source": [
    "string = \"www.python.org\"\n",
    "regex = r\"o\"\n",
    "\n",
    "searchObj = re.search(pattern=regex, string=string)\n",
    "searchObj.group()"
   ]
  },
  {
   "cell_type": "markdown",
   "metadata": {},
   "source": [
    "## re.findall()\n",
    "* 找到正则表达式匹配的全部子串, 返回列表\n",
    "* 有多个匹配模式, 返回元组列表\n",
    "* 无匹配,返回空字符串"
   ]
  },
  {
   "cell_type": "code",
   "execution_count": 5,
   "metadata": {},
   "outputs": [
    {
     "data": {
      "text/plain": [
       "['python', 'org']"
      ]
     },
     "execution_count": 5,
     "metadata": {},
     "output_type": "execute_result"
    }
   ],
   "source": [
    "string = \"www.python.org\"\n",
    "regex = r\"(python|org)\"\n",
    "\n",
    "re.findall(pattern=regex, string=string)"
   ]
  },
  {
   "cell_type": "markdown",
   "metadata": {},
   "source": [
    "## re.finditer()\n",
    "跟findall()差不多, 只不过返回的是迭代器"
   ]
  },
  {
   "cell_type": "code",
   "execution_count": 6,
   "metadata": {},
   "outputs": [
    {
     "name": "stdout",
     "output_type": "stream",
     "text": [
      "python\n",
      "org\n"
     ]
    }
   ],
   "source": [
    "string = \"www.python.org\"\n",
    "regex = r\"(python|org)\"\n",
    "\n",
    "for item in re.finditer(pattern=regex, string=string):\n",
    "    print(item.group())"
   ]
  },
  {
   "cell_type": "markdown",
   "metadata": {},
   "source": [
    "## re.complile()\n",
    "编译相同的正则表达式, 产生的pattern对象有re的全部功能"
   ]
  },
  {
   "cell_type": "code",
   "execution_count": 7,
   "metadata": {},
   "outputs": [],
   "source": [
    "string = \"one12twothree34four\"\n",
    "pattern = re.compile(r'\\d+')  # 编译正则表达式, 生成re.Pattern对象"
   ]
  },
  {
   "cell_type": "code",
   "execution_count": 8,
   "metadata": {},
   "outputs": [
    {
     "name": "stdout",
     "output_type": "stream",
     "text": [
      "None\n",
      "None\n",
      "<re.Match object; span=(4, 5), match='2'>\n"
     ]
    }
   ],
   "source": [
    "# match()函数依旧是从头匹配, 但是这个函数提供位置参数pos\n",
    "print(pattern.match(string))\n",
    "print(pattern.match(string, pos=1))\n",
    "print(pattern.match(string, pos=4))"
   ]
  },
  {
   "cell_type": "markdown",
   "metadata": {},
   "source": [
    "## re.split()\n",
    "以匹配字符为分隔, 分隔字符串, 然后返回列表"
   ]
  },
  {
   "cell_type": "code",
   "execution_count": 9,
   "metadata": {},
   "outputs": [
    {
     "data": {
      "text/plain": [
       "['www', 'ython', 'rg']"
      ]
     },
     "execution_count": 9,
     "metadata": {},
     "output_type": "execute_result"
    }
   ],
   "source": [
    "string = \"www.python.org\"\n",
    "regex = r\"\\.p|\\.o\"\n",
    "\n",
    "re.split(pattern=regex, string=string)"
   ]
  },
  {
   "cell_type": "code",
   "execution_count": 10,
   "metadata": {},
   "outputs": [
    {
     "data": {
      "text/plain": [
       "['www', '.p', 'ython', '.o', 'rg']"
      ]
     },
     "execution_count": 10,
     "metadata": {},
     "output_type": "execute_result"
    }
   ],
   "source": [
    "string = \"www.python.org\"\n",
    "regex = r\"(\\.p|\\.o)\"  # 如果使用捕获组, 则保留对应的分隔字符串\n",
    "\n",
    "re.split(pattern=regex, string=string)"
   ]
  },
  {
   "cell_type": "markdown",
   "metadata": {},
   "source": [
    "---\n",
    "# 替换"
   ]
  },
  {
   "cell_type": "markdown",
   "metadata": {},
   "source": [
    "## re.sub()\n",
    "re.sub(pattern=\"正则表达式\", repl=<替换的字符串或函数>, string=\"被替换的字符串\", count=<模式替换次数, 0表示全部替换>)"
   ]
  },
  {
   "cell_type": "code",
   "execution_count": 11,
   "metadata": {},
   "outputs": [
    {
     "data": {
      "text/plain": [
       "'2004-959-559'"
      ]
     },
     "execution_count": 11,
     "metadata": {},
     "output_type": "execute_result"
    }
   ],
   "source": [
    "phone = \"2004-959-559 # 这是一个国外电话号码\"\n",
    "\n",
    "# 删除字符串中的python注释\n",
    "regex = r\"\\s#.*$\"\n",
    "re.sub(pattern=regex, repl=\"\", string=phone)  #  这个例子中替换字符串是空字符串"
   ]
  },
  {
   "cell_type": "code",
   "execution_count": 12,
   "metadata": {},
   "outputs": [
    {
     "data": {
      "text/plain": [
       "'A246B468'"
      ]
     },
     "execution_count": 12,
     "metadata": {},
     "output_type": "execute_result"
    }
   ],
   "source": [
    "# repl参数传入一个函数, 可实现对匹配到的内容进行操作\n",
    "def func(matched):\n",
    "    value = int(matched.group(\"value\"))\n",
    "    return str(value * 2)\n",
    "\n",
    "string = \"A123B234\"\n",
    "re.sub(pattern=r\"(?P<value>\\d+)\", repl=func, string=string)"
   ]
  },
  {
   "cell_type": "markdown",
   "metadata": {},
   "source": [
    "---\n",
    "# 正则表达式练习\n",
    "\n",
    "@follow:《正则表达式必知必会》"
   ]
  },
  {
   "cell_type": "code",
   "execution_count": 13,
   "metadata": {},
   "outputs": [],
   "source": [
    "import re"
   ]
  },
  {
   "cell_type": "markdown",
   "metadata": {},
   "source": [
    "sec 2.1.2 正则表达式是区分大小写的"
   ]
  },
  {
   "cell_type": "code",
   "execution_count": 14,
   "metadata": {},
   "outputs": [
    {
     "data": {
      "text/plain": [
       "['abc']"
      ]
     },
     "execution_count": 14,
     "metadata": {},
     "output_type": "execute_result"
    }
   ],
   "source": [
    "string = \"abc ABC cba\"\n",
    "regex = \"abc\"\n",
    "re.findall(regex, string)"
   ]
  },
  {
   "cell_type": "markdown",
   "metadata": {},
   "source": [
    "sec 2.3 .字符不能匹配换行符"
   ]
  },
  {
   "cell_type": "code",
   "execution_count": 15,
   "metadata": {},
   "outputs": [
    {
     "data": {
      "text/plain": [
       "['\\t1']"
      ]
     },
     "execution_count": 15,
     "metadata": {},
     "output_type": "execute_result"
    }
   ],
   "source": [
    "string = \"\\t123\"\n",
    "regex = \".1\"\n",
    "re.findall(regex, string)"
   ]
  },
  {
   "cell_type": "code",
   "execution_count": 16,
   "metadata": {},
   "outputs": [
    {
     "data": {
      "text/plain": [
       "[]"
      ]
     },
     "execution_count": 16,
     "metadata": {},
     "output_type": "execute_result"
    }
   ],
   "source": [
    "string = \"\\n123\"\n",
    "regex = \".1\"\n",
    "re.findall(regex, string)"
   ]
  },
  {
   "cell_type": "markdown",
   "metadata": {},
   "source": [
    "sec 8.2 使用反向引用"
   ]
  },
  {
   "cell_type": "code",
   "execution_count": 17,
   "metadata": {},
   "outputs": [
    {
     "name": "stdout",
     "output_type": "stream",
     "text": [
      "文本: \n",
      " This is a block of of text, several words here are are repeated, and and they should not be.\n"
     ]
    },
    {
     "data": {
      "text/plain": [
       "[('of', 'of'), ('are', 'are'), ('and', 'and')]"
      ]
     },
     "execution_count": 17,
     "metadata": {},
     "output_type": "execute_result"
    }
   ],
   "source": [
    "content = \"This is a block of of text, several words here are are repeated, and and they should not be.\"\n",
    "print(\"文本: \\n\", content)\n",
    "\n",
    "re.findall(pattern=r\"\\s+(\\w+)\\s+(\\1)\", string=content)  # ! 注意与书中的不同"
   ]
  },
  {
   "cell_type": "markdown",
   "metadata": {},
   "source": [
    "sec 8.3 使用反向引用实现替换"
   ]
  },
  {
   "cell_type": "code",
   "execution_count": 18,
   "metadata": {},
   "outputs": [
    {
     "name": "stdout",
     "output_type": "stream",
     "text": [
      "文本: \n",
      "313-555-1234\n",
      "248-555-9999\n",
      "810-555-9000\n",
      "替换后的文本: \n",
      "(313) 555-1234\n",
      "(248) 555-9999\n",
      "(810) 555-9000\n"
     ]
    }
   ],
   "source": [
    "\"\"\"\n",
    "整理电话号码格式\n",
    "\"\"\"\n",
    "content = \"313-555-1234\\n248-555-9999\\n810-555-9000\"\n",
    "print(f\"文本: \\n{content}\")\n",
    "\n",
    "content_sub = re.sub(pattern=r\"(\\d{3})-(\\d{3})-(\\d{4})\", repl=r\"(\\1) \\2-\\3\", string=content)\n",
    "print(f\"替换后的文本: \\n{content_sub}\")"
   ]
  },
  {
   "cell_type": "code",
   "execution_count": 19,
   "metadata": {},
   "outputs": [
    {
     "name": "stdout",
     "output_type": "stream",
     "text": [
      "文本: \n",
      "<body>\n",
      "<h1>Welcome to my Homepage</h1>\n",
      "Content is divided into two sections:<br/> <h2>SQL</h2>\n",
      "Information about SQL.\n",
      "\n",
      "替换后的文本: \n",
      "<body>\n",
      "<h1>WELCOME TO MY HOMEPAGE</h1>\n",
      "Content is divided into two sections:<br/> <h2>SQL</h2>\n",
      "Information about SQL.\n"
     ]
    }
   ],
   "source": [
    "\"\"\"\n",
    "将HTML的标题1内容大写\n",
    "\"\"\"\n",
    "content = \"<body>\\n<h1>Welcome to my Homepage</h1>\\nContent is divided into two sections:<br/> <h2>SQL</h2>\\nInformation about SQL.\"\n",
    "print(f\"文本: \\n{content}\")\n",
    "\n",
    "def uppper_repl(match):\n",
    "    return match.group(1) + match.group(2).upper() + match.group(3)  # ! python不支持书中的表达，需要用这种方法\n",
    "\n",
    "content_sub = re.sub(pattern=r\"(<[Hh]1>)(.*)(<\\/[Hh]1>)\", \n",
    "                     repl=uppper_repl, string=content)\n",
    "print(f\"\\n替换后的文本: \\n{content_sub}\")"
   ]
  },
  {
   "cell_type": "markdown",
   "metadata": {},
   "source": [
    "sec 9.2 环视-向前查看"
   ]
  },
  {
   "cell_type": "code",
   "execution_count": 20,
   "metadata": {},
   "outputs": [
    {
     "name": "stdout",
     "output_type": "stream",
     "text": [
      "文本: \n",
      "http://www.forta.com/\n",
      "https://mail.forta.com/\n",
      "ftp://ftp.forta.com/\n"
     ]
    },
    {
     "data": {
      "text/plain": [
       "['http', 'https', 'ftp']"
      ]
     },
     "execution_count": 20,
     "metadata": {},
     "output_type": "execute_result"
    }
   ],
   "source": [
    "content = \"http://www.forta.com/\\nhttps://mail.forta.com/\\nftp://ftp.forta.com/\"\n",
    "print(f\"文本: \\n{content}\")\n",
    "\n",
    "re.findall(pattern=r\"\\w+(?=:)\", string=content)"
   ]
  },
  {
   "cell_type": "markdown",
   "metadata": {},
   "source": [
    "sec 9.3 环视-向后查看"
   ]
  },
  {
   "cell_type": "code",
   "execution_count": 21,
   "metadata": {},
   "outputs": [
    {
     "name": "stdout",
     "output_type": "stream",
     "text": [
      "文本: \n",
      "ABC01: $23.45\n",
      "HGG42: $5.31\n",
      "CFMX1: $899.00\n",
      "XTC99: $69.96\n",
      "Total items found: 4\n"
     ]
    },
    {
     "data": {
      "text/plain": [
       "['23.45', '5.31', '899.00', '69.96']"
      ]
     },
     "execution_count": 21,
     "metadata": {},
     "output_type": "execute_result"
    }
   ],
   "source": [
    "content = \"ABC01: $23.45\\nHGG42: $5.31\\nCFMX1: $899.00\\nXTC99: $69.96\\nTotal items found: 4\"\n",
    "print(f\"文本: \\n{content}\")\n",
    "# 匹配$后面的金额\n",
    "re.findall(pattern=r\"(?<=\\$)[0-9.]+\", string=content)"
   ]
  },
  {
   "cell_type": "markdown",
   "metadata": {},
   "source": [
    "sec 9.4 组合向前和向后查看"
   ]
  },
  {
   "cell_type": "code",
   "execution_count": 22,
   "metadata": {},
   "outputs": [
    {
     "name": "stdout",
     "output_type": "stream",
     "text": [
      "文本: \n",
      "<head>\n",
      "<title>Ben Forta's Homepage</title>\n",
      "</head>\n"
     ]
    },
    {
     "data": {
      "text/plain": [
       "[\"Ben Forta's Homepage\"]"
      ]
     },
     "execution_count": 22,
     "metadata": {},
     "output_type": "execute_result"
    }
   ],
   "source": [
    "content = \"<head>\\n<title>Ben Forta's Homepage</title>\\n</head>\"\n",
    "print(f\"文本: \\n{content}\")\n",
    "\n",
    "re.findall(pattern=r\"(?<=<title>).*(?=<\\/title>)\", string=content)"
   ]
  },
  {
   "cell_type": "markdown",
   "metadata": {},
   "source": [
    "sec 9.5 否定式环视"
   ]
  },
  {
   "cell_type": "code",
   "execution_count": 23,
   "metadata": {},
   "outputs": [
    {
     "name": "stdout",
     "output_type": "stream",
     "text": [
      "文本: \n",
      "I paid $30 for 100 apples, 50 oranges, and 60 pears.\n",
      "I saved $5 on this order.\n"
     ]
    },
    {
     "data": {
      "text/plain": [
       "['100', '50', '60']"
      ]
     },
     "execution_count": 23,
     "metadata": {},
     "output_type": "execute_result"
    }
   ],
   "source": [
    "content = \"I paid $30 for 100 apples, 50 oranges, and 60 pears.\\nI saved $5 on this order.\"\n",
    "print(f\"文本: \\n{content}\")\n",
    "\n",
    "# 匹配数量\n",
    "re.findall(pattern=r\"\\b(?<!\\$)\\d+\\b\", string=content)"
   ]
  },
  {
   "cell_type": "markdown",
   "metadata": {},
   "source": [
    "sec 10.2.1 反向引用条件"
   ]
  },
  {
   "cell_type": "code",
   "execution_count": 53,
   "metadata": {},
   "outputs": [
    {
     "name": "stdout",
     "output_type": "stream",
     "text": [
      "文本: \n",
      "<!-- Nav bar -->\n",
      "<div>\n",
      "<a href=\"/home\"><img src=\"/images/home.gif\"></a>\n",
      "<img src=\"/images/spacer.gif\">\n",
      "<a href=\"/search\"><img src=\"/images/search.gif\"></a>\n",
      "<img src=\"/images/spacer.gif\">\n",
      "<a href=\"/help\"><img src=\"/images/help.gif\"></a>\n",
      "</div>\n",
      "\n",
      "==> result:\n",
      "<a href=\"/home\"><img src=\"/images/home.gif\"></a>\n",
      "<img src=\"/images/spacer.gif\">\n",
      "<a href=\"/search\"><img src=\"/images/search.gif\"></a>\n",
      "<img src=\"/images/spacer.gif\">\n",
      "<a href=\"/help\"><img src=\"/images/help.gif\"></a>\n"
     ]
    }
   ],
   "source": [
    "'''\n",
    "只有if语句的反向引用条件\n",
    "'''\n",
    "content = '<!-- Nav bar -->\\n\\\n",
    "<div>\\n\\\n",
    "<a href=\"/home\"><img src=\"/images/home.gif\"></a>\\n\\\n",
    "<img src=\"/images/spacer.gif\">\\n\\\n",
    "<a href=\"/search\"><img src=\"/images/search.gif\"></a>\\n\\\n",
    "<img src=\"/images/spacer.gif\">\\n\\\n",
    "<a href=\"/help\"><img src=\"/images/help.gif\"></a>\\n\\\n",
    "</div>'\n",
    "\n",
    "print(f\"文本: \\n{content}\")\n",
    "\n",
    "\n",
    "# 匹配所有<img>标签和图像链接<a>和</a>之间的部分\n",
    "print(\"\\n==> result:\")\n",
    "for item in re.finditer(pattern=r\"(<a\\s[^>]+>)?<img\\s[^>]+>(?(1)<\\/a>)\", string=content):\n",
    "    print(item.group())"
   ]
  },
  {
   "cell_type": "code",
   "execution_count": 68,
   "metadata": {},
   "outputs": [
    {
     "name": "stdout",
     "output_type": "stream",
     "text": [
      "文本: \n",
      "123-456-7890\n",
      "(123)456-7890\n",
      "(123)-456-7890\n",
      "(123-456-7890\n",
      "1234567890\n",
      "123 456 7890\n",
      "\n",
      "==> result:\n",
      "123-456-7890\n",
      "(123)456-7890\n"
     ]
    }
   ],
   "source": [
    "\"\"\"\n",
    "if-else语句的反向引用条件\n",
    "\"\"\"\n",
    "content = \"123-456-7890\\n\\\n",
    "(123)456-7890\\n\\\n",
    "(123)-456-7890\\n\\\n",
    "(123-456-7890\\n\\\n",
    "1234567890\\n\\\n",
    "123 456 7890\"\n",
    "print(f\"文本: \\n{content}\")\n",
    "\n",
    "# 匹配正确的电话号码格式(123)456-7890或123-456-7890\n",
    "print(\"\\n==> result:\")\n",
    "for line in content.split(\"\\n\"):\n",
    "    if re.match(pattern=r\"(\\()?\\d{3}(?(1)\\)|-)\\d{3}-\\d{4}\", string=line):\n",
    "        print(line)"
   ]
  },
  {
   "cell_type": "markdown",
   "metadata": {},
   "source": [
    "sec 10.2.2 环视实现条件判断"
   ]
  },
  {
   "cell_type": "code",
   "execution_count": 132,
   "metadata": {},
   "outputs": [
    {
     "name": "stdout",
     "output_type": "stream",
     "text": [
      "文本: \n",
      "11111\n",
      "22222\n",
      "33333-\n",
      "44444-4444\n",
      "\n",
      "==> result:\n",
      "python不支持环视实现条件判断??\n"
     ]
    },
    {
     "data": {
      "text/plain": [
       "['11111', '22222', '44444-4444']"
      ]
     },
     "execution_count": 132,
     "metadata": {},
     "output_type": "execute_result"
    }
   ],
   "source": [
    "content = \"11111\\n22222\\n33333-\\n44444-4444\"\n",
    "print(f\"文本: \\n{content}\")\n",
    "\n",
    "# 匹配满足格式(5位数字，或者5+4位数字且之间有连字符-)的数字\n",
    "print(\"\\n==> result:\")\n",
    "try:\n",
    "    for line in content.split(\"\\n\"):\n",
    "        if re.match(pattern=r\"\\d{5}(?(?=-)-\\d{4})\", string=line):\n",
    "            print(line)\n",
    "except:\n",
    "    print(\"python不支持环视实现条件判断??\")\n",
    "\n",
    "# 可以通过或语句代替\n",
    "re.findall(pattern=r\"\\d{5}(?=[^-])|\\d{5}-\\d{4}\", string=content)"
   ]
  },
  {
   "cell_type": "code",
   "execution_count": null,
   "metadata": {},
   "outputs": [],
   "source": []
  }
 ],
 "metadata": {
  "kernelspec": {
   "display_name": "astro",
   "language": "python",
   "name": "python3"
  },
  "language_info": {
   "codemirror_mode": {
    "name": "ipython",
    "version": 3
   },
   "file_extension": ".py",
   "mimetype": "text/x-python",
   "name": "python",
   "nbconvert_exporter": "python",
   "pygments_lexer": "ipython3",
   "version": "3.12.1"
  },
  "orig_nbformat": 4
 },
 "nbformat": 4,
 "nbformat_minor": 2
}
