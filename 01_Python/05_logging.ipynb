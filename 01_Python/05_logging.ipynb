{
 "cells": [
  {
   "attachments": {},
   "cell_type": "markdown",
   "metadata": {},
   "source": [
    "**logging tutorial**<br>\n",
    "@author: Rui Zhu<br>\n",
    "@created: 2023-04-20<br>\n",
    "@cite: \n",
    "1. https://docs.python.org/zh-cn/3/howto/logging.html#logging-basic-tutorial\n",
    "2. https://zhuanlan.zhihu.com/p/166671955"
   ]
  },
  {
   "cell_type": "code",
   "execution_count": 1,
   "metadata": {},
   "outputs": [],
   "source": [
    "import logging"
   ]
  },
  {
   "attachments": {},
   "cell_type": "markdown",
   "metadata": {},
   "source": [
    "## 为什么要使用logging？\n",
    "* 打印输出的分类显示\n",
    "* 打印信息的5种等级: debug, info, warning, error, critical"
   ]
  },
  {
   "cell_type": "code",
   "execution_count": 2,
   "metadata": {},
   "outputs": [
    {
     "name": "stderr",
     "output_type": "stream",
     "text": [
      "WARNING:root:This is a warning!\n"
     ]
    }
   ],
   "source": [
    "logging.warning(\"This is a warning!\")"
   ]
  },
  {
   "cell_type": "code",
   "execution_count": 3,
   "metadata": {},
   "outputs": [],
   "source": [
    "logging.info(\"This is info.\")  # 默认只打印warning及以上的消息"
   ]
  },
  {
   "cell_type": "code",
   "execution_count": 1,
   "metadata": {},
   "outputs": [
    {
     "name": "stderr",
     "output_type": "stream",
     "text": [
      "INFO:root:第一次加载即固定, 修改需重启内核\n"
     ]
    }
   ],
   "source": [
    "import logging  # ! 重启内核再单独执行此模块\n",
    "# 设置打印信息的级别\n",
    "logging.basicConfig(level=logging.DEBUG)\n",
    "logging.info(\"第一次加载即固定, 修改需重启内核\")"
   ]
  },
  {
   "attachments": {},
   "cell_type": "markdown",
   "metadata": {},
   "source": [
    "## 记录日志到文件"
   ]
  },
  {
   "cell_type": "code",
   "execution_count": 2,
   "metadata": {},
   "outputs": [],
   "source": [
    "import logging  # ! 需要单独重启内核后执行\n",
    "\n",
    "path = \"/Users/rui/Code/1_Astronote/01_Python/output/logging_test.log\"\n",
    "logging.basicConfig(filename=path)\n",
    "logging.warning(\"warning is saved\")\n",
    "logging.debug(\"This is a debug info.\")"
   ]
  },
  {
   "attachments": {},
   "cell_type": "markdown",
   "metadata": {},
   "source": [
    "## 格式化日志信息"
   ]
  },
  {
   "cell_type": "code",
   "execution_count": 3,
   "metadata": {},
   "outputs": [
    {
     "name": "stderr",
     "output_type": "stream",
     "text": [
      "2023-04-20 20:19:09,372 | in_a_function\n"
     ]
    }
   ],
   "source": [
    "import logging # ! 需要单独重启内核后执行\n",
    "logging.basicConfig(format=\"%(asctime)s | %(funcName)s\")\n",
    "def in_a_function():\n",
    "    logging.warning(\"warning is saved\")\n",
    "in_a_function()"
   ]
  }
 ],
 "metadata": {
  "kernelspec": {
   "display_name": "astro",
   "language": "python",
   "name": "python3"
  },
  "language_info": {
   "codemirror_mode": {
    "name": "ipython",
    "version": 3
   },
   "file_extension": ".py",
   "mimetype": "text/x-python",
   "name": "python",
   "nbconvert_exporter": "python",
   "pygments_lexer": "ipython3",
   "version": "3.10.10"
  },
  "orig_nbformat": 4
 },
 "nbformat": 4,
 "nbformat_minor": 2
}
