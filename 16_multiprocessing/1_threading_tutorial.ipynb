{
 "cells": [
  {
   "cell_type": "markdown",
   "metadata": {},
   "source": [
    "**使用多线程并行运行程序**  \n",
    "@Author: Rui  \n",
    "@Build time: 2022.08.23  \n",
    "@Cite: \n",
    "1. https://mofanpy.com/tutorials/python-basic/threading/"
   ]
  },
  {
   "cell_type": "code",
   "execution_count": 1,
   "metadata": {},
   "outputs": [],
   "source": [
    "import threading\n",
    "import time\n",
    "\n",
    "# ^ 禁用同一单元格内的输出覆盖\n",
    "from IPython.core.interactiveshell import InteractiveShell\n",
    "InteractiveShell.ast_node_interactivity = \"all\""
   ]
  },
  {
   "cell_type": "markdown",
   "metadata": {},
   "source": [
    "## 线程信息查询"
   ]
  },
  {
   "cell_type": "code",
   "execution_count": 2,
   "metadata": {},
   "outputs": [
    {
     "data": {
      "text/plain": [
       "8"
      ]
     },
     "execution_count": 2,
     "metadata": {},
     "output_type": "execute_result"
    },
    {
     "data": {
      "text/plain": [
       "8"
      ]
     },
     "execution_count": 2,
     "metadata": {},
     "output_type": "execute_result"
    }
   ],
   "source": [
    "threading.active_count()  # 返回当前激活的线程数\n",
    "threading.activeCount()  # 两种写法都可以"
   ]
  },
  {
   "cell_type": "code",
   "execution_count": 3,
   "metadata": {},
   "outputs": [
    {
     "data": {
      "text/plain": [
       "[<_MainThread(MainThread, started 4369384832)>,\n",
       " <Thread(Thread-4, started daemon 6117044224)>,\n",
       " <Heartbeat(Thread-5, started daemon 6133870592)>,\n",
       " <Thread(Thread-6, started daemon 6151843840)>,\n",
       " <Thread(Thread-7, started daemon 6168670208)>,\n",
       " <ControlThread(Thread-3, started daemon 6185496576)>,\n",
       " <HistorySavingThread(IPythonHistorySavingThread, started 6202322944)>,\n",
       " <ParentPollerUnix(Thread-2, started daemon 6219722752)>]"
      ]
     },
     "execution_count": 3,
     "metadata": {},
     "output_type": "execute_result"
    }
   ],
   "source": [
    "threading.enumerate()  # 列举当前活跃的线程"
   ]
  },
  {
   "cell_type": "code",
   "execution_count": 4,
   "metadata": {},
   "outputs": [
    {
     "data": {
      "text/plain": [
       "<_MainThread(MainThread, started 4369384832)>"
      ]
     },
     "execution_count": 4,
     "metadata": {},
     "output_type": "execute_result"
    },
    {
     "data": {
      "text/plain": [
       "<_MainThread(MainThread, started 4369384832)>"
      ]
     },
     "execution_count": 4,
     "metadata": {},
     "output_type": "execute_result"
    }
   ],
   "source": [
    "threading.currentThread()  # 当前程序所在的线程\n",
    "threading.current_thread()  # 两种写法相同"
   ]
  },
  {
   "cell_type": "markdown",
   "metadata": {},
   "source": [
    "## 创建线程 -> `threading.Thread()`"
   ]
  },
  {
   "cell_type": "code",
   "execution_count": 5,
   "metadata": {},
   "outputs": [
    {
     "name": "stdout",
     "output_type": "stream",
     "text": [
      "线程执行前，活跃的线程数:8\n"
     ]
    },
    {
     "data": {
      "text/plain": [
       "[<_MainThread(MainThread, started 4369384832)>,\n",
       " <Thread(Thread-4, started daemon 6117044224)>,\n",
       " <Heartbeat(Thread-5, started daemon 6133870592)>,\n",
       " <Thread(Thread-6, started daemon 6151843840)>,\n",
       " <Thread(Thread-7, started daemon 6168670208)>,\n",
       " <ControlThread(Thread-3, started daemon 6185496576)>,\n",
       " <HistorySavingThread(IPythonHistorySavingThread, started 6202322944)>,\n",
       " <ParentPollerUnix(Thread-2, started daemon 6219722752)>]"
      ]
     },
     "execution_count": 5,
     "metadata": {},
     "output_type": "execute_result"
    }
   ],
   "source": [
    "print(\"线程执行前，活跃的线程数:%s\" % threading.activeCount())\n",
    "threading.enumerate()"
   ]
  },
  {
   "cell_type": "code",
   "execution_count": 6,
   "metadata": {},
   "outputs": [
    {
     "name": "stdout",
     "output_type": "stream",
     "text": [
      "This is an added Thread, name is <Thread(new Thread, started 6236549120)>\n",
      "线程开始，活跃的线程数:9\n",
      "[<_MainThread(MainThread, started 4369384832)>, <Thread(Thread-4, started daemon 6117044224)>, <Heartbeat(Thread-5, started daemon 6133870592)>, <Thread(Thread-6, started daemon 6151843840)>, <Thread(Thread-7, started daemon 6168670208)>, <ControlThread(Thread-3, started daemon 6185496576)>, <HistorySavingThread(IPythonHistorySavingThread, started 6202322944)>, <ParentPollerUnix(Thread-2, started daemon 6219722752)>, <Thread(new Thread, started 6236549120)>]\n"
     ]
    }
   ],
   "source": [
    "# 定义子任务\n",
    "def thread_job():\n",
    "    print(\"This is an added Thread, name is %s\" % threading.currentThread())\n",
    "    print(\"线程开始，活跃的线程数:%s\" % threading.activeCount())\n",
    "    print(threading.enumerate())\n",
    "    \n",
    "added_thread = threading.Thread(target=thread_job, name='new Thread')  # 创建一个子线程\n",
    "\n",
    "added_thread.start()"
   ]
  },
  {
   "cell_type": "code",
   "execution_count": 7,
   "metadata": {},
   "outputs": [
    {
     "name": "stdout",
     "output_type": "stream",
     "text": [
      "线程结束后，活跃的线程数:8\n"
     ]
    },
    {
     "data": {
      "text/plain": [
       "[<_MainThread(MainThread, started 4369384832)>,\n",
       " <Thread(Thread-4, started daemon 6117044224)>,\n",
       " <Heartbeat(Thread-5, started daemon 6133870592)>,\n",
       " <Thread(Thread-6, started daemon 6151843840)>,\n",
       " <Thread(Thread-7, started daemon 6168670208)>,\n",
       " <ControlThread(Thread-3, started daemon 6185496576)>,\n",
       " <HistorySavingThread(IPythonHistorySavingThread, started 6202322944)>,\n",
       " <ParentPollerUnix(Thread-2, started daemon 6219722752)>]"
      ]
     },
     "execution_count": 7,
     "metadata": {},
     "output_type": "execute_result"
    }
   ],
   "source": [
    "print(\"线程结束后，活跃的线程数:%s\" % threading.activeCount())\n",
    "threading.enumerate()"
   ]
  },
  {
   "cell_type": "markdown",
   "metadata": {},
   "source": [
    "## 线程等待 -> `join()`\n",
    "* 可使用join方法将子线程加入到主线程中，使子线程结束后主线程再结束"
   ]
  },
  {
   "cell_type": "code",
   "execution_count": 8,
   "metadata": {},
   "outputs": [
    {
     "name": "stdout",
     "output_type": "stream",
     "text": [
      "new thread is start\n",
      "All done\n",
      "\n",
      "\n"
     ]
    },
    {
     "name": "stdout",
     "output_type": "stream",
     "text": [
      "new thread is finished\n",
      "\n"
     ]
    }
   ],
   "source": [
    "# 示例1:\n",
    "# 没有使用join()进行线程等待时，多个线程会同时进行。\n",
    "# 此程序的结果就是，print(\"All done\\n\")都已经执行，新线程的print(\"new thread is finished\\n\")后执行完毕\n",
    "\n",
    "def thread_job():\n",
    "    print(\"new thread is start\\n\")\n",
    "    for i in range(10):\n",
    "        time.sleep(0.1)\n",
    "    print(\"new thread is finished\\n\")\n",
    "\n",
    "added_thread = threading.Thread(target=thread_job, name='new thread')\n",
    "added_thread.start()\n",
    "\n",
    "print(\"All done\\n\")"
   ]
  },
  {
   "cell_type": "code",
   "execution_count": 92,
   "metadata": {},
   "outputs": [
    {
     "name": "stdout",
     "output_type": "stream",
     "text": [
      "new thread is start\n",
      "\n",
      "new thread is finished\n",
      "\n",
      "new thread is finished\n",
      "\n",
      "All done\n",
      "\n"
     ]
    }
   ],
   "source": [
    "# 示例2:\n",
    "# 使用join()进行线程等待时，该线程执行完才会进行接下来的语句。\n",
    "\n",
    "def thread_job():\n",
    "    print(\"new thread is start\\n\")\n",
    "    for i in range(10):\n",
    "        time.sleep(0.1)\n",
    "    print(\"new thread is finished\\n\")\n",
    "\n",
    "added_thread = threading.Thread(target=thread_job, name='new thread')\n",
    "added_thread.start()\n",
    "added_thread.join() # 等待该线程结束后，继续主线程\n",
    "\n",
    "print(\"All done\\n\")"
   ]
  },
  {
   "cell_type": "markdown",
   "metadata": {},
   "source": [
    "## 使用Queue收集多线程的返回值  \n",
    "* 多线程的任务函数需要用Q接着返回值"
   ]
  },
  {
   "cell_type": "code",
   "execution_count": 93,
   "metadata": {},
   "outputs": [
    {
     "data": {
      "text/plain": [
       "[[1, 1, 1], [4, 4, 4], [9, 9, 9], [16, 16, 16]]"
      ]
     },
     "execution_count": 93,
     "metadata": {},
     "output_type": "execute_result"
    }
   ],
   "source": [
    "from queue import Queue\n",
    "\n",
    "# 定义任务函数\n",
    "def job(ls, Q):\n",
    "    for i in range(len(ls)):\n",
    "        ls[i] = ls[i]**2\n",
    "    Q.put(ls)  # 将返回值放到队列Q中\n",
    "    return ls\n",
    "\n",
    "Q = Queue()  # 创建队列Q，用于收集各个子线程的返回值\n",
    "threads = []  # 收集创建的子线程，方便之后做线程等待\n",
    "\n",
    "data = [\n",
    "    [1, 1, 1],  # 给线程1的数据\n",
    "    [2, 2, 2],  # 给线程2的数据\n",
    "    [3, 3, 3],  # ...\n",
    "    [4, 4, 4]\n",
    "]\n",
    "\n",
    "# 创建多个子线程\n",
    "for i in range(4):\n",
    "    subthread = threading.Thread(target=job, args=(data[i], Q))\n",
    "    subthread.start()\n",
    "    threads.append(subthread)  # 将线程对象加到线程列表里\n",
    "\n",
    "# 等待线程全部结束\n",
    "for subthread in threads:\n",
    "    subthread.join()\n",
    "\n",
    "# 从Q中读取线程结果\n",
    "results = []\n",
    "for i in range(4):\n",
    "    results.append(Q.get())\n",
    "results"
   ]
  },
  {
   "cell_type": "markdown",
   "metadata": {},
   "source": [
    "## 时间对比：多线程不一定会更快，计算密集型程序会慢特别多\n",
    "* 由于python中`全局解释器锁(Global Interpreter Lock, GIL)`的存在, python的多线程实际上还是使用1个CPU核心进行运算。\n",
    "* 一个CPU核心在多个线程中来回切换，当前运行的线程在执行时，其他线程在等待\n",
    "* IO密集型应用，推荐`多线程`；计算密集型应用，推荐`多进程`"
   ]
  },
  {
   "cell_type": "code",
   "execution_count": 94,
   "metadata": {},
   "outputs": [],
   "source": [
    "# 定义任务函数\n",
    "def job(ls, Q):\n",
    "    ls = ls.copy()\n",
    "    for i in range(len(ls)):\n",
    "        ls[i] = 1000*ls[i]**20 + ls[i]**30\n",
    "    Q.put(ls)  # 将返回值放到队列Q中\n",
    "    return ls\n",
    "\n",
    "data = [\n",
    "    [1, 1, 1],  # 给线程1的数据\n",
    "    [2, 2, 2],  # 给线程2的数据\n",
    "    [3, 3, 3],  # ...\n",
    "    [4, 4, 4], \n",
    "    [5, 5, 5], \n",
    "    [6, 6, 6], \n",
    "    [7, 7, 7], \n",
    "    [8, 8, 8],\n",
    "    [9, 9, 9], \n",
    "    [10, 10, 10]\n",
    "]"
   ]
  },
  {
   "cell_type": "code",
   "execution_count": 95,
   "metadata": {},
   "outputs": [
    {
     "name": "stdout",
     "output_type": "stream",
     "text": [
      "cost time: 0.0031507015228271484\n"
     ]
    }
   ],
   "source": [
    "# 使用多线程\n",
    "# 创建多个子线程\n",
    "start_time = time.time()\n",
    "\n",
    "Q = Queue()  # 创建队列Q，用于收集各个子线程的返回值\n",
    "\n",
    "for i in range(10):\n",
    "    subthread = threading.Thread(target=job, args=(data[i], Q))\n",
    "    subthread.start()\n",
    "    threads.append(subthread)  # 将线程对象加到线程列表里\n",
    "\n",
    "# 等待线程全部结束\n",
    "for subthread in threads:\n",
    "    subthread.join()\n",
    "\n",
    "# 从Q中读取线程结果\n",
    "results = []\n",
    "for i in range(10):\n",
    "    results.append(Q.get())\n",
    "\n",
    "end_time = time.time()\n",
    "print(\"cost time: {}\".format(end_time-start_time))\n",
    "# results"
   ]
  },
  {
   "cell_type": "code",
   "execution_count": 96,
   "metadata": {},
   "outputs": [
    {
     "name": "stdout",
     "output_type": "stream",
     "text": [
      "cost time: 0.00010800361633300781\n"
     ]
    }
   ],
   "source": [
    "# 不使用多线程\n",
    "start_time = time.time()\n",
    "results = []\n",
    "\n",
    "Q = Queue()  # 在这个cell里不起作用，单纯是为了函数调用\n",
    "for ls in data:\n",
    "    results.append(job(ls, Q))\n",
    "\n",
    "end_time = time.time()\n",
    "print(\"cost time: {}\".format(end_time-start_time))\n",
    "# results"
   ]
  },
  {
   "cell_type": "markdown",
   "metadata": {},
   "source": [
    "## 线程锁Lock"
   ]
  },
  {
   "cell_type": "code",
   "execution_count": 97,
   "metadata": {},
   "outputs": [
    {
     "name": "stdout",
     "output_type": "stream",
     "text": [
      "job1job2 1\n",
      "job1 12\n",
      "job1 13\n",
      "job1 14\n",
      "job1 15\n",
      " 11\n",
      "job2 25\n",
      "job2 35\n",
      "job2 45\n",
      "job2 55\n",
      "job2 65\n",
      "job2 75\n",
      "job2 85\n",
      "job2 95\n",
      "job2 105\n",
      "job1 106\n",
      "job1 107\n",
      "job1 108\n",
      "job1 109\n",
      "job1 110\n"
     ]
    }
   ],
   "source": [
    "# 多线程在运行时会交替运行\n",
    "def job1():\n",
    "    global A  # * 通过全局变量实现变量在多线程中共享，从运行结果中也可以看到A是在不同线程中来回传递的\n",
    "    for i in range(10):\n",
    "        A+=1\n",
    "        print('job1', A)\n",
    "\n",
    "def job2():\n",
    "    global A\n",
    "    for i in range(10):\n",
    "        A+=10\n",
    "        print('job2', A)\n",
    "\n",
    "A = 0\n",
    "thread1 = threading.Thread(target=job1)\n",
    "thread2 = threading.Thread(target=job2)\n",
    "thread1.start()\n",
    "thread2.start()"
   ]
  },
  {
   "cell_type": "code",
   "execution_count": 98,
   "metadata": {},
   "outputs": [
    {
     "name": "stdout",
     "output_type": "stream",
     "text": [
      "job1 1\n",
      "job1 2\n",
      "job1 3\n",
      "job1 4\n",
      "job1 5\n",
      "job1 6\n",
      "job1 7\n",
      "job1 8\n",
      "job1 9\n",
      "job1 10\n",
      "job2 20\n",
      "job2 30\n",
      "job2 40\n",
      "job2 50\n",
      "job2 60\n",
      "job2 70\n",
      "job2 80\n",
      "job2 90\n",
      "job2 100\n",
      "job2 110\n"
     ]
    }
   ],
   "source": [
    "# 使用Lock可以使线程互不干扰\n",
    "from threading import Lock\n",
    "\n",
    "def job1():\n",
    "    global A, lock\n",
    "    lock.acquire()  # 开启lock\n",
    "    for i in range(10):\n",
    "        A+=1\n",
    "        print('job1', A)\n",
    "    lock.release()  # 关闭lock\n",
    "\n",
    "def job2():\n",
    "    global A, lock\n",
    "    lock.acquire()\n",
    "    for i in range(10):\n",
    "        A+=10\n",
    "        print('job2', A)\n",
    "    lock.release()\n",
    "\n",
    "lock = threading.Lock()\n",
    "A = 0\n",
    "thread1 = threading.Thread(target=job1)\n",
    "thread2 = threading.Thread(target=job2)\n",
    "thread1.start()\n",
    "thread2.start()"
   ]
  }
 ],
 "metadata": {
  "kernelspec": {
   "display_name": "Python 3.8.9 64-bit",
   "language": "python",
   "name": "python3"
  },
  "language_info": {
   "codemirror_mode": {
    "name": "ipython",
    "version": 3
   },
   "file_extension": ".py",
   "mimetype": "text/x-python",
   "name": "python",
   "nbconvert_exporter": "python",
   "pygments_lexer": "ipython3",
   "version": "3.8.9"
  },
  "orig_nbformat": 4,
  "vscode": {
   "interpreter": {
    "hash": "31f2aee4e71d21fbe5cf8b01ff0e069b9275f58929596ceb00d14d90e3e16cd6"
   }
  }
 },
 "nbformat": 4,
 "nbformat_minor": 2
}
