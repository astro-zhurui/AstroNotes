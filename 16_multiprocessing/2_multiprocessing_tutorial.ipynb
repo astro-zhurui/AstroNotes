{
 "cells": [
  {
   "cell_type": "markdown",
   "metadata": {},
   "source": [
    "**使用multiprocessing实现多核CPU并行处理**  \n",
    "@Author: Ray  \n",
    "@Build time: 2022.08.23  \n",
    "@Cite: Bilibili -> 莫烦Python  \n",
    "@Note: `多进程在不能在交互式Python运行，应写成.py文件然后执行`"
   ]
  },
  {
   "cell_type": "code",
   "execution_count": 66,
   "metadata": {},
   "outputs": [],
   "source": [
    "import time\n",
    "import multiprocessing\n",
    "\n",
    "# ^ 禁用同一单元格内的输出覆盖\n",
    "from IPython.core.interactiveshell import InteractiveShell\n",
    "InteractiveShell.ast_node_interactivity = \"all\""
   ]
  },
  {
   "cell_type": "markdown",
   "metadata": {},
   "source": [
    "## 创建进程 & 使用队列收集返回值\n",
    "* 多进程文件应使用命令行执行\n",
    "* 用法和treading非常类似"
   ]
  },
  {
   "cell_type": "code",
   "execution_count": 67,
   "metadata": {},
   "outputs": [
    {
     "name": "stdout",
     "output_type": "stream",
     "text": [
      "import multiprocessing\n",
      "\n",
      "def job(Q):\n",
      "    print(\"new process is start\\n\")\n",
      "    res = 0\n",
      "    for i in range(10000000):\n",
      "        res += i+i**2+i**3\n",
      "    Q.put(res)  # * 将返回值放进队列'Q'\n",
      "    print(\"new process is finished\\n\")\n",
      "\n",
      "if __name__=='__main__':  # 多进程不加这句不行，多线程可以不加这句\n",
      "    Q = multiprocessing.Queue()  # 创建队列\n",
      "    process1 = multiprocessing.Process(target=job, args=(Q,))  # ! 函数有一个参数的时候，必须有逗号\n",
      "    process2 = multiprocessing.Process(target=job, args=(Q,))\n",
      "\n",
      "    process1.start()  # 进程1开始\n",
      "    process2.start()  # 进程2开始\n",
      "\n",
      "    process1.join()   # 进程1加入主进程\n",
      "    process2.join()   # 进程2加入主进程\n",
      "\n",
      "    res1 = Q.get()\n",
      "    res2 = Q.get()\n",
      "    print(res1, res2)\n",
      "    print(\"主进程结束\")"
     ]
    }
   ],
   "source": [
    "!cat code1.py"
   ]
  },
  {
   "cell_type": "code",
   "execution_count": 68,
   "metadata": {},
   "outputs": [
    {
     "name": "stdout",
     "output_type": "stream",
     "text": [
      "new process is start\n",
      "\n",
      "new process is start\n",
      "\n",
      "new process is finished\n",
      "\n",
      "new process is finished\n",
      "\n",
      "2499999833333358333330000000 2499999833333358333330000000\n",
      "主进程结束\n"
     ]
    }
   ],
   "source": [
    "!python code1.py"
   ]
  },
  {
   "cell_type": "markdown",
   "metadata": {},
   "source": [
    "## 时间对比：多进程能快多少？\n",
    "* 对于计算密集型程序，多进程提成显著；\n",
    "* 多线程实际上还是单核运算，由于IO读取限制，速度反而更慢"
   ]
  },
  {
   "cell_type": "code",
   "execution_count": 69,
   "metadata": {},
   "outputs": [
    {
     "name": "stdout",
     "output_type": "stream",
     "text": [
      "2499999833333358333330000000 2499999833333358333330000000\n",
      "cost time:  9.241755247116089\n"
     ]
    }
   ],
   "source": [
    "# 不使用并行\n",
    "\n",
    "start_time = time.time()\n",
    "\n",
    "def job():\n",
    "    res = 0\n",
    "    for i in range(10000000):\n",
    "        res += i+i**2+i**3\n",
    "    return res\n",
    "\n",
    "res1 = job()\n",
    "res2 = job()\n",
    "print(res1, res2)\n",
    "\n",
    "end_time = time.time()\n",
    "print(\"cost time: \", end_time-start_time)"
   ]
  },
  {
   "cell_type": "code",
   "execution_count": 70,
   "metadata": {},
   "outputs": [
    {
     "name": "stdout",
     "output_type": "stream",
     "text": [
      "new process is start\n",
      "\n",
      "new process is start\n",
      "\n",
      "new process is finished\n",
      "\n",
      "new process is finished\n",
      "\n",
      "2499999833333358333330000000 2499999833333358333330000000\n",
      "主进程结束\n",
      "cost time:  5.089699983596802\n"
     ]
    }
   ],
   "source": [
    "# 使用多进程\n",
    "\n",
    "start_time = time.time()\n",
    "\n",
    "!python code1.py\n",
    "\n",
    "end_time = time.time()\n",
    "print(\"cost time: \", end_time-start_time)"
   ]
  },
  {
   "cell_type": "code",
   "execution_count": 71,
   "metadata": {},
   "outputs": [
    {
     "name": "stdout",
     "output_type": "stream",
     "text": [
      "new thread is start\n",
      "\n",
      "new thread is start\n",
      "\n",
      "new thread is finished\n",
      "\n",
      "new thread is finished\n",
      "\n",
      "2499999833333358333330000000 2499999833333358333330000000\n",
      "主线程结束\n",
      "cost time:  9.338061809539795\n"
     ]
    }
   ],
   "source": [
    "# 使用多线程\n",
    "\n",
    "import threading\n",
    "from queue import Queue\n",
    "\n",
    "start_time = time.time()\n",
    "\n",
    "def job(Q):\n",
    "    print(\"new thread is start\\n\")\n",
    "    res = 0\n",
    "    for i in range(10000000):\n",
    "        res += i+i**2+i**3\n",
    "    Q.put(res)  # * 将返回值放进队列'Q'\n",
    "    print(\"new thread is finished\\n\")\n",
    "\n",
    "if __name__=='__main__':  # 多进程不加这句不行，多线程可以不加这句\n",
    "    Q = Queue()  # 创建队列\n",
    "    thread1 = threading.Thread(target=job, args=(Q,))  # ! 函数有一个参数的时候，必须有逗号\n",
    "    thread2 = threading.Thread(target=job, args=(Q,))\n",
    "\n",
    "    thread1.start()  # 进程1开始\n",
    "    thread2.start()  # 进程2开始\n",
    "\n",
    "    thread1.join()   # 进程1加入主进程\n",
    "    thread2.join()   # 进程2加入主进程\n",
    "\n",
    "    res1 = Q.get()\n",
    "    res2 = Q.get()\n",
    "    print(res1, res2)\n",
    "    print(\"主线程结束\")\n",
    "\n",
    "end_time = time.time()\n",
    "print(\"cost time: \", end_time-start_time)"
   ]
  },
  {
   "cell_type": "markdown",
   "metadata": {},
   "source": [
    "## 进程池Pool\n",
    "* multiprocessing.Process()创建单一进程，返回值需要用Queue来承接\n",
    "* multiprocessing.Pool()可创建多个进程，自动分配核心，任务函数可以有返回值\n",
    "* 执行进程池里的任务有两种方法\n",
    "    1. `map`方法自动分配进程执行多个任务\n",
    "    2. `apply_async`方法使用1个核心，执行一个任务"
   ]
  },
  {
   "cell_type": "markdown",
   "metadata": {},
   "source": [
    "### `pool.map(<函数名>, <迭代器>)`"
   ]
  },
  {
   "cell_type": "code",
   "execution_count": 72,
   "metadata": {},
   "outputs": [
    {
     "name": "stdout",
     "output_type": "stream",
     "text": [
      "import multiprocessing\n",
      "\n",
      "def job(x):\n",
      "    for i in range(10):\n",
      "        x = x+x**i\n",
      "    return len(str(x))\n",
      "\n",
      "if __name__=='__main__':\n",
      "\n",
      "    # ^ 创建进程池\n",
      "    pool = multiprocessing.Pool()  # 默认使用全部CPU\n",
      "    # pool = multiprocessing.Pool(processes=5)  # 指定使用CPU的核心数\n",
      "\n",
      "    # ^ 执行运算\n",
      "    # 使用刚创建的进程池pool，执行job函数的运算；\n",
      "    # 函数的输入参数是列表中的元素，多核心CPU一起处理全部运算，并将结果放到results变量里\n",
      "    results = pool.map(job, (1, 2, 3, 4, 5, 6, 7, 8, 9, 10)) # 一共是10个不同初始值的函数运算\n",
      "    print(\"-- job(1)的结果是：\")\n",
      "    print(results[0])\n",
      "    print(\"-- job(1-10)的结果是：\")\n",
      "    print(results)"
     ]
    }
   ],
   "source": [
    "!cat code2.py"
   ]
  },
  {
   "cell_type": "code",
   "execution_count": 73,
   "metadata": {},
   "outputs": [
    {
     "name": "stdout",
     "output_type": "stream",
     "text": [
      "-- job(1)的结果是：\n",
      "236125\n",
      "-- job(1-10)的结果是：\n",
      "[236125, 294538, 337000, 370393, 397922, 421345, 441729, 459774, 475963, 490642]\n"
     ]
    }
   ],
   "source": [
    "!python code2.py"
   ]
  },
  {
   "cell_type": "markdown",
   "metadata": {},
   "source": [
    "### `pool.apply_async(<函数名>, <一个任务的参数组成的迭代器>)`"
   ]
  },
  {
   "cell_type": "code",
   "execution_count": 74,
   "metadata": {},
   "outputs": [
    {
     "name": "stdout",
     "output_type": "stream",
     "text": [
      "import multiprocessing\n",
      "\n",
      "def job(x):\n",
      "    for i in range(10):\n",
      "        x = x+x**i\n",
      "    return len(str(x))\n",
      "\n",
      "if __name__=='__main__':\n",
      "\n",
      "    # ^ 创建进程池\n",
      "    pool = multiprocessing.Pool()  # 默认使用全部CPU\n",
      "    # pool = multiprocessing.Pool(processes=5)  # 指定使用CPU的核心数\n",
      "\n",
      "    # ^ 执行运算\n",
      "    # 使用刚创建的进程池pool，执行job函数的运算；\n",
      "    # 只能输入一个任务的参数，返回一个任务的结果\n",
      "    result = pool.apply_async(job, (1,))\n",
      "    res = result.get()  # 使用get方法获得返回值\n",
      "    print(\"job(1)的结果是: \")\n",
      "    print(res)\n",
      "\n",
      "    # ^ 如果想使用apply_async实现map的效果，需要对此方法迭代\n",
      "    results = [pool.apply_async(job, (i,)) for i in [1, 2, 3, 4, 5, 6, 7, 8, 9, 10]]\n",
      "    list_res = [res.get() for res in results]\n",
      "    print(\"job(1-10)的结果是: \")\n",
      "    print(list_res)\n"
     ]
    }
   ],
   "source": [
    "!cat code3.py"
   ]
  },
  {
   "cell_type": "code",
   "execution_count": 75,
   "metadata": {},
   "outputs": [
    {
     "name": "stdout",
     "output_type": "stream",
     "text": [
      "job(1)的结果是: \n",
      "236125\n",
      "job(1-10)的结果是: \n",
      "[236125, 294538, 337000, 370393, 397922, 421345, 441729, 459774, 475963, 490642]\n"
     ]
    }
   ],
   "source": [
    "!python code3.py"
   ]
  },
  {
   "cell_type": "markdown",
   "metadata": {},
   "source": [
    "## 共享内存\n",
    "* threading中可以通过全局变量实现多线程之间的参数传递\n",
    "* 但是multiprocessing不可以，核之间是独立的\n",
    "* 想要实现参数传递，只能用专门的方法"
   ]
  },
  {
   "cell_type": "code",
   "execution_count": 76,
   "metadata": {},
   "outputs": [
    {
     "data": {
      "text/plain": [
       "0.31299999356269836"
      ]
     },
     "execution_count": 76,
     "metadata": {},
     "output_type": "execute_result"
    }
   ],
   "source": [
    "value = multiprocessing.Value('f', 0.313)  # (<数据类型>, <数据值>)\n",
    "value.value"
   ]
  },
  {
   "cell_type": "code",
   "execution_count": 77,
   "metadata": {},
   "outputs": [],
   "source": [
    "array = multiprocessing.Array('i', [1, 2, 3])  # 数组只能是一维的"
   ]
  },
  {
   "cell_type": "markdown",
   "metadata": {},
   "source": [
    "## 进程锁Lock"
   ]
  },
  {
   "cell_type": "markdown",
   "metadata": {},
   "source": [
    "演示多进程在争抢共享内存里的变量"
   ]
  },
  {
   "cell_type": "code",
   "execution_count": 78,
   "metadata": {},
   "outputs": [
    {
     "name": "stdout",
     "output_type": "stream",
     "text": [
      "import multiprocessing\n",
      "import time\n",
      "\n",
      "def job(v, num, process_name):\n",
      "    for _ in range(10):\n",
      "        time.sleep(0.5)\n",
      "        v.value += num\n",
      "        print(\"{}: {}\".format(process_name, v.value))\n",
      "\n",
      "if __name__=='__main__':\n",
      "    print(\"--- 演示多进程在争抢共享内存里的变量v\")\n",
      "    v = multiprocessing.Value('i', 0)\n",
      "    process1 = multiprocessing.Process(target=job, args=(v, 1, 'process 1'))\n",
      "    process2 = multiprocessing.Process(target=job, args=(v, 100, 'process 2'))\n",
      "    process1.start()\n",
      "    process2.start()\n",
      "    process1.join()\n",
      "    process2.join()"
     ]
    }
   ],
   "source": [
    "!cat code4.py"
   ]
  },
  {
   "cell_type": "code",
   "execution_count": 79,
   "metadata": {},
   "outputs": [
    {
     "name": "stdout",
     "output_type": "stream",
     "text": [
      "--- 演示多进程在争抢共享内存里的变量v\n",
      "process 2: 100\n",
      "process 1: 101\n",
      "process 2: 201\n",
      "process 1: 202\n",
      "process 2: 302\n",
      "process 1: 303\n",
      "process 2: 403\n",
      "process 1: 404\n",
      "process 1: 405process 2: 405\n",
      "\n",
      "process 2: 505\n",
      "process 1: 506\n",
      "process 2: 606\n",
      "process 1: 607\n",
      "process 2: 707\n",
      "process 1: 708\n",
      "process 2: 808\n",
      "process 1: 809\n",
      "process 1: 810\n",
      "process 2: 910\n"
     ]
    }
   ],
   "source": [
    "!python code4.py"
   ]
  },
  {
   "cell_type": "markdown",
   "metadata": {},
   "source": [
    "使用`Lock`锁住进程，防止像上面那样相互干扰"
   ]
  },
  {
   "cell_type": "code",
   "execution_count": 80,
   "metadata": {},
   "outputs": [
    {
     "name": "stdout",
     "output_type": "stream",
     "text": [
      "import multiprocessing\n",
      "import time\n",
      "\n",
      "lock = multiprocessing.Lock()  # ! 必须写在主函数中\n",
      "\n",
      "def job(v, num, process_name, lock):   # ! 注意这里添加个lock\n",
      "    lock.acquire()  # * 获取进程锁\n",
      "    for _ in range(10):\n",
      "        time.sleep(0.5)\n",
      "        v.value += num\n",
      "        print(\"{}: {}\".format(process_name, v.value))\n",
      "    lock.release()  # * 释放进程锁\n",
      "\n",
      "if __name__=='__main__':\n",
      "\n",
      "    print(\"--- 演示使用进程锁, 防止多进程争抢共享内存里的变量v\")\n",
      "    v = multiprocessing.Value('i', 0) # 创建共享内存里的变量\n",
      "\n",
      "    process1 = multiprocessing.Process(target=job, args=(v, 1, 'process 1', lock))\n",
      "    process2 = multiprocessing.Process(target=job, args=(v, 100, 'process 2', lock))\n",
      "    process1.start()\n",
      "    process2.start()\n",
      "    process1.join()\n",
      "    process2.join()"
     ]
    }
   ],
   "source": [
    "!cat code5.py"
   ]
  },
  {
   "cell_type": "code",
   "execution_count": 81,
   "metadata": {},
   "outputs": [
    {
     "name": "stdout",
     "output_type": "stream",
     "text": [
      "--- 演示使用进程锁, 防止多进程争抢共享内存里的变量v\n",
      "process 2: 100\n",
      "process 2: 200\n",
      "process 2: 300\n",
      "process 2: 400\n",
      "process 2: 500\n",
      "process 2: 600\n",
      "process 2: 700\n",
      "process 2: 800\n",
      "process 2: 900\n",
      "process 2: 1000\n",
      "process 1: 1001\n",
      "process 1: 1002\n",
      "process 1: 1003\n",
      "process 1: 1004\n",
      "process 1: 1005\n",
      "process 1: 1006\n",
      "process 1: 1007\n",
      "process 1: 1008\n",
      "process 1: 1009\n",
      "process 1: 1010\n"
     ]
    }
   ],
   "source": [
    "!python code5.py"
   ]
  }
 ],
 "metadata": {
  "kernelspec": {
   "display_name": "Python 3.9.13 ('base')",
   "language": "python",
   "name": "python3"
  },
  "language_info": {
   "codemirror_mode": {
    "name": "ipython",
    "version": 3
   },
   "file_extension": ".py",
   "mimetype": "text/x-python",
   "name": "python",
   "nbconvert_exporter": "python",
   "pygments_lexer": "ipython3",
   "version": "3.9.13"
  },
  "orig_nbformat": 4,
  "vscode": {
   "interpreter": {
    "hash": "522fa9e8171c73fbbe633caa75b0e8f9dc4f493721bf7a4894a896b71968a2a6"
   }
  }
 },
 "nbformat": 4,
 "nbformat_minor": 2
}
