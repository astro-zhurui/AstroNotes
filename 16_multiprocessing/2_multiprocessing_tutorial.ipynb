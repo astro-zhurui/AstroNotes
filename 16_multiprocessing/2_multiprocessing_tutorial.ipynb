{
 "cells": [
  {
   "cell_type": "markdown",
   "metadata": {},
   "source": [
    "# 使用multiprocessing实现多核CPU并行处理  \n",
    "@Author: Ray  \n",
    "@Build time: 2022.08.23  \n",
    "@Cite: Bilibili -> 莫烦Python  \n",
    "@Note:  \n",
    "    1. py文件中使用多进程, 需要使用if语句规避子进程循环调用问题  \n",
    "    2. jupyter中使用多进程, 需要将多进程语句另存为其他py文件中的函数, 然后调用使用  "
   ]
  },
  {
   "cell_type": "code",
   "execution_count": 1,
   "metadata": {},
   "outputs": [],
   "source": [
    "import time\n",
    "import multiprocessing\n",
    "\n",
    "# ^ 禁用同一单元格内的输出覆盖\n",
    "from IPython.core.interactiveshell import InteractiveShell\n",
    "InteractiveShell.ast_node_interactivity = \"all\""
   ]
  },
  {
   "cell_type": "markdown",
   "metadata": {},
   "source": [
    "## 创建进程 & 使用队列收集返回值\n",
    "* 多进程文件应使用命令行执行\n",
    "* 用法和treading非常类似"
   ]
  },
  {
   "cell_type": "code",
   "execution_count": 2,
   "metadata": {},
   "outputs": [
    {
     "name": "stdout",
     "output_type": "stream",
     "text": [
      "import multiprocessing\n",
      "\n",
      "def job(Q):\n",
      "    print(\"new process is start\\n\")\n",
      "    res = 0\n",
      "    for i in range(10000000):\n",
      "        res += i+i**2+i**3\n",
      "    Q.put(res)  # * 将返回值放进队列'Q'\n",
      "    print(\"new process is finished\\n\")\n",
      "\n",
      "if __name__=='__main__':  # 多进程不加这句不行，多线程可以不加这句\n",
      "    Q = multiprocessing.Queue()  # 创建队列\n",
      "    process1 = multiprocessing.Process(target=job, args=(Q,))  # ! 函数有一个参数的时候，必须有逗号\n",
      "    process2 = multiprocessing.Process(target=job, args=(Q,))\n",
      "\n",
      "    process1.start()  # 进程1开始\n",
      "    process2.start()  # 进程2开始\n",
      "\n",
      "    process1.join()   # 进程1加入主进程\n",
      "    process2.join()   # 进程2加入主进程\n",
      "\n",
      "    res1 = Q.get()\n",
      "    res2 = Q.get()\n",
      "    print(res1, res2)\n",
      "    print(\"主进程结束\")"
     ]
    }
   ],
   "source": [
    "!cat code1.py"
   ]
  },
  {
   "cell_type": "code",
   "execution_count": 3,
   "metadata": {},
   "outputs": [
    {
     "name": "stdout",
     "output_type": "stream",
     "text": [
      "new process is start\n",
      "new process is start\n",
      "\n",
      "\n",
      "new process is finished\n",
      "\n",
      "new process is finished\n",
      "\n",
      "2499999833333358333330000000 2499999833333358333330000000\n",
      "主进程结束\n"
     ]
    }
   ],
   "source": [
    "!python code1.py"
   ]
  },
  {
   "cell_type": "markdown",
   "metadata": {},
   "source": [
    "## 时间对比：多进程能快多少？\n",
    "* 对于计算密集型程序，多进程提成显著；\n",
    "* 多线程实际上还是单核运算，由于IO读取限制，速度反而更慢"
   ]
  },
  {
   "cell_type": "code",
   "execution_count": 4,
   "metadata": {},
   "outputs": [
    {
     "name": "stdout",
     "output_type": "stream",
     "text": [
      "2499999833333358333330000000 2499999833333358333330000000\n",
      "cost time:  9.656765222549438\n"
     ]
    }
   ],
   "source": [
    "# 不使用并行\n",
    "\n",
    "start_time = time.time()\n",
    "\n",
    "def job():\n",
    "    res = 0\n",
    "    for i in range(10000000):\n",
    "        res += i+i**2+i**3\n",
    "    return res\n",
    "\n",
    "res1 = job()\n",
    "res2 = job()\n",
    "print(res1, res2)\n",
    "\n",
    "end_time = time.time()\n",
    "print(\"cost time: \", end_time-start_time)"
   ]
  },
  {
   "cell_type": "code",
   "execution_count": 5,
   "metadata": {},
   "outputs": [
    {
     "name": "stdout",
     "output_type": "stream",
     "text": [
      "new process is start\n",
      "\n",
      "new process is start\n",
      "\n",
      "new process is finished\n",
      "\n",
      "new process is finished\n",
      "\n",
      "2499999833333358333330000000 2499999833333358333330000000\n",
      "主进程结束\n",
      "cost time:  5.174680948257446\n"
     ]
    }
   ],
   "source": [
    "# 使用多进程\n",
    "\n",
    "start_time = time.time()\n",
    "\n",
    "!python code1.py\n",
    "\n",
    "end_time = time.time()\n",
    "print(\"cost time: \", end_time-start_time)"
   ]
  },
  {
   "cell_type": "code",
   "execution_count": 6,
   "metadata": {},
   "outputs": [
    {
     "name": "stdout",
     "output_type": "stream",
     "text": [
      "new thread is start\n",
      "new thread is start\n",
      "\n",
      "\n",
      "new thread is finished\n",
      "\n",
      "new thread is finished\n",
      "\n",
      "2499999833333358333330000000 2499999833333358333330000000\n",
      "主线程结束\n",
      "cost time:  9.16272521018982\n"
     ]
    }
   ],
   "source": [
    "# 使用多线程\n",
    "\n",
    "import threading\n",
    "from queue import Queue\n",
    "\n",
    "start_time = time.time()\n",
    "\n",
    "def job(Q):\n",
    "    print(\"new thread is start\\n\")\n",
    "    res = 0\n",
    "    for i in range(10000000):\n",
    "        res += i+i**2+i**3\n",
    "    Q.put(res)  # * 将返回值放进队列'Q'\n",
    "    print(\"new thread is finished\\n\")\n",
    "\n",
    "if __name__=='__main__':  # 多进程不加这句不行，多线程可以不加这句\n",
    "    Q = Queue()  # 创建队列\n",
    "    thread1 = threading.Thread(target=job, args=(Q,))  # ! 函数有一个参数的时候，必须有逗号\n",
    "    thread2 = threading.Thread(target=job, args=(Q,))\n",
    "\n",
    "    thread1.start()  # 进程1开始\n",
    "    thread2.start()  # 进程2开始\n",
    "\n",
    "    thread1.join()   # 进程1加入主进程\n",
    "    thread2.join()   # 进程2加入主进程\n",
    "\n",
    "    res1 = Q.get()\n",
    "    res2 = Q.get()\n",
    "    print(res1, res2)\n",
    "    print(\"主线程结束\")\n",
    "\n",
    "end_time = time.time()\n",
    "print(\"cost time: \", end_time-start_time)"
   ]
  },
  {
   "cell_type": "markdown",
   "metadata": {},
   "source": [
    "## 进程池Pool\n",
    "* multiprocessing.Process()创建单一进程，返回值需要用Queue来承接\n",
    "* multiprocessing.Pool()可创建多个进程，自动分配核心，任务函数可以有返回值\n",
    "* 执行进程池里的任务有两种方法\n",
    "    1. `map`方法自动分配进程执行多个任务\n",
    "    2. `apply_async`方法使用1个核心，执行一个任务"
   ]
  },
  {
   "cell_type": "markdown",
   "metadata": {},
   "source": [
    "### `pool.map(<函数名>, <迭代器>)`"
   ]
  },
  {
   "cell_type": "code",
   "execution_count": 7,
   "metadata": {},
   "outputs": [
    {
     "name": "stdout",
     "output_type": "stream",
     "text": [
      "import multiprocessing\n",
      "\n",
      "def job(x):\n",
      "    for i in range(10):\n",
      "        x = x+x**i\n",
      "    return len(str(x))\n",
      "\n",
      "if __name__=='__main__':\n",
      "\n",
      "    # ^ 创建进程池\n",
      "    pool = multiprocessing.Pool()  # 默认使用全部CPU\n",
      "    # pool = multiprocessing.Pool(processes=5)  # 指定使用CPU的核心数\n",
      "\n",
      "    # ^ 执行运算\n",
      "    # 使用刚创建的进程池pool，执行job函数的运算；\n",
      "    # 函数的输入参数是列表中的元素，多核心CPU一起处理全部运算，并将结果放到results变量里\n",
      "    results = pool.map(job, (1, 2, 3, 4, 5, 6, 7, 8, 9, 10)) # 一共是10个不同初始值的函数运算\n",
      "    print(\"-- job(1)的结果是：\")\n",
      "    print(results[0])\n",
      "    print(\"-- job(1-10)的结果是：\")\n",
      "    print(results)"
     ]
    }
   ],
   "source": [
    "!cat code2.py"
   ]
  },
  {
   "cell_type": "code",
   "execution_count": 8,
   "metadata": {},
   "outputs": [
    {
     "name": "stdout",
     "output_type": "stream",
     "text": [
      "-- job(1)的结果是：\n",
      "236125\n",
      "-- job(1-10)的结果是：\n",
      "[236125, 294538, 337000, 370393, 397922, 421345, 441729, 459774, 475963, 490642]\n"
     ]
    }
   ],
   "source": [
    "!python code2.py"
   ]
  },
  {
   "cell_type": "markdown",
   "metadata": {},
   "source": [
    "### `pool.apply_async(<函数名>, <一个任务的参数组成的迭代器>)`"
   ]
  },
  {
   "cell_type": "code",
   "execution_count": 9,
   "metadata": {},
   "outputs": [
    {
     "name": "stdout",
     "output_type": "stream",
     "text": [
      "import multiprocessing\n",
      "\n",
      "def job(x):\n",
      "    for i in range(10):\n",
      "        x = x+x**i\n",
      "    return len(str(x))\n",
      "\n",
      "if __name__=='__main__':\n",
      "\n",
      "    # ^ 创建进程池\n",
      "    pool = multiprocessing.Pool()  # 默认使用全部CPU\n",
      "    # pool = multiprocessing.Pool(processes=5)  # 指定使用CPU的核心数\n",
      "    pool.close()  # 执行完得关闭，不然会报错\n",
      "\n",
      "    # ^ 执行运算\n",
      "    # 使用刚创建的进程池pool，执行job函数的运算；\n",
      "    # 只能输入一个任务的参数，返回一个任务的结果\n",
      "    result = pool.apply_async(job, (1,))\n",
      "    res = result.get()  # 使用get方法获得返回值\n",
      "    print(\"job(1)的结果是: \")\n",
      "    print(res)\n",
      "\n",
      "    # ^ 如果想使用apply_async实现map的效果，需要对此方法迭代\n",
      "    results = [pool.apply_async(job, (i,)) for i in [1, 2, 3, 4, 5, 6, 7, 8, 9, 10]]\n",
      "    list_res = [res.get() for res in results]\n",
      "    print(\"job(1-10)的结果是: \")\n",
      "    print(list_res)\n"
     ]
    }
   ],
   "source": [
    "!cat code3.py"
   ]
  },
  {
   "cell_type": "code",
   "execution_count": 10,
   "metadata": {},
   "outputs": [
    {
     "name": "stdout",
     "output_type": "stream",
     "text": [
      "Traceback (most recent call last):\n",
      "  File \"/Users/rui/Code/1_Astronote/16_multiprocessing/code3.py\", line 18, in <module>\n",
      "    result = pool.apply_async(job, (1,))\n",
      "  File \"/Users/rui/miniconda3/envs/astro/lib/python3.10/multiprocessing/pool.py\", line 458, in apply_async\n",
      "    self._check_running()\n",
      "  File \"/Users/rui/miniconda3/envs/astro/lib/python3.10/multiprocessing/pool.py\", line 353, in _check_running\n",
      "    raise ValueError(\"Pool not running\")\n",
      "ValueError: Pool not running\n"
     ]
    }
   ],
   "source": [
    "!python code3.py"
   ]
  },
  {
   "cell_type": "markdown",
   "metadata": {},
   "source": [
    "## 共享内存\n",
    "* threading中可以通过全局变量实现多线程之间的参数传递\n",
    "* 但是multiprocessing不可以，核之间是独立的\n",
    "* 想要实现参数传递，只能用专门的方法"
   ]
  },
  {
   "cell_type": "code",
   "execution_count": 11,
   "metadata": {},
   "outputs": [
    {
     "data": {
      "text/plain": [
       "0.31299999356269836"
      ]
     },
     "execution_count": 11,
     "metadata": {},
     "output_type": "execute_result"
    }
   ],
   "source": [
    "value = multiprocessing.Value('f', 0.313)  # (<数据类型>, <数据值>)\n",
    "value.value"
   ]
  },
  {
   "cell_type": "code",
   "execution_count": 12,
   "metadata": {},
   "outputs": [],
   "source": [
    "array = multiprocessing.Array('i', [1, 2, 3])  # 数组只能是一维的"
   ]
  },
  {
   "cell_type": "markdown",
   "metadata": {},
   "source": [
    "## 进程锁Lock"
   ]
  },
  {
   "cell_type": "markdown",
   "metadata": {},
   "source": [
    "演示多进程在争抢共享内存里的变量"
   ]
  },
  {
   "cell_type": "code",
   "execution_count": 13,
   "metadata": {},
   "outputs": [
    {
     "name": "stdout",
     "output_type": "stream",
     "text": [
      "import multiprocessing\n",
      "import time\n",
      "\n",
      "def job(v, num, process_name):\n",
      "    for _ in range(10):\n",
      "        time.sleep(0.5)\n",
      "        v.value += num\n",
      "        print(\"{}: {}\".format(process_name, v.value))\n",
      "\n",
      "if __name__=='__main__':\n",
      "    print(\"--- 演示多进程在争抢共享内存里的变量v\")\n",
      "    v = multiprocessing.Value('i', 0)\n",
      "    process1 = multiprocessing.Process(target=job, args=(v, 1, 'process 1'))\n",
      "    process2 = multiprocessing.Process(target=job, args=(v, 100, 'process 2'))\n",
      "    process1.start()\n",
      "    process2.start()\n",
      "    process1.join()\n",
      "    process2.join()"
     ]
    }
   ],
   "source": [
    "!cat code4.py"
   ]
  },
  {
   "cell_type": "code",
   "execution_count": 14,
   "metadata": {},
   "outputs": [
    {
     "name": "stdout",
     "output_type": "stream",
     "text": [
      "--- 演示多进程在争抢共享内存里的变量v\n",
      "process 2: 100\n",
      "process 1: 101\n",
      "process 2: 201\n",
      "process 1: 202\n",
      "process 1: 203\n",
      "process 2: 303\n",
      "process 1: 304\n",
      "process 2: 404\n",
      "process 1: 405\n",
      "process 2: 505\n",
      "process 1: 506\n",
      "process 2: 606\n",
      "process 1: 607\n",
      "process 2: 707\n",
      "process 1: 708\n",
      "process 2: 808\n",
      "process 1: 809\n",
      "process 2: 909\n",
      "process 1: 910\n",
      "process 2: 1010\n"
     ]
    }
   ],
   "source": [
    "!python code4.py"
   ]
  },
  {
   "cell_type": "markdown",
   "metadata": {},
   "source": [
    "使用`Lock`锁住进程，防止像上面那样相互干扰"
   ]
  },
  {
   "cell_type": "code",
   "execution_count": 15,
   "metadata": {},
   "outputs": [
    {
     "name": "stdout",
     "output_type": "stream",
     "text": [
      "import multiprocessing\n",
      "import time\n",
      "\n",
      "lock = multiprocessing.Lock()  # ! 必须写在主函数中\n",
      "\n",
      "def job(v, num, process_name, lock):   # ! 注意这里添加个lock\n",
      "    lock.acquire()  # * 获取进程锁\n",
      "    for _ in range(10):\n",
      "        time.sleep(0.5)\n",
      "        v.value += num\n",
      "        print(\"{}: {}\".format(process_name, v.value))\n",
      "    lock.release()  # * 释放进程锁\n",
      "\n",
      "if __name__=='__main__':\n",
      "\n",
      "    print(\"--- 演示使用进程锁, 防止多进程争抢共享内存里的变量v\")\n",
      "    v = multiprocessing.Value('i', 0) # 创建共享内存里的变量\n",
      "\n",
      "    process1 = multiprocessing.Process(target=job, args=(v, 1, 'process 1', lock))\n",
      "    process2 = multiprocessing.Process(target=job, args=(v, 100, 'process 2', lock))\n",
      "    process1.start()\n",
      "    process2.start()\n",
      "    process1.join()\n",
      "    process2.join()"
     ]
    }
   ],
   "source": [
    "!cat code5.py"
   ]
  },
  {
   "cell_type": "code",
   "execution_count": 16,
   "metadata": {},
   "outputs": [
    {
     "name": "stdout",
     "output_type": "stream",
     "text": [
      "--- 演示使用进程锁, 防止多进程争抢共享内存里的变量v\n",
      "process 2: 100\n",
      "process 2: 200\n",
      "process 2: 300\n",
      "process 2: 400\n",
      "process 2: 500\n",
      "process 2: 600\n",
      "process 2: 700\n",
      "process 2: 800\n",
      "process 2: 900\n",
      "process 2: 1000\n",
      "process 1: 1001\n",
      "process 1: 1002\n",
      "process 1: 1003\n",
      "process 1: 1004\n",
      "process 1: 1005\n",
      "process 1: 1006\n",
      "process 1: 1007\n",
      "process 1: 1008\n",
      "process 1: 1009\n",
      "process 1: 1010\n"
     ]
    }
   ],
   "source": [
    "!python code5.py"
   ]
  },
  {
   "cell_type": "markdown",
   "metadata": {},
   "source": [
    "## `if __name__ == '__main__':` 的作用  \n",
    "* 这个if语句保证了子进程不执行if语句后面的语句, 防止程序无限循环\n",
    "* 原理是: \n",
    "  * 每个程序都有一个`__name__`变量, 程序运行时, `__name__`为`__main__`; 而该程序被别的进程调用时, 则为文件名(multiprocessing分发程序后, 每个程序名都是`__mp_main__`)\n",
    "  * 分发的程序在被子进程调用时, 由于if语句的存在(判断当前执行的程序并不是主进程), if语句后面的程序就不会被执行\n",
    "  * 因此, 避免了子进程创建‘孙子进程’的无限循环\n",
    "  * 注意: map把整个代码文件都分配给子进程执行"
   ]
  },
  {
   "cell_type": "markdown",
   "metadata": {},
   "source": [
    "实例: 有if语句的情况\n",
    "* 程序开始执行, 先顺序执行, 因此会输出一句\"if语句之前\"\n",
    "* 因为直接运行该程序, if语句为True, 走到了创建进程池这一步\n",
    "* 进程池将该程序复制分发给指定数量的cpu核心, 即使用的cpu核心数为子进程的数量\n",
    "* 每个子进程都运行同样的代码, 只是输入参数分配的不一样\n",
    "* 待全部任务执行完毕, 主进程结束"
   ]
  },
  {
   "cell_type": "code",
   "execution_count": 17,
   "metadata": {},
   "outputs": [
    {
     "name": "stdout",
     "output_type": "stream",
     "text": [
      "if语句之前, pid=68036, name=__main__\n",
      "进入if语句, pid=68036\n",
      "if语句之前, pid=68038, name=__mp_main__\n",
      "if语句之前, pid=68040, name=__mp_main__\n",
      "if语句之前, pid=68039, name=__mp_main__\n",
      "x=1, pid=68038\n",
      "x=2, pid=68040\n",
      "x=3, pid=68039\n",
      "x=4, pid=68038\n",
      "x=5, pid=68040\n",
      "程序结束, pid=68036\n"
     ]
    }
   ],
   "source": [
    "!python code6.py  # 使用3核心"
   ]
  },
  {
   "cell_type": "markdown",
   "metadata": {},
   "source": [
    "实例2: 把if语句去掉的情况\n",
    "* 当进程池分配好各个核心同样的代码后, 即父进程创建了子进程\n",
    "* 由于每个子进程还是相同的代码, 没有if语句"
   ]
  },
  {
   "cell_type": "code",
   "execution_count": 18,
   "metadata": {},
   "outputs": [],
   "source": [
    "# !python code7.py"
   ]
  },
  {
   "cell_type": "markdown",
   "metadata": {},
   "source": [
    "## 在jupyter里使用多进程"
   ]
  },
  {
   "cell_type": "markdown",
   "metadata": {},
   "source": [
    "错误示范  \n",
    "* 以下两个cell实际上是等价的, 均不能正常运行(注意: 输出内容显示并不是因为子进程循环创建)\n",
    "* 原因: jupyter里map方法无法调用待执行函数\n",
    "  \n",
    "解决方法\n",
    "* 换用pathos库\n",
    "* https://github.com/uqfoundation/pathos"
   ]
  },
  {
   "cell_type": "code",
   "execution_count": 19,
   "metadata": {},
   "outputs": [],
   "source": [
    "# import multiprocessing\n",
    "\n",
    "# def job(x):\n",
    "#     for i in range(10):\n",
    "#         x = x+x**i\n",
    "#     return len(str(x))\n",
    "\n",
    "# if __name__=='__main__':\n",
    "\n",
    "#     # ^ 创建进程池\n",
    "#     pool = multiprocessing.Pool()  # 默认使用全部CPU\n",
    "\n",
    "#     # ^ 执行运算\n",
    "#     results = pool.map(job, (1, 2, 3, 4, 5, 6, 7, 8, 9, 10)) # 一共是10个不同初始值的函数运算\n",
    "#     print(\"-- job(1)的结果是：\")\n",
    "#     print(results[0])\n",
    "#     print(\"-- job(1-10)的结果是：\")\n",
    "#     print(results)"
   ]
  },
  {
   "cell_type": "code",
   "execution_count": 20,
   "metadata": {},
   "outputs": [],
   "source": [
    "# import multiprocessing\n",
    "\n",
    "# def job(x):\n",
    "#     for i in range(10):\n",
    "#         x = x+x**i\n",
    "#     return len(str(x))\n",
    "\n",
    "\n",
    "# # ^ 创建进程池\n",
    "# pool = multiprocessing.Pool()  # 默认使用全部CPU\n",
    "\n",
    "# # ^ 执行运算\n",
    "# results = pool.map(job, (1, 2, 3, 4, 5, 6, 7, 8, 9, 10)) # 一共是10个不同初始值的函数运算\n",
    "# print(\"-- job(1)的结果是：\")\n",
    "# print(results[0])\n",
    "# print(\"-- job(1-10)的结果是：\")\n",
    "# print(results)"
   ]
  },
  {
   "cell_type": "markdown",
   "metadata": {},
   "source": [
    "解决方法  \n",
    "* 将多进程写进py文件的一个函数中"
   ]
  },
  {
   "cell_type": "code",
   "execution_count": 21,
   "metadata": {},
   "outputs": [
    {
     "name": "stdout",
     "output_type": "stream",
     "text": [
      "位置1, pid=66814\n",
      "说明这句没有被分到子进程中\n",
      "位置2, pid=66814\n",
      "位置1, pid=68123\n",
      "x=1, pid=68123\n",
      "位置1, pid=68124\n",
      "x=2, pid=68124\n",
      "位置1, pid=68125\n",
      "x=3, pid=68125\n",
      "x=4, pid=68123\n",
      "x=5, pid=68124\n",
      "位置3, pid=66814\n"
     ]
    }
   ],
   "source": [
    "import code8\n",
    "print(\"说明这句没有被分到子进程中\")\n",
    "code8.run()"
   ]
  },
  {
   "cell_type": "markdown",
   "metadata": {},
   "source": [
    "但是同样的代码以py文件执行, 则会出现循环调用(可用if语句解决问题)"
   ]
  },
  {
   "cell_type": "code",
   "execution_count": 22,
   "metadata": {},
   "outputs": [],
   "source": [
    "# !python code9.py"
   ]
  }
 ],
 "metadata": {
  "kernelspec": {
   "display_name": "Python 3.10.6 ('astro')",
   "language": "python",
   "name": "python3"
  },
  "language_info": {
   "codemirror_mode": {
    "name": "ipython",
    "version": 3
   },
   "file_extension": ".py",
   "mimetype": "text/x-python",
   "name": "python",
   "nbconvert_exporter": "python",
   "pygments_lexer": "ipython3",
   "version": "3.10.6"
  },
  "orig_nbformat": 4,
  "vscode": {
   "interpreter": {
    "hash": "8894f366d6de9d393653cbb016f1795f39a856928ab40a2f97a943c59af84e17"
   }
  }
 },
 "nbformat": 4,
 "nbformat_minor": 2
}
