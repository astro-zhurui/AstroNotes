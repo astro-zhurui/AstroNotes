{
 "cells": [
  {
   "cell_type": "markdown",
   "metadata": {},
   "source": [
    "**使用multiprocessing实现多核CPU并行处理**  \n",
    "@Author: Ray  \n",
    "@Build time: 2022.08.23  \n",
    "@Cite: Bilibili -> 莫烦Python  \n",
    "@Note: `多进程在不能在交互式Python运行，应写成.py文件然后执行`"
   ]
  },
  {
   "cell_type": "code",
   "execution_count": 2,
   "metadata": {},
   "outputs": [],
   "source": [
    "import time"
   ]
  },
  {
   "cell_type": "markdown",
   "metadata": {},
   "source": [
    "## 创建进程 & 使用队列收集返回值\n",
    "* 多进程文件应使用命令行执行\n",
    "* 用法和treading非常类似"
   ]
  },
  {
   "cell_type": "code",
   "execution_count": 3,
   "metadata": {},
   "outputs": [
    {
     "name": "stdout",
     "output_type": "stream",
     "text": [
      "import multiprocessing\n",
      "\n",
      "def job(Q):\n",
      "    print(\"new process is start\\n\")\n",
      "    res = 0\n",
      "    for i in range(10000000):\n",
      "        res += i+i**2+i**3\n",
      "    Q.put(res)  # * 将返回值放进队列'Q'\n",
      "    print(\"new process is finished\\n\")\n",
      "\n",
      "if __name__=='__main__':  # 多进程不加这句不行，多线程可以不加这句\n",
      "    Q = multiprocessing.Queue()  # 创建队列\n",
      "    process1 = multiprocessing.Process(target=job, args=(Q,))  # ! 函数有一个参数的时候，必须有逗号\n",
      "    process2 = multiprocessing.Process(target=job, args=(Q,))\n",
      "\n",
      "    process1.start()  # 进程1开始\n",
      "    process2.start()  # 进程2开始\n",
      "\n",
      "    process1.join()   # 进程1加入主进程\n",
      "    process2.join()   # 进程2加入主进程\n",
      "\n",
      "    res1 = Q.get()\n",
      "    res2 = Q.get()\n",
      "    print(res1, res2)\n",
      "    print(\"主进程结束\")"
     ]
    }
   ],
   "source": [
    "!cat code1.py"
   ]
  },
  {
   "cell_type": "code",
   "execution_count": 4,
   "metadata": {},
   "outputs": [
    {
     "name": "stdout",
     "output_type": "stream",
     "text": [
      "new process is start\n",
      "\n",
      "new process is start\n",
      "\n",
      "new process is finished\n",
      "\n",
      "new process is finished\n",
      "\n",
      "2499999833333358333330000000 2499999833333358333330000000\n",
      "主进程结束\n"
     ]
    }
   ],
   "source": [
    "!python code1.py"
   ]
  },
  {
   "cell_type": "markdown",
   "metadata": {},
   "source": [
    "## 时间对比：多进程能快多少？\n",
    "* 对于计算密集型程序，多进程提成显著；\n",
    "* 多线程实际上还是单核运算，由于IO读取限制，速度反而更慢"
   ]
  },
  {
   "cell_type": "code",
   "execution_count": 5,
   "metadata": {},
   "outputs": [
    {
     "name": "stdout",
     "output_type": "stream",
     "text": [
      "2499999833333358333330000000 2499999833333358333330000000\n",
      "cost time:  9.382076025009155\n"
     ]
    }
   ],
   "source": [
    "# 不使用并行\n",
    "\n",
    "start_time = time.time()\n",
    "\n",
    "def job():\n",
    "    res = 0\n",
    "    for i in range(10000000):\n",
    "        res += i+i**2+i**3\n",
    "    return res\n",
    "\n",
    "res1 = job()\n",
    "res2 = job()\n",
    "print(res1, res2)\n",
    "\n",
    "end_time = time.time()\n",
    "print(\"cost time: \", end_time-start_time)"
   ]
  },
  {
   "cell_type": "code",
   "execution_count": 6,
   "metadata": {},
   "outputs": [
    {
     "name": "stdout",
     "output_type": "stream",
     "text": [
      "new process is start\n",
      "\n",
      "new process is start\n",
      "\n",
      "new process is finished\n",
      "\n",
      "new process is finished\n",
      "\n",
      "2499999833333358333330000000 2499999833333358333330000000\n",
      "主进程结束\n",
      "cost time:  5.098523855209351\n"
     ]
    }
   ],
   "source": [
    "# 使用多进程\n",
    "\n",
    "start_time = time.time()\n",
    "\n",
    "!python code1.py\n",
    "\n",
    "end_time = time.time()\n",
    "print(\"cost time: \", end_time-start_time)"
   ]
  },
  {
   "cell_type": "code",
   "execution_count": 7,
   "metadata": {},
   "outputs": [
    {
     "name": "stdout",
     "output_type": "stream",
     "text": [
      "new thread is start\n",
      "\n",
      "new thread is start\n",
      "\n",
      "new thread is finished\n",
      "\n",
      "new thread is finished\n",
      "\n",
      "2499999833333358333330000000 2499999833333358333330000000\n",
      "主线程结束\n",
      "cost time:  9.308304071426392\n"
     ]
    }
   ],
   "source": [
    "# 使用多线程\n",
    "\n",
    "import threading\n",
    "from queue import Queue\n",
    "\n",
    "start_time = time.time()\n",
    "\n",
    "def job(Q):\n",
    "    print(\"new thread is start\\n\")\n",
    "    res = 0\n",
    "    for i in range(10000000):\n",
    "        res += i+i**2+i**3\n",
    "    Q.put(res)  # * 将返回值放进队列'Q'\n",
    "    print(\"new thread is finished\\n\")\n",
    "\n",
    "if __name__=='__main__':  # 多进程不加这句不行，多线程可以不加这句\n",
    "    Q = Queue()  # 创建队列\n",
    "    thread1 = threading.Thread(target=job, args=(Q,))  # ! 函数有一个参数的时候，必须有逗号\n",
    "    thread2 = threading.Thread(target=job, args=(Q,))\n",
    "\n",
    "    thread1.start()  # 进程1开始\n",
    "    thread2.start()  # 进程2开始\n",
    "\n",
    "    thread1.join()   # 进程1加入主进程\n",
    "    thread2.join()   # 进程2加入主进程\n",
    "\n",
    "    res1 = Q.get()\n",
    "    res2 = Q.get()\n",
    "    print(res1, res2)\n",
    "    print(\"主线程结束\")\n",
    "\n",
    "end_time = time.time()\n",
    "print(\"cost time: \", end_time-start_time)"
   ]
  },
  {
   "cell_type": "markdown",
   "metadata": {},
   "source": [
    "## 进程池Pool\n",
    "* multiprocessing.Process()创建单一进程，返回值需要用Queue来承接\n",
    "* multiprocessing.Pool()可创建多个进程，自动分配核心，任务函数可以有返回值"
   ]
  },
  {
   "cell_type": "code",
   "execution_count": 12,
   "metadata": {},
   "outputs": [
    {
     "name": "stdout",
     "output_type": "stream",
     "text": [
      "import multiprocessing\n",
      "\n",
      "def job(x):\n",
      "    return x*x\n",
      "\n",
      "if __name__=='__main__':\n",
      "    pool = multiprocessing.Pool()  # 创建多进程池\n",
      "    results = pool.map(job, range(10))  # 将pool的值map到results中\n",
      "    print(results)"
     ]
    }
   ],
   "source": [
    "!cat code2.py"
   ]
  },
  {
   "cell_type": "code",
   "execution_count": 25,
   "metadata": {},
   "outputs": [
    {
     "name": "stdout",
     "output_type": "stream",
     "text": [
      "10\n"
     ]
    }
   ],
   "source": [
    "!python code2.py"
   ]
  }
 ],
 "metadata": {
  "kernelspec": {
   "display_name": "Python 3.9.13 ('base')",
   "language": "python",
   "name": "python3"
  },
  "language_info": {
   "codemirror_mode": {
    "name": "ipython",
    "version": 3
   },
   "file_extension": ".py",
   "mimetype": "text/x-python",
   "name": "python",
   "nbconvert_exporter": "python",
   "pygments_lexer": "ipython3",
   "version": "3.9.13"
  },
  "orig_nbformat": 4,
  "vscode": {
   "interpreter": {
    "hash": "522fa9e8171c73fbbe633caa75b0e8f9dc4f493721bf7a4894a896b71968a2a6"
   }
  }
 },
 "nbformat": 4,
 "nbformat_minor": 2
}
