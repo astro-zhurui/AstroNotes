{
 "cells": [
  {
   "cell_type": "code",
   "execution_count": 36,
   "metadata": {},
   "outputs": [
    {
     "name": "stdout",
     "output_type": "stream",
     "text": [
      "[########################################] | 100% Completed | 7.22 ss\n"
     ]
    }
   ],
   "source": [
    "import dask\n",
    "from dask.diagnostics import ProgressBar\n",
    "\n",
    "# 创建 Dask 客户端，使用多进程后端\n",
    "client = dask.config.set(scheduler='processes', num_workers=8)\n",
    "\n",
    "# 定义一个简单的函数\n",
    "def square(x):\n",
    "    for i in range(10000000):\n",
    "        i = i ** 2\n",
    "    return i*x\n",
    "\n",
    "# 创建一个 Dask Delayed 对象，表示要执行的延迟计算\n",
    "delayed_tasks = [dask.delayed(square)(i) for i in range(100)]\n",
    "\n",
    "# 并行执行延迟计算，并收集结果\n",
    "# 启动进度条\n",
    "with ProgressBar():\n",
    "    # 使用dask.compute执行任务并监视进度\n",
    "    result = dask.compute(*delayed_tasks)"
   ]
  }
 ],
 "metadata": {
  "kernelspec": {
   "display_name": "astro",
   "language": "python",
   "name": "python3"
  },
  "language_info": {
   "codemirror_mode": {
    "name": "ipython",
    "version": 3
   },
   "file_extension": ".py",
   "mimetype": "text/x-python",
   "name": "python",
   "nbconvert_exporter": "python",
   "pygments_lexer": "ipython3",
   "version": "3.12.1"
  }
 },
 "nbformat": 4,
 "nbformat_minor": 2
}
