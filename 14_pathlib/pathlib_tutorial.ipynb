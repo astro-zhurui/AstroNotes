{
 "cells": [
  {
   "cell_type": "markdown",
   "metadata": {},
   "source": [
    "**A tutorial for using `pathlib`**  \n",
    "@Author: Ray  \n",
    "@Build time: 2022.08.12  \n",
    "@Cite:\n",
    "1. https://zhuanlan.zhihu.com/p/139783331\n",
    "1. https://docs.python.org/3/library/pathlib.html\n",
    "1. https://www.dongwm.com/post/use-pathlib/"
   ]
  },
  {
   "cell_type": "code",
   "execution_count": 244,
   "metadata": {},
   "outputs": [],
   "source": [
    "from pathlib import Path\n",
    "\n",
    "# ^ 禁用同一单元格内的输出覆盖\n",
    "from IPython.core.interactiveshell import InteractiveShell\n",
    "InteractiveShell.ast_node_interactivity = \"all\""
   ]
  },
  {
   "cell_type": "markdown",
   "metadata": {},
   "source": [
    "路径获取"
   ]
  },
  {
   "cell_type": "code",
   "execution_count": 245,
   "metadata": {},
   "outputs": [
    {
     "data": {
      "text/plain": [
       "PosixPath('/Users/rui/Code/1_Astronotes/14_pathlib')"
      ]
     },
     "execution_count": 245,
     "metadata": {},
     "output_type": "execute_result"
    },
    {
     "data": {
      "text/plain": [
       "'/Users/rui/Code/1_Astronotes/14_pathlib'"
      ]
     },
     "execution_count": 245,
     "metadata": {},
     "output_type": "execute_result"
    },
    {
     "data": {
      "text/plain": [
       "PosixPath('/Users/rui')"
      ]
     },
     "execution_count": 245,
     "metadata": {},
     "output_type": "execute_result"
    },
    {
     "data": {
      "text/plain": [
       "'/Users/rui'"
      ]
     },
     "execution_count": 245,
     "metadata": {},
     "output_type": "execute_result"
    },
    {
     "data": {
      "text/plain": [
       "PosixPath('1_Astronotes/14_pathlib/pathlib_tutorial.ipynb')"
      ]
     },
     "execution_count": 245,
     "metadata": {},
     "output_type": "execute_result"
    },
    {
     "data": {
      "text/plain": [
       "PosixPath('/Users/rui/Code/1_Astronotes/14_pathlib/1_Astronotes/14_pathlib/pathlib_tutorial.ipynb')"
      ]
     },
     "execution_count": 245,
     "metadata": {},
     "output_type": "execute_result"
    }
   ],
   "source": [
    "# ---------- 常用的路径获取操作 ----------\n",
    "\n",
    "# *获取当前工作目录\n",
    "Path.cwd() # !返回的是PosixPath对象\n",
    "str(Path.cwd())  # 以字符串格式输出当前工作路径\n",
    "\n",
    "# *获取home目录\n",
    "Path.home()\n",
    "str(Path.home())\n",
    "\n",
    "# *字符串转换成路径对象\n",
    "dir = '1_Astronotes/14_pathlib/pathlib_tutorial.ipynb'\n",
    "Path(dir)\n",
    "\n",
    "# *补充为绝对路径\n",
    "Path(dir).resolve()  # !并非自动补全，只是添加上当前工作目录的绝对路径"
   ]
  },
  {
   "cell_type": "markdown",
   "metadata": {},
   "source": [
    "路径拼接"
   ]
  },
  {
   "cell_type": "code",
   "execution_count": 246,
   "metadata": {},
   "outputs": [
    {
     "data": {
      "text/plain": [
       "PosixPath('/Users/rui/dir/file.txt')"
      ]
     },
     "execution_count": 246,
     "metadata": {},
     "output_type": "execute_result"
    },
    {
     "data": {
      "text/plain": [
       "PosixPath('/Users/rui/dir/file.txt')"
      ]
     },
     "execution_count": 246,
     "metadata": {},
     "output_type": "execute_result"
    }
   ],
   "source": [
    "# 路径拼接的两种方法\n",
    "Path.home() / 'dir' / 'file.txt'\n",
    "Path.home().joinpath('dir', 'file.txt')"
   ]
  },
  {
   "cell_type": "markdown",
   "metadata": {},
   "source": [
    "路径分解"
   ]
  },
  {
   "cell_type": "code",
   "execution_count": 247,
   "metadata": {},
   "outputs": [
    {
     "name": "stdout",
     "output_type": "stream",
     "text": [
      "/Users/rui/Code/1_Astronotes/14_pathlib/pathlib_tutorial.ipynb\n"
     ]
    },
    {
     "data": {
      "text/plain": [
       "'pathlib_tutorial.ipynb'"
      ]
     },
     "execution_count": 247,
     "metadata": {},
     "output_type": "execute_result"
    },
    {
     "data": {
      "text/plain": [
       "'.ipynb'"
      ]
     },
     "execution_count": 247,
     "metadata": {},
     "output_type": "execute_result"
    },
    {
     "data": {
      "text/plain": [
       "'pathlib_tutorial'"
      ]
     },
     "execution_count": 247,
     "metadata": {},
     "output_type": "execute_result"
    },
    {
     "name": "stdout",
     "output_type": "stream",
     "text": [
      "--------------------\n"
     ]
    },
    {
     "data": {
      "text/plain": [
       "PosixPath('/Users/rui/Code/1_Astronotes/14_pathlib')"
      ]
     },
     "execution_count": 247,
     "metadata": {},
     "output_type": "execute_result"
    },
    {
     "data": {
      "text/plain": [
       "PosixPath('/Users/rui/Code/1_Astronotes')"
      ]
     },
     "execution_count": 247,
     "metadata": {},
     "output_type": "execute_result"
    },
    {
     "data": {
      "text/plain": [
       "PosixPath('/Users/rui/Code/1_Astronotes/14_pathlib')"
      ]
     },
     "execution_count": 247,
     "metadata": {},
     "output_type": "execute_result"
    },
    {
     "data": {
      "text/plain": [
       "PosixPath('/Users/rui/Code/1_Astronotes')"
      ]
     },
     "execution_count": 247,
     "metadata": {},
     "output_type": "execute_result"
    },
    {
     "data": {
      "text/plain": [
       "PosixPath('/Users/rui/Code')"
      ]
     },
     "execution_count": 247,
     "metadata": {},
     "output_type": "execute_result"
    },
    {
     "data": {
      "text/plain": [
       "'/'"
      ]
     },
     "execution_count": 247,
     "metadata": {},
     "output_type": "execute_result"
    }
   ],
   "source": [
    "file = Path.cwd() / 'pathlib_tutorial.ipynb'\n",
    "# file = Path.cwd()\n",
    "print(file)\n",
    "\n",
    "file.name  # *文件名 or 文件夹名\n",
    "file.suffix  # *文件后缀\n",
    "file.stem  # *去掉文件后缀的文件名\n",
    "\n",
    "print('-'*20)\n",
    "# ^ 父级目录获取方法\n",
    "file.parent  # *父级目录\n",
    "file.parent.parent  # *上上级目录\n",
    "file.parents[0]  # *上级目录\n",
    "file.parents[1]  # *上上级目录\n",
    "file.parents[2]  # *上上上级目录\n",
    "\n",
    "file.anchor  # *根目录"
   ]
  },
  {
   "cell_type": "markdown",
   "metadata": {},
   "source": [
    "路径判断"
   ]
  },
  {
   "cell_type": "code",
   "execution_count": 248,
   "metadata": {},
   "outputs": [
    {
     "name": "stdout",
     "output_type": "stream",
     "text": [
      "---------- 判断是否为文件 ----------\n"
     ]
    },
    {
     "data": {
      "text/plain": [
       "True"
      ]
     },
     "execution_count": 248,
     "metadata": {},
     "output_type": "execute_result"
    },
    {
     "data": {
      "text/plain": [
       "False"
      ]
     },
     "execution_count": 248,
     "metadata": {},
     "output_type": "execute_result"
    },
    {
     "name": "stdout",
     "output_type": "stream",
     "text": [
      "---------- 判断是否为文件夹 ----------\n"
     ]
    },
    {
     "data": {
      "text/plain": [
       "False"
      ]
     },
     "execution_count": 248,
     "metadata": {},
     "output_type": "execute_result"
    },
    {
     "data": {
      "text/plain": [
       "True"
      ]
     },
     "execution_count": 248,
     "metadata": {},
     "output_type": "execute_result"
    },
    {
     "name": "stdout",
     "output_type": "stream",
     "text": [
      "---------- 判断时候存在 ----------\n"
     ]
    },
    {
     "data": {
      "text/plain": [
       "True"
      ]
     },
     "execution_count": 248,
     "metadata": {},
     "output_type": "execute_result"
    },
    {
     "data": {
      "text/plain": [
       "False"
      ]
     },
     "execution_count": 248,
     "metadata": {},
     "output_type": "execute_result"
    },
    {
     "name": "stdout",
     "output_type": "stream",
     "text": [
      "---------- 判断路径时候符合规则 ----------\n"
     ]
    },
    {
     "data": {
      "text/plain": [
       "True"
      ]
     },
     "execution_count": 248,
     "metadata": {},
     "output_type": "execute_result"
    }
   ],
   "source": [
    "# ---------- 路径判断 ----------\n",
    "file = Path.cwd() / 'pathlib_tutorial.ipynb'\n",
    "\n",
    "print(\"-\"*10 + \" 判断是否为文件 \" + \"-\"*10)\n",
    "file.is_file()\n",
    "file.parent.is_file()\n",
    "\n",
    "print(\"-\"*10 + \" 判断是否为文件夹 \" + \"-\"*10)\n",
    "file.is_dir()\n",
    "file.parent.is_dir()\n",
    "\n",
    "print(\"-\"*10 + \" 判断是否存在 \" + \"-\"*10)\n",
    "file.exists()\n",
    "Path(\"archive/dem.txt\").exists()\n",
    "\n",
    "print(\"-\"*10 + \" 判断路径时候符合规则 \" + \"-\"*10)\n",
    "file.match('*.ipynb')"
   ]
  },
  {
   "cell_type": "markdown",
   "metadata": {},
   "source": [
    "创建目录"
   ]
  },
  {
   "cell_type": "code",
   "execution_count": 249,
   "metadata": {},
   "outputs": [],
   "source": [
    "\n",
    "# *创建目录\n",
    "path_newdir = Path.cwd() / \"newdir\"  # 设置要创建的路径\n",
    "path_newdir.mkdir(exist_ok=True)  \n",
    "# 设置exist_ok=True会避免该路径已存在的报错；若路径存在就不创建，而不是删除该目录重新创建\n",
    "\n",
    "# *直接创建多级目录\n",
    "path_newdir2 = Path.cwd() / \"newdir2\" / \"folder1\" / \"folder2\"\n",
    "path_newdir2.mkdir(exist_ok=True, parents=True)"
   ]
  },
  {
   "cell_type": "markdown",
   "metadata": {},
   "source": [
    "删除空目录"
   ]
  },
  {
   "cell_type": "code",
   "execution_count": 250,
   "metadata": {},
   "outputs": [],
   "source": [
    "# *删除空目录\n",
    "path_newdir3 = Path.cwd() / \"newdir3\" / \"待删除文件夹\" / \"rm1\"\n",
    "path_newdir3.mkdir(exist_ok=True, parents=True)\n",
    "\n",
    "path_rm = Path.cwd() / \"newdir3\" / \"待删除文件夹\"\n",
    "# path_rm.rmdir()  # !目录非空，不会删除，会报错\n",
    "\n",
    "path_rm = Path.cwd() / \"newdir3\" / \"待删除文件夹\" / \"rm1\"\n",
    "path_rm.rmdir()"
   ]
  },
  {
   "cell_type": "markdown",
   "metadata": {},
   "source": [
    "创建文件"
   ]
  },
  {
   "cell_type": "code",
   "execution_count": 251,
   "metadata": {},
   "outputs": [],
   "source": [
    "path_newfile = Path(\"newFile.csv\")  # 待创建文件路径\n",
    "path_newfile.touch(exist_ok=True)  # 按照此目录创建文件"
   ]
  },
  {
   "cell_type": "markdown",
   "metadata": {},
   "source": [
    "移动文件"
   ]
  },
  {
   "cell_type": "code",
   "execution_count": 252,
   "metadata": {},
   "outputs": [
    {
     "data": {
      "text/plain": [
       "PosixPath('/Users/rui/Code/1_Astronotes/14_pathlib/newdir/newFile.csv')"
      ]
     },
     "execution_count": 252,
     "metadata": {},
     "output_type": "execute_result"
    }
   ],
   "source": [
    "path_newfile_replace = Path.cwd() / \"newdir\" / path_newfile  # 文件的目标路径\n",
    "path_newfile.replace(path_newfile_replace)  # 移动文件"
   ]
  },
  {
   "cell_type": "markdown",
   "metadata": {},
   "source": [
    "修改文件后缀"
   ]
  },
  {
   "cell_type": "code",
   "execution_count": 253,
   "metadata": {},
   "outputs": [
    {
     "data": {
      "text/plain": [
       "PosixPath('/Users/rui/Code/1_Astronotes/14_pathlib/newdir/newFile.txt')"
      ]
     },
     "execution_count": 253,
     "metadata": {},
     "output_type": "execute_result"
    }
   ],
   "source": [
    "path_newfile_txt = path_newfile_replace.with_suffix('.txt')  # 设置更改文件后缀后的文件路径\n",
    "path_newfile_replace.replace(path_newfile_txt)  # 对原文件路径进行替换"
   ]
  },
  {
   "cell_type": "markdown",
   "metadata": {},
   "source": [
    "重命名文件"
   ]
  },
  {
   "cell_type": "code",
   "execution_count": 254,
   "metadata": {},
   "outputs": [
    {
     "data": {
      "text/plain": [
       "PosixPath('/Users/rui/Code/1_Astronotes/14_pathlib/newdir/newFile_rename.txt')"
      ]
     },
     "execution_count": 254,
     "metadata": {},
     "output_type": "execute_result"
    }
   ],
   "source": [
    "path_newfile_rename= path_newfile_txt.with_name('newFile_rename.txt')\n",
    "path_newfile_txt.replace(path_newfile_rename)"
   ]
  },
  {
   "cell_type": "markdown",
   "metadata": {},
   "source": [
    "删除文件"
   ]
  },
  {
   "cell_type": "code",
   "execution_count": 255,
   "metadata": {},
   "outputs": [],
   "source": [
    "path_newfile_rename.unlink()"
   ]
  },
  {
   "cell_type": "markdown",
   "metadata": {},
   "source": [
    "目录遍历"
   ]
  },
  {
   "cell_type": "code",
   "execution_count": 256,
   "metadata": {},
   "outputs": [
    {
     "data": {
      "text/plain": [
       "[PosixPath('/Users/rui/Code/1_Astronotes/14_pathlib/.DS_Store'),\n",
       " PosixPath('/Users/rui/Code/1_Astronotes/14_pathlib/newdir'),\n",
       " PosixPath('/Users/rui/Code/1_Astronotes/14_pathlib/newdir2'),\n",
       " PosixPath('/Users/rui/Code/1_Astronotes/14_pathlib/newdir3'),\n",
       " PosixPath('/Users/rui/Code/1_Astronotes/14_pathlib/pathlib_tutorial.ipynb')]"
      ]
     },
     "execution_count": 256,
     "metadata": {},
     "output_type": "execute_result"
    }
   ],
   "source": [
    "cwd = Path.cwd()\n",
    "list(cwd.iterdir())"
   ]
  },
  {
   "cell_type": "markdown",
   "metadata": {},
   "source": [
    "查找匹配"
   ]
  },
  {
   "cell_type": "code",
   "execution_count": 257,
   "metadata": {},
   "outputs": [
    {
     "data": {
      "text/plain": [
       "[PosixPath('/Users/rui/Code/1_Astronotes/14_pathlib/pathlib_tutorial.ipynb')]"
      ]
     },
     "execution_count": 257,
     "metadata": {},
     "output_type": "execute_result"
    },
    {
     "data": {
      "text/plain": [
       "[PosixPath('/Users/rui/Code/1_Astronotes/14_pathlib/newdir'),\n",
       " PosixPath('/Users/rui/Code/1_Astronotes/14_pathlib/newdir2'),\n",
       " PosixPath('/Users/rui/Code/1_Astronotes/14_pathlib/newdir3')]"
      ]
     },
     "execution_count": 257,
     "metadata": {},
     "output_type": "execute_result"
    }
   ],
   "source": [
    "list(cwd.glob('*.ipynb'))  # 输出当前目录下后缀为.ipynb的文件或文件夹\n",
    "list(cwd.glob('newdir*'))  # 输出当前目录下包含newdir字样的文件夹或文件"
   ]
  },
  {
   "cell_type": "markdown",
   "metadata": {},
   "source": [
    "教程结束，删除示例文件夹"
   ]
  },
  {
   "cell_type": "code",
   "execution_count": 258,
   "metadata": {},
   "outputs": [],
   "source": [
    "path_rm1 = Path('/Users/rui/Code/1_Astronotes/14_pathlib/newdir')\n",
    "path_rm2 = Path('/Users/rui/Code/1_Astronotes/14_pathlib/newdir2')\n",
    "path_rm3 = Path('/Users/rui/Code/1_Astronotes/14_pathlib/newdir3')\n",
    "\n",
    "import shutil\n",
    "shutil.rmtree(path_rm1, ignore_errors=True)\n",
    "shutil.rmtree(path_rm2, ignore_errors=True)\n",
    "shutil.rmtree(path_rm3, ignore_errors=True)"
   ]
  }
 ],
 "metadata": {
  "kernelspec": {
   "display_name": "Python 3.9.13 ('csst')",
   "language": "python",
   "name": "python3"
  },
  "language_info": {
   "codemirror_mode": {
    "name": "ipython",
    "version": 3
   },
   "file_extension": ".py",
   "mimetype": "text/x-python",
   "name": "python",
   "nbconvert_exporter": "python",
   "pygments_lexer": "ipython3",
   "version": "3.9.13"
  },
  "orig_nbformat": 4,
  "vscode": {
   "interpreter": {
    "hash": "9766eaf3548e66b15fbb7878b4ed1f787b354ecf5b0f127ae01cd8f4b5414988"
   }
  }
 },
 "nbformat": 4,
 "nbformat_minor": 2
}
