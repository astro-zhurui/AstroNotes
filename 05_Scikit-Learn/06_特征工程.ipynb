{
 "cells": [
  {
   "cell_type": "markdown",
   "metadata": {},
   "source": [
    "**scikit-learn中的特征工程有关的操作**\n",
    "- @Author: Rui Zhu\n",
    "- @Date: 2024-07-02\n",
    "- @Follow: [6. Dataset transformations](https://scikit-learn.org/stable/data_transforms.html#dataset-transformations)"
   ]
  },
  {
   "cell_type": "code",
   "execution_count": 1,
   "metadata": {},
   "outputs": [],
   "source": [
    "import numpy as np\n",
    "import pandas as pd\n",
    "import matplotlib.pyplot as plt"
   ]
  },
  {
   "cell_type": "markdown",
   "metadata": {},
   "source": [
    "## 6.1 特征缩放 (Feature Scaling)\n",
    "* follow: https://scikit-learn.org/stable/modules/preprocessing.html#preprocessing-data"
   ]
  },
  {
   "cell_type": "markdown",
   "metadata": {},
   "source": [
    "### 6.1.1 标准化 (standardization)\n",
    "* 将每个特征归一化到均值为0, 方差为1\n",
    "* $X_{\\rm scaled} = \\frac{X - \\mu}{\\sigma}$"
   ]
  },
  {
   "cell_type": "code",
   "execution_count": 16,
   "metadata": {},
   "outputs": [
    {
     "name": "stdout",
     "output_type": "stream",
     "text": [
      "[[ 0.         -1.41421356  1.34164079]\n",
      " [ 1.41421356  0.         -0.4472136 ]\n",
      " [-1.41421356  1.41421356 -1.34164079]\n",
      " [ 0.          0.          0.4472136 ]]\n",
      "mean: [0.00000000e+00 0.00000000e+00 1.38777878e-17]\n",
      "std: [1. 1. 1.]\n"
     ]
    }
   ],
   "source": [
    "from sklearn.preprocessing import StandardScaler\n",
    "\n",
    "X_train = np.array([[ 1., -1.,  2.],\n",
    "                    [ 2.,  0.,  0.],\n",
    "                    [ 0.,  1., -1.], \n",
    "                    [ 1.,  0.,  1.]])\n",
    "\n",
    "scaler = StandardScaler().fit(X_train)\n",
    "X_scaled = scaler.transform(X_train)\n",
    "\n",
    "print(X_scaled)\n",
    "print(f\"mean: {X_scaled.mean(axis=0)}\")\n",
    "print(f\"std: {X_scaled.std(axis=0)}\")"
   ]
  },
  {
   "cell_type": "code",
   "execution_count": 13,
   "metadata": {},
   "outputs": [
    {
     "data": {
      "text/plain": [
       "array([[ 0.        , -1.41421356,  1.34164079],\n",
       "       [ 1.41421356,  0.        , -0.4472136 ],\n",
       "       [-1.41421356,  1.41421356, -1.34164079],\n",
       "       [ 0.        ,  0.        ,  0.4472136 ]])"
      ]
     },
     "execution_count": 13,
     "metadata": {},
     "output_type": "execute_result"
    }
   ],
   "source": [
    "\"\"\"\n",
    "上述操作等同于下面的手动计算\n",
    "\"\"\"\n",
    "x_mean = np.mean(X_train, axis=0)\n",
    "x_std = np.std(X_train, axis=0)\n",
    "X_scaled_manual = (X_train - x_mean) / x_std\n",
    "X_scaled_manual"
   ]
  },
  {
   "cell_type": "markdown",
   "metadata": {},
   "source": [
    "### 6.1.2 min-max scaling"
   ]
  },
  {
   "cell_type": "markdown",
   "metadata": {},
   "source": [
    "* 默认scale到0-1"
   ]
  },
  {
   "cell_type": "code",
   "execution_count": 17,
   "metadata": {},
   "outputs": [
    {
     "data": {
      "text/plain": [
       "array([[0.5       , 0.        , 1.        ],\n",
       "       [1.        , 0.5       , 0.33333333],\n",
       "       [0.        , 1.        , 0.        ]])"
      ]
     },
     "execution_count": 17,
     "metadata": {},
     "output_type": "execute_result"
    }
   ],
   "source": [
    "from sklearn.preprocessing import MinMaxScaler\n",
    "X_train = np.array([[ 1., -1.,  2.],\n",
    "                    [ 2.,  0.,  0.],\n",
    "                    [ 0.,  1., -1.]])\n",
    "scaler = MinMaxScaler()\n",
    "X_train_minmax = scaler.fit_transform(X_train)\n",
    "X_train_minmax"
   ]
  },
  {
   "cell_type": "code",
   "execution_count": 18,
   "metadata": {},
   "outputs": [
    {
     "data": {
      "text/plain": [
       "array([[0.5       , 0.        , 1.        ],\n",
       "       [1.        , 0.5       , 0.33333333],\n",
       "       [0.        , 1.        , 0.        ]])"
      ]
     },
     "execution_count": 18,
     "metadata": {},
     "output_type": "execute_result"
    }
   ],
   "source": [
    "\"\"\"\n",
    "上述操作等同于下面的手动计算\n",
    "\"\"\"\n",
    "x_min = np.min(X_train, axis=0)\n",
    "x_max = np.max(X_train, axis=0)\n",
    "X_train_minmax_manual = (X_train - x_min) / (x_max - x_min)\n",
    "X_train_minmax_manual"
   ]
  },
  {
   "cell_type": "markdown",
   "metadata": {},
   "source": [
    "* scale到-1-1"
   ]
  },
  {
   "cell_type": "code",
   "execution_count": 20,
   "metadata": {},
   "outputs": [
    {
     "data": {
      "text/plain": [
       "array([[ 0.        , -1.        ,  1.        ],\n",
       "       [ 1.        ,  0.        , -0.33333333],\n",
       "       [-1.        ,  1.        , -1.        ]])"
      ]
     },
     "execution_count": 20,
     "metadata": {},
     "output_type": "execute_result"
    }
   ],
   "source": [
    "scaler = MinMaxScaler(feature_range=(-1, 1))\n",
    "X_train_minmax = scaler.fit_transform(X_train)\n",
    "X_train_minmax"
   ]
  },
  {
   "cell_type": "code",
   "execution_count": 21,
   "metadata": {},
   "outputs": [
    {
     "data": {
      "text/plain": [
       "array([[ 0.        , -1.        ,  1.        ],\n",
       "       [ 1.        ,  0.        , -0.33333333],\n",
       "       [-1.        ,  1.        , -1.        ]])"
      ]
     },
     "execution_count": 21,
     "metadata": {},
     "output_type": "execute_result"
    }
   ],
   "source": [
    "\"\"\"\n",
    "上述操作等同于下面的手动计算\n",
    "\"\"\"\n",
    "scale_min, scale_max = -1, 1\n",
    "\n",
    "x_min = np.min(X_train, axis=0)\n",
    "x_max = np.max(X_train, axis=0)\n",
    "X_train_minmax_manual = (X_train - x_min) / (x_max - x_min)\n",
    "X_train_minmax_manual = X_train_minmax_manual * (scale_max - scale_min) + scale_min\n",
    "X_train_minmax_manual"
   ]
  },
  {
   "cell_type": "code",
   "execution_count": 22,
   "metadata": {},
   "outputs": [
    {
     "data": {
      "text/plain": [
       "array([[ 0.5, -1. ,  1. ],\n",
       "       [ 1. ,  0. ,  0. ],\n",
       "       [ 0. ,  1. , -0.5]])"
      ]
     },
     "execution_count": 22,
     "metadata": {},
     "output_type": "execute_result"
    }
   ],
   "source": [
    "from sklearn.preprocessing import MaxAbsScaler\n",
    "\n",
    "scaler = MaxAbsScaler()\n",
    "X_train_maxabs = scaler.fit_transform(X_train)\n",
    "X_train_maxabs"
   ]
  },
  {
   "cell_type": "markdown",
   "metadata": {},
   "source": [
    "### 6.1.3 最大值归一化\n",
    "* 直接将特征除以最大值"
   ]
  },
  {
   "cell_type": "code",
   "execution_count": 23,
   "metadata": {},
   "outputs": [
    {
     "data": {
      "text/plain": [
       "array([[ 0.5, -1. ,  1. ],\n",
       "       [ 1. ,  0. ,  0. ],\n",
       "       [ 0. ,  1. , -0.5]])"
      ]
     },
     "execution_count": 23,
     "metadata": {},
     "output_type": "execute_result"
    }
   ],
   "source": [
    "\"\"\"\n",
    "上述操作等同于下面的手动计算\n",
    "\"\"\"\n",
    "x_max = np.max(np.abs(X_train), axis=0)\n",
    "\n",
    "X_train_maxabs_manual = X_train / x_max\n",
    "X_train_maxabs_manual"
   ]
  }
 ],
 "metadata": {
  "kernelspec": {
   "display_name": "astro",
   "language": "python",
   "name": "python3"
  },
  "language_info": {
   "codemirror_mode": {
    "name": "ipython",
    "version": 3
   },
   "file_extension": ".py",
   "mimetype": "text/x-python",
   "name": "python",
   "nbconvert_exporter": "python",
   "pygments_lexer": "ipython3",
   "version": "3.12.3"
  }
 },
 "nbformat": 4,
 "nbformat_minor": 2
}
