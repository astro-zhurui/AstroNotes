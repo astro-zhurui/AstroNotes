{
 "cells": [
  {
   "cell_type": "markdown",
   "metadata": {},
   "source": [
    "**光谱集**\n",
    "\n",
    "- @Date: 2024-01-15\n",
    "- @Author: Rui Zhu\n",
    "- @Follow: https://specutils.readthedocs.io/en/stable/spectrum_collection.html\n",
    "- Note:\n",
    "    1. 光谱集功能使得对一组光谱的操作像操作一条光谱一样\n",
    "    2. 光谱集中的每条光谱都需具有相同的的数据维度"
   ]
  },
  {
   "cell_type": "code",
   "execution_count": 1,
   "metadata": {},
   "outputs": [],
   "source": [
    "import numpy as np\n",
    "import astropy.units as u\n",
    "from astropy.nddata import StdDevUncertainty"
   ]
  },
  {
   "cell_type": "markdown",
   "metadata": {},
   "source": [
    "---\n",
    "# 直接从数据中创建光谱集"
   ]
  },
  {
   "cell_type": "code",
   "execution_count": 2,
   "metadata": {},
   "outputs": [],
   "source": [
    "from specutils import SpectrumCollection\n",
    "from specutils.utils.wcs_utils import gwcs_from_array\n",
    "\n",
    "flux = u.Quantity(np.random.sample((5, 10)), unit='Jy')\n",
    "spectral_axis = u.Quantity(np.arange(50).reshape((5, 10)), unit='AA')\n",
    "\n",
    "wcs = np.array([gwcs_from_array(x) for x in spectral_axis])\n",
    "uncertainty = StdDevUncertainty(np.random.sample((5, 10)), unit='Jy')\n",
    "mask = np.ones((5, 10)).astype(bool)\n",
    "meta = [{'test': 5, 'info': [1, 2, 3]} for i in range(5)]\n",
    "\n",
    "spec_coll = SpectrumCollection(\n",
    "    flux=flux, spectral_axis=spectral_axis, wcs=wcs,\n",
    "    uncertainty=uncertainty, mask=mask, meta=meta)"
   ]
  },
  {
   "cell_type": "code",
   "execution_count": 8,
   "metadata": {},
   "outputs": [
    {
     "data": {
      "text/plain": [
       "(5,)"
      ]
     },
     "execution_count": 8,
     "metadata": {},
     "output_type": "execute_result"
    }
   ],
   "source": [
    "spec_coll.shape  # 查询光谱集中包含的光谱数量"
   ]
  },
  {
   "cell_type": "code",
   "execution_count": 11,
   "metadata": {},
   "outputs": [
    {
     "data": {
      "text/latex": [
       "$\\mathrm{Jy}$"
      ],
      "text/plain": [
       "Unit(\"Jy\")"
      ]
     },
     "execution_count": 11,
     "metadata": {},
     "output_type": "execute_result"
    }
   ],
   "source": [
    "spec_coll.flux.unit  # 查询光谱集中的光谱的通量单位"
   ]
  },
  {
   "cell_type": "code",
   "execution_count": 14,
   "metadata": {},
   "outputs": [
    {
     "data": {
      "text/plain": [
       "(5, 10)"
      ]
     },
     "execution_count": 14,
     "metadata": {},
     "output_type": "execute_result"
    }
   ],
   "source": [
    "spec_coll.spectral_axis.shape  # 查询光谱集中的光谱的谱轴形状"
   ]
  },
  {
   "cell_type": "code",
   "execution_count": 15,
   "metadata": {},
   "outputs": [
    {
     "data": {
      "text/latex": [
       "$\\mathrm{\\mathring{A}}$"
      ],
      "text/plain": [
       "Unit(\"Angstrom\")"
      ]
     },
     "execution_count": 15,
     "metadata": {},
     "output_type": "execute_result"
    }
   ],
   "source": [
    "spec_coll.spectral_axis.unit  # 查询光谱集中的光谱的谱轴单位"
   ]
  },
  {
   "cell_type": "markdown",
   "metadata": {},
   "source": [
    "---\n",
    "# 从多个Spectrum1D中创建光谱集"
   ]
  },
  {
   "cell_type": "code",
   "execution_count": 30,
   "metadata": {},
   "outputs": [],
   "source": [
    "from specutils import Spectrum1D, SpectrumCollection\n",
    "\n",
    "# Create a spectrum\n",
    "spec1 = Spectrum1D(spectral_axis=np.linspace(0, 50, 50) * u.AA,\n",
    "                  flux=np.random.randn(50) * u.Jy,\n",
    "                  uncertainty=StdDevUncertainty(np.random.sample(50), unit='Jy'), \n",
    "                  mask=np.ones(50).astype(bool))\n",
    "\n",
    "spec2 = Spectrum1D(spectral_axis=np.linspace(20, 60, 50) * u.AA,\n",
    "                    flux=np.random.randn(50) * u.Jy,\n",
    "                    uncertainty=StdDevUncertainty(np.random.sample(50), unit='Jy'), \n",
    "                    mask=np.ones(50).astype(bool))\n",
    "spec_coll = SpectrumCollection.from_spectra([spec1, spec2])"
   ]
  },
  {
   "cell_type": "code",
   "execution_count": null,
   "metadata": {},
   "outputs": [],
   "source": []
  }
 ],
 "metadata": {
  "kernelspec": {
   "display_name": "astro",
   "language": "python",
   "name": "python3"
  },
  "language_info": {
   "codemirror_mode": {
    "name": "ipython",
    "version": 3
   },
   "file_extension": ".py",
   "mimetype": "text/x-python",
   "name": "python",
   "nbconvert_exporter": "python",
   "pygments_lexer": "ipython3",
   "version": "3.12.1"
  }
 },
 "nbformat": 4,
 "nbformat_minor": 2
}
