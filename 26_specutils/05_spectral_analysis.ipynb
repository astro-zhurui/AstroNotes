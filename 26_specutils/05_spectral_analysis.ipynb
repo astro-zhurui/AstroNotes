{
 "cells": [
  {
   "cell_type": "markdown",
   "metadata": {},
   "source": [
    "**光谱分析**\n",
    "\n",
    "- @Date: 2024-01-15\n",
    "- @Author: Rui Zhu \n",
    "- @Follow: https://specutils.readthedocs.io/en/stable/analysis.html"
   ]
  },
  {
   "cell_type": "code",
   "execution_count": 1,
   "metadata": {},
   "outputs": [],
   "source": [
    "import numpy as np\n",
    "from astropy import units as u\n",
    "from astropy.nddata import StdDevUncertainty\n",
    "from astropy.modeling import models\n",
    "from specutils import Spectrum1D, SpectralRegion\n",
    "\n",
    "np.random.seed(2024)"
   ]
  },
  {
   "cell_type": "markdown",
   "metadata": {},
   "source": [
    "创建试验光谱"
   ]
  },
  {
   "cell_type": "code",
   "execution_count": 2,
   "metadata": {},
   "outputs": [
    {
     "data": {
      "text/plain": [
       "Text(0, 0.5, 'Jy')"
      ]
     },
     "execution_count": 2,
     "metadata": {},
     "output_type": "execute_result"
    },
    {
     "data": {
      "image/png": "[encoded data removed]",
      "text/plain": [
       "<Figure size 640x480 with 1 Axes>"
      ]
     },
     "metadata": {},
     "output_type": "display_data"
    }
   ],
   "source": [
    "spectral_axis = np.linspace(11., 1., 200) * u.GHz\n",
    "spectral_model = models.Gaussian1D(amplitude=5*(2*np.pi*0.8**2)**-0.5*u.Jy, mean=5*u.GHz, stddev=0.8*u.GHz)\n",
    "flux = spectral_model(spectral_axis)\n",
    "flux += np.random.normal(0., 0.05, spectral_axis.shape) * u.Jy\n",
    "uncertainty = StdDevUncertainty(0.2*np.ones(flux.shape)*u.Jy)\n",
    "\n",
    "noisy_gaussian = Spectrum1D(spectral_axis=spectral_axis, flux=flux, uncertainty=uncertainty)\n",
    "\n",
    "import matplotlib.pyplot as plt \n",
    "plt.step(noisy_gaussian.spectral_axis, noisy_gaussian.flux)\n",
    "plt.xlabel(noisy_gaussian.spectral_axis.unit)\n",
    "plt.ylabel(noisy_gaussian.flux.unit)"
   ]
  },
  {
   "cell_type": "markdown",
   "metadata": {},
   "source": [
    "---\n",
    "# SNR\n",
    "* 计算光谱的信噪比\n",
    "* 既可以计算整个光谱的信噪比，也可以计算局部光谱的信噪比"
   ]
  },
  {
   "cell_type": "markdown",
   "metadata": {},
   "source": [
    "## 基于uncertainty的SNR估计"
   ]
  },
  {
   "cell_type": "code",
   "execution_count": 3,
   "metadata": {},
   "outputs": [
    {
     "data": {
      "text/latex": [
       "$2.501801 \\; \\mathrm{}$"
      ],
      "text/plain": [
       "<Quantity 2.50180103>"
      ]
     },
     "execution_count": 3,
     "metadata": {},
     "output_type": "execute_result"
    }
   ],
   "source": [
    "from specutils.analysis import snr\n",
    "snr(noisy_gaussian)"
   ]
  },
  {
   "cell_type": "code",
   "execution_count": 4,
   "metadata": {},
   "outputs": [
    {
     "data": {
      "text/latex": [
       "$9.826123 \\; \\mathrm{}$"
      ],
      "text/plain": [
       "<Quantity 9.826123>"
      ]
     },
     "execution_count": 4,
     "metadata": {},
     "output_type": "execute_result"
    }
   ],
   "source": [
    "snr(noisy_gaussian, SpectralRegion(6*u.GHz, 4*u.GHz)) "
   ]
  },
  {
   "cell_type": "markdown",
   "metadata": {},
   "source": [
    "## 无需uncertainty的SNR估计"
   ]
  },
  {
   "cell_type": "code",
   "execution_count": 5,
   "metadata": {},
   "outputs": [
    {
     "data": {
      "text/latex": [
       "$0.96653353 \\; \\mathrm{}$"
      ],
      "text/plain": [
       "<Quantity 0.96653353>"
      ]
     },
     "execution_count": 5,
     "metadata": {},
     "output_type": "execute_result"
    }
   ],
   "source": [
    "from specutils.analysis import snr_derived\n",
    "snr_derived(noisy_gaussian) "
   ]
  },
  {
   "cell_type": "code",
   "execution_count": 6,
   "metadata": {},
   "outputs": [
    {
     "data": {
      "text/latex": [
       "$37.765114 \\; \\mathrm{}$"
      ],
      "text/plain": [
       "<Quantity 37.76511439>"
      ]
     },
     "execution_count": 6,
     "metadata": {},
     "output_type": "execute_result"
    }
   ],
   "source": [
    "snr_derived(noisy_gaussian, SpectralRegion(6*u.GHz, 4*u.GHz))"
   ]
  },
  {
   "cell_type": "markdown",
   "metadata": {},
   "source": [
    "---\n",
    "# 谱线flux与equivalent width估计\n",
    "* 使用光谱拟合估计线强是更彻底的方法\n",
    "* 而这种直接估计流量的方法更适合快速估计和光谱不好拟合的情况"
   ]
  },
  {
   "cell_type": "markdown",
   "metadata": {},
   "source": [
    "## 使用line_flux函数估计谱线强度\n",
    "* 注意: 必须提前扣除连续谱"
   ]
  },
  {
   "cell_type": "code",
   "execution_count": 11,
   "metadata": {},
   "outputs": [
    {
     "data": {
      "text/latex": [
       "$4.9605735 \\times 10^{-14} \\; \\mathrm{\\frac{erg}{s\\,cm^{2}}}$"
      ],
      "text/plain": [
       "<Quantity 4.96057352e-14 erg / (s cm2)>"
      ]
     },
     "execution_count": 11,
     "metadata": {},
     "output_type": "execute_result"
    }
   ],
   "source": [
    "from specutils.analysis import line_flux\n",
    "flux = line_flux(noisy_gaussian, SpectralRegion(3*u.GHz, 7*u.GHz))\n",
    "flux.to(u.erg * u.cm**-2 * u.s**-1)"
   ]
  },
  {
   "cell_type": "markdown",
   "metadata": {},
   "source": [
    "* 同时测量了不确定度"
   ]
  },
  {
   "cell_type": "code",
   "execution_count": 15,
   "metadata": {},
   "outputs": [
    {
     "data": {
      "text/latex": [
       "$1.4213202 \\times 10^{-15} \\; \\mathrm{\\frac{erg}{s\\,cm^{2}}}$"
      ],
      "text/plain": [
       "<Quantity 1.42132016e-15 erg / (s cm2)>"
      ]
     },
     "execution_count": 15,
     "metadata": {},
     "output_type": "execute_result"
    }
   ],
   "source": [
    "flux = line_flux(noisy_gaussian)\n",
    "flux.uncertainty.to(u.erg * u.cm**-2 * u.s**-1)"
   ]
  },
  {
   "cell_type": "code",
   "execution_count": 17,
   "metadata": {},
   "outputs": [
    {
     "data": {
      "text/plain": [
       "specutils.spectra.spectrum1d.Spectrum1D"
      ]
     },
     "execution_count": 17,
     "metadata": {},
     "output_type": "execute_result"
    }
   ],
   "source": [
    "type(noisy_gaussian)"
   ]
  },
  {
   "cell_type": "markdown",
   "metadata": {},
   "source": [
    "## 使用equivalent_width函数估计等值宽度\n",
    "* 必须包含一个连续谱"
   ]
  },
  {
   "cell_type": "code",
   "execution_count": 18,
   "metadata": {},
   "outputs": [
    {
     "data": {
      "text/latex": [
       "$-5.0287458 \\; \\mathrm{GHz}$"
      ],
      "text/plain": [
       "<Quantity -5.02874578 GHz>"
      ]
     },
     "execution_count": 18,
     "metadata": {},
     "output_type": "execute_result"
    }
   ],
   "source": [
    "from specutils.analysis import equivalent_width\n",
    "noisy_gaussian_with_continuum = noisy_gaussian + 1*u.Jy  # add a continuums\n",
    "equivalent_width(noisy_gaussian_with_continuum)"
   ]
  },
  {
   "cell_type": "code",
   "execution_count": 19,
   "metadata": {},
   "outputs": [
    {
     "data": {
      "text/latex": [
       "$-4.9605735 \\; \\mathrm{GHz}$"
      ],
      "text/plain": [
       "<Quantity -4.96057352 GHz>"
      ]
     },
     "execution_count": 19,
     "metadata": {},
     "output_type": "execute_result"
    }
   ],
   "source": [
    "equivalent_width(noisy_gaussian_with_continuum, regions=SpectralRegion(7*u.GHz, 3*u.GHz))  "
   ]
  },
  {
   "cell_type": "markdown",
   "metadata": {},
   "source": [
    "---\n",
    "# 线心\n",
    "* 需扣除连续谱"
   ]
  },
  {
   "cell_type": "code",
   "execution_count": 23,
   "metadata": {},
   "outputs": [
    {
     "data": {
      "text/latex": [
       "$4.9933813 \\; \\mathrm{GHz}$"
      ],
      "text/plain": [
       "<Quantity 4.9933813 GHz>"
      ]
     },
     "execution_count": 23,
     "metadata": {},
     "output_type": "execute_result"
    }
   ],
   "source": [
    "from specutils.analysis import centroid\n",
    "lc = centroid(noisy_gaussian, SpectralRegion(7*u.GHz, 3*u.GHz))\n",
    "lc"
   ]
  },
  {
   "cell_type": "code",
   "execution_count": 25,
   "metadata": {},
   "outputs": [
    {
     "data": {
      "text/latex": [
       "$0.021028233 \\; \\mathrm{GHz}$"
      ],
      "text/plain": [
       "<Quantity 0.02102823 GHz>"
      ]
     },
     "execution_count": 25,
     "metadata": {},
     "output_type": "execute_result"
    }
   ],
   "source": [
    "lc.uncertainty  # uncertainty in the line centroid"
   ]
  },
  {
   "cell_type": "code",
   "execution_count": 26,
   "metadata": {},
   "outputs": [
    {
     "data": {
      "text/plain": [
       "'stddev'"
      ]
     },
     "execution_count": 26,
     "metadata": {},
     "output_type": "execute_result"
    }
   ],
   "source": [
    "lc.uncertainty_type"
   ]
  },
  {
   "cell_type": "markdown",
   "metadata": {},
   "source": [
    "---\n",
    "# Moment"
   ]
  },
  {
   "cell_type": "code",
   "execution_count": 27,
   "metadata": {},
   "outputs": [
    {
     "data": {
      "text/latex": [
       "$98.715413 \\; \\mathrm{Jy}$"
      ],
      "text/plain": [
       "<Quantity 98.71541307 Jy>"
      ]
     },
     "execution_count": 27,
     "metadata": {},
     "output_type": "execute_result"
    }
   ],
   "source": [
    "from specutils.analysis import moment\n",
    "moment(noisy_gaussian, SpectralRegion(7*u.GHz, 3*u.GHz)) "
   ]
  },
  {
   "cell_type": "code",
   "execution_count": 28,
   "metadata": {},
   "outputs": [
    {
     "data": {
      "text/latex": [
       "$4.9933813 \\; \\mathrm{GHz}$"
      ],
      "text/plain": [
       "<Quantity 4.9933813 GHz>"
      ]
     },
     "execution_count": 28,
     "metadata": {},
     "output_type": "execute_result"
    }
   ],
   "source": [
    "moment(noisy_gaussian, SpectralRegion(7*u.GHz, 3*u.GHz), order=1) "
   ]
  },
  {
   "cell_type": "code",
   "execution_count": 29,
   "metadata": {},
   "outputs": [
    {
     "data": {
      "text/latex": [
       "$0.59440565 \\; \\mathrm{GHz^{2}}$"
      ],
      "text/plain": [
       "<Quantity 0.59440565 GHz2>"
      ]
     },
     "execution_count": 29,
     "metadata": {},
     "output_type": "execute_result"
    }
   ],
   "source": [
    "moment(noisy_gaussian, SpectralRegion(7*u.GHz, 3*u.GHz), order=2)"
   ]
  },
  {
   "cell_type": "markdown",
   "metadata": {},
   "source": [
    "---\n",
    "# [Line Widths](https://specutils.readthedocs.io/en/stable/analysis.html#line-widths)"
   ]
  },
  {
   "cell_type": "code",
   "execution_count": null,
   "metadata": {},
   "outputs": [],
   "source": []
  }
 ],
 "metadata": {
  "kernelspec": {
   "display_name": "astro",
   "language": "python",
   "name": "python3"
  },
  "language_info": {
   "codemirror_mode": {
    "name": "ipython",
    "version": 3
   },
   "file_extension": ".py",
   "mimetype": "text/x-python",
   "name": "python",
   "nbconvert_exporter": "python",
   "pygments_lexer": "ipython3",
   "version": "3.12.1"
  }
 },
 "nbformat": 4,
 "nbformat_minor": 2
}
