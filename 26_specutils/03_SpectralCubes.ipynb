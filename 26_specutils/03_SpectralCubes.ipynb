{
 "cells": [
  {
   "cell_type": "markdown",
   "metadata": {},
   "source": [
    "**光谱立方**\n",
    "\n",
    "- @Date: TBD\n",
    "- @Author: Rui Zhu \n",
    "- @Follow: https://specutils.readthedocs.io/en/stable/spectral_cube.html"
   ]
  },
  {
   "cell_type": "code",
   "execution_count": null,
   "metadata": {},
   "outputs": [],
   "source": []
  }
 ],
 "metadata": {
  "language_info": {
   "name": "python"
  }
 },
 "nbformat": 4,
 "nbformat_minor": 2
}
