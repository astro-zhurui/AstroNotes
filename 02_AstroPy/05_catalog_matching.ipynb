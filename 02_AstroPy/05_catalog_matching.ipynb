{
 "cells": [
  {
   "cell_type": "markdown",
   "metadata": {},
   "source": [
    "_2021.12.01_  \n",
    "[参考网址](https://docs.astropy.org/en/stable/coordinates/matchsep.html)  \n",
    "* 3D matching见文档"
   ]
  },
  {
   "cell_type": "code",
   "execution_count": 23,
   "metadata": {},
   "outputs": [],
   "source": [
    "import astropy.units as u\n",
    "from astropy.coordinates import SkyCoord\n",
    "\n",
    "import pandas as pd\n",
    "import numpy as np\n",
    "\n",
    "# ^ 禁用同一单元格内的输出覆盖\n",
    "from IPython.core.interactiveshell import InteractiveShell\n",
    "InteractiveShell.ast_node_interactivity = \"all\""
   ]
  },
  {
   "cell_type": "markdown",
   "metadata": {},
   "source": [
    "# 两点之间的距离  "
   ]
  },
  {
   "cell_type": "markdown",
   "metadata": {},
   "source": [
    "## angular separations"
   ]
  },
  {
   "cell_type": "code",
   "execution_count": 7,
   "metadata": {},
   "outputs": [
    {
     "data": {
      "text/latex": [
       "$20^\\circ44{}^\\prime46.01211376{}^{\\prime\\prime}$"
      ],
      "text/plain": [
       "<Angle 20.74611448 deg>"
      ]
     },
     "execution_count": 7,
     "metadata": {},
     "output_type": "execute_result"
    }
   ],
   "source": [
    "c1 = SkyCoord('5h23m34.5s', '-69d45m22s', frame='icrs')\n",
    "c2 = SkyCoord('0h52m44.8s', '-72d49m43s', frame='fk5')  # * 注意到两个源所用的坐标系统不一致，计算时会自动转换\n",
    "sep = c1.separation(c2)\n",
    "sep"
   ]
  },
  {
   "cell_type": "markdown",
   "metadata": {},
   "source": [
    "**返回`astropy`的`Angle`数据类型**"
   ]
  },
  {
   "cell_type": "code",
   "execution_count": 8,
   "metadata": {},
   "outputs": [
    {
     "data": {
      "text/plain": [
       "astropy.coordinates.angles.Angle"
      ]
     },
     "execution_count": 8,
     "metadata": {},
     "output_type": "execute_result"
    }
   ],
   "source": [
    "type(sep)"
   ]
  },
  {
   "cell_type": "markdown",
   "metadata": {},
   "source": [
    "将结果进行单位转换"
   ]
  },
  {
   "cell_type": "code",
   "execution_count": 10,
   "metadata": {},
   "outputs": [
    {
     "data": {
      "text/plain": [
       "1.3830742984029318"
      ]
     },
     "execution_count": 10,
     "metadata": {},
     "output_type": "execute_result"
    },
    {
     "data": {
      "text/plain": [
       "1244.7668685626384"
      ]
     },
     "execution_count": 10,
     "metadata": {},
     "output_type": "execute_result"
    },
    {
     "data": {
      "text/plain": [
       "74686.0121137583"
      ]
     },
     "execution_count": 10,
     "metadata": {},
     "output_type": "execute_result"
    }
   ],
   "source": [
    "# 将结果进行单位转换\n",
    "sep.hour  # * 用小时表示\n",
    "sep.arcminute  # * 用角分表示\n",
    "sep.arcsecond  # * 用角秒表示"
   ]
  },
  {
   "cell_type": "markdown",
   "metadata": {},
   "source": [
    "## distance"
   ]
  },
  {
   "cell_type": "code",
   "execution_count": 11,
   "metadata": {},
   "outputs": [
    {
     "data": {
      "text/latex": [
       "$28.743988 \\; \\mathrm{kpc}$"
      ],
      "text/plain": [
       "<Distance 28.74398816 kpc>"
      ]
     },
     "execution_count": 11,
     "metadata": {},
     "output_type": "execute_result"
    }
   ],
   "source": [
    "c1 = SkyCoord('5h23m34.5s', '-69d45m22s', distance=70*u.kpc, frame='icrs')\n",
    "c2 = SkyCoord('0h52m44.8s', '-72d49m43s', distance=80*u.kpc, frame='icrs')\n",
    "sep = c1.separation_3d(c2)\n",
    "sep "
   ]
  },
  {
   "cell_type": "markdown",
   "metadata": {},
   "source": [
    "# Matching Catalogs"
   ]
  },
  {
   "cell_type": "markdown",
   "metadata": {},
   "source": [
    "## 创建样例数据"
   ]
  },
  {
   "cell_type": "code",
   "execution_count": 28,
   "metadata": {},
   "outputs": [
    {
     "data": {
      "text/html": [
       "<div>\n",
       "<style scoped>\n",
       "    .dataframe tbody tr th:only-of-type {\n",
       "        vertical-align: middle;\n",
       "    }\n",
       "\n",
       "    .dataframe tbody tr th {\n",
       "        vertical-align: top;\n",
       "    }\n",
       "\n",
       "    .dataframe thead th {\n",
       "        text-align: right;\n",
       "    }\n",
       "</style>\n",
       "<table border=\"1\" class=\"dataframe\">\n",
       "  <thead>\n",
       "    <tr style=\"text-align: right;\">\n",
       "      <th></th>\n",
       "      <th>ra</th>\n",
       "      <th>dec</th>\n",
       "    </tr>\n",
       "  </thead>\n",
       "  <tbody>\n",
       "    <tr>\n",
       "      <th>0</th>\n",
       "      <td>215.222382</td>\n",
       "      <td>53.004185</td>\n",
       "    </tr>\n",
       "    <tr>\n",
       "      <th>1</th>\n",
       "      <td>215.303787</td>\n",
       "      <td>53.053444</td>\n",
       "    </tr>\n",
       "    <tr>\n",
       "      <th>2</th>\n",
       "      <td>215.277084</td>\n",
       "      <td>53.035458</td>\n",
       "    </tr>\n",
       "    <tr>\n",
       "      <th>3</th>\n",
       "      <td>215.278687</td>\n",
       "      <td>53.035927</td>\n",
       "    </tr>\n",
       "    <tr>\n",
       "      <th>4</th>\n",
       "      <td>215.303207</td>\n",
       "      <td>53.052956</td>\n",
       "    </tr>\n",
       "  </tbody>\n",
       "</table>\n",
       "</div>"
      ],
      "text/plain": [
       "           ra        dec\n",
       "0  215.222382  53.004185\n",
       "1  215.303787  53.053444\n",
       "2  215.277084  53.035458\n",
       "3  215.278687  53.035927\n",
       "4  215.303207  53.052956"
      ]
     },
     "execution_count": 28,
     "metadata": {},
     "output_type": "execute_result"
    },
    {
     "data": {
      "text/html": [
       "<div>\n",
       "<style scoped>\n",
       "    .dataframe tbody tr th:only-of-type {\n",
       "        vertical-align: middle;\n",
       "    }\n",
       "\n",
       "    .dataframe tbody tr th {\n",
       "        vertical-align: top;\n",
       "    }\n",
       "\n",
       "    .dataframe thead th {\n",
       "        text-align: right;\n",
       "    }\n",
       "</style>\n",
       "<table border=\"1\" class=\"dataframe\">\n",
       "  <thead>\n",
       "    <tr style=\"text-align: right;\">\n",
       "      <th></th>\n",
       "      <th>ra</th>\n",
       "      <th>dec</th>\n",
       "    </tr>\n",
       "  </thead>\n",
       "  <tbody>\n",
       "    <tr>\n",
       "      <th>0</th>\n",
       "      <td>215.278687</td>\n",
       "      <td>53.035927</td>\n",
       "    </tr>\n",
       "    <tr>\n",
       "      <th>1</th>\n",
       "      <td>215.303207</td>\n",
       "      <td>53.052956</td>\n",
       "    </tr>\n",
       "    <tr>\n",
       "      <th>2</th>\n",
       "      <td>215.266113</td>\n",
       "      <td>53.027126</td>\n",
       "    </tr>\n",
       "    <tr>\n",
       "      <th>3</th>\n",
       "      <td>215.229126</td>\n",
       "      <td>53.003120</td>\n",
       "    </tr>\n",
       "    <tr>\n",
       "      <th>4</th>\n",
       "      <td>215.240631</td>\n",
       "      <td>53.009960</td>\n",
       "    </tr>\n",
       "    <tr>\n",
       "      <th>5</th>\n",
       "      <td>215.278076</td>\n",
       "      <td>53.036762</td>\n",
       "    </tr>\n",
       "    <tr>\n",
       "      <th>6</th>\n",
       "      <td>215.241531</td>\n",
       "      <td>53.010746</td>\n",
       "    </tr>\n",
       "    <tr>\n",
       "      <th>7</th>\n",
       "      <td>215.264175</td>\n",
       "      <td>53.027222</td>\n",
       "    </tr>\n",
       "    <tr>\n",
       "      <th>8</th>\n",
       "      <td>215.299088</td>\n",
       "      <td>53.051025</td>\n",
       "    </tr>\n",
       "    <tr>\n",
       "      <th>9</th>\n",
       "      <td>215.303101</td>\n",
       "      <td>53.054295</td>\n",
       "    </tr>\n",
       "  </tbody>\n",
       "</table>\n",
       "</div>"
      ],
      "text/plain": [
       "           ra        dec\n",
       "0  215.278687  53.035927\n",
       "1  215.303207  53.052956\n",
       "2  215.266113  53.027126\n",
       "3  215.229126  53.003120\n",
       "4  215.240631  53.009960\n",
       "5  215.278076  53.036762\n",
       "6  215.241531  53.010746\n",
       "7  215.264175  53.027222\n",
       "8  215.299088  53.051025\n",
       "9  215.303101  53.054295"
      ]
     },
     "execution_count": 28,
     "metadata": {},
     "output_type": "execute_result"
    }
   ],
   "source": [
    "# 创建样例\n",
    "# * 待交叉的表\n",
    "ra = [215.22238159,\n",
    " 215.30378723,\n",
    " 215.27708435,\n",
    " 215.27868652,\n",
    " 215.3032074]\n",
    "\n",
    "dec = [53.00418472,\n",
    " 53.05344391,\n",
    " 53.03545761,\n",
    " 53.03592682,\n",
    " 53.05295563]\n",
    "df = pd.DataFrame({'ra': ra, 'dec': dec})\n",
    "df\n",
    "\n",
    "# * 被交叉的表\n",
    "ra = [215.27868652,\n",
    " 215.3032074,\n",
    " 215.26611328,\n",
    " 215.22912598,\n",
    " 215.2406311,\n",
    " 215.27807617,\n",
    " 215.24153137,\n",
    " 215.26417542,\n",
    " 215.29908752,\n",
    " 215.30310059]\n",
    "\n",
    "dec = [53.03592682,\n",
    " 53.05295563,\n",
    " 53.02712631,\n",
    " 53.00312042,\n",
    " 53.00996017,\n",
    " 53.03676224,\n",
    " 53.010746,\n",
    " 53.02722168,\n",
    " 53.05102539,\n",
    " 53.05429459]\n",
    "\n",
    "df_catalog = pd.DataFrame({'ra': ra, 'dec': dec})\n",
    "df_catalog"
   ]
  },
  {
   "cell_type": "markdown",
   "metadata": {},
   "source": [
    "## 交叉方式：找最近"
   ]
  },
  {
   "cell_type": "code",
   "execution_count": 31,
   "metadata": {},
   "outputs": [
    {
     "data": {
      "text/plain": [
       "array([3, 1, 0, 0, 1])"
      ]
     },
     "execution_count": 31,
     "metadata": {},
     "output_type": "execute_result"
    },
    {
     "data": {
      "text/latex": [
       "[$0^\\circ00{}^\\prime15.10474167{}^{\\prime\\prime}$\n",
       " $0^\\circ00{}^\\prime02.15965122{}^{\\prime\\prime}$\n",
       " $0^\\circ00{}^\\prime03.85775242{}^{\\prime\\prime}$\n",
       " $0^\\circ00{}^\\prime00{}^{\\prime\\prime}$\n",
       " $0^\\circ00{}^\\prime00{}^{\\prime\\prime}$]"
      ],
      "text/plain": [
       "<Angle [0.00419576, 0.0005999 , 0.0010716 , 0.        , 0.        ] deg>"
      ]
     },
     "execution_count": 31,
     "metadata": {},
     "output_type": "execute_result"
    },
    {
     "data": {
      "text/latex": [
       "$[7.3229854 \\times 10^{-5},~1.0470285 \\times 10^{-5},~1.8702912 \\times 10^{-5},~0,~0] \\; \\mathrm{}$"
      ],
      "text/plain": [
       "<Quantity [7.32298541e-05, 1.04702846e-05, 1.87029115e-05, 0.00000000e+00,\n",
       "           0.00000000e+00]>"
      ]
     },
     "execution_count": 31,
     "metadata": {},
     "output_type": "execute_result"
    }
   ],
   "source": [
    "ra1 = df['ra']\n",
    "dec1 = df['dec']\n",
    "ra2 = df_catalog['ra']\n",
    "dec2 = df_catalog['dec']\n",
    "c = SkyCoord(ra=ra1*u.degree, dec=dec1*u.degree)\n",
    "catalog = SkyCoord(ra=ra2*u.degree, dec=dec2*u.degree)\n",
    "idx, d2d, d3d = c.match_to_catalog_sky(catalog)\n",
    "idx # * 在被交叉表中找待交叉表中最近的源，在被交叉表中的索引\n",
    "d2d # * 交叉后的两个源之间的角距离\n",
    "d3d # * 交叉后的两个源之间的3D距离，assumes that all sources are at a distance of 1 (dimensionless)"
   ]
  },
  {
   "cell_type": "markdown",
   "metadata": {},
   "source": [
    "## 结果转换  \n",
    "？没看懂"
   ]
  },
  {
   "cell_type": "code",
   "execution_count": 44,
   "metadata": {},
   "outputs": [
    {
     "data": {
      "text/plain": [
       "True"
      ]
     },
     "execution_count": 44,
     "metadata": {},
     "output_type": "execute_result"
    },
    {
     "data": {
      "text/latex": [
       "[$0^\\circ00{}^\\prime14.61089472{}^{\\prime\\prime}$\n",
       " $-0^\\circ00{}^\\prime01.25468014{}^{\\prime\\prime}$\n",
       " $0^\\circ00{}^\\prime03.46826684{}^{\\prime\\prime}$\n",
       " $0^\\circ00{}^\\prime00{}^{\\prime\\prime}$\n",
       " $0^\\circ00{}^\\prime00{}^{\\prime\\prime}$]"
      ],
      "text/plain": [
       "<Angle [ 4.05858187e-03, -3.48522261e-04,  9.63407455e-04,  0.00000000e+00,\n",
       "         3.18055468e-15] deg>"
      ]
     },
     "execution_count": 44,
     "metadata": {},
     "output_type": "execute_result"
    },
    {
     "data": {
      "text/latex": [
       "[$-0^\\circ00{}^\\prime03.83079319{}^{\\prime\\prime}$\n",
       " $-0^\\circ00{}^\\prime01.75780293{}^{\\prime\\prime}$\n",
       " $0^\\circ00{}^\\prime01.68919475{}^{\\prime\\prime}$\n",
       " $0^\\circ00{}^\\prime00{}^{\\prime\\prime}$\n",
       " $0^\\circ00{}^\\prime00{}^{\\prime\\prime}$]"
      ],
      "text/plain": [
       "<Angle [-1.06410922e-03, -4.88278591e-04,  4.69220763e-04,  0.00000000e+00,\n",
       "         3.18055468e-15] deg>"
      ]
     },
     "execution_count": 44,
     "metadata": {},
     "output_type": "execute_result"
    }
   ],
   "source": [
    "matches = catalog[idx]\n",
    "(matches.separation(c) == d2d).all()  # * 校验匹配后两源之间的角距离\n",
    "dra, ddec = c.spherical_offsets_to(matches)\n",
    "dra\n",
    "ddec"
   ]
  },
  {
   "cell_type": "code",
   "execution_count": 46,
   "metadata": {},
   "outputs": [
    {
     "data": {
      "text/plain": [
       "array([3, 1, 0, 0, 1])"
      ]
     },
     "execution_count": 46,
     "metadata": {},
     "output_type": "execute_result"
    },
    {
     "data": {
      "text/latex": [
       "[$0^\\circ00{}^\\prime15.10474167{}^{\\prime\\prime}$\n",
       " $0^\\circ00{}^\\prime02.15965122{}^{\\prime\\prime}$\n",
       " $0^\\circ00{}^\\prime03.85775242{}^{\\prime\\prime}$\n",
       " $0^\\circ00{}^\\prime00{}^{\\prime\\prime}$\n",
       " $0^\\circ00{}^\\prime00{}^{\\prime\\prime}$]"
      ],
      "text/plain": [
       "<Angle [0.00419576, 0.0005999 , 0.0010716 , 0.        , 0.        ] deg>"
      ]
     },
     "execution_count": 46,
     "metadata": {},
     "output_type": "execute_result"
    },
    {
     "data": {
      "text/latex": [
       "$[7.3229854 \\times 10^{-5},~1.0470285 \\times 10^{-5},~1.8702912 \\times 10^{-5},~0,~0] \\; \\mathrm{}$"
      ],
      "text/plain": [
       "<Quantity [7.32298541e-05, 1.04702846e-05, 1.87029115e-05, 0.00000000e+00,\n",
       "           0.00000000e+00]>"
      ]
     },
     "execution_count": 46,
     "metadata": {},
     "output_type": "execute_result"
    }
   ],
   "source": [
    "from astropy.coordinates import match_coordinates_sky\n",
    "idx, d2d, d3d = match_coordinates_sky(c, catalog)\n",
    "idx\n",
    "d2d\n",
    "d3d\n",
    "idx, d2d, d3d = match_coordinates_sky(c.frame, catalog.frame)"
   ]
  },
  {
   "cell_type": "markdown",
   "metadata": {},
   "source": [
    "# 交叉方式：设置阈值"
   ]
  },
  {
   "cell_type": "code",
   "execution_count": 65,
   "metadata": {},
   "outputs": [
    {
     "data": {
      "text/plain": [
       "array([215.3032074 , 215.27868652, 215.3032074 ])"
      ]
     },
     "execution_count": 65,
     "metadata": {},
     "output_type": "execute_result"
    },
    {
     "data": {
      "text/plain": [
       "array([53.05295563, 53.03592682, 53.05295563])"
      ]
     },
     "execution_count": 65,
     "metadata": {},
     "output_type": "execute_result"
    }
   ],
   "source": [
    "max_sep = 3.0 * u.arcsec\n",
    "idx, d2d, d3d = c.match_to_catalog_sky(catalog)\n",
    "sep_constraint = d2d < max_sep\n",
    "c_matches = c[sep_constraint]\n",
    "catalog_matches = catalog[idx[sep_constraint]]\n",
    "catalog_matches.ra.value\n",
    "catalog_matches.dec.value"
   ]
  },
  {
   "cell_type": "code",
   "execution_count": null,
   "metadata": {},
   "outputs": [],
   "source": []
  }
 ],
 "metadata": {
  "interpreter": {
   "hash": "40d3a090f54c6569ab1632332b64b2c03c39dcf918b08424e98f38b5ae0af88f"
  },
  "kernelspec": {
   "display_name": "Python 3.8.8 64-bit ('base': conda)",
   "language": "python",
   "name": "python3"
  },
  "language_info": {
   "codemirror_mode": {
    "name": "ipython",
    "version": 3
   },
   "file_extension": ".py",
   "mimetype": "text/x-python",
   "name": "python",
   "nbconvert_exporter": "python",
   "pygments_lexer": "ipython3",
   "version": "3.8.8"
  },
  "orig_nbformat": 4
 },
 "nbformat": 4,
 "nbformat_minor": 2
}
