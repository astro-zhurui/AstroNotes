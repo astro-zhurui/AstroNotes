{
 "cells": [
  {
   "cell_type": "markdown",
   "metadata": {},
   "source": [
    "**Catalog Matching**  \n",
    "@Author: Ray  \n",
    "@Time: 2022.07.11  \n",
    "@Cite: [官方文档](https://docs.astropy.org/en/stable/coordinates/matchsep.html) "
   ]
  },
  {
   "cell_type": "code",
   "execution_count": 135,
   "metadata": {},
   "outputs": [],
   "source": [
    "import astropy.units as u\n",
    "from astropy.coordinates import SkyCoord\n",
    "from astropy.coordinates import match_coordinates_sky\n",
    "\n",
    "import pandas as pd\n",
    "import numpy as np\n",
    "\n",
    "# ^ 禁用同一单元格内的输出覆盖\n",
    "from IPython.core.interactiveshell import InteractiveShell\n",
    "InteractiveShell.ast_node_interactivity = \"all\""
   ]
  },
  {
   "cell_type": "markdown",
   "metadata": {},
   "source": [
    "# 两点之间的距离  "
   ]
  },
  {
   "cell_type": "markdown",
   "metadata": {},
   "source": [
    "角距离"
   ]
  },
  {
   "cell_type": "code",
   "execution_count": 136,
   "metadata": {},
   "outputs": [
    {
     "data": {
      "text/latex": [
       "$20^\\circ44{}^\\prime46.01211376{}^{\\prime\\prime}$"
      ],
      "text/plain": [
       "<Angle 20.74611448 deg>"
      ]
     },
     "execution_count": 136,
     "metadata": {},
     "output_type": "execute_result"
    }
   ],
   "source": [
    "c1 = SkyCoord('5h23m34.5s', '-69d45m22s', frame='icrs')\n",
    "c2 = SkyCoord('0h52m44.8s', '-72d49m43s', frame='fk5')  \n",
    "# 注意到两个源所用的坐标系统不一致，计算时会自动转换\n",
    "sep = c1.separation(c2)\n",
    "sep"
   ]
  },
  {
   "cell_type": "code",
   "execution_count": 137,
   "metadata": {},
   "outputs": [
    {
     "data": {
      "text/plain": [
       "1.383074298402932"
      ]
     },
     "execution_count": 137,
     "metadata": {},
     "output_type": "execute_result"
    },
    {
     "data": {
      "text/plain": [
       "1244.7668685626386"
      ]
     },
     "execution_count": 137,
     "metadata": {},
     "output_type": "execute_result"
    },
    {
     "data": {
      "text/plain": [
       "74686.01211375832"
      ]
     },
     "execution_count": 137,
     "metadata": {},
     "output_type": "execute_result"
    }
   ],
   "source": [
    "# 将结果进行单位转换\n",
    "sep.hour  # * 用小时表示\n",
    "sep.arcminute  # * 用角分表示\n",
    "sep.arcsecond  # * 用角秒表示"
   ]
  },
  {
   "cell_type": "markdown",
   "metadata": {},
   "source": [
    "线距离"
   ]
  },
  {
   "cell_type": "code",
   "execution_count": 138,
   "metadata": {},
   "outputs": [
    {
     "data": {
      "text/latex": [
       "$28.743988 \\; \\mathrm{kpc}$"
      ],
      "text/plain": [
       "<Distance 28.74398816 kpc>"
      ]
     },
     "execution_count": 138,
     "metadata": {},
     "output_type": "execute_result"
    }
   ],
   "source": [
    "c1 = SkyCoord('5h23m34.5s', '-69d45m22s', distance=70*u.kpc, frame='icrs')\n",
    "c2 = SkyCoord('0h52m44.8s', '-72d49m43s', distance=80*u.kpc, frame='icrs')\n",
    "sep = c1.separation_3d(c2)\n",
    "sep "
   ]
  },
  {
   "cell_type": "markdown",
   "metadata": {},
   "source": [
    "# Matching Catalogs"
   ]
  },
  {
   "cell_type": "markdown",
   "metadata": {},
   "source": [
    "## 创建样例数据"
   ]
  },
  {
   "cell_type": "code",
   "execution_count": 139,
   "metadata": {},
   "outputs": [
    {
     "name": "stdout",
     "output_type": "stream",
     "text": [
      "==================== df_left ====================\n"
     ]
    },
    {
     "data": {
      "text/html": [
       "<div>\n",
       "<style scoped>\n",
       "    .dataframe tbody tr th:only-of-type {\n",
       "        vertical-align: middle;\n",
       "    }\n",
       "\n",
       "    .dataframe tbody tr th {\n",
       "        vertical-align: top;\n",
       "    }\n",
       "\n",
       "    .dataframe thead th {\n",
       "        text-align: right;\n",
       "    }\n",
       "</style>\n",
       "<table border=\"1\" class=\"dataframe\">\n",
       "  <thead>\n",
       "    <tr style=\"text-align: right;\">\n",
       "      <th></th>\n",
       "      <th>ra</th>\n",
       "      <th>dec</th>\n",
       "    </tr>\n",
       "  </thead>\n",
       "  <tbody>\n",
       "    <tr>\n",
       "      <th>0</th>\n",
       "      <td>215.222382</td>\n",
       "      <td>53.004185</td>\n",
       "    </tr>\n",
       "    <tr>\n",
       "      <th>1</th>\n",
       "      <td>215.303787</td>\n",
       "      <td>53.053444</td>\n",
       "    </tr>\n",
       "    <tr>\n",
       "      <th>2</th>\n",
       "      <td>215.277084</td>\n",
       "      <td>53.035458</td>\n",
       "    </tr>\n",
       "    <tr>\n",
       "      <th>3</th>\n",
       "      <td>215.278687</td>\n",
       "      <td>53.035927</td>\n",
       "    </tr>\n",
       "    <tr>\n",
       "      <th>4</th>\n",
       "      <td>215.303207</td>\n",
       "      <td>53.052956</td>\n",
       "    </tr>\n",
       "  </tbody>\n",
       "</table>\n",
       "</div>"
      ],
      "text/plain": [
       "           ra        dec\n",
       "0  215.222382  53.004185\n",
       "1  215.303787  53.053444\n",
       "2  215.277084  53.035458\n",
       "3  215.278687  53.035927\n",
       "4  215.303207  53.052956"
      ]
     },
     "execution_count": 139,
     "metadata": {},
     "output_type": "execute_result"
    },
    {
     "name": "stdout",
     "output_type": "stream",
     "text": [
      "==================== df_right ====================\n"
     ]
    },
    {
     "data": {
      "text/html": [
       "<div>\n",
       "<style scoped>\n",
       "    .dataframe tbody tr th:only-of-type {\n",
       "        vertical-align: middle;\n",
       "    }\n",
       "\n",
       "    .dataframe tbody tr th {\n",
       "        vertical-align: top;\n",
       "    }\n",
       "\n",
       "    .dataframe thead th {\n",
       "        text-align: right;\n",
       "    }\n",
       "</style>\n",
       "<table border=\"1\" class=\"dataframe\">\n",
       "  <thead>\n",
       "    <tr style=\"text-align: right;\">\n",
       "      <th></th>\n",
       "      <th>ra</th>\n",
       "      <th>dec</th>\n",
       "    </tr>\n",
       "  </thead>\n",
       "  <tbody>\n",
       "    <tr>\n",
       "      <th>0</th>\n",
       "      <td>215.278687</td>\n",
       "      <td>53.035927</td>\n",
       "    </tr>\n",
       "    <tr>\n",
       "      <th>1</th>\n",
       "      <td>215.303207</td>\n",
       "      <td>53.052956</td>\n",
       "    </tr>\n",
       "    <tr>\n",
       "      <th>2</th>\n",
       "      <td>215.266113</td>\n",
       "      <td>53.027126</td>\n",
       "    </tr>\n",
       "    <tr>\n",
       "      <th>3</th>\n",
       "      <td>215.229126</td>\n",
       "      <td>53.003120</td>\n",
       "    </tr>\n",
       "    <tr>\n",
       "      <th>4</th>\n",
       "      <td>215.240631</td>\n",
       "      <td>53.009960</td>\n",
       "    </tr>\n",
       "    <tr>\n",
       "      <th>5</th>\n",
       "      <td>215.278076</td>\n",
       "      <td>53.036762</td>\n",
       "    </tr>\n",
       "    <tr>\n",
       "      <th>6</th>\n",
       "      <td>215.241531</td>\n",
       "      <td>53.010746</td>\n",
       "    </tr>\n",
       "    <tr>\n",
       "      <th>7</th>\n",
       "      <td>215.264175</td>\n",
       "      <td>53.027222</td>\n",
       "    </tr>\n",
       "    <tr>\n",
       "      <th>8</th>\n",
       "      <td>215.299088</td>\n",
       "      <td>53.051025</td>\n",
       "    </tr>\n",
       "    <tr>\n",
       "      <th>9</th>\n",
       "      <td>215.303101</td>\n",
       "      <td>53.054295</td>\n",
       "    </tr>\n",
       "  </tbody>\n",
       "</table>\n",
       "</div>"
      ],
      "text/plain": [
       "           ra        dec\n",
       "0  215.278687  53.035927\n",
       "1  215.303207  53.052956\n",
       "2  215.266113  53.027126\n",
       "3  215.229126  53.003120\n",
       "4  215.240631  53.009960\n",
       "5  215.278076  53.036762\n",
       "6  215.241531  53.010746\n",
       "7  215.264175  53.027222\n",
       "8  215.299088  53.051025\n",
       "9  215.303101  53.054295"
      ]
     },
     "execution_count": 139,
     "metadata": {},
     "output_type": "execute_result"
    }
   ],
   "source": [
    "# 创建样例\n",
    "# * df_left\n",
    "ra = [215.22238159,\n",
    " 215.30378723,\n",
    " 215.27708435,\n",
    " 215.27868652,\n",
    " 215.3032074]\n",
    "\n",
    "dec = [53.00418472,\n",
    " 53.05344391,\n",
    " 53.03545761,\n",
    " 53.03592682,\n",
    " 53.05295563]\n",
    "df_left = pd.DataFrame({'ra': ra, 'dec': dec})\n",
    "print(\"=\"*20 + ' df_left ' + \"=\"*20)\n",
    "df_left\n",
    "\n",
    "# * df_right\n",
    "ra = [215.27868652,\n",
    " 215.3032074,\n",
    " 215.26611328,\n",
    " 215.22912598,\n",
    " 215.2406311,\n",
    " 215.27807617,\n",
    " 215.24153137,\n",
    " 215.26417542,\n",
    " 215.29908752,\n",
    " 215.30310059]\n",
    "\n",
    "dec = [53.03592682,\n",
    " 53.05295563,\n",
    " 53.02712631,\n",
    " 53.00312042,\n",
    " 53.00996017,\n",
    " 53.03676224,\n",
    " 53.010746,\n",
    " 53.02722168,\n",
    " 53.05102539,\n",
    " 53.05429459]\n",
    "\n",
    "df_right = pd.DataFrame({'ra': ra, 'dec': dec})\n",
    "print(\"=\"*20 + ' df_right ' + \"=\"*20)\n",
    "df_right"
   ]
  },
  {
   "cell_type": "markdown",
   "metadata": {},
   "source": [
    "## Matching"
   ]
  },
  {
   "cell_type": "code",
   "execution_count": 140,
   "metadata": {},
   "outputs": [],
   "source": [
    "# 传入两个catalog的坐标列\n",
    "ra1 = df_left['ra']\n",
    "dec1 = df_left['dec']\n",
    "ra2 = df_right['ra']\n",
    "dec2 = df_right['dec']\n",
    "c1 = SkyCoord(ra=ra1*u.degree, dec=dec1*u.degree)\n",
    "c2 = SkyCoord(ra=ra2*u.degree, dec=dec2*u.degree)"
   ]
  },
  {
   "cell_type": "markdown",
   "metadata": {},
   "source": [
    "matching的方法1: `c1.match_to_catalog_sky(c2)`"
   ]
  },
  {
   "cell_type": "code",
   "execution_count": 141,
   "metadata": {},
   "outputs": [
    {
     "data": {
      "text/plain": [
       "array([3, 1, 0, 0, 1])"
      ]
     },
     "execution_count": 141,
     "metadata": {},
     "output_type": "execute_result"
    },
    {
     "data": {
      "text/latex": [
       "[$0^\\circ00{}^\\prime15.10474167{}^{\\prime\\prime}$\n",
       " $0^\\circ00{}^\\prime02.15965122{}^{\\prime\\prime}$\n",
       " $0^\\circ00{}^\\prime03.85775242{}^{\\prime\\prime}$\n",
       " $0^\\circ00{}^\\prime00{}^{\\prime\\prime}$\n",
       " $0^\\circ00{}^\\prime00{}^{\\prime\\prime}$]"
      ],
      "text/plain": [
       "<Angle [0.00419576, 0.0005999 , 0.0010716 , 0.        , 0.        ] deg>"
      ]
     },
     "execution_count": 141,
     "metadata": {},
     "output_type": "execute_result"
    },
    {
     "data": {
      "text/latex": [
       "$[7.3229854 \\times 10^{-5},~1.0470285 \\times 10^{-5},~1.8702912 \\times 10^{-5},~0,~0] \\; \\mathrm{}$"
      ],
      "text/plain": [
       "<Quantity [7.32298541e-05, 1.04702846e-05, 1.87029115e-05, 0.00000000e+00,\n",
       "           0.00000000e+00]>"
      ]
     },
     "execution_count": 141,
     "metadata": {},
     "output_type": "execute_result"
    }
   ],
   "source": [
    "# 遍历c1中的每个源，给出c2中距离该源最近源在c2中的索引，角距离，和距离\n",
    "idx, d2d, d3d = c1.match_to_catalog_sky(c2)\n",
    "# ! 注意顺序，在c2中找c1中的源的最近邻，结果的长度跟c1一致\n",
    "idx\n",
    "d2d\n",
    "d3d"
   ]
  },
  {
   "cell_type": "markdown",
   "metadata": {},
   "source": [
    "matching的方法2: `match_coordinates_sky(c1, c2)`  "
   ]
  },
  {
   "cell_type": "code",
   "execution_count": 142,
   "metadata": {},
   "outputs": [
    {
     "data": {
      "text/plain": [
       "array([3, 1, 0, 0, 1])"
      ]
     },
     "execution_count": 142,
     "metadata": {},
     "output_type": "execute_result"
    },
    {
     "data": {
      "text/latex": [
       "[$0^\\circ00{}^\\prime15.10474167{}^{\\prime\\prime}$\n",
       " $0^\\circ00{}^\\prime02.15965122{}^{\\prime\\prime}$\n",
       " $0^\\circ00{}^\\prime03.85775242{}^{\\prime\\prime}$\n",
       " $0^\\circ00{}^\\prime00{}^{\\prime\\prime}$\n",
       " $0^\\circ00{}^\\prime00{}^{\\prime\\prime}$]"
      ],
      "text/plain": [
       "<Angle [0.00419576, 0.0005999 , 0.0010716 , 0.        , 0.        ] deg>"
      ]
     },
     "execution_count": 142,
     "metadata": {},
     "output_type": "execute_result"
    },
    {
     "data": {
      "text/latex": [
       "$[7.3229854 \\times 10^{-5},~1.0470285 \\times 10^{-5},~1.8702912 \\times 10^{-5},~0,~0] \\; \\mathrm{}$"
      ],
      "text/plain": [
       "<Quantity [7.32298541e-05, 1.04702846e-05, 1.87029115e-05, 0.00000000e+00,\n",
       "           0.00000000e+00]>"
      ]
     },
     "execution_count": 142,
     "metadata": {},
     "output_type": "execute_result"
    }
   ],
   "source": [
    "idx, d2d, d3d = match_coordinates_sky(c1, c2)\n",
    "# ! 注意顺序，在c2中找c1中的源的最近邻，结果的长度跟c1一致\n",
    "idx\n",
    "d2d\n",
    "d3d"
   ]
  },
  {
   "cell_type": "markdown",
   "metadata": {},
   "source": [
    "设置阈值&输出结果"
   ]
  },
  {
   "cell_type": "code",
   "execution_count": 143,
   "metadata": {},
   "outputs": [
    {
     "data": {
      "text/plain": [
       "array([False, False, False,  True,  True])"
      ]
     },
     "execution_count": 143,
     "metadata": {},
     "output_type": "execute_result"
    }
   ],
   "source": [
    "max_sep = 1.0*u.arcsec\n",
    "sep_constraint = d2d < max_sep\n",
    "sep_constraint # 返回的是与c1长度相同的bool"
   ]
  },
  {
   "cell_type": "code",
   "execution_count": 144,
   "metadata": {},
   "outputs": [
    {
     "data": {
      "text/html": [
       "<div>\n",
       "<style scoped>\n",
       "    .dataframe tbody tr th:only-of-type {\n",
       "        vertical-align: middle;\n",
       "    }\n",
       "\n",
       "    .dataframe tbody tr th {\n",
       "        vertical-align: top;\n",
       "    }\n",
       "\n",
       "    .dataframe thead th {\n",
       "        text-align: right;\n",
       "    }\n",
       "</style>\n",
       "<table border=\"1\" class=\"dataframe\">\n",
       "  <thead>\n",
       "    <tr style=\"text-align: right;\">\n",
       "      <th></th>\n",
       "      <th>ra</th>\n",
       "      <th>dec</th>\n",
       "    </tr>\n",
       "  </thead>\n",
       "  <tbody>\n",
       "    <tr>\n",
       "      <th>0</th>\n",
       "      <td>215.278687</td>\n",
       "      <td>53.035927</td>\n",
       "    </tr>\n",
       "    <tr>\n",
       "      <th>1</th>\n",
       "      <td>215.303207</td>\n",
       "      <td>53.052956</td>\n",
       "    </tr>\n",
       "    <tr>\n",
       "      <th>2</th>\n",
       "      <td>215.266113</td>\n",
       "      <td>53.027126</td>\n",
       "    </tr>\n",
       "    <tr>\n",
       "      <th>3</th>\n",
       "      <td>215.229126</td>\n",
       "      <td>53.003120</td>\n",
       "    </tr>\n",
       "    <tr>\n",
       "      <th>4</th>\n",
       "      <td>215.240631</td>\n",
       "      <td>53.009960</td>\n",
       "    </tr>\n",
       "    <tr>\n",
       "      <th>5</th>\n",
       "      <td>215.278076</td>\n",
       "      <td>53.036762</td>\n",
       "    </tr>\n",
       "    <tr>\n",
       "      <th>6</th>\n",
       "      <td>215.241531</td>\n",
       "      <td>53.010746</td>\n",
       "    </tr>\n",
       "    <tr>\n",
       "      <th>7</th>\n",
       "      <td>215.264175</td>\n",
       "      <td>53.027222</td>\n",
       "    </tr>\n",
       "    <tr>\n",
       "      <th>8</th>\n",
       "      <td>215.299088</td>\n",
       "      <td>53.051025</td>\n",
       "    </tr>\n",
       "    <tr>\n",
       "      <th>9</th>\n",
       "      <td>215.303101</td>\n",
       "      <td>53.054295</td>\n",
       "    </tr>\n",
       "  </tbody>\n",
       "</table>\n",
       "</div>"
      ],
      "text/plain": [
       "           ra        dec\n",
       "0  215.278687  53.035927\n",
       "1  215.303207  53.052956\n",
       "2  215.266113  53.027126\n",
       "3  215.229126  53.003120\n",
       "4  215.240631  53.009960\n",
       "5  215.278076  53.036762\n",
       "6  215.241531  53.010746\n",
       "7  215.264175  53.027222\n",
       "8  215.299088  53.051025\n",
       "9  215.303101  53.054295"
      ]
     },
     "execution_count": 144,
     "metadata": {},
     "output_type": "execute_result"
    },
    {
     "data": {
      "text/plain": [
       "array([3, 1, 0, 0, 1])"
      ]
     },
     "execution_count": 144,
     "metadata": {},
     "output_type": "execute_result"
    },
    {
     "data": {
      "text/plain": [
       "array([0, 1])"
      ]
     },
     "execution_count": 144,
     "metadata": {},
     "output_type": "execute_result"
    }
   ],
   "source": [
    "df_right\n",
    "idx\n",
    "idx[sep_constraint]"
   ]
  },
  {
   "cell_type": "code",
   "execution_count": 145,
   "metadata": {},
   "outputs": [
    {
     "data": {
      "text/html": [
       "<div>\n",
       "<style scoped>\n",
       "    .dataframe tbody tr th:only-of-type {\n",
       "        vertical-align: middle;\n",
       "    }\n",
       "\n",
       "    .dataframe tbody tr th {\n",
       "        vertical-align: top;\n",
       "    }\n",
       "\n",
       "    .dataframe thead th {\n",
       "        text-align: right;\n",
       "    }\n",
       "</style>\n",
       "<table border=\"1\" class=\"dataframe\">\n",
       "  <thead>\n",
       "    <tr style=\"text-align: right;\">\n",
       "      <th></th>\n",
       "      <th>ra</th>\n",
       "      <th>dec</th>\n",
       "    </tr>\n",
       "  </thead>\n",
       "  <tbody>\n",
       "    <tr>\n",
       "      <th>3</th>\n",
       "      <td>215.278687</td>\n",
       "      <td>53.035927</td>\n",
       "    </tr>\n",
       "    <tr>\n",
       "      <th>4</th>\n",
       "      <td>215.303207</td>\n",
       "      <td>53.052956</td>\n",
       "    </tr>\n",
       "  </tbody>\n",
       "</table>\n",
       "</div>"
      ],
      "text/plain": [
       "           ra        dec\n",
       "3  215.278687  53.035927\n",
       "4  215.303207  53.052956"
      ]
     },
     "execution_count": 145,
     "metadata": {},
     "output_type": "execute_result"
    },
    {
     "data": {
      "text/html": [
       "<div>\n",
       "<style scoped>\n",
       "    .dataframe tbody tr th:only-of-type {\n",
       "        vertical-align: middle;\n",
       "    }\n",
       "\n",
       "    .dataframe tbody tr th {\n",
       "        vertical-align: top;\n",
       "    }\n",
       "\n",
       "    .dataframe thead th {\n",
       "        text-align: right;\n",
       "    }\n",
       "</style>\n",
       "<table border=\"1\" class=\"dataframe\">\n",
       "  <thead>\n",
       "    <tr style=\"text-align: right;\">\n",
       "      <th></th>\n",
       "      <th>ra</th>\n",
       "      <th>dec</th>\n",
       "    </tr>\n",
       "  </thead>\n",
       "  <tbody>\n",
       "    <tr>\n",
       "      <th>0</th>\n",
       "      <td>215.278687</td>\n",
       "      <td>53.035927</td>\n",
       "    </tr>\n",
       "    <tr>\n",
       "      <th>1</th>\n",
       "      <td>215.303207</td>\n",
       "      <td>53.052956</td>\n",
       "    </tr>\n",
       "  </tbody>\n",
       "</table>\n",
       "</div>"
      ],
      "text/plain": [
       "           ra        dec\n",
       "0  215.278687  53.035927\n",
       "1  215.303207  53.052956"
      ]
     },
     "execution_count": 145,
     "metadata": {},
     "output_type": "execute_result"
    }
   ],
   "source": [
    "# df_left中匹配到的源\n",
    "df_left_matches = df_left[sep_constraint]\n",
    "df_left_matches\n",
    "\n",
    "# df_right中匹配到的源\n",
    "df_right_matches = df_right.iloc[idx[sep_constraint]]\n",
    "df_right_matches"
   ]
  },
  {
   "cell_type": "markdown",
   "metadata": {},
   "source": [
    "# Matching Module  \n",
    "第一个cell是探索版  \n",
    "第二个cell是实用版"
   ]
  },
  {
   "cell_type": "code",
   "execution_count": 146,
   "metadata": {},
   "outputs": [
    {
     "data": {
      "text/html": [
       "<div>\n",
       "<style scoped>\n",
       "    .dataframe tbody tr th:only-of-type {\n",
       "        vertical-align: middle;\n",
       "    }\n",
       "\n",
       "    .dataframe tbody tr th {\n",
       "        vertical-align: top;\n",
       "    }\n",
       "\n",
       "    .dataframe thead th {\n",
       "        text-align: right;\n",
       "    }\n",
       "</style>\n",
       "<table border=\"1\" class=\"dataframe\">\n",
       "  <thead>\n",
       "    <tr style=\"text-align: right;\">\n",
       "      <th></th>\n",
       "      <th>ra</th>\n",
       "      <th>dec</th>\n",
       "      <th>idx</th>\n",
       "      <th>sep_constraint</th>\n",
       "      <th>d2d</th>\n",
       "    </tr>\n",
       "  </thead>\n",
       "  <tbody>\n",
       "    <tr>\n",
       "      <th>0</th>\n",
       "      <td>215.222382</td>\n",
       "      <td>53.004185</td>\n",
       "      <td>3</td>\n",
       "      <td>False</td>\n",
       "      <td>15.104742</td>\n",
       "    </tr>\n",
       "    <tr>\n",
       "      <th>1</th>\n",
       "      <td>215.303787</td>\n",
       "      <td>53.053444</td>\n",
       "      <td>1</td>\n",
       "      <td>False</td>\n",
       "      <td>2.159651</td>\n",
       "    </tr>\n",
       "    <tr>\n",
       "      <th>2</th>\n",
       "      <td>215.277084</td>\n",
       "      <td>53.035458</td>\n",
       "      <td>0</td>\n",
       "      <td>False</td>\n",
       "      <td>3.857752</td>\n",
       "    </tr>\n",
       "    <tr>\n",
       "      <th>3</th>\n",
       "      <td>215.278687</td>\n",
       "      <td>53.035927</td>\n",
       "      <td>0</td>\n",
       "      <td>True</td>\n",
       "      <td>0.000000</td>\n",
       "    </tr>\n",
       "    <tr>\n",
       "      <th>4</th>\n",
       "      <td>215.303207</td>\n",
       "      <td>53.052956</td>\n",
       "      <td>1</td>\n",
       "      <td>True</td>\n",
       "      <td>0.000000</td>\n",
       "    </tr>\n",
       "  </tbody>\n",
       "</table>\n",
       "</div>"
      ],
      "text/plain": [
       "           ra        dec  idx  sep_constraint        d2d\n",
       "0  215.222382  53.004185    3           False  15.104742\n",
       "1  215.303787  53.053444    1           False   2.159651\n",
       "2  215.277084  53.035458    0           False   3.857752\n",
       "3  215.278687  53.035927    0            True   0.000000\n",
       "4  215.303207  53.052956    1            True   0.000000"
      ]
     },
     "execution_count": 146,
     "metadata": {},
     "output_type": "execute_result"
    },
    {
     "data": {
      "text/html": [
       "<div>\n",
       "<style scoped>\n",
       "    .dataframe tbody tr th:only-of-type {\n",
       "        vertical-align: middle;\n",
       "    }\n",
       "\n",
       "    .dataframe tbody tr th {\n",
       "        vertical-align: top;\n",
       "    }\n",
       "\n",
       "    .dataframe thead th {\n",
       "        text-align: right;\n",
       "    }\n",
       "</style>\n",
       "<table border=\"1\" class=\"dataframe\">\n",
       "  <thead>\n",
       "    <tr style=\"text-align: right;\">\n",
       "      <th></th>\n",
       "      <th>ra</th>\n",
       "      <th>dec</th>\n",
       "      <th>id</th>\n",
       "    </tr>\n",
       "  </thead>\n",
       "  <tbody>\n",
       "    <tr>\n",
       "      <th>0</th>\n",
       "      <td>215.278687</td>\n",
       "      <td>53.035927</td>\n",
       "      <td>0</td>\n",
       "    </tr>\n",
       "    <tr>\n",
       "      <th>1</th>\n",
       "      <td>215.303207</td>\n",
       "      <td>53.052956</td>\n",
       "      <td>1</td>\n",
       "    </tr>\n",
       "    <tr>\n",
       "      <th>2</th>\n",
       "      <td>215.266113</td>\n",
       "      <td>53.027126</td>\n",
       "      <td>2</td>\n",
       "    </tr>\n",
       "    <tr>\n",
       "      <th>3</th>\n",
       "      <td>215.229126</td>\n",
       "      <td>53.003120</td>\n",
       "      <td>3</td>\n",
       "    </tr>\n",
       "    <tr>\n",
       "      <th>4</th>\n",
       "      <td>215.240631</td>\n",
       "      <td>53.009960</td>\n",
       "      <td>4</td>\n",
       "    </tr>\n",
       "    <tr>\n",
       "      <th>5</th>\n",
       "      <td>215.278076</td>\n",
       "      <td>53.036762</td>\n",
       "      <td>5</td>\n",
       "    </tr>\n",
       "    <tr>\n",
       "      <th>6</th>\n",
       "      <td>215.241531</td>\n",
       "      <td>53.010746</td>\n",
       "      <td>6</td>\n",
       "    </tr>\n",
       "    <tr>\n",
       "      <th>7</th>\n",
       "      <td>215.264175</td>\n",
       "      <td>53.027222</td>\n",
       "      <td>7</td>\n",
       "    </tr>\n",
       "    <tr>\n",
       "      <th>8</th>\n",
       "      <td>215.299088</td>\n",
       "      <td>53.051025</td>\n",
       "      <td>8</td>\n",
       "    </tr>\n",
       "    <tr>\n",
       "      <th>9</th>\n",
       "      <td>215.303101</td>\n",
       "      <td>53.054295</td>\n",
       "      <td>9</td>\n",
       "    </tr>\n",
       "  </tbody>\n",
       "</table>\n",
       "</div>"
      ],
      "text/plain": [
       "           ra        dec  id\n",
       "0  215.278687  53.035927   0\n",
       "1  215.303207  53.052956   1\n",
       "2  215.266113  53.027126   2\n",
       "3  215.229126  53.003120   3\n",
       "4  215.240631  53.009960   4\n",
       "5  215.278076  53.036762   5\n",
       "6  215.241531  53.010746   6\n",
       "7  215.264175  53.027222   7\n",
       "8  215.299088  53.051025   8\n",
       "9  215.303101  53.054295   9"
      ]
     },
     "execution_count": 146,
     "metadata": {},
     "output_type": "execute_result"
    },
    {
     "data": {
      "text/html": [
       "<div>\n",
       "<style scoped>\n",
       "    .dataframe tbody tr th:only-of-type {\n",
       "        vertical-align: middle;\n",
       "    }\n",
       "\n",
       "    .dataframe tbody tr th {\n",
       "        vertical-align: top;\n",
       "    }\n",
       "\n",
       "    .dataframe thead th {\n",
       "        text-align: right;\n",
       "    }\n",
       "</style>\n",
       "<table border=\"1\" class=\"dataframe\">\n",
       "  <thead>\n",
       "    <tr style=\"text-align: right;\">\n",
       "      <th></th>\n",
       "      <th>ra_x</th>\n",
       "      <th>dec_x</th>\n",
       "      <th>idx</th>\n",
       "      <th>sep_constraint</th>\n",
       "      <th>d2d</th>\n",
       "      <th>ra_y</th>\n",
       "      <th>dec_y</th>\n",
       "      <th>id</th>\n",
       "    </tr>\n",
       "  </thead>\n",
       "  <tbody>\n",
       "    <tr>\n",
       "      <th>0</th>\n",
       "      <td>215.222382</td>\n",
       "      <td>53.004185</td>\n",
       "      <td>3</td>\n",
       "      <td>False</td>\n",
       "      <td>15.104742</td>\n",
       "      <td>215.229126</td>\n",
       "      <td>53.003120</td>\n",
       "      <td>3</td>\n",
       "    </tr>\n",
       "    <tr>\n",
       "      <th>1</th>\n",
       "      <td>215.303787</td>\n",
       "      <td>53.053444</td>\n",
       "      <td>1</td>\n",
       "      <td>False</td>\n",
       "      <td>2.159651</td>\n",
       "      <td>215.303207</td>\n",
       "      <td>53.052956</td>\n",
       "      <td>1</td>\n",
       "    </tr>\n",
       "    <tr>\n",
       "      <th>2</th>\n",
       "      <td>215.303207</td>\n",
       "      <td>53.052956</td>\n",
       "      <td>1</td>\n",
       "      <td>True</td>\n",
       "      <td>0.000000</td>\n",
       "      <td>215.303207</td>\n",
       "      <td>53.052956</td>\n",
       "      <td>1</td>\n",
       "    </tr>\n",
       "    <tr>\n",
       "      <th>3</th>\n",
       "      <td>215.277084</td>\n",
       "      <td>53.035458</td>\n",
       "      <td>0</td>\n",
       "      <td>False</td>\n",
       "      <td>3.857752</td>\n",
       "      <td>215.278687</td>\n",
       "      <td>53.035927</td>\n",
       "      <td>0</td>\n",
       "    </tr>\n",
       "    <tr>\n",
       "      <th>4</th>\n",
       "      <td>215.278687</td>\n",
       "      <td>53.035927</td>\n",
       "      <td>0</td>\n",
       "      <td>True</td>\n",
       "      <td>0.000000</td>\n",
       "      <td>215.278687</td>\n",
       "      <td>53.035927</td>\n",
       "      <td>0</td>\n",
       "    </tr>\n",
       "  </tbody>\n",
       "</table>\n",
       "</div>"
      ],
      "text/plain": [
       "         ra_x      dec_x  idx  sep_constraint        d2d        ra_y  \\\n",
       "0  215.222382  53.004185    3           False  15.104742  215.229126   \n",
       "1  215.303787  53.053444    1           False   2.159651  215.303207   \n",
       "2  215.303207  53.052956    1            True   0.000000  215.303207   \n",
       "3  215.277084  53.035458    0           False   3.857752  215.278687   \n",
       "4  215.278687  53.035927    0            True   0.000000  215.278687   \n",
       "\n",
       "       dec_y  id  \n",
       "0  53.003120   3  \n",
       "1  53.052956   1  \n",
       "2  53.052956   1  \n",
       "3  53.035927   0  \n",
       "4  53.035927   0  "
      ]
     },
     "execution_count": 146,
     "metadata": {},
     "output_type": "execute_result"
    },
    {
     "data": {
      "text/html": [
       "<div>\n",
       "<style scoped>\n",
       "    .dataframe tbody tr th:only-of-type {\n",
       "        vertical-align: middle;\n",
       "    }\n",
       "\n",
       "    .dataframe tbody tr th {\n",
       "        vertical-align: top;\n",
       "    }\n",
       "\n",
       "    .dataframe thead th {\n",
       "        text-align: right;\n",
       "    }\n",
       "</style>\n",
       "<table border=\"1\" class=\"dataframe\">\n",
       "  <thead>\n",
       "    <tr style=\"text-align: right;\">\n",
       "      <th></th>\n",
       "      <th>ra_x</th>\n",
       "      <th>dec_x</th>\n",
       "      <th>ra_y</th>\n",
       "      <th>dec_y</th>\n",
       "    </tr>\n",
       "  </thead>\n",
       "  <tbody>\n",
       "    <tr>\n",
       "      <th>2</th>\n",
       "      <td>215.303207</td>\n",
       "      <td>53.052956</td>\n",
       "      <td>215.303207</td>\n",
       "      <td>53.052956</td>\n",
       "    </tr>\n",
       "    <tr>\n",
       "      <th>4</th>\n",
       "      <td>215.278687</td>\n",
       "      <td>53.035927</td>\n",
       "      <td>215.278687</td>\n",
       "      <td>53.035927</td>\n",
       "    </tr>\n",
       "  </tbody>\n",
       "</table>\n",
       "</div>"
      ],
      "text/plain": [
       "         ra_x      dec_x        ra_y      dec_y\n",
       "2  215.303207  53.052956  215.303207  53.052956\n",
       "4  215.278687  53.035927  215.278687  53.035927"
      ]
     },
     "execution_count": 146,
     "metadata": {},
     "output_type": "execute_result"
    }
   ],
   "source": [
    "# 设置match的阈值\n",
    "max_sep = 1 * u.arcsec \n",
    "\n",
    "df1 = df_left.copy()\n",
    "df2 = df_right.copy()\n",
    "\n",
    "# 输入坐标列\n",
    "ra1 = df1['ra']\n",
    "dec1 = df1['dec']\n",
    "\n",
    "ra2 = df2['ra']\n",
    "dec2 = df2['dec']\n",
    "\n",
    "# matching\n",
    "c1 = SkyCoord(ra=ra1*u.degree, dec=dec1*u.degree)\n",
    "c2 = SkyCoord(ra=ra2*u.degree, dec=dec2*u.degree)\n",
    "idx, d2d, d3d = c1.match_to_catalog_sky(c2)\n",
    "sep_constraint = d2d < max_sep\n",
    "\n",
    "# 向c1添加match信息\n",
    "df1['idx'] = idx\n",
    "df1['sep_constraint'] = sep_constraint\n",
    "df1['d2d'] = d2d.to('arcsec').value  # 单位: 角秒\n",
    "df1\n",
    "\n",
    "# 设置c2的索引列为id，用于merge\n",
    "df2['id'] = df2.index\n",
    "df2\n",
    "\n",
    "# 合并两表\n",
    "df_merge = pd.merge(left=df1, right=df2, left_on=\"idx\", right_on=\"id\")\n",
    "df_merge\n",
    "\n",
    "# 筛出符合sep_constraint的源\n",
    "df_out = df_merge.query(\"sep_constraint==True\")\n",
    "df_out = df_out.drop(columns=['idx', 'id', 'd2d', 'sep_constraint'])\n",
    "df_out"
   ]
  },
  {
   "cell_type": "code",
   "execution_count": 148,
   "metadata": {},
   "outputs": [
    {
     "data": {
      "text/html": [
       "<div>\n",
       "<style scoped>\n",
       "    .dataframe tbody tr th:only-of-type {\n",
       "        vertical-align: middle;\n",
       "    }\n",
       "\n",
       "    .dataframe tbody tr th {\n",
       "        vertical-align: top;\n",
       "    }\n",
       "\n",
       "    .dataframe thead th {\n",
       "        text-align: right;\n",
       "    }\n",
       "</style>\n",
       "<table border=\"1\" class=\"dataframe\">\n",
       "  <thead>\n",
       "    <tr style=\"text-align: right;\">\n",
       "      <th></th>\n",
       "      <th>ra_x</th>\n",
       "      <th>dec_x</th>\n",
       "      <th>ra_y</th>\n",
       "      <th>dec_y</th>\n",
       "    </tr>\n",
       "  </thead>\n",
       "  <tbody>\n",
       "    <tr>\n",
       "      <th>0</th>\n",
       "      <td>215.303207</td>\n",
       "      <td>53.052956</td>\n",
       "      <td>215.303207</td>\n",
       "      <td>53.052956</td>\n",
       "    </tr>\n",
       "    <tr>\n",
       "      <th>1</th>\n",
       "      <td>215.278687</td>\n",
       "      <td>53.035927</td>\n",
       "      <td>215.278687</td>\n",
       "      <td>53.035927</td>\n",
       "    </tr>\n",
       "  </tbody>\n",
       "</table>\n",
       "</div>"
      ],
      "text/plain": [
       "         ra_x      dec_x        ra_y      dec_y\n",
       "0  215.303207  53.052956  215.303207  53.052956\n",
       "1  215.278687  53.035927  215.278687  53.035927"
      ]
     },
     "execution_count": 148,
     "metadata": {},
     "output_type": "execute_result"
    }
   ],
   "source": [
    "#\n",
    "# ^ ********** matching module **********\n",
    "\n",
    "# 设置match的阈值\n",
    "max_sep = 1 * u.arcsec \n",
    "\n",
    "df1 = df_left.copy()\n",
    "df2 = df_right.copy()\n",
    "\n",
    "# 输入坐标列（不加list容易出错）\n",
    "ra1 = list(df1['ra'])\n",
    "dec1 = list(df1['dec'])\n",
    "\n",
    "ra2 = list(df2['ra'])\n",
    "dec2 = list(df2['dec'])\n",
    "\n",
    "# matching\n",
    "c1 = SkyCoord(ra=ra1*u.degree, dec=dec1*u.degree)\n",
    "c2 = SkyCoord(ra=ra2*u.degree, dec=dec2*u.degree)\n",
    "idx, d2d, d3d = c1.match_to_catalog_sky(c2)\n",
    "sep_constraint = d2d < max_sep\n",
    "\n",
    "# 向c1添加match信息\n",
    "df1['idx'] = idx\n",
    "df1['sep_constraint'] = sep_constraint\n",
    "df1['d2d'] = d2d.to('arcsec').value  # 单位: 角秒\n",
    "\n",
    "# 设置c2的索引列为id，用于merge\n",
    "df2['id'] = df2.index\n",
    "\n",
    "# 合并两表\n",
    "df_merge = pd.merge(left=df1, right=df2, left_on=\"idx\", right_on=\"id\")\n",
    "\n",
    "# 筛出符合sep_constraint的源\n",
    "df_out = df_merge.query(\"sep_constraint==True\")\n",
    "df_out = df_out.drop(columns=['idx', 'id', 'd2d', 'sep_constraint'])\n",
    "df_out.reset_index(inplace=True, drop=True)\n",
    "df_out"
   ]
  },
  {
   "cell_type": "code",
   "execution_count": null,
   "metadata": {},
   "outputs": [],
   "source": []
  }
 ],
 "metadata": {
  "kernelspec": {
   "display_name": "Python 3.10.5 ('base')",
   "language": "python",
   "name": "python3"
  },
  "language_info": {
   "codemirror_mode": {
    "name": "ipython",
    "version": 3
   },
   "file_extension": ".py",
   "mimetype": "text/x-python",
   "name": "python",
   "nbconvert_exporter": "python",
   "pygments_lexer": "ipython3",
   "version": "3.10.5"
  },
  "orig_nbformat": 4,
  "vscode": {
   "interpreter": {
    "hash": "5eea53247e810f78670b3efb49d4ee0c411bcdc860cd9ca10a92989621294fb6"
   }
  }
 },
 "nbformat": 4,
 "nbformat_minor": 2
}
