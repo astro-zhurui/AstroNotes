{
 "cells": [
  {
   "cell_type": "code",
   "execution_count": 1,
   "source": [
    "from astropy.table import QTable, Table, Column, vstack, hstack, dstack\n",
    "from astropy import units as u\n",
    "import numpy as np"
   ],
   "outputs": [],
   "metadata": {
    "execution": {
     "iopub.execute_input": "2021-08-05T15:22:42.626557Z",
     "iopub.status.busy": "2021-08-05T15:22:42.625905Z",
     "iopub.status.idle": "2021-08-05T15:22:45.216236Z",
     "shell.execute_reply": "2021-08-05T15:22:45.215074Z",
     "shell.execute_reply.started": "2021-08-05T15:22:42.626439Z"
    },
    "tags": []
   }
  },
  {
   "cell_type": "markdown",
   "source": [
    "---"
   ],
   "metadata": {}
  },
  {
   "cell_type": "markdown",
   "source": [
    "# 基础内容"
   ],
   "metadata": {
    "tags": []
   }
  },
  {
   "cell_type": "markdown",
   "source": [
    "## 创建table"
   ],
   "metadata": {
    "tags": []
   }
  },
  {
   "cell_type": "code",
   "execution_count": 3,
   "source": [
    "a = np.array([123, 234, 345], dtype=np.int32)\n",
    "b = [2.0, 5.0, 3.1]\n",
    "c = ['x', 'y', 'z']\n",
    "d = [10, 20, 30] * u.m / u.s\n",
    "\n",
    "t = QTable([a, b, c, d],\n",
    "          names=('a', 'b', 'c', 'velocity'),\n",
    "          meta={'说明': '这里可以写表格的说明文字'})"
   ],
   "outputs": [],
   "metadata": {}
  },
  {
   "cell_type": "code",
   "execution_count": 12,
   "source": [
    "# 创建空table\n",
    "t = QTable()\n",
    "print(t)\n",
    "t['a'] = [1, 2, 3]\n",
    "print(t)\n",
    "(((123)))"
   ],
   "outputs": [
    {
     "output_type": "stream",
     "name": "stdout",
     "text": [
      "<No columns>\n",
      " a \n",
      "---\n",
      "  1\n",
      "  2\n",
      "  3\n"
     ]
    }
   ],
   "metadata": {
    "execution": {
     "iopub.execute_input": "2021-08-05T16:34:16.753320Z",
     "iopub.status.busy": "2021-08-05T16:34:16.752735Z",
     "iopub.status.idle": "2021-08-05T16:34:16.772705Z",
     "shell.execute_reply": "2021-08-05T16:34:16.771571Z",
     "shell.execute_reply.started": "2021-08-05T16:34:16.753272Z"
    },
    "tags": []
   }
  },
  {
   "cell_type": "markdown",
   "source": [
    "## 表格输出方式"
   ],
   "metadata": {}
  },
  {
   "cell_type": "code",
   "execution_count": 4,
   "source": [
    "print(t)"
   ],
   "outputs": [
    {
     "output_type": "stream",
     "name": "stdout",
     "text": [
      " a   b   c  velocity\n",
      "             m / s  \n",
      "--- --- --- --------\n",
      "123 2.0   x     10.0\n",
      "234 5.0   y     20.0\n",
      "345 3.1   z     30.0\n"
     ]
    }
   ],
   "metadata": {}
  },
  {
   "cell_type": "code",
   "execution_count": 5,
   "source": [
    "t"
   ],
   "outputs": [
    {
     "output_type": "execute_result",
     "data": {
      "text/plain": [
       "<QTable length=3>\n",
       "  a      b     c   velocity\n",
       "                    m / s  \n",
       "int32 float64 str1 float64 \n",
       "----- ------- ---- --------\n",
       "  123     2.0    x     10.0\n",
       "  234     5.0    y     20.0\n",
       "  345     3.1    z     30.0"
      ],
      "text/html": [
       "<i>QTable length=3</i>\n",
       "<table id=\"table140532919743680\" class=\"table-striped table-bordered table-condensed\">\n",
       "<thead><tr><th>a</th><th>b</th><th>c</th><th>velocity</th></tr></thead>\n",
       "<thead><tr><th></th><th></th><th></th><th>m / s</th></tr></thead>\n",
       "<thead><tr><th>int32</th><th>float64</th><th>str1</th><th>float64</th></tr></thead>\n",
       "<tr><td>123</td><td>2.0</td><td>x</td><td>10.0</td></tr>\n",
       "<tr><td>234</td><td>5.0</td><td>y</td><td>20.0</td></tr>\n",
       "<tr><td>345</td><td>3.1</td><td>z</td><td>30.0</td></tr>\n",
       "</table>"
      ]
     },
     "metadata": {},
     "execution_count": 5
    }
   ],
   "metadata": {}
  },
  {
   "cell_type": "code",
   "execution_count": 6,
   "source": [
    "t.show_in_notebook() # 豪华输出"
   ],
   "outputs": [
    {
     "output_type": "execute_result",
     "data": {
      "text/plain": [
       "<IPython.core.display.HTML object>"
      ],
      "text/html": [
       "<i>QTable length=3</i>\n",
       "<table id=\"table140532919743680-402040\" class=\"table-striped table-bordered table-condensed\">\n",
       "<thead><tr><th>idx</th><th>a</th><th>b</th><th>c</th><th>velocity</th></tr></thead>\n",
       "<thead><tr><th></th><th></th><th></th><th></th><th>m / s</th></tr></thead>\n",
       "<tr><td>0</td><td>123</td><td>2.0</td><td>x</td><td>10.0</td></tr>\n",
       "<tr><td>1</td><td>234</td><td>5.0</td><td>y</td><td>20.0</td></tr>\n",
       "<tr><td>2</td><td>345</td><td>3.1</td><td>z</td><td>30.0</td></tr>\n",
       "</table><style>table.dataTable {clear: both; width: auto !important; margin: 0 !important;}\n",
       ".dataTables_info, .dataTables_length, .dataTables_filter, .dataTables_paginate{\n",
       "display: inline-block; margin-right: 1em; }\n",
       ".paginate_button { margin-right: 5px; }\n",
       "</style>\n",
       "<script>\n",
       "\n",
       "var astropy_sort_num = function(a, b) {\n",
       "    var a_num = parseFloat(a);\n",
       "    var b_num = parseFloat(b);\n",
       "\n",
       "    if (isNaN(a_num) && isNaN(b_num))\n",
       "        return ((a < b) ? -1 : ((a > b) ? 1 : 0));\n",
       "    else if (!isNaN(a_num) && !isNaN(b_num))\n",
       "        return ((a_num < b_num) ? -1 : ((a_num > b_num) ? 1 : 0));\n",
       "    else\n",
       "        return isNaN(a_num) ? -1 : 1;\n",
       "}\n",
       "\n",
       "require.config({paths: {\n",
       "    datatables: 'https://cdn.datatables.net/1.10.12/js/jquery.dataTables.min'\n",
       "}});\n",
       "require([\"datatables\"], function(){\n",
       "    console.log(\"$('#table140532919743680-402040').dataTable()\");\n",
       "    \n",
       "jQuery.extend( jQuery.fn.dataTableExt.oSort, {\n",
       "    \"optionalnum-asc\": astropy_sort_num,\n",
       "    \"optionalnum-desc\": function (a,b) { return -astropy_sort_num(a, b); }\n",
       "});\n",
       "\n",
       "    $('#table140532919743680-402040').dataTable({\n",
       "        order: [],\n",
       "        pageLength: 50,\n",
       "        lengthMenu: [[10, 25, 50, 100, 500, 1000, -1], [10, 25, 50, 100, 500, 1000, 'All']],\n",
       "        pagingType: \"full_numbers\",\n",
       "        columnDefs: [{targets: [0, 1, 2, 4], type: \"optionalnum\"}]\n",
       "    });\n",
       "});\n",
       "</script>\n"
      ]
     },
     "metadata": {},
     "execution_count": 6
    }
   ],
   "metadata": {}
  },
  {
   "cell_type": "code",
   "execution_count": 7,
   "source": [
    "#t.show_in_browser() # 打开一个网页窗口显示"
   ],
   "outputs": [],
   "metadata": {}
  },
  {
   "cell_type": "code",
   "execution_count": 8,
   "source": [
    "#t.show_in_browser(jsviewer=True) # 打开一个网页窗口豪华输出"
   ],
   "outputs": [],
   "metadata": {}
  },
  {
   "cell_type": "markdown",
   "source": [
    "## 修改某列的数据格式"
   ],
   "metadata": {}
  },
  {
   "cell_type": "code",
   "execution_count": 9,
   "source": [
    "t['b'].info.format = '.2f'\n",
    "t"
   ],
   "outputs": [
    {
     "output_type": "execute_result",
     "data": {
      "text/plain": [
       "<QTable length=3>\n",
       "  a      b     c   velocity\n",
       "                    m / s  \n",
       "int32 float64 str1 float64 \n",
       "----- ------- ---- --------\n",
       "  123    2.00    x     10.0\n",
       "  234    5.00    y     20.0\n",
       "  345    3.10    z     30.0"
      ],
      "text/html": [
       "<i>QTable length=3</i>\n",
       "<table id=\"table140532919743680\" class=\"table-striped table-bordered table-condensed\">\n",
       "<thead><tr><th>a</th><th>b</th><th>c</th><th>velocity</th></tr></thead>\n",
       "<thead><tr><th></th><th></th><th></th><th>m / s</th></tr></thead>\n",
       "<thead><tr><th>int32</th><th>float64</th><th>str1</th><th>float64</th></tr></thead>\n",
       "<tr><td>123</td><td>2.00</td><td>x</td><td>10.0</td></tr>\n",
       "<tr><td>234</td><td>5.00</td><td>y</td><td>20.0</td></tr>\n",
       "<tr><td>345</td><td>3.10</td><td>z</td><td>30.0</td></tr>\n",
       "</table>"
      ]
     },
     "metadata": {},
     "execution_count": 9
    }
   ],
   "metadata": {}
  },
  {
   "cell_type": "markdown",
   "source": [
    "## 查看表格信息"
   ],
   "metadata": {}
  },
  {
   "cell_type": "markdown",
   "source": [
    "### 查看列名"
   ],
   "metadata": {}
  },
  {
   "cell_type": "code",
   "execution_count": 10,
   "source": [
    "t.colnames"
   ],
   "outputs": [
    {
     "output_type": "execute_result",
     "data": {
      "text/plain": [
       "['a', 'b', 'c', 'velocity']"
      ]
     },
     "metadata": {},
     "execution_count": 10
    }
   ],
   "metadata": {}
  },
  {
   "cell_type": "markdown",
   "source": [
    "### 查看数据行数"
   ],
   "metadata": {}
  },
  {
   "cell_type": "code",
   "execution_count": 11,
   "source": [
    "len(t)"
   ],
   "outputs": [
    {
     "output_type": "execute_result",
     "data": {
      "text/plain": [
       "3"
      ]
     },
     "metadata": {},
     "execution_count": 11
    }
   ],
   "metadata": {}
  },
  {
   "cell_type": "markdown",
   "source": [
    "### 查看表格说明"
   ],
   "metadata": {}
  },
  {
   "cell_type": "code",
   "execution_count": 12,
   "source": [
    "t.meta"
   ],
   "outputs": [
    {
     "output_type": "execute_result",
     "data": {
      "text/plain": [
       "{'说明': '这里可以写表格的说明文字'}"
      ]
     },
     "metadata": {},
     "execution_count": 12
    }
   ],
   "metadata": {}
  },
  {
   "cell_type": "markdown",
   "source": [
    "## 数据索引"
   ],
   "metadata": {}
  },
  {
   "cell_type": "code",
   "execution_count": 13,
   "source": [
    "t['b'] # 索引一列，输出一个行向量（以列显示）"
   ],
   "outputs": [
    {
     "output_type": "execute_result",
     "data": {
      "text/plain": [
       "<Column name='b' dtype='float64' format='.2f' length=3>\n",
       "2.00\n",
       "5.00\n",
       "3.10"
      ],
      "text/html": [
       "&lt;Column name=&apos;b&apos; dtype=&apos;float64&apos; format=&apos;.2f&apos; length=3&gt;\n",
       "<table>\n",
       "<tr><td>2.00</td></tr>\n",
       "<tr><td>5.00</td></tr>\n",
       "<tr><td>3.10</td></tr>\n",
       "</table>"
      ]
     },
     "metadata": {},
     "execution_count": 13
    }
   ],
   "metadata": {}
  },
  {
   "cell_type": "code",
   "execution_count": 14,
   "source": [
    "t['b'][0] # b列中的第0号元素"
   ],
   "outputs": [
    {
     "output_type": "execute_result",
     "data": {
      "text/plain": [
       "2.0"
      ]
     },
     "metadata": {},
     "execution_count": 14
    }
   ],
   "metadata": {}
  },
  {
   "cell_type": "code",
   "execution_count": 15,
   "source": [
    "t[0] # 输出第0行数据"
   ],
   "outputs": [
    {
     "output_type": "execute_result",
     "data": {
      "text/plain": [
       "<Row index=0>\n",
       "  a      b     c   velocity\n",
       "                    m / s  \n",
       "int32 float64 str1 float64 \n",
       "----- ------- ---- --------\n",
       "  123    2.00    x     10.0"
      ],
      "text/html": [
       "<i>Row index=0</i>\n",
       "<table id=\"table140532919743680\">\n",
       "<thead><tr><th>a</th><th>b</th><th>c</th><th>velocity</th></tr></thead>\n",
       "<thead><tr><th></th><th></th><th></th><th>m / s</th></tr></thead>\n",
       "<thead><tr><th>int32</th><th>float64</th><th>str1</th><th>float64</th></tr></thead>\n",
       "<tr><td>123</td><td>2.00</td><td>x</td><td>10.0</td></tr>\n",
       "</table>"
      ]
     },
     "metadata": {},
     "execution_count": 15
    }
   ],
   "metadata": {}
  },
  {
   "cell_type": "code",
   "execution_count": 16,
   "source": [
    "t[0]['c'] # 第0行中的c列元素"
   ],
   "outputs": [
    {
     "output_type": "execute_result",
     "data": {
      "text/plain": [
       "'x'"
      ]
     },
     "metadata": {},
     "execution_count": 16
    }
   ],
   "metadata": {}
  },
  {
   "cell_type": "markdown",
   "source": [
    "## 表格切片"
   ],
   "metadata": {}
  },
  {
   "cell_type": "code",
   "execution_count": 17,
   "source": [
    "t # 整个表格"
   ],
   "outputs": [
    {
     "output_type": "execute_result",
     "data": {
      "text/plain": [
       "<QTable length=3>\n",
       "  a      b     c   velocity\n",
       "                    m / s  \n",
       "int32 float64 str1 float64 \n",
       "----- ------- ---- --------\n",
       "  123    2.00    x     10.0\n",
       "  234    5.00    y     20.0\n",
       "  345    3.10    z     30.0"
      ],
      "text/html": [
       "<i>QTable length=3</i>\n",
       "<table id=\"table140532919743680\" class=\"table-striped table-bordered table-condensed\">\n",
       "<thead><tr><th>a</th><th>b</th><th>c</th><th>velocity</th></tr></thead>\n",
       "<thead><tr><th></th><th></th><th></th><th>m / s</th></tr></thead>\n",
       "<thead><tr><th>int32</th><th>float64</th><th>str1</th><th>float64</th></tr></thead>\n",
       "<tr><td>123</td><td>2.00</td><td>x</td><td>10.0</td></tr>\n",
       "<tr><td>234</td><td>5.00</td><td>y</td><td>20.0</td></tr>\n",
       "<tr><td>345</td><td>3.10</td><td>z</td><td>30.0</td></tr>\n",
       "</table>"
      ]
     },
     "metadata": {},
     "execution_count": 17
    }
   ],
   "metadata": {}
  },
  {
   "cell_type": "code",
   "execution_count": 18,
   "source": [
    "t[0:2] # 输出某几行"
   ],
   "outputs": [
    {
     "output_type": "execute_result",
     "data": {
      "text/plain": [
       "<QTable length=2>\n",
       "  a      b     c   velocity\n",
       "                    m / s  \n",
       "int32 float64 str1 float64 \n",
       "----- ------- ---- --------\n",
       "  123    2.00    x     10.0\n",
       "  234    5.00    y     20.0"
      ],
      "text/html": [
       "<i>QTable length=2</i>\n",
       "<table id=\"table140532919744976\" class=\"table-striped table-bordered table-condensed\">\n",
       "<thead><tr><th>a</th><th>b</th><th>c</th><th>velocity</th></tr></thead>\n",
       "<thead><tr><th></th><th></th><th></th><th>m / s</th></tr></thead>\n",
       "<thead><tr><th>int32</th><th>float64</th><th>str1</th><th>float64</th></tr></thead>\n",
       "<tr><td>123</td><td>2.00</td><td>x</td><td>10.0</td></tr>\n",
       "<tr><td>234</td><td>5.00</td><td>y</td><td>20.0</td></tr>\n",
       "</table>"
      ]
     },
     "metadata": {},
     "execution_count": 18
    }
   ],
   "metadata": {}
  },
  {
   "cell_type": "code",
   "execution_count": 19,
   "source": [
    " t['a', 'c'] # 输出指定某几列"
   ],
   "outputs": [
    {
     "output_type": "execute_result",
     "data": {
      "text/plain": [
       "<QTable length=3>\n",
       "  a    c  \n",
       "int32 str1\n",
       "----- ----\n",
       "  123    x\n",
       "  234    y\n",
       "  345    z"
      ],
      "text/html": [
       "<i>QTable length=3</i>\n",
       "<table id=\"table140532919744928\" class=\"table-striped table-bordered table-condensed\">\n",
       "<thead><tr><th>a</th><th>c</th></tr></thead>\n",
       "<thead><tr><th>int32</th><th>str1</th></tr></thead>\n",
       "<tr><td>123</td><td>x</td></tr>\n",
       "<tr><td>234</td><td>y</td></tr>\n",
       "<tr><td>345</td><td>z</td></tr>\n",
       "</table>"
      ]
     },
     "metadata": {},
     "execution_count": 19
    }
   ],
   "metadata": {}
  },
  {
   "cell_type": "markdown",
   "source": [
    "## 修改表格数据\n",
    ">索引+赋值"
   ],
   "metadata": {}
  },
  {
   "cell_type": "code",
   "execution_count": 20,
   "source": [
    "print('原始表格：\\n', t)"
   ],
   "outputs": [
    {
     "output_type": "stream",
     "name": "stdout",
     "text": [
      "原始表格：\n",
      "  a   b    c  velocity\n",
      "              m / s  \n",
      "--- ---- --- --------\n",
      "123 2.00   x     10.0\n",
      "234 5.00   y     20.0\n",
      "345 3.10   z     30.0\n"
     ]
    }
   ],
   "metadata": {}
  },
  {
   "cell_type": "code",
   "execution_count": 21,
   "source": [
    "# 将a列中的所有元素修改为-1，-2，-3\n",
    "t['a'][:] = [-1, -2, -3]\n",
    "t"
   ],
   "outputs": [
    {
     "output_type": "execute_result",
     "data": {
      "text/plain": [
       "<QTable length=3>\n",
       "  a      b     c   velocity\n",
       "                    m / s  \n",
       "int32 float64 str1 float64 \n",
       "----- ------- ---- --------\n",
       "   -1    2.00    x     10.0\n",
       "   -2    5.00    y     20.0\n",
       "   -3    3.10    z     30.0"
      ],
      "text/html": [
       "<i>QTable length=3</i>\n",
       "<table id=\"table140532919743680\" class=\"table-striped table-bordered table-condensed\">\n",
       "<thead><tr><th>a</th><th>b</th><th>c</th><th>velocity</th></tr></thead>\n",
       "<thead><tr><th></th><th></th><th></th><th>m / s</th></tr></thead>\n",
       "<thead><tr><th>int32</th><th>float64</th><th>str1</th><th>float64</th></tr></thead>\n",
       "<tr><td>-1</td><td>2.00</td><td>x</td><td>10.0</td></tr>\n",
       "<tr><td>-2</td><td>5.00</td><td>y</td><td>20.0</td></tr>\n",
       "<tr><td>-3</td><td>3.10</td><td>z</td><td>30.0</td></tr>\n",
       "</table>"
      ]
     },
     "metadata": {},
     "execution_count": 21
    }
   ],
   "metadata": {}
  },
  {
   "cell_type": "code",
   "execution_count": 22,
   "source": [
    "# 将a列中第2个元素修改成99\n",
    "t['a'][1] = 99\n",
    "t"
   ],
   "outputs": [
    {
     "output_type": "execute_result",
     "data": {
      "text/plain": [
       "<QTable length=3>\n",
       "  a      b     c   velocity\n",
       "                    m / s  \n",
       "int32 float64 str1 float64 \n",
       "----- ------- ---- --------\n",
       "   -1    2.00    x     10.0\n",
       "   99    5.00    y     20.0\n",
       "   -3    3.10    z     30.0"
      ],
      "text/html": [
       "<i>QTable length=3</i>\n",
       "<table id=\"table140532919743680\" class=\"table-striped table-bordered table-condensed\">\n",
       "<thead><tr><th>a</th><th>b</th><th>c</th><th>velocity</th></tr></thead>\n",
       "<thead><tr><th></th><th></th><th></th><th>m / s</th></tr></thead>\n",
       "<thead><tr><th>int32</th><th>float64</th><th>str1</th><th>float64</th></tr></thead>\n",
       "<tr><td>-1</td><td>2.00</td><td>x</td><td>10.0</td></tr>\n",
       "<tr><td>99</td><td>5.00</td><td>y</td><td>20.0</td></tr>\n",
       "<tr><td>-3</td><td>3.10</td><td>z</td><td>30.0</td></tr>\n",
       "</table>"
      ]
     },
     "metadata": {},
     "execution_count": 22
    }
   ],
   "metadata": {}
  },
  {
   "cell_type": "markdown",
   "source": [
    "## 增加/删除行列"
   ],
   "metadata": {}
  },
  {
   "cell_type": "code",
   "execution_count": 23,
   "source": [
    "# 修改列名\n",
    "t.rename_column('a', 'A')\n",
    "t"
   ],
   "outputs": [
    {
     "output_type": "execute_result",
     "data": {
      "text/plain": [
       "<QTable length=3>\n",
       "  A      b     c   velocity\n",
       "                    m / s  \n",
       "int32 float64 str1 float64 \n",
       "----- ------- ---- --------\n",
       "   -1    2.00    x     10.0\n",
       "   99    5.00    y     20.0\n",
       "   -3    3.10    z     30.0"
      ],
      "text/html": [
       "<i>QTable length=3</i>\n",
       "<table id=\"table140532919743680\" class=\"table-striped table-bordered table-condensed\">\n",
       "<thead><tr><th>A</th><th>b</th><th>c</th><th>velocity</th></tr></thead>\n",
       "<thead><tr><th></th><th></th><th></th><th>m / s</th></tr></thead>\n",
       "<thead><tr><th>int32</th><th>float64</th><th>str1</th><th>float64</th></tr></thead>\n",
       "<tr><td>-1</td><td>2.00</td><td>x</td><td>10.0</td></tr>\n",
       "<tr><td>99</td><td>5.00</td><td>y</td><td>20.0</td></tr>\n",
       "<tr><td>-3</td><td>3.10</td><td>z</td><td>30.0</td></tr>\n",
       "</table>"
      ]
     },
     "metadata": {},
     "execution_count": 23
    }
   ],
   "metadata": {}
  },
  {
   "cell_type": "code",
   "execution_count": 24,
   "source": [
    "# 增加列\n",
    "t['d'] = ['xin', 'jia', 'lie']\n",
    "t"
   ],
   "outputs": [
    {
     "output_type": "execute_result",
     "data": {
      "text/plain": [
       "<QTable length=3>\n",
       "  A      b     c   velocity  d  \n",
       "                    m / s       \n",
       "int32 float64 str1 float64  str3\n",
       "----- ------- ---- -------- ----\n",
       "   -1    2.00    x     10.0  xin\n",
       "   99    5.00    y     20.0  jia\n",
       "   -3    3.10    z     30.0  lie"
      ],
      "text/html": [
       "<i>QTable length=3</i>\n",
       "<table id=\"table140532919743680\" class=\"table-striped table-bordered table-condensed\">\n",
       "<thead><tr><th>A</th><th>b</th><th>c</th><th>velocity</th><th>d</th></tr></thead>\n",
       "<thead><tr><th></th><th></th><th></th><th>m / s</th><th></th></tr></thead>\n",
       "<thead><tr><th>int32</th><th>float64</th><th>str1</th><th>float64</th><th>str3</th></tr></thead>\n",
       "<tr><td>-1</td><td>2.00</td><td>x</td><td>10.0</td><td>xin</td></tr>\n",
       "<tr><td>99</td><td>5.00</td><td>y</td><td>20.0</td><td>jia</td></tr>\n",
       "<tr><td>-3</td><td>3.10</td><td>z</td><td>30.0</td><td>lie</td></tr>\n",
       "</table>"
      ]
     },
     "metadata": {},
     "execution_count": 24
    }
   ],
   "metadata": {}
  },
  {
   "cell_type": "code",
   "execution_count": 25,
   "source": [
    "# 删除列\n",
    "del t['d']\n",
    "t"
   ],
   "outputs": [
    {
     "output_type": "execute_result",
     "data": {
      "text/plain": [
       "<QTable length=3>\n",
       "  A      b     c   velocity\n",
       "                    m / s  \n",
       "int32 float64 str1 float64 \n",
       "----- ------- ---- --------\n",
       "   -1    2.00    x     10.0\n",
       "   99    5.00    y     20.0\n",
       "   -3    3.10    z     30.0"
      ],
      "text/html": [
       "<i>QTable length=3</i>\n",
       "<table id=\"table140532919743680\" class=\"table-striped table-bordered table-condensed\">\n",
       "<thead><tr><th>A</th><th>b</th><th>c</th><th>velocity</th></tr></thead>\n",
       "<thead><tr><th></th><th></th><th></th><th>m / s</th></tr></thead>\n",
       "<thead><tr><th>int32</th><th>float64</th><th>str1</th><th>float64</th></tr></thead>\n",
       "<tr><td>-1</td><td>2.00</td><td>x</td><td>10.0</td></tr>\n",
       "<tr><td>99</td><td>5.00</td><td>y</td><td>20.0</td></tr>\n",
       "<tr><td>-3</td><td>3.10</td><td>z</td><td>30.0</td></tr>\n",
       "</table>"
      ]
     },
     "metadata": {},
     "execution_count": 25
    }
   ],
   "metadata": {}
  },
  {
   "cell_type": "code",
   "execution_count": 26,
   "source": [
    "# 添加行\n",
    "t.add_row([-9, 9.99, 'new', 10 * u.cm / u.s])\n",
    "t"
   ],
   "outputs": [
    {
     "output_type": "execute_result",
     "data": {
      "text/plain": [
       "<QTable length=4>\n",
       "  A      b     c   velocity\n",
       "                    m / s  \n",
       "int32 float64 str3 float64 \n",
       "----- ------- ---- --------\n",
       "   -1    2.00    x     10.0\n",
       "   99    5.00    y     20.0\n",
       "   -3    3.10    z     30.0\n",
       "   -9    9.99  new      0.1"
      ],
      "text/html": [
       "<i>QTable length=4</i>\n",
       "<table id=\"table140532919743680\" class=\"table-striped table-bordered table-condensed\">\n",
       "<thead><tr><th>A</th><th>b</th><th>c</th><th>velocity</th></tr></thead>\n",
       "<thead><tr><th></th><th></th><th></th><th>m / s</th></tr></thead>\n",
       "<thead><tr><th>int32</th><th>float64</th><th>str3</th><th>float64</th></tr></thead>\n",
       "<tr><td>-1</td><td>2.00</td><td>x</td><td>10.0</td></tr>\n",
       "<tr><td>99</td><td>5.00</td><td>y</td><td>20.0</td></tr>\n",
       "<tr><td>-3</td><td>3.10</td><td>z</td><td>30.0</td></tr>\n",
       "<tr><td>-9</td><td>9.99</td><td>new</td><td>0.1</td></tr>\n",
       "</table>"
      ]
     },
     "metadata": {},
     "execution_count": 26
    }
   ],
   "metadata": {}
  },
  {
   "cell_type": "code",
   "execution_count": 27,
   "source": [
    "# 删除行\n",
    "del t[3]\n",
    "t"
   ],
   "outputs": [
    {
     "output_type": "execute_result",
     "data": {
      "text/plain": [
       "<QTable length=3>\n",
       "  A      b     c   velocity\n",
       "                    m / s  \n",
       "int32 float64 str3 float64 \n",
       "----- ------- ---- --------\n",
       "   -1    2.00    x     10.0\n",
       "   99    5.00    y     20.0\n",
       "   -3    3.10    z     30.0"
      ],
      "text/html": [
       "<i>QTable length=3</i>\n",
       "<table id=\"table140532919743680\" class=\"table-striped table-bordered table-condensed\">\n",
       "<thead><tr><th>A</th><th>b</th><th>c</th><th>velocity</th></tr></thead>\n",
       "<thead><tr><th></th><th></th><th></th><th>m / s</th></tr></thead>\n",
       "<thead><tr><th>int32</th><th>float64</th><th>str3</th><th>float64</th></tr></thead>\n",
       "<tr><td>-1</td><td>2.00</td><td>x</td><td>10.0</td></tr>\n",
       "<tr><td>99</td><td>5.00</td><td>y</td><td>20.0</td></tr>\n",
       "<tr><td>-3</td><td>3.10</td><td>z</td><td>30.0</td></tr>\n",
       "</table>"
      ]
     },
     "metadata": {},
     "execution_count": 27
    }
   ],
   "metadata": {}
  },
  {
   "cell_type": "markdown",
   "source": [
    "## 设置元素为缺失值(masked)"
   ],
   "metadata": {}
  },
  {
   "cell_type": "code",
   "execution_count": 28,
   "source": [
    "t = QTable([a, b, c], \n",
    "          names=('a', 'b', 'c'), \n",
    "          masked=True)\n",
    "t"
   ],
   "outputs": [
    {
     "output_type": "execute_result",
     "data": {
      "text/plain": [
       "<QTable masked=True length=3>\n",
       "  a      b     c  \n",
       "int32 float64 str1\n",
       "----- ------- ----\n",
       "  123     2.0    x\n",
       "  234     5.0    y\n",
       "  345     3.1    z"
      ],
      "text/html": [
       "<i>QTable masked=True length=3</i>\n",
       "<table id=\"table140532919745840\" class=\"table-striped table-bordered table-condensed\">\n",
       "<thead><tr><th>a</th><th>b</th><th>c</th></tr></thead>\n",
       "<thead><tr><th>int32</th><th>float64</th><th>str1</th></tr></thead>\n",
       "<tr><td>123</td><td>2.0</td><td>x</td></tr>\n",
       "<tr><td>234</td><td>5.0</td><td>y</td></tr>\n",
       "<tr><td>345</td><td>3.1</td><td>z</td></tr>\n",
       "</table>"
      ]
     },
     "metadata": {},
     "execution_count": 28
    }
   ],
   "metadata": {}
  },
  {
   "cell_type": "code",
   "execution_count": 29,
   "source": [
    "# 设置a列前两个元素为缺失值\n",
    "t['a'].mask = [True, True, False]\n",
    "t['a'][0]"
   ],
   "outputs": [
    {
     "output_type": "execute_result",
     "data": {
      "text/plain": [
       "masked"
      ]
     },
     "metadata": {},
     "execution_count": 29
    }
   ],
   "metadata": {}
  },
  {
   "cell_type": "code",
   "execution_count": 30,
   "source": [
    "print(t)"
   ],
   "outputs": [
    {
     "output_type": "stream",
     "name": "stdout",
     "text": [
      " a   b   c \n",
      "--- --- ---\n",
      " -- 2.0   x\n",
      " -- 5.0   y\n",
      "345 3.1   z\n"
     ]
    }
   ],
   "metadata": {}
  },
  {
   "cell_type": "markdown",
   "source": [
    "---"
   ],
   "metadata": {}
  },
  {
   "cell_type": "markdown",
   "source": [
    "# 表操作"
   ],
   "metadata": {}
  },
  {
   "cell_type": "markdown",
   "source": [
    "## 分组操作"
   ],
   "metadata": {}
  },
  {
   "cell_type": "code",
   "execution_count": 31,
   "source": [
    "# 创建一个table\n",
    "obs = Table.read(\"\"\"name    obs_date    mag_b  mag_v\n",
    "                    M31     2012-01-02  17.0   17.5\n",
    "                    M31     2012-01-02  17.1   17.4\n",
    "                    M101    2012-01-02  15.1   13.5\n",
    "                    M82     2012-02-14  16.2   14.5\n",
    "                    M31     2012-02-14  16.9   17.3\n",
    "                    M82     2012-02-14  15.2   15.5\n",
    "                    M101    2012-02-14  15.0   13.6\n",
    "                    M82     2012-03-26  15.7   16.5\n",
    "                    M101    2012-03-26  15.1   13.5\n",
    "                    M101    2012-03-26  14.8   14.3\n",
    "                    \"\"\", format='ascii')\n",
    "print(obs,'\\n数据行数:', len(obs))"
   ],
   "outputs": [
    {
     "output_type": "stream",
     "name": "stdout",
     "text": [
      "name  obs_date  mag_b mag_v\n",
      "---- ---------- ----- -----\n",
      " M31 2012-01-02  17.0  17.5\n",
      " M31 2012-01-02  17.1  17.4\n",
      "M101 2012-01-02  15.1  13.5\n",
      " M82 2012-02-14  16.2  14.5\n",
      " M31 2012-02-14  16.9  17.3\n",
      " M82 2012-02-14  15.2  15.5\n",
      "M101 2012-02-14  15.0  13.6\n",
      " M82 2012-03-26  15.7  16.5\n",
      "M101 2012-03-26  15.1  13.5\n",
      "M101 2012-03-26  14.8  14.3 \n",
      "数据行数: 10\n"
     ]
    }
   ],
   "metadata": {}
  },
  {
   "cell_type": "markdown",
   "source": [
    "### 按标签分组\n",
    ">group_by() 指定标签，并按此标签重新排序数据行"
   ],
   "metadata": {}
  },
  {
   "cell_type": "code",
   "execution_count": 32,
   "source": [
    "obs_by_name = obs.group_by('name')\n",
    "print(obs_by_name)\n",
    "print('\\n原始table：\\n', obs)"
   ],
   "outputs": [
    {
     "output_type": "stream",
     "name": "stdout",
     "text": [
      "name  obs_date  mag_b mag_v\n",
      "---- ---------- ----- -----\n",
      "M101 2012-01-02  15.1  13.5\n",
      "M101 2012-02-14  15.0  13.6\n",
      "M101 2012-03-26  15.1  13.5\n",
      "M101 2012-03-26  14.8  14.3\n",
      " M31 2012-01-02  17.0  17.5\n",
      " M31 2012-01-02  17.1  17.4\n",
      " M31 2012-02-14  16.9  17.3\n",
      " M82 2012-02-14  16.2  14.5\n",
      " M82 2012-02-14  15.2  15.5\n",
      " M82 2012-03-26  15.7  16.5\n",
      "\n",
      "原始table：\n",
      " name  obs_date  mag_b mag_v\n",
      "---- ---------- ----- -----\n",
      " M31 2012-01-02  17.0  17.5\n",
      " M31 2012-01-02  17.1  17.4\n",
      "M101 2012-01-02  15.1  13.5\n",
      " M82 2012-02-14  16.2  14.5\n",
      " M31 2012-02-14  16.9  17.3\n",
      " M82 2012-02-14  15.2  15.5\n",
      "M101 2012-02-14  15.0  13.6\n",
      " M82 2012-03-26  15.7  16.5\n",
      "M101 2012-03-26  15.1  13.5\n",
      "M101 2012-03-26  14.8  14.3\n"
     ]
    }
   ],
   "metadata": {}
  },
  {
   "cell_type": "code",
   "execution_count": 33,
   "source": [
    "# 显示分组的关键字列表\n",
    "print(obs_by_name.groups.keys)"
   ],
   "outputs": [
    {
     "output_type": "stream",
     "name": "stdout",
     "text": [
      "name\n",
      "----\n",
      "M101\n",
      " M31\n",
      " M82\n"
     ]
    }
   ],
   "metadata": {}
  },
  {
   "cell_type": "code",
   "execution_count": 34,
   "source": [
    "# 分组的标签可以不止一个，即先按第一个标签排序，再按第二个\n",
    "print(obs.group_by(['name', 'obs_date']))\n",
    "print('\\n原始table：\\n', obs)\n",
    "print(obs.group_by(['name', 'obs_date']).groups.keys)"
   ],
   "outputs": [
    {
     "output_type": "stream",
     "name": "stdout",
     "text": [
      "name  obs_date  mag_b mag_v\n",
      "---- ---------- ----- -----\n",
      "M101 2012-01-02  15.1  13.5\n",
      "M101 2012-02-14  15.0  13.6\n",
      "M101 2012-03-26  15.1  13.5\n",
      "M101 2012-03-26  14.8  14.3\n",
      " M31 2012-01-02  17.0  17.5\n",
      " M31 2012-01-02  17.1  17.4\n",
      " M31 2012-02-14  16.9  17.3\n",
      " M82 2012-02-14  16.2  14.5\n",
      " M82 2012-02-14  15.2  15.5\n",
      " M82 2012-03-26  15.7  16.5\n",
      "\n",
      "原始table：\n",
      " name  obs_date  mag_b mag_v\n",
      "---- ---------- ----- -----\n",
      " M31 2012-01-02  17.0  17.5\n",
      " M31 2012-01-02  17.1  17.4\n",
      "M101 2012-01-02  15.1  13.5\n",
      " M82 2012-02-14  16.2  14.5\n",
      " M31 2012-02-14  16.9  17.3\n",
      " M82 2012-02-14  15.2  15.5\n",
      "M101 2012-02-14  15.0  13.6\n",
      " M82 2012-03-26  15.7  16.5\n",
      "M101 2012-03-26  15.1  13.5\n",
      "M101 2012-03-26  14.8  14.3\n",
      "name  obs_date \n",
      "---- ----------\n",
      "M101 2012-01-02\n",
      "M101 2012-02-14\n",
      "M101 2012-03-26\n",
      " M31 2012-01-02\n",
      " M31 2012-02-14\n",
      " M82 2012-02-14\n",
      " M82 2012-03-26\n"
     ]
    }
   ],
   "metadata": {}
  },
  {
   "cell_type": "markdown",
   "source": [
    "### 索引分组后的小组"
   ],
   "metadata": {}
  },
  {
   "cell_type": "code",
   "execution_count": 35,
   "source": [
    "print(obs_by_name)\n",
    "print(obs_by_name.groups.keys)\n",
    "print(obs_by_name.groups[0]) # 访问第0号小组"
   ],
   "outputs": [
    {
     "output_type": "stream",
     "name": "stdout",
     "text": [
      "name  obs_date  mag_b mag_v\n",
      "---- ---------- ----- -----\n",
      "M101 2012-01-02  15.1  13.5\n",
      "M101 2012-02-14  15.0  13.6\n",
      "M101 2012-03-26  15.1  13.5\n",
      "M101 2012-03-26  14.8  14.3\n",
      " M31 2012-01-02  17.0  17.5\n",
      " M31 2012-01-02  17.1  17.4\n",
      " M31 2012-02-14  16.9  17.3\n",
      " M82 2012-02-14  16.2  14.5\n",
      " M82 2012-02-14  15.2  15.5\n",
      " M82 2012-03-26  15.7  16.5\n",
      "name\n",
      "----\n",
      "M101\n",
      " M31\n",
      " M82\n",
      "name  obs_date  mag_b mag_v\n",
      "---- ---------- ----- -----\n",
      "M101 2012-01-02  15.1  13.5\n",
      "M101 2012-02-14  15.0  13.6\n",
      "M101 2012-03-26  15.1  13.5\n",
      "M101 2012-03-26  14.8  14.3\n"
     ]
    }
   ],
   "metadata": {}
  },
  {
   "cell_type": "code",
   "execution_count": 36,
   "source": [
    "# 可以索引多个小组\n",
    "groups01 = obs_by_name.groups[0:2]\n",
    "print(groups01)"
   ],
   "outputs": [
    {
     "output_type": "stream",
     "name": "stdout",
     "text": [
      "name  obs_date  mag_b mag_v\n",
      "---- ---------- ----- -----\n",
      "M101 2012-01-02  15.1  13.5\n",
      "M101 2012-02-14  15.0  13.6\n",
      "M101 2012-03-26  15.1  13.5\n",
      "M101 2012-03-26  14.8  14.3\n",
      " M31 2012-01-02  17.0  17.5\n",
      " M31 2012-01-02  17.1  17.4\n",
      " M31 2012-02-14  16.9  17.3\n"
     ]
    }
   ],
   "metadata": {}
  },
  {
   "cell_type": "markdown",
   "source": [
    "### 使用布尔值分组"
   ],
   "metadata": {}
  },
  {
   "cell_type": "code",
   "execution_count": 37,
   "source": [
    "mask = obs_by_name.groups.keys['name'] == 'M31'\n",
    "print(obs_by_name.groups[mask])"
   ],
   "outputs": [
    {
     "output_type": "stream",
     "name": "stdout",
     "text": [
      "name  obs_date  mag_b mag_v\n",
      "---- ---------- ----- -----\n",
      " M31 2012-01-02  17.0  17.5\n",
      " M31 2012-01-02  17.1  17.4\n",
      " M31 2012-02-14  16.9  17.3\n"
     ]
    }
   ],
   "metadata": {}
  },
  {
   "cell_type": "code",
   "execution_count": 38,
   "source": [
    "type(obs_by_name.groups.keys['name'])"
   ],
   "outputs": [
    {
     "output_type": "execute_result",
     "data": {
      "text/plain": [
       "astropy.table.column.Column"
      ]
     },
     "metadata": {},
     "execution_count": 38
    }
   ],
   "metadata": {
    "scrolled": true
   }
  },
  {
   "cell_type": "markdown",
   "source": [
    "### 迭代小组"
   ],
   "metadata": {}
  },
  {
   "cell_type": "code",
   "execution_count": 39,
   "source": [
    "for key, group in zip(obs_by_name.groups.keys, obs_by_name.groups):\n",
    "    print('****** {0} *******'.format(key['name']))\n",
    "    print(group)\n",
    "    print('')"
   ],
   "outputs": [
    {
     "output_type": "stream",
     "name": "stdout",
     "text": [
      "****** M101 *******\n",
      "name  obs_date  mag_b mag_v\n",
      "---- ---------- ----- -----\n",
      "M101 2012-01-02  15.1  13.5\n",
      "M101 2012-02-14  15.0  13.6\n",
      "M101 2012-03-26  15.1  13.5\n",
      "M101 2012-03-26  14.8  14.3\n",
      "\n",
      "****** M31 *******\n",
      "name  obs_date  mag_b mag_v\n",
      "---- ---------- ----- -----\n",
      " M31 2012-01-02  17.0  17.5\n",
      " M31 2012-01-02  17.1  17.4\n",
      " M31 2012-02-14  16.9  17.3\n",
      "\n",
      "****** M82 *******\n",
      "name  obs_date  mag_b mag_v\n",
      "---- ---------- ----- -----\n",
      " M82 2012-02-14  16.2  14.5\n",
      " M82 2012-02-14  15.2  15.5\n",
      " M82 2012-03-26  15.7  16.5\n",
      "\n"
     ]
    }
   ],
   "metadata": {}
  },
  {
   "cell_type": "markdown",
   "source": [
    "## 聚合"
   ],
   "metadata": {}
  },
  {
   "cell_type": "markdown",
   "source": [
    "### 小组平均\n",
    ">将table中相同的keys的小组取平均，生成新的table，注意取不了平均的列会被略去"
   ],
   "metadata": {}
  },
  {
   "cell_type": "code",
   "execution_count": 40,
   "source": [
    "obs_mean = obs_by_name.groups.aggregate(np.mean)  \n",
    "print(obs_by_name.groups.keys)\n",
    "\n",
    "print(obs_mean) \n",
    "print('\\n原始table：\\n', obs.group_by('name'))"
   ],
   "outputs": [
    {
     "output_type": "stream",
     "name": "stdout",
     "text": [
      "name\n",
      "----\n",
      "M101\n",
      " M31\n",
      " M82\n",
      "name       mag_b              mag_v       \n",
      "---- ------------------ ------------------\n",
      "M101 15.000000000000002 13.725000000000001\n",
      " M31               17.0 17.400000000000002\n",
      " M82 15.699999999999998               15.5\n",
      "\n",
      "原始table：\n",
      " name  obs_date  mag_b mag_v\n",
      "---- ---------- ----- -----\n",
      "M101 2012-01-02  15.1  13.5\n",
      "M101 2012-02-14  15.0  13.6\n",
      "M101 2012-03-26  15.1  13.5\n",
      "M101 2012-03-26  14.8  14.3\n",
      " M31 2012-01-02  17.0  17.5\n",
      " M31 2012-01-02  17.1  17.4\n",
      " M31 2012-02-14  16.9  17.3\n",
      " M82 2012-02-14  16.2  14.5\n",
      " M82 2012-02-14  15.2  15.5\n",
      " M82 2012-03-26  15.7  16.5\n"
     ]
    },
    {
     "output_type": "stream",
     "name": "stderr",
     "text": [
      "WARNING: Cannot aggregate column 'obs_date' with type '<U10' [astropy.table.groups]\n"
     ]
    }
   ],
   "metadata": {}
  },
  {
   "cell_type": "markdown",
   "source": [
    "### 指定标签的小组平均"
   ],
   "metadata": {}
  },
  {
   "cell_type": "code",
   "execution_count": 41,
   "source": [
    "print(obs_by_name['mag_b'].groups.aggregate(np.mean))"
   ],
   "outputs": [
    {
     "output_type": "stream",
     "name": "stdout",
     "text": [
      "      mag_b       \n",
      "------------------\n",
      "15.000000000000002\n",
      "              17.0\n",
      "15.699999999999998\n"
     ]
    }
   ],
   "metadata": {}
  },
  {
   "cell_type": "code",
   "execution_count": 42,
   "source": [
    "print(obs_by_name['name', 'mag_b'].groups.aggregate(np.mean))"
   ],
   "outputs": [
    {
     "output_type": "stream",
     "name": "stdout",
     "text": [
      "name       mag_b       \n",
      "---- ------------------\n",
      "M101 15.000000000000002\n",
      " M31               17.0\n",
      " M82 15.699999999999998\n"
     ]
    }
   ],
   "metadata": {}
  },
  {
   "cell_type": "markdown",
   "source": [
    "## 筛选"
   ],
   "metadata": {}
  },
  {
   "cell_type": "code",
   "execution_count": 43,
   "source": [
    "def all_positive(table, key_colnames):\n",
    "    colnames = [name for name in table.colnames if name not in key_colnames]\n",
    "    for colname in colnames:\n",
    "        if np.any(table[colname] < 0):\n",
    "            return False\n",
    "    return True"
   ],
   "outputs": [],
   "metadata": {}
  },
  {
   "cell_type": "code",
   "execution_count": 44,
   "source": [
    "# 创建一个table\n",
    "t = Table.read(\"\"\" a   b    c\n",
    "                  -2  7.0   0\n",
    "                  -2  5.0   1\n",
    "                   1  3.0  -5\n",
    "                   1 -2.0  -6\n",
    "                   1  1.0   7\n",
    "                   0  0.0   4\n",
    "                   3  3.0   5\n",
    "                   3 -2.0   6\n",
    "                   3  1.0   7\"\"\", format='ascii')\n",
    "t"
   ],
   "outputs": [
    {
     "output_type": "execute_result",
     "data": {
      "text/plain": [
       "<Table length=9>\n",
       "  a      b      c  \n",
       "int64 float64 int64\n",
       "----- ------- -----\n",
       "   -2     7.0     0\n",
       "   -2     5.0     1\n",
       "    1     3.0    -5\n",
       "    1    -2.0    -6\n",
       "    1     1.0     7\n",
       "    0     0.0     4\n",
       "    3     3.0     5\n",
       "    3    -2.0     6\n",
       "    3     1.0     7"
      ],
      "text/html": [
       "<i>Table length=9</i>\n",
       "<table id=\"table140532919945008\" class=\"table-striped table-bordered table-condensed\">\n",
       "<thead><tr><th>a</th><th>b</th><th>c</th></tr></thead>\n",
       "<thead><tr><th>int64</th><th>float64</th><th>int64</th></tr></thead>\n",
       "<tr><td>-2</td><td>7.0</td><td>0</td></tr>\n",
       "<tr><td>-2</td><td>5.0</td><td>1</td></tr>\n",
       "<tr><td>1</td><td>3.0</td><td>-5</td></tr>\n",
       "<tr><td>1</td><td>-2.0</td><td>-6</td></tr>\n",
       "<tr><td>1</td><td>1.0</td><td>7</td></tr>\n",
       "<tr><td>0</td><td>0.0</td><td>4</td></tr>\n",
       "<tr><td>3</td><td>3.0</td><td>5</td></tr>\n",
       "<tr><td>3</td><td>-2.0</td><td>6</td></tr>\n",
       "<tr><td>3</td><td>1.0</td><td>7</td></tr>\n",
       "</table>"
      ]
     },
     "metadata": {},
     "execution_count": 44
    }
   ],
   "metadata": {}
  },
  {
   "cell_type": "code",
   "execution_count": 45,
   "source": [
    "# 按标签'a'分组排列\n",
    "tg = t.group_by('a')\n",
    "tg"
   ],
   "outputs": [
    {
     "output_type": "execute_result",
     "data": {
      "text/plain": [
       "<Table length=9>\n",
       "  a      b      c  \n",
       "int64 float64 int64\n",
       "----- ------- -----\n",
       "   -2     7.0     0\n",
       "   -2     5.0     1\n",
       "    0     0.0     4\n",
       "    1     3.0    -5\n",
       "    1    -2.0    -6\n",
       "    1     1.0     7\n",
       "    3     3.0     5\n",
       "    3    -2.0     6\n",
       "    3     1.0     7"
      ],
      "text/html": [
       "<i>Table length=9</i>\n",
       "<table id=\"table140532919746416\" class=\"table-striped table-bordered table-condensed\">\n",
       "<thead><tr><th>a</th><th>b</th><th>c</th></tr></thead>\n",
       "<thead><tr><th>int64</th><th>float64</th><th>int64</th></tr></thead>\n",
       "<tr><td>-2</td><td>7.0</td><td>0</td></tr>\n",
       "<tr><td>-2</td><td>5.0</td><td>1</td></tr>\n",
       "<tr><td>0</td><td>0.0</td><td>4</td></tr>\n",
       "<tr><td>1</td><td>3.0</td><td>-5</td></tr>\n",
       "<tr><td>1</td><td>-2.0</td><td>-6</td></tr>\n",
       "<tr><td>1</td><td>1.0</td><td>7</td></tr>\n",
       "<tr><td>3</td><td>3.0</td><td>5</td></tr>\n",
       "<tr><td>3</td><td>-2.0</td><td>6</td></tr>\n",
       "<tr><td>3</td><td>1.0</td><td>7</td></tr>\n",
       "</table>"
      ]
     },
     "metadata": {},
     "execution_count": 45
    }
   ],
   "metadata": {}
  },
  {
   "cell_type": "code",
   "execution_count": 46,
   "source": [
    "t_positive = tg.groups.filter(all_positive)\n",
    "for group in t_positive.groups:\n",
    "    print(group)\n",
    "    print('')"
   ],
   "outputs": [
    {
     "output_type": "stream",
     "name": "stdout",
     "text": [
      " a   b   c \n",
      "--- --- ---\n",
      " -2 7.0   0\n",
      " -2 5.0   1\n",
      "\n",
      " a   b   c \n",
      "--- --- ---\n",
      "  0 0.0   4\n",
      "\n"
     ]
    }
   ],
   "metadata": {}
  },
  {
   "cell_type": "markdown",
   "source": [
    "---"
   ],
   "metadata": {}
  },
  {
   "cell_type": "markdown",
   "source": [
    "# 表拼接"
   ],
   "metadata": {}
  },
  {
   "cell_type": "code",
   "execution_count": 47,
   "source": [
    "# 创建两个table\n",
    "obs1 = Table.read(\"\"\"name    obs_date    mag_b  logLx\n",
    "                     M31     2012-01-02  17.0   42.5\n",
    "                     M82     2012-10-29  16.2   43.5\n",
    "                     M101    2012-10-31  15.1   44.5\"\"\", format='ascii')\n",
    "\n",
    "obs2 = Table.read(\"\"\"name    obs_date    logLx\n",
    "                     NGC3516 2011-11-11  42.1\n",
    "                     M31     1999-01-05  43.1\n",
    "                     M82     2012-10-30  45.0\"\"\", format='ascii')\n",
    "\n",
    "print(obs1)\n",
    "print(' ')\n",
    "print(obs2)"
   ],
   "outputs": [
    {
     "output_type": "stream",
     "name": "stdout",
     "text": [
      "name  obs_date  mag_b logLx\n",
      "---- ---------- ----- -----\n",
      " M31 2012-01-02  17.0  42.5\n",
      " M82 2012-10-29  16.2  43.5\n",
      "M101 2012-10-31  15.1  44.5\n",
      " \n",
      "  name   obs_date  logLx\n",
      "------- ---------- -----\n",
      "NGC3516 2011-11-11  42.1\n",
      "    M31 1999-01-05  43.1\n",
      "    M82 2012-10-30  45.0\n"
     ]
    }
   ],
   "metadata": {}
  },
  {
   "cell_type": "markdown",
   "source": [
    "## 垂直堆叠(Vertically Stack: vstack函数)"
   ],
   "metadata": {}
  },
  {
   "cell_type": "code",
   "execution_count": 48,
   "source": [
    "print(vstack([obs1, obs2])) # 可以堆叠多个table"
   ],
   "outputs": [
    {
     "output_type": "stream",
     "name": "stdout",
     "text": [
      "  name   obs_date  mag_b logLx\n",
      "------- ---------- ----- -----\n",
      "    M31 2012-01-02  17.0  42.5\n",
      "    M82 2012-10-29  16.2  43.5\n",
      "   M101 2012-10-31  15.1  44.5\n",
      "NGC3516 2011-11-11    --  42.1\n",
      "    M31 1999-01-05    --  43.1\n",
      "    M82 2012-10-30    --  45.0\n"
     ]
    }
   ],
   "metadata": {}
  },
  {
   "cell_type": "code",
   "execution_count": 49,
   "source": [
    "# vstack函数的默认join_type='outer'，所以obs2中没有的mag_b列的元素在堆叠后以--显示。\n",
    "# 另外两种join_type='inner'; join_type='exact'\n",
    "print(vstack([obs1, obs2], join_type='inner'))"
   ],
   "outputs": [
    {
     "output_type": "stream",
     "name": "stdout",
     "text": [
      "  name   obs_date  logLx\n",
      "------- ---------- -----\n",
      "    M31 2012-01-02  42.5\n",
      "    M82 2012-10-29  43.5\n",
      "   M101 2012-10-31  44.5\n",
      "NGC3516 2011-11-11  42.1\n",
      "    M31 1999-01-05  43.1\n",
      "    M82 2012-10-30  45.0\n"
     ]
    }
   ],
   "metadata": {}
  },
  {
   "cell_type": "code",
   "execution_count": 50,
   "source": [
    "#join_type='exact'要求精确匹配，否则报错\n",
    "#print(vstack([obs1, obs2], join_type='exact'))"
   ],
   "outputs": [],
   "metadata": {}
  },
  {
   "cell_type": "markdown",
   "source": [
    "## 水平堆叠(Horizontally stack: hstack函数)\n",
    ">hstack也有三种join_type: 'inner', 'outer'(默认), 'exact'(准确匹配)"
   ],
   "metadata": {}
  },
  {
   "cell_type": "code",
   "execution_count": 51,
   "source": [
    "t1 = Table.read(\"\"\"a   b    c\n",
    "                   1   foo  1.4\n",
    "                   2   bar  2.1\n",
    "                   3   baz  2.8\"\"\", format='ascii')\n",
    "t2 = Table.read(\"\"\"d     e\n",
    "                   ham   eggs\n",
    "                   spam  toast\"\"\", format='ascii')\n",
    "print(t1)\n",
    "print('')\n",
    "print(t2)"
   ],
   "outputs": [
    {
     "output_type": "stream",
     "name": "stdout",
     "text": [
      " a   b   c \n",
      "--- --- ---\n",
      "  1 foo 1.4\n",
      "  2 bar 2.1\n",
      "  3 baz 2.8\n",
      "\n",
      " d     e  \n",
      "---- -----\n",
      " ham  eggs\n",
      "spam toast\n"
     ]
    }
   ],
   "metadata": {}
  },
  {
   "cell_type": "code",
   "execution_count": 52,
   "source": [
    "print(hstack([t1, t2])) # 默认的join_type='outer'"
   ],
   "outputs": [
    {
     "output_type": "stream",
     "name": "stdout",
     "text": [
      " a   b   c   d     e  \n",
      "--- --- --- ---- -----\n",
      "  1 foo 1.4  ham  eggs\n",
      "  2 bar 2.1 spam toast\n",
      "  3 baz 2.8   --    --\n"
     ]
    }
   ],
   "metadata": {}
  },
  {
   "cell_type": "code",
   "execution_count": 53,
   "source": [
    "print(hstack([t1, t2], join_type='inner')) # 不存在的数据所在行会忽略"
   ],
   "outputs": [
    {
     "output_type": "stream",
     "name": "stdout",
     "text": [
      " a   b   c   d     e  \n",
      "--- --- --- ---- -----\n",
      "  1 foo 1.4  ham  eggs\n",
      "  2 bar 2.1 spam toast\n"
     ]
    }
   ],
   "metadata": {}
  },
  {
   "cell_type": "markdown",
   "source": [
    "## 纵深堆叠(Depth-wise Stack: dstack函数)"
   ],
   "metadata": {}
  },
  {
   "cell_type": "code",
   "execution_count": 54,
   "source": [
    "src1 = Table.read(\"\"\"psf_frac  counts\n",
    "                     0.10        45\n",
    "                     0.50        90\n",
    "                     0.90       120\n",
    "                     \"\"\", format='ascii')\n",
    "\n",
    "src2 = Table.read(\"\"\"psf_frac  counts\n",
    "                     0.10       200\n",
    "                     0.50       300\n",
    "                     0.90       350\n",
    "                     \"\"\", format='ascii')\n",
    "print(src1)\n",
    "print('')\n",
    "print(src2)"
   ],
   "outputs": [
    {
     "output_type": "stream",
     "name": "stdout",
     "text": [
      "psf_frac counts\n",
      "-------- ------\n",
      "     0.1     45\n",
      "     0.5     90\n",
      "     0.9    120\n",
      "\n",
      "psf_frac counts\n",
      "-------- ------\n",
      "     0.1    200\n",
      "     0.5    300\n",
      "     0.9    350\n"
     ]
    }
   ],
   "metadata": {}
  },
  {
   "cell_type": "code",
   "execution_count": 55,
   "source": [
    "srcs = dstack([src1, src2]) # 可以想象成把两个结构一样的列表纵向拍扁在一起，成为3维列表（表格有深度）\n",
    "print(srcs)\n",
    "print('')\n",
    "print(srcs.colnames) # 查看列名\n",
    "print('')\n",
    "print(srcs['psf_frac'][0]) # 查看'psf_frac'列的第一个元素，是一个有两个元素的列表\n",
    "len(srcs['psf_frac'][0]) # 确实有两个元素"
   ],
   "outputs": [
    {
     "output_type": "stream",
     "name": "stdout",
     "text": [
      "psf_frac [2] counts [2]\n",
      "------------ ----------\n",
      "  0.1 .. 0.1  45 .. 200\n",
      "  0.5 .. 0.5  90 .. 300\n",
      "  0.9 .. 0.9 120 .. 350\n",
      "\n",
      "['psf_frac', 'counts']\n",
      "\n",
      "[0.1 0.1]\n"
     ]
    },
    {
     "output_type": "execute_result",
     "data": {
      "text/plain": [
       "2"
      ]
     },
     "metadata": {},
     "execution_count": 55
    }
   ],
   "metadata": {}
  },
  {
   "cell_type": "markdown",
   "source": [
    "# t.copy(): 复制"
   ],
   "metadata": {}
  },
  {
   "cell_type": "code",
   "execution_count": 64,
   "source": [
    "t = Table.read(\"\"\"psf_frac  counts\n",
    "                     0.10        45\n",
    "                     0.50        90\n",
    "                     0.90       120\n",
    "                     \"\"\", format='ascii')\n",
    "\n",
    "print(t)\n",
    "t1 = t.copy()\n",
    "del t1[0]\n",
    "t1\n",
    "t"
   ],
   "outputs": [
    {
     "output_type": "stream",
     "name": "stdout",
     "text": [
      "psf_frac counts\n",
      "-------- ------\n",
      "     0.1     45\n",
      "     0.5     90\n",
      "     0.9    120\n"
     ]
    },
    {
     "output_type": "execute_result",
     "data": {
      "text/plain": [
       "<Table length=3>\n",
       "psf_frac counts\n",
       "float64  int64 \n",
       "-------- ------\n",
       "     0.1     45\n",
       "     0.5     90\n",
       "     0.9    120"
      ],
      "text/html": [
       "<i>Table length=3</i>\n",
       "<table id=\"table140532954490912\" class=\"table-striped table-bordered table-condensed\">\n",
       "<thead><tr><th>psf_frac</th><th>counts</th></tr></thead>\n",
       "<thead><tr><th>float64</th><th>int64</th></tr></thead>\n",
       "<tr><td>0.1</td><td>45</td></tr>\n",
       "<tr><td>0.5</td><td>90</td></tr>\n",
       "<tr><td>0.9</td><td>120</td></tr>\n",
       "</table>"
      ]
     },
     "metadata": {},
     "execution_count": 64
    }
   ],
   "metadata": {}
  },
  {
   "cell_type": "markdown",
   "source": [
    "# join方法"
   ],
   "metadata": {}
  },
  {
   "cell_type": "code",
   "execution_count": null,
   "source": [],
   "outputs": [],
   "metadata": {}
  }
 ],
 "metadata": {
  "interpreter": {
   "hash": "dca0ade3e726a953b501b15e8e990130d2b7799f14cfd9f4271676035ebe5511"
  },
  "kernelspec": {
   "display_name": "Python 3",
   "language": "python",
   "name": "python3"
  },
  "language_info": {
   "codemirror_mode": {
    "name": "ipython",
    "version": 3
   },
   "file_extension": ".py",
   "mimetype": "text/x-python",
   "name": "python",
   "nbconvert_exporter": "python",
   "pygments_lexer": "ipython3",
   "version": "3.8.8"
  },
  "toc": {
   "base_numbering": 1,
   "nav_menu": {},
   "number_sections": true,
   "sideBar": true,
   "skip_h1_title": false,
   "title_cell": "Table of Contents",
   "title_sidebar": "Contents",
   "toc_cell": false,
   "toc_position": {
    "height": "calc(100% - 180px)",
    "left": "10px",
    "top": "150px",
    "width": "205.55706787109375px"
   },
   "toc_section_display": true,
   "toc_window_display": true
  },
  "toc-autonumbering": true,
  "widgets": {
   "application/vnd.jupyter.widget-state+json": {
    "state": {},
    "version_major": 2,
    "version_minor": 0
   }
  }
 },
 "nbformat": 4,
 "nbformat_minor": 4
}